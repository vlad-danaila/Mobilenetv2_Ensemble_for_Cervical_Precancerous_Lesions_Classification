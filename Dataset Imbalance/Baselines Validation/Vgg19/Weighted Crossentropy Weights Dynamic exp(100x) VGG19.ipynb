{
 "cells": [
  {
   "cell_type": "markdown",
   "metadata": {
    "colab_type": "text",
    "id": "view-in-github"
   },
   "source": [
    "<a href=\"https://colab.research.google.com/github/vlad-danaila/ml-cancer-detection/blob/master/Cancer_Detection_Ensable_V1.ipynb\" target=\"_parent\"><img src=\"https://colab.research.google.com/assets/colab-badge.svg\" alt=\"Open In Colab\"/></a>"
   ]
  },
  {
   "cell_type": "code",
   "execution_count": null,
   "metadata": {
    "colab": {
     "base_uri": "https://localhost:8080/",
     "height": 381
    },
    "colab_type": "code",
    "executionInfo": {
     "elapsed": 7827,
     "status": "ok",
     "timestamp": 1579035694957,
     "user": {
      "displayName": "Vlad Danaila",
      "photoUrl": "",
      "userId": "16049478229633186858"
     },
     "user_tz": -120
    },
    "id": "-00MlLK5bd_o",
    "outputId": "d12e31ea-067d-4f0a-ebb7-9a9a234350d2"
   },
   "outputs": [],
   "source": [
    "!pip3 install sklearn matplotlib GPUtil"
   ]
  },
  {
   "cell_type": "code",
   "execution_count": null,
   "metadata": {
    "colab": {},
    "colab_type": "code",
    "id": "CMValOmT-aue"
   },
   "outputs": [],
   "source": [
    "!pip3 install \"pillow<7\""
   ]
  },
  {
   "cell_type": "code",
   "execution_count": null,
   "metadata": {
    "colab": {},
    "colab_type": "code",
    "id": "dVSEwo3iJpWR"
   },
   "outputs": [],
   "source": [
    "!pip3 install torch==1.3.1+cu92 torchvision==0.4.2+cu92 -f https://download.pytorch.org/whl/torch_stable.html"
   ]
  },
  {
   "cell_type": "markdown",
   "metadata": {
    "colab_type": "text",
    "id": "xTU7V2ervf9J"
   },
   "source": [
    "**Download Data**"
   ]
  },
  {
   "cell_type": "markdown",
   "metadata": {
    "colab_type": "text",
    "id": "W4En4wy5ZOqm"
   },
   "source": [
    "Mount my google drive, where the dataset is stored."
   ]
  },
  {
   "cell_type": "code",
   "execution_count": null,
   "metadata": {
    "colab": {
     "base_uri": "https://localhost:8080/",
     "height": 124
    },
    "colab_type": "code",
    "executionInfo": {
     "elapsed": 31673,
     "status": "ok",
     "timestamp": 1579035754952,
     "user": {
      "displayName": "Vlad Danaila",
      "photoUrl": "",
      "userId": "16049478229633186858"
     },
     "user_tz": -120
    },
    "id": "w12ajwYkRYMj",
    "outputId": "41c9e7ae-1b35-4e10-a019-455071d85d72"
   },
   "outputs": [],
   "source": [
    "try:\n",
    "    from google.colab import drive\n",
    "    drive.mount('/content/drive')\n",
    "except Exception as e:\n",
    "    print(e)"
   ]
  },
  {
   "cell_type": "markdown",
   "metadata": {
    "colab_type": "text",
    "id": "1lZ8z6MIZag1"
   },
   "source": [
    "Unzip the dataset into the folder \"dataset\"."
   ]
  },
  {
   "cell_type": "code",
   "execution_count": null,
   "metadata": {
    "colab": {
     "base_uri": "https://localhost:8080/",
     "height": 1000
    },
    "colab_type": "code",
    "executionInfo": {
     "elapsed": 12420,
     "status": "ok",
     "timestamp": 1579036086536,
     "user": {
      "displayName": "Vlad Danaila",
      "photoUrl": "",
      "userId": "16049478229633186858"
     },
     "user_tz": -120
    },
    "id": "30WlKBSGZfpq",
    "outputId": "addfaef0-6f80-4984-f718-c1adb038302e"
   },
   "outputs": [],
   "source": [
    "!rm -vrf \"dataset\"\n",
    "!mkdir \"dataset\"\n",
    "!cp -r \"/content/drive/My Drive/Studiu doctorat leziuni cervicale/cervigram-image-dataset-v2.zip\" \"dataset/cervigram-image-dataset-v2.zip\"\n",
    "# !cp -r \"cervigram-image-dataset-v2.zip\" \"dataset/cervigram-image-dataset-v2.zip\"\n",
    "!unzip \"dataset/cervigram-image-dataset-v2.zip\" -d \"dataset\""
   ]
  },
  {
   "cell_type": "markdown",
   "metadata": {
    "colab_type": "text",
    "id": "G79HqNc8ZaJ8"
   },
   "source": [
    "**Constants**"
   ]
  },
  {
   "cell_type": "code",
   "execution_count": 1,
   "metadata": {
    "colab": {},
    "colab_type": "code",
    "id": "g1YBANp9XJeA"
   },
   "outputs": [],
   "source": [
    "# TRAIN_PATH = '/content/dataset/data/train/'\n",
    "# TEST_PATH = '/content/dataset/data/test/'\n",
    "TRAIN_PATH = 'dataset/data/train/'\n",
    "TEST_PATH = 'dataset/data/test/'\n",
    "\n",
    "CROP_SIZE = 260\n",
    "IMAGE_SIZE = 224\n",
    "BATCH_SIZE = 100\n",
    "\n",
    "# prefix = '/content/drive/My Drive/Studiu doctorat leziuni cervicale/V2/Chekpoints & Notebooks/'\n",
    "prefix = 'Mobilenetv2 Tuning/'\n",
    "CHACKPOINT_CROSS_ENTROPY_MODEL = prefix + 'checkpint vgg19 baseline.tar'"
   ]
  },
  {
   "cell_type": "markdown",
   "metadata": {
    "colab_type": "text",
    "id": "B_koVi65ZlHP"
   },
   "source": [
    "**Imports**"
   ]
  },
  {
   "cell_type": "code",
   "execution_count": 2,
   "metadata": {
    "colab": {},
    "colab_type": "code",
    "id": "qyNuLlPNsdl1"
   },
   "outputs": [],
   "source": [
    "import torch as t\n",
    "import torchvision as tv\n",
    "import numpy as np\n",
    "import PIL as pil\n",
    "import matplotlib.pyplot as plt\n",
    "from torchvision.datasets import ImageFolder\n",
    "from torch.utils.data import DataLoader\n",
    "from torch.nn import Linear, BCEWithLogitsLoss\n",
    "import sklearn as sk\n",
    "import sklearn.metrics\n",
    "from os import listdir\n",
    "import time\n",
    "import random\n",
    "import statistics\n",
    "import math"
   ]
  },
  {
   "cell_type": "markdown",
   "metadata": {
    "colab_type": "text",
    "id": "r3KfXoIH187Z"
   },
   "source": [
    "**Deterministic Measurements**"
   ]
  },
  {
   "cell_type": "markdown",
   "metadata": {
    "colab_type": "text",
    "id": "bQ3rHF5K2BpX"
   },
   "source": [
    "This statements help making the experiments reproductible by fixing the random seeds."
   ]
  },
  {
   "cell_type": "code",
   "execution_count": 3,
   "metadata": {
    "colab": {},
    "colab_type": "code",
    "id": "PQtgx_3H2MEx"
   },
   "outputs": [],
   "source": [
    "SEED = 0\n",
    "t.manual_seed(SEED)\n",
    "t.cuda.manual_seed(SEED)\n",
    "t.cuda.manual_seed_all(SEED)\n",
    "t.backends.cudnn.deterministic = True\n",
    "t.backends.cudnn.benchmark = False\n",
    "np.random.seed(SEED)\n",
    "random.seed(SEED)"
   ]
  },
  {
   "cell_type": "markdown",
   "metadata": {
    "colab_type": "text",
    "id": "fyGUb7LOJpWw"
   },
   "source": [
    "**Memory Stats**"
   ]
  },
  {
   "cell_type": "code",
   "execution_count": 4,
   "metadata": {
    "colab": {
     "base_uri": "https://localhost:8080/",
     "height": 34
    },
    "colab_type": "code",
    "executionInfo": {
     "elapsed": 1793,
     "status": "ok",
     "timestamp": 1579042569637,
     "user": {
      "displayName": "Vlad Danaila",
      "photoUrl": "",
      "userId": "16049478229633186858"
     },
     "user_tz": -120
    },
    "id": "IEidARh3JpWx",
    "outputId": "b3fb12f1-69d9-48cd-afca-db8b6a7ab293"
   },
   "outputs": [
    {
     "name": "stdout",
     "output_type": "stream",
     "text": [
      "GPU RAM Free: 11019MB | Used: 0MB | Util   0% | Total 11019MB\n",
      "GPU RAM Free: 11019MB | Used: 0MB | Util   0% | Total 11019MB\n"
     ]
    }
   ],
   "source": [
    "import GPUtil\n",
    "def memory_stats():\n",
    "  for gpu in GPUtil.getGPUs():\n",
    "    print(\"GPU RAM Free: {0:.0f}MB | Used: {1:.0f}MB | Util {2:3.0f}% | Total {3:.0f}MB\".format(gpu.memoryFree, gpu.memoryUsed, gpu.memoryUtil*100, gpu.memoryTotal))\n",
    "memory_stats()"
   ]
  },
  {
   "cell_type": "markdown",
   "metadata": {
    "colab_type": "text",
    "id": "ugovPCwFvBc4"
   },
   "source": [
    "**Loading Data**"
   ]
  },
  {
   "cell_type": "markdown",
   "metadata": {
    "colab_type": "text",
    "id": "8_PMRn9BcaPO"
   },
   "source": [
    "The dataset is structured in multiple small folders, ecah containing 7 images. The generator iterates through the folders and returns the category and 7 paths: one for each image in the folder."
   ]
  },
  {
   "cell_type": "code",
   "execution_count": 5,
   "metadata": {
    "colab": {},
    "colab_type": "code",
    "id": "qU2qOUVWZZNl"
   },
   "outputs": [],
   "source": [
    "def sortByLastDigits(elem):\n",
    "  chars = [c for c in elem if c.isdigit()]\n",
    "  return 0 if len(chars) == 0 else int(''.join(chars))\n",
    "\n",
    "def getImagesPaths(root_path):\n",
    "  for  class_folder in [root_path + f for f in listdir(root_path)]:\n",
    "      category = int(class_folder[-1])\n",
    "      for case_folder in listdir(class_folder):\n",
    "        case_folder_path = class_folder + '/' + case_folder + '/'\n",
    "        img_files = [case_folder_path + file_name for file_name in listdir(case_folder_path)]\n",
    "        yield category, sorted(img_files, key = sortByLastDigits)"
   ]
  },
  {
   "cell_type": "markdown",
   "metadata": {
    "colab_type": "text",
    "id": "MSrKoW7TdRFr"
   },
   "source": [
    "We define 3 datasets, which loads 3 kinds of images: natural images, images taken through a green lens and images where the doctor aplied iodine solution (which gives a dark red colour). Each dataset has dynamic and static transformations which could be applied to the data. The static transformations are applied on the initialization of the dataset, while the dynamic ones are applied when loading each batch of data."
   ]
  },
  {
   "cell_type": "code",
   "execution_count": 6,
   "metadata": {
    "colab": {},
    "colab_type": "code",
    "id": "EmgWK_7-doGb"
   },
   "outputs": [],
   "source": [
    "class SimpleImagesDataset(t.utils.data.Dataset):\n",
    "  def __init__(self, root_path, transforms_x_static = None, transforms_x_dynamic = None, transforms_y_static = None, transforms_y_dynamic = None):\n",
    "    self.dataset = []\n",
    "    self.transforms_x = transforms_x_dynamic\n",
    "    self.transforms_y = transforms_y_dynamic\n",
    "    for category, img_files in getImagesPaths(root_path):\n",
    "      for i in range(5):\n",
    "        img = pil.Image.open(img_files[i])\n",
    "        if transforms_x_static != None:\n",
    "          img = transforms_x_static(img)\n",
    "        if transforms_y_static != None:\n",
    "          category = transforms_y_static(category)\n",
    "        self.dataset.append((img, category))    \n",
    "  \n",
    "  def __getitem__(self, i):\n",
    "    x, y = self.dataset[i]\n",
    "    if self.transforms_x != None:\n",
    "      x = self.transforms_x(x)\n",
    "    if self.transforms_y != None:\n",
    "      y = self.transforms_y(y)\n",
    "    return x, y\n",
    "\n",
    "  def __len__(self):\n",
    "    return len(self.dataset)\n",
    "\n",
    "class GreenLensImagesDataset(SimpleImagesDataset):\n",
    "  def __init__(self, root_path, transforms_x_static = None, transforms_x_dynamic = None, transforms_y_static = None, transforms_y_dynamic = None):\n",
    "    self.dataset = []\n",
    "    self.transforms_x = transforms_x_dynamic\n",
    "    self.transforms_y = transforms_y_dynamic\n",
    "    for category, img_files in getImagesPaths(root_path):\n",
    "        # Only the green lens image\n",
    "        img = pil.Image.open(img_files[-2]) \n",
    "        if transforms_x_static != None:\n",
    "          img = transforms_x_static(img)\n",
    "        if transforms_y_static != None:\n",
    "          category = transforms_y_static(category)\n",
    "        self.dataset.append((img, category))    \n",
    "\n",
    "class RedImagesDataset(SimpleImagesDataset):\n",
    "  def __init__(self, root_path, transforms_x_static = None, transforms_x_dynamic = None, transforms_y_static = None, transforms_y_dynamic = None):\n",
    "    self.dataset = []\n",
    "    self.transforms_x = transforms_x_dynamic\n",
    "    self.transforms_y = transforms_y_dynamic\n",
    "    for category, img_files in getImagesPaths(root_path):\n",
    "        # Only the green lens image\n",
    "        img = pil.Image.open(img_files[-1]) \n",
    "        if transforms_x_static != None:\n",
    "          img = transforms_x_static(img)\n",
    "        if transforms_y_static != None:\n",
    "          category = transforms_y_static(category)\n",
    "        self.dataset.append((img, category))    "
   ]
  },
  {
   "cell_type": "markdown",
   "metadata": {
    "colab_type": "text",
    "id": "vRqFvAHwvVTl"
   },
   "source": [
    "**Preprocess Data**"
   ]
  },
  {
   "cell_type": "markdown",
   "metadata": {
    "colab_type": "text",
    "id": "UOI_JvcCe0cR"
   },
   "source": [
    "Convert pytorch tensor to numpy array."
   ]
  },
  {
   "cell_type": "code",
   "execution_count": 7,
   "metadata": {
    "colab": {},
    "colab_type": "code",
    "id": "OKxTUFnkezdb"
   },
   "outputs": [],
   "source": [
    "def to_numpy(x):\n",
    "  return x.cpu().detach().numpy()"
   ]
  },
  {
   "cell_type": "markdown",
   "metadata": {
    "colab_type": "text",
    "id": "TmnrMN5BmHRg"
   },
   "source": [
    "Data transformations for the test and training sets."
   ]
  },
  {
   "cell_type": "code",
   "execution_count": 8,
   "metadata": {
    "colab": {},
    "colab_type": "code",
    "id": "_hBCnG-fvwjB"
   },
   "outputs": [],
   "source": [
    "norm_mean = [0.485, 0.456, 0.406]\n",
    "norm_std = [0.229, 0.224, 0.225]\n",
    "\n",
    "transforms_train = tv.transforms.Compose([\n",
    "    tv.transforms.RandomAffine(degrees  = 45, translate = None, scale = (1., 2.), shear = 30),\n",
    "    # tv.transforms.CenterCrop(CROP_SIZE),\n",
    "    tv.transforms.Resize(IMAGE_SIZE),\n",
    "    tv.transforms.RandomHorizontalFlip(),\n",
    "    tv.transforms.ToTensor(),\n",
    "    tv.transforms.Lambda(lambda t: t.cuda()),\n",
    "    tv.transforms.Normalize(mean=norm_mean, std=norm_std)    \n",
    "])\n",
    "\n",
    "transforms_test = tv.transforms.Compose([\n",
    "    # tv.transforms.CenterCrop(CROP_SIZE),\n",
    "    tv.transforms.Resize(IMAGE_SIZE),\n",
    "    tv.transforms.ToTensor(),\n",
    "    tv.transforms.Normalize(mean=norm_mean, std=norm_std)    \n",
    "])\n",
    "\n",
    "y_transform = tv.transforms.Lambda(lambda y: t.tensor(y, dtype=t.long, device = 'cuda:0'))"
   ]
  },
  {
   "cell_type": "markdown",
   "metadata": {
    "colab_type": "text",
    "id": "5ky8gX31q-NW"
   },
   "source": [
    "Initialize pytorch datasets and loaders for training and test."
   ]
  },
  {
   "cell_type": "code",
   "execution_count": 9,
   "metadata": {
    "colab": {},
    "colab_type": "code",
    "id": "2hqOyTVGnjjy"
   },
   "outputs": [],
   "source": [
    "def create_loaders(dataset_class):\n",
    "  dataset_train = dataset_class(TRAIN_PATH, transforms_x_dynamic = transforms_train, transforms_y_dynamic = y_transform)\n",
    "  dataset_test = dataset_class(TEST_PATH, transforms_x_static = transforms_test, \n",
    "                                                transforms_x_dynamic = tv.transforms.Lambda(lambda t: t.cuda()), transforms_y_dynamic = y_transform)\n",
    "\n",
    "  loader_train = DataLoader(dataset_train, BATCH_SIZE, shuffle = True, num_workers = 0)\n",
    "  loader_test = DataLoader(dataset_test, BATCH_SIZE, shuffle = False, num_workers = 0)\n",
    "  return loader_train, loader_test, len(dataset_train), len(dataset_test)"
   ]
  },
  {
   "cell_type": "code",
   "execution_count": 10,
   "metadata": {
    "colab": {},
    "colab_type": "code",
    "id": "Un_LZV7KqFCn"
   },
   "outputs": [],
   "source": [
    "loader_train_simple_img, loader_test_simple_img, len_train, len_test = create_loaders(SimpleImagesDataset)"
   ]
  },
  {
   "cell_type": "markdown",
   "metadata": {
    "colab_type": "text",
    "id": "yIcoJBpn0jZ8"
   },
   "source": [
    "**Visualize Data**"
   ]
  },
  {
   "cell_type": "markdown",
   "metadata": {
    "colab_type": "text",
    "id": "ARRQsL2drbzv"
   },
   "source": [
    "Load a few images so that we can see the efects of the data augmentation on the training set."
   ]
  },
  {
   "cell_type": "code",
   "execution_count": 11,
   "metadata": {
    "colab": {},
    "colab_type": "code",
    "id": "mDi25EAxrSal"
   },
   "outputs": [],
   "source": [
    "def plot_one_prediction(x, label, pred):  \n",
    "  x, label, pred = to_numpy(x), to_numpy(label), to_numpy(pred)\n",
    "  x = np.transpose(x, [1, 2, 0])\n",
    "  if x.shape[-1] == 1:\n",
    "    x = x.squeeze()\n",
    "  x = x * np.array(norm_std) + np.array(norm_mean)\n",
    "  plt.title(label, color = 'green' if label == pred else 'red')\n",
    "  plt.imshow(x)\n",
    "\n",
    "def plot_predictions(imgs, labels, preds):  \n",
    "  fig = plt.figure(figsize = (20, 5))\n",
    "  for i in range(20):\n",
    "    fig.add_subplot(2, 10, i + 1, xticks = [], yticks = [])\n",
    "    plot_one_prediction(imgs[i], labels[i], preds[i])"
   ]
  },
  {
   "cell_type": "code",
   "execution_count": 12,
   "metadata": {
    "colab": {},
    "colab_type": "code",
    "id": "Q0jkeNIVrVf3"
   },
   "outputs": [],
   "source": [
    "# x, y = next(iter(loader_train_simple_img))\n",
    "# for i in range(7):\n",
    "#   plot_predictions(x[i], y, y)"
   ]
  },
  {
   "cell_type": "markdown",
   "metadata": {
    "colab_type": "text",
    "id": "teYfBi5v0yuj"
   },
   "source": [
    "**Model**"
   ]
  },
  {
   "cell_type": "code",
   "execution_count": 13,
   "metadata": {
    "colab": {},
    "colab_type": "code",
    "id": "3rQm0JTXsLOO"
   },
   "outputs": [],
   "source": [
    "def get_vgg_19():\n",
    "  model = tv.models.vgg19(pretrained = True)\n",
    "  model = model.cuda()\n",
    "  model.classifier[6].out_features = 4\n",
    "  return model"
   ]
  },
  {
   "cell_type": "code",
   "execution_count": 14,
   "metadata": {
    "colab": {
     "base_uri": "https://localhost:8080/",
     "height": 69
    },
    "colab_type": "code",
    "executionInfo": {
     "elapsed": 5422,
     "status": "ok",
     "timestamp": 1579042573434,
     "user": {
      "displayName": "Vlad Danaila",
      "photoUrl": "",
      "userId": "16049478229633186858"
     },
     "user_tz": -120
    },
    "id": "DRM168aEuTid",
    "outputId": "489e975e-7a63-41ab-821e-51b4597f6117"
   },
   "outputs": [],
   "source": [
    "model_simple = t.nn.DataParallel(get_vgg_19())"
   ]
  },
  {
   "cell_type": "markdown",
   "metadata": {
    "colab_type": "text",
    "id": "eVNbPOX31_rS"
   },
   "source": [
    "**Train & Evaluate**"
   ]
  },
  {
   "cell_type": "markdown",
   "metadata": {
    "colab_type": "text",
    "id": "6G1HQmJ1vJt8"
   },
   "source": [
    "Timer utility function. This is used to measure the execution speend."
   ]
  },
  {
   "cell_type": "code",
   "execution_count": 15,
   "metadata": {
    "colab": {},
    "colab_type": "code",
    "id": "77HDFtMd1Ra_"
   },
   "outputs": [],
   "source": [
    "time_start = 0\n",
    "\n",
    "def timer_start():\n",
    "  global time_start\n",
    "  time_start = time.time()\n",
    "\n",
    "def timer_end():\n",
    "  return time.time() - time_start"
   ]
  },
  {
   "cell_type": "markdown",
   "metadata": {
    "colab_type": "text",
    "id": "2ZE3UqwMvbfM"
   },
   "source": [
    "This function trains the network and e valuates it at the same time. It outputs the metrics recorder during the training for both train and test. We are measuring accuracy and the loss. The function also saves a checkpoint of the model every time the accuracy is imporved. In the end we will have a checkpoint of the model which gave the best accuracy."
   ]
  },
  {
   "cell_type": "code",
   "execution_count": 16,
   "metadata": {
    "colab": {},
    "colab_type": "code",
    "id": "FwUA4abu2pRe"
   },
   "outputs": [],
   "source": [
    "def train_eval(optimizer, model, loader_train, loader_test, chekpoint_name, epochs):\n",
    "  metrics = {\n",
    "      'losses_train': [],\n",
    "      'losses_test': [],\n",
    "\n",
    "      'acc_train': [],\n",
    "      'acc_test': [],\n",
    "\n",
    "      'prec_train': [],\n",
    "      'prec_test': [],\n",
    "\n",
    "      'rec_train': [],\n",
    "      'rec_test': [],\n",
    "\n",
    "      'f_score_train': [],\n",
    "      'f_score_test': [],\n",
    "\n",
    "      'mean_class_acc_train': [],\n",
    "      'mean_class_acc_test': []  \n",
    "  }\n",
    "\n",
    "  best_mean_acc = 0\n",
    "  \n",
    "  loss_weights = t.tensor([1/4] * 4, device='cuda:0')\n",
    "    \n",
    "  try:  \n",
    "    for epoch in range(epochs):\n",
    "      timer_start()\n",
    "      loss_fn = t.nn.CrossEntropyLoss(weight = loss_weights)\n",
    "      # loss_fn = t.nn.CrossEntropyLoss()\n",
    "      # loss_fn = FocalLoss(gamma = 2)\n",
    "      train_epoch_loss, train_epoch_acc, train_epoch_precision, train_epoch_recall, train_epoch_f_score = 0, 0, 0, 0, 0\n",
    "      test_epoch_loss, test_epoch_acc, test_epoch_precision, test_epoch_recall, test_epoch_f_score = 0, 0, 0, 0, 0\n",
    "\n",
    "      # Train\n",
    "      model.train()\n",
    "      conf_matrix = np.zeros((4, 4))\n",
    "      for x, y in loader_train:\n",
    "        y_pred = model.forward(x)\n",
    "        y_pred = y_pred.narrow(1, 0, 4)\n",
    "        loss = loss_fn(y_pred, y)\n",
    "        loss.backward()\n",
    "        optimizer.step()\n",
    "#         memory_stats()\n",
    "        optimizer.zero_grad()\n",
    "        y_pred, y = to_numpy(y_pred), to_numpy(y)\n",
    "        pred = y_pred.argmax(axis = 1)\n",
    "        ratio = len(y) / len_train\n",
    "        train_epoch_loss += (loss.item() * ratio)\n",
    "        train_epoch_acc += (sk.metrics.accuracy_score(y, pred) * ratio)\n",
    "        precision, recall, f_score, _ = sk.metrics.precision_recall_fscore_support(y, pred, average = 'macro')\n",
    "        train_epoch_precision += (precision * ratio)\n",
    "        train_epoch_recall += (recall * ratio)\n",
    "        train_epoch_f_score += (f_score * ratio)\n",
    "        conf_matrix += sk.metrics.confusion_matrix(y, pred, labels = list(range(4)))\n",
    "      class_acc = [conf_matrix[i][i] / sum(conf_matrix[i]) for i in range(len(conf_matrix))]\n",
    "      mean_class_acc = statistics.harmonic_mean(class_acc)\n",
    "      errors = [1 - conf_matrix[i][i] / sum(conf_matrix[i]) for i in range(len(conf_matrix))]\n",
    "      errors_strong = [math.exp(e) for e in errors]\n",
    "      loss_weights = t.tensor([e / sum(errors_strong) for e in errors_strong], device = 'cuda:0')\n",
    "      metrics['losses_train'].append(train_epoch_loss)\n",
    "      metrics['acc_train'].append(train_epoch_acc)\n",
    "      metrics['prec_train'].append(train_epoch_precision)\n",
    "      metrics['rec_train'].append(train_epoch_recall)\n",
    "      metrics['f_score_train'].append(train_epoch_f_score)\n",
    "      metrics['mean_class_acc_train'].append(mean_class_acc) \n",
    "\n",
    "      # Evaluate\n",
    "      model.eval()\n",
    "      with t.no_grad():\n",
    "        conf_matrix_test = np.zeros((4, 4))\n",
    "        for x, y in loader_test:\n",
    "          y_pred = model.forward(x)\n",
    "          y_pred = y_pred.narrow(1, 0, 4)\n",
    "          loss = loss_fn(y_pred, y)\n",
    "          y_pred, y = to_numpy(y_pred), to_numpy(y)\n",
    "          pred = y_pred.argmax(axis = 1)\n",
    "          ratio = len(y) / len_test\n",
    "          test_epoch_loss += (loss * ratio)\n",
    "          test_epoch_acc += (sk.metrics.accuracy_score(y, pred) * ratio )\n",
    "          precision, recall, f_score, _ = sk.metrics.precision_recall_fscore_support(y, pred, average = 'macro')\n",
    "          test_epoch_precision += (precision * ratio)\n",
    "          test_epoch_recall += (recall * ratio)\n",
    "          test_epoch_f_score += (f_score * ratio)\n",
    "          conf_matrix_test += sk.metrics.confusion_matrix(y, pred, labels = list(range(4)))\n",
    "        class_acc_test = [conf_matrix_test[i][i] / sum(conf_matrix_test[i]) for i in range(len(conf_matrix_test))]\n",
    "        mean_class_acc_test = statistics.harmonic_mean(class_acc_test)\n",
    "        metrics['losses_test'].append(test_epoch_loss)\n",
    "        metrics['acc_test'].append(test_epoch_acc)\n",
    "        metrics['prec_test'].append(test_epoch_precision)\n",
    "        metrics['rec_test'].append(test_epoch_recall)\n",
    "        metrics['f_score_test'].append(test_epoch_f_score)\n",
    "        metrics['mean_class_acc_test'].append(mean_class_acc_test) \n",
    "      \n",
    "      if metrics['mean_class_acc_test'][-1] > best_mean_acc:\n",
    "        best_mean_acc = metrics['mean_class_acc_test'][-1]\n",
    "        t.save({'model': model.state_dict()}, 'checkpint {}.tar'.format(chekpoint_name))\n",
    "      print('Epoch {} mean class acc {} acc {} prec {} rec {} f {} minutes {}'.format(\n",
    "        epoch + 1, metrics['mean_class_acc_test'][-1], metrics['acc_test'][-1], metrics['prec_test'][-1], metrics['rec_test'][-1], metrics['f_score_test'][-1], timer_end() / 60))\n",
    "  except KeyboardInterrupt as e:\n",
    "    print(e)  \n",
    "  print('Ended training')\n",
    "  return metrics"
   ]
  },
  {
   "cell_type": "markdown",
   "metadata": {
    "colab_type": "text",
    "id": "BPznZeFDxhtA"
   },
   "source": [
    "Plot a metric for both train and test."
   ]
  },
  {
   "cell_type": "code",
   "execution_count": 17,
   "metadata": {
    "colab": {},
    "colab_type": "code",
    "id": "4QjYASRPRnIr"
   },
   "outputs": [],
   "source": [
    "def plot_train_test(train, test, title, y_title):\n",
    "    plt.plot(range(len(train)), train, label = 'train')\n",
    "    plt.plot(range(len(test)), test, label = 'test')\n",
    "    plt.xlabel('Epochs')\n",
    "    plt.ylabel(y_title)\n",
    "    plt.title(title)\n",
    "    plt.legend()\n",
    "    plt.show()"
   ]
  },
  {
   "cell_type": "code",
   "execution_count": 18,
   "metadata": {
    "colab": {},
    "colab_type": "code",
    "id": "IhqQNSnDJpX4"
   },
   "outputs": [],
   "source": [
    "def plot_precision_recall(metrics):\n",
    "    plt.scatter(metrics['prec_train'], metrics['rec_train'], label = 'train')\n",
    "    plt.scatter(metrics['prec_test'], metrics['rec_test'], label = 'test')\n",
    "    plt.legend()\n",
    "    plt.title('Precision-Recall')\n",
    "    plt.xlabel('Precision')\n",
    "    plt.ylabel('Recall')"
   ]
  },
  {
   "cell_type": "markdown",
   "metadata": {
    "colab_type": "text",
    "id": "T8adJjmiCHs6"
   },
   "source": [
    "Train a model for several epochs. The steps_learning parameter is a list of tuples. Each tuple specifies the steps and the learning rate."
   ]
  },
  {
   "cell_type": "code",
   "execution_count": 19,
   "metadata": {
    "colab": {},
    "colab_type": "code",
    "id": "1jO6UBhaP926"
   },
   "outputs": [],
   "source": [
    "def do_train(model, loader_train, loader_test, checkpoint_name, steps_learning):\n",
    "  t.cuda.empty_cache()\n",
    "  for steps, learn_rate in steps_learning:\n",
    "    metrics = train_eval(t.optim.Adam(model.parameters(), lr = learn_rate, weight_decay = 0), model, loader_train, loader_test, checkpoint_name, steps)\n",
    "    \n",
    "    index_max = np.array(metrics['mean_class_acc_test']).argmax()\n",
    "    print('Best mean class accuracy :', metrics['mean_class_acc_test'][index_max])\n",
    "    print('Best test accuracy :', metrics['acc_test'][index_max])\n",
    "    print('Corresponding precision :', metrics['prec_test'][index_max])\n",
    "    print('Corresponding recall :', metrics['rec_test'][index_max])\n",
    "    print('Corresponding f1 score :', metrics['f_score_test'][index_max])\n",
    "\n",
    "    plot_train_test(metrics['mean_class_acc_train'], metrics['mean_class_acc_test'], 'Mean Class Accuracy (lr = {})'.format(learn_rate), 'Mean Class Accuracy')\n",
    "    plot_train_test(metrics['losses_train'], metrics['losses_test'], 'Loss (lr = {})'.format(learn_rate), 'Loss')\n",
    "    plot_train_test(metrics['acc_train'], metrics['acc_test'], 'Accuracy (lr = {})'.format(learn_rate), 'Accuracy')\n",
    "    plot_train_test(metrics['prec_train'], metrics['prec_test'], 'Precision (lr = {})'.format(learn_rate), 'Precision')\n",
    "    plot_train_test(metrics['rec_train'], metrics['rec_test'], 'Recall (lr = {})'.format(learn_rate), 'Recall')\n",
    "    plot_train_test(metrics['f_score_train'], metrics['f_score_test'], 'F1 Score (lr = {})'.format(learn_rate), 'F1 Score')\n",
    "    plot_precision_recall(metrics)"
   ]
  },
  {
   "cell_type": "markdown",
   "metadata": {
    "colab_type": "text",
    "id": "Q91nZ33rCryC"
   },
   "source": [
    "Perform actual training"
   ]
  },
  {
   "cell_type": "code",
   "execution_count": 20,
   "metadata": {
    "colab": {
     "base_uri": "https://localhost:8080/",
     "height": 1000
    },
    "colab_type": "code",
    "executionInfo": {
     "elapsed": 1665967,
     "status": "ok",
     "timestamp": 1579044234046,
     "user": {
      "displayName": "Vlad Danaila",
      "photoUrl": "",
      "userId": "16049478229633186858"
     },
     "user_tz": -120
    },
    "id": "BA2tEyFmCybQ",
    "outputId": "0623296d-169d-4c80-8599-906849f5e21d",
    "scrolled": false
   },
   "outputs": [
    {
     "name": "stderr",
     "output_type": "stream",
     "text": [
      "/usr/local/lib/python3.6/dist-packages/sklearn/metrics/_classification.py:1272: UndefinedMetricWarning: Precision and F-score are ill-defined and being set to 0.0 in labels with no predicted samples. Use `zero_division` parameter to control this behavior.\n",
      "  _warn_prf(average, modifier, msg_start, len(result))\n",
      "/usr/local/lib/python3.6/dist-packages/sklearn/metrics/_classification.py:1272: UndefinedMetricWarning: Recall and F-score are ill-defined and being set to 0.0 in labels with no true samples. Use `zero_division` parameter to control this behavior.\n",
      "  _warn_prf(average, modifier, msg_start, len(result))\n",
      "/usr/lib/python3.6/statistics.py:356: RuntimeWarning: divide by zero encountered in double_scalars\n",
      "  T, total, count = _sum(1/x for x in _fail_neg(data, errmsg))\n"
     ]
    },
    {
     "name": "stdout",
     "output_type": "stream",
     "text": [
      "Epoch 1 mean class acc 0.0 acc 0.29166666666666663 prec 0.2680417700578991 rec 0.1556712962962963 f 0.1395538967215595 minutes 0.5605320811271668\n",
      "Epoch 2 mean class acc 0.0 acc 0.36250000000000004 prec 0.2972623124592303 rec 0.18518518518518517 f 0.1848707993587283 minutes 0.4220081488291422\n",
      "Epoch 3 mean class acc 0.05455614344503233 acc 0.35000000000000003 prec 0.36522108843537415 rec 0.18750000000000003 f 0.20263509426353465 minutes 0.4306225538253784\n",
      "Epoch 4 mean class acc 0.29808855552867164 acc 0.44166666666666665 prec 0.5005393571570043 rec 0.25243055555555555 f 0.3017677974480045 minutes 0.4381539146105448\n",
      "Epoch 5 mean class acc 0.23133748055987557 acc 0.4833333333333334 prec 0.5021043771043772 rec 0.27951388888888895 f 0.32364457183845624 minutes 0.4296006520589193\n",
      "Epoch 6 mean class acc 0.47605944798301486 acc 0.5208333333333334 prec 0.47003673714200034 rec 0.3096064814814815 f 0.36095367958113056 minutes 0.44435160160064696\n",
      "Epoch 7 mean class acc 0.41133263378803775 acc 0.4916666666666667 prec 0.46774338510209956 rec 0.28321759259259255 f 0.33806849715940623 minutes 0.42954861720403037\n",
      "Epoch 8 mean class acc 0.42056614673599074 acc 0.4875 prec 0.4679931019327786 rec 0.2835648148148149 f 0.3331289951049675 minutes 0.42773219347000124\n",
      "Epoch 9 mean class acc 0.39210053859964095 acc 0.4666666666666667 prec 0.45228840694526967 rec 0.2721064814814815 f 0.3213850013457191 minutes 0.4289634664853414\n",
      "Epoch 10 mean class acc 0.4427906976744186 acc 0.5375000000000001 prec 0.38314217963608216 rec 0.2611111111111111 f 0.3017725341656937 minutes 0.4316150188446045\n",
      "Epoch 11 mean class acc 0.46915507484737823 acc 0.5208333333333334 prec 0.47746504627236325 rec 0.3052083333333333 f 0.35690984474360077 minutes 0.443489936987559\n",
      "Epoch 12 mean class acc 0.42178447276940906 acc 0.5416666666666666 prec 0.38422845076070883 rec 0.2569444444444445 f 0.29739446034233663 minutes 0.43357230027516686\n",
      "Epoch 13 mean class acc 0.5184563255270023 acc 0.5458333333333334 prec 0.381815465622452 rec 0.2840277777777778 f 0.3242265970129613 minutes 0.4465865095456441\n",
      "Epoch 14 mean class acc 0.5181798388852602 acc 0.5583333333333333 prec 0.4733611057114265 rec 0.33090277777777777 f 0.3804322886992353 minutes 0.4358273347218831\n",
      "Epoch 15 mean class acc 0.5206569417525247 acc 0.5875 prec 0.39891034327009933 rec 0.3055555555555556 f 0.341803806176363 minutes 0.44557743072509765\n",
      "Epoch 16 mean class acc 0.5326370757180157 acc 0.6041666666666667 prec 0.40003465683197326 rec 0.3151041666666667 f 0.34620222749886925 minutes 0.4465818047523499\n",
      "Epoch 17 mean class acc 0.5586327171259156 acc 0.6166666666666667 prec 0.4192072507289899 rec 0.3211805555555556 f 0.35944475306249585 minutes 0.4450973788897196\n",
      "Epoch 18 mean class acc 0.5426195811188682 acc 0.5875 prec 0.4147623620429727 rec 0.3060763888888889 f 0.34975085670418155 minutes 0.43825660546620687\n",
      "Epoch 19 mean class acc 0.5291971376897067 acc 0.5750000000000001 prec 0.5026510325423369 rec 0.3425925925925926 f 0.40269632017854334 minutes 0.4348814368247986\n",
      "Epoch 20 mean class acc 0.48920518151287384 acc 0.5416666666666667 prec 0.5076247782615707 rec 0.3203703703703704 f 0.3841884378570067 minutes 0.43459185361862185\n",
      "Epoch 21 mean class acc 0.5939683707245311 acc 0.6333333333333333 prec 0.44680717823653965 rec 0.34548611111111116 f 0.38236543477226714 minutes 0.4484528660774231\n",
      "Epoch 22 mean class acc 0.5569116716390923 acc 0.5875 prec 0.5036044409712355 rec 0.35868055555555556 f 0.4156927882647242 minutes 0.4427209695180257\n",
      "Epoch 23 mean class acc 0.5169119545571909 acc 0.5708333333333333 prec 0.4782099205371563 rec 0.3471064814814815 f 0.395784165970344 minutes 0.4441723624865214\n",
      "Epoch 24 mean class acc 0.5395562854275503 acc 0.6 prec 0.41370938649164457 rec 0.30972222222222223 f 0.35027148969935235 minutes 0.4319145679473877\n",
      "Epoch 25 mean class acc 0.4972474259750726 acc 0.5750000000000001 prec 0.49109062980030727 rec 0.3672453703703704 f 0.4107560746603659 minutes 0.43133344650268557\n",
      "Epoch 26 mean class acc 0.5490609092504827 acc 0.6000000000000001 prec 0.43481308277803477 rec 0.3260416666666667 f 0.36709693107081753 minutes 0.43279882669448855\n",
      "Epoch 27 mean class acc 0.563575791227096 acc 0.6083333333333334 prec 0.4193348766576829 rec 0.32569444444444445 f 0.3633108580932262 minutes 0.43283016681671144\n",
      "Epoch 28 mean class acc 0.5811638101811024 acc 0.6041666666666666 prec 0.48817124295954945 rec 0.368287037037037 f 0.4161734809771315 minutes 0.43886505762736\n",
      "Epoch 29 mean class acc 0.5179621444364495 acc 0.6041666666666667 prec 0.4160215340072151 rec 0.31927083333333334 f 0.3534154003066448 minutes 0.4315946618715922\n",
      "Epoch 30 mean class acc 0.5991440798858774 acc 0.6375 prec 0.4833829365079365 rec 0.39386574074074077 f 0.43123046319977265 minutes 0.4424280365308126\n",
      "Epoch 31 mean class acc 0.5558065973791234 acc 0.6125 prec 0.5065260368432011 rec 0.37812500000000004 f 0.42551932929726 minutes 0.43113025029500324\n",
      "Epoch 32 mean class acc 0.5644576775840068 acc 0.6208333333333333 prec 0.5059108239255298 rec 0.3832175925925926 f 0.42816848027073845 minutes 0.43208500544230144\n",
      "Epoch 33 mean class acc 0.5990579330890938 acc 0.6208333333333333 prec 0.5055925888799786 rec 0.3890046296296297 f 0.4362243183610292 minutes 0.43028737703959147\n",
      "Epoch 34 mean class acc 0.5098447344734474 acc 0.6 prec 0.4186780979544138 rec 0.31718750000000007 f 0.3518749758339773 minutes 0.44571316639582315\n",
      "Epoch 35 mean class acc 0.5513972776926857 acc 0.6041666666666666 prec 0.482874503968254 rec 0.36817129629629636 f 0.4119760776700505 minutes 0.4355936050415039\n",
      "Epoch 36 mean class acc 0.447299240265099 acc 0.5458333333333334 prec 0.4839965140077811 rec 0.35532407407407407 f 0.3966349618928739 minutes 0.4312349836031596\n",
      "Epoch 37 mean class acc 0.5487265160174682 acc 0.6125 prec 0.44098329124313207 rec 0.3262152777777778 f 0.37008325075475357 minutes 0.4323220133781433\n",
      "Epoch 38 mean class acc 0.567155085491172 acc 0.6166666666666667 prec 0.5186275868440503 rec 0.3769675925925926 f 0.42912585328663705 minutes 0.4333709955215454\n",
      "Epoch 39 mean class acc 0.5238262390306362 acc 0.5958333333333333 prec 0.3946638855210837 rec 0.31111111111111117 f 0.34178465044129164 minutes 0.4334545095761617\n",
      "Epoch 40 mean class acc 0.5564434908262906 acc 0.6166666666666667 prec 0.47041674857077337 rec 0.37569444444444444 f 0.41114974033888746 minutes 0.4365510741869609\n",
      "Epoch 41 mean class acc 0.5380138432445334 acc 0.5958333333333333 prec 0.4888975262576009 rec 0.3707175925925926 f 0.41372131851493876 minutes 0.4341196378072103\n",
      "Epoch 42 mean class acc 0.5243207028111152 acc 0.5875 prec 0.4836030290252302 rec 0.36550925925925937 f 0.4071883677478435 minutes 0.4353107213973999\n",
      "Epoch 43 mean class acc 0.5468544600938967 acc 0.6125 prec 0.5130289074029399 rec 0.3734953703703704 f 0.42092625024039115 minutes 0.4336538036664327\n",
      "Epoch 44 mean class acc 0.5354242231129481 acc 0.6041666666666666 prec 0.502097918658021 rec 0.3738425925925926 f 0.41795508389527586 minutes 0.4356186628341675\n",
      "Epoch 45 mean class acc 0.5057719691797523 acc 0.5875 prec 0.49868247929016574 rec 0.35208333333333336 f 0.3991784310079265 minutes 0.43884998162587485\n",
      "Epoch 46 mean class acc 0.5490552692735172 acc 0.6041666666666666 prec 0.5096561509704892 rec 0.37974537037037037 f 0.42649907371849577 minutes 0.4414212385813395\n",
      "Epoch 47 mean class acc 0.549582806573957 acc 0.6041666666666666 prec 0.5109058090828924 rec 0.3710648148148148 f 0.4213917387189745 minutes 0.43509180943171183\n",
      "Epoch 48 mean class acc 0.5499613293334583 acc 0.6 prec 0.49840167548500885 rec 0.39490740740740743 f 0.4306852376379335 minutes 0.4335049629211426\n",
      "Epoch 49 mean class acc 0.5275218068961746 acc 0.5708333333333333 prec 0.4892382450492635 rec 0.35601851851851857 f 0.4034037181174366 minutes 0.43430327574412025\n",
      "Epoch 50 mean class acc 0.5229317684961454 acc 0.5791666666666666 prec 0.434146148989899 rec 0.31579861111111107 f 0.36005613716002977 minutes 0.43456140359242756\n",
      "Epoch 51 mean class acc 0.4907345837776802 acc 0.5791666666666666 prec 0.4012670272435898 rec 0.30399305555555556 f 0.3408344194634517 minutes 0.4335665742556254\n",
      "Epoch 52 mean class acc 0.5737931034482759 acc 0.6041666666666666 prec 0.4898568602212051 rec 0.37187499999999996 f 0.41979428241220695 minutes 0.4365457852681478\n"
     ]
    },
    {
     "name": "stdout",
     "output_type": "stream",
     "text": [
      "Epoch 53 mean class acc 0.5706203390777309 acc 0.6041666666666667 prec 0.4949960540401884 rec 0.38125000000000003 f 0.4273741647224722 minutes 0.4340810497601827\n",
      "Epoch 54 mean class acc 0.5578956370042245 acc 0.6041666666666667 prec 0.41232164541590777 rec 0.3260416666666667 f 0.3610156164742683 minutes 0.4307057539621989\n",
      "Epoch 55 mean class acc 0.5577067721536618 acc 0.6125 prec 0.4841378096626742 rec 0.3710648148148149 f 0.41258440540194574 minutes 0.43439203103383384\n",
      "Epoch 56 mean class acc 0.5391705069124424 acc 0.5833333333333334 prec 0.47634655514504654 rec 0.3524305555555556 f 0.39735130260612894 minutes 0.4302111585934957\n",
      "Epoch 57 mean class acc 0.49386979796235536 acc 0.55 prec 0.4882605820105821 rec 0.335300925925926 f 0.38843651050961175 minutes 0.44156887928644817\n",
      "Epoch 58 mean class acc 0.5841906982244522 acc 0.6250000000000001 prec 0.5130208333333333 rec 0.3842592592592593 f 0.43111842607810347 minutes 0.4333654761314392\n",
      "Epoch 59 mean class acc 0.588545913414871 acc 0.6291666666666668 prec 0.49237683778811653 rec 0.3976851851851852 f 0.4353002508738856 minutes 0.43105565309524535\n",
      "Epoch 60 mean class acc 0.5309906639004149 acc 0.5833333333333334 prec 0.4796378390128391 rec 0.35868055555555556 f 0.40346683465017563 minutes 0.43494823773701985\n",
      "Epoch 61 mean class acc 0.5520011902990627 acc 0.5958333333333333 prec 0.49133367486338797 rec 0.3775462962962963 f 0.4227902712139365 minutes 0.43230365912119545\n",
      "Epoch 62 mean class acc 0.5727790673137793 acc 0.6124999999999999 prec 0.47317646194280183 rec 0.37453703703703706 f 0.4137742105287583 minutes 0.4337637344996134\n",
      "Epoch 63 mean class acc 0.4969892742896569 acc 0.55 prec 0.5046001138052769 rec 0.344212962962963 f 0.3963783949138484 minutes 0.43224138418833413\n",
      "Epoch 64 mean class acc 0.5111561866125761 acc 0.5791666666666667 prec 0.48128766343449325 rec 0.37291666666666673 f 0.4130195761287032 minutes 0.4302415688832601\n",
      "Epoch 65 mean class acc 0.49787234042553197 acc 0.55 prec 0.4859193556260547 rec 0.33993055555555557 f 0.38885234629863014 minutes 0.43003455400466917\n",
      "Epoch 66 mean class acc 0.5345674566015991 acc 0.6 prec 0.4810880204025366 rec 0.3861111111111112 f 0.42183052003227445 minutes 0.4307632048924764\n",
      "Epoch 67 mean class acc 0.5246708797532955 acc 0.5833333333333334 prec 0.4879948220421021 rec 0.3615740740740741 f 0.40455706115046314 minutes 0.434317147731781\n",
      "Epoch 68 mean class acc 0.5491576565250189 acc 0.5791666666666667 prec 0.4068997826031019 rec 0.3151041666666667 f 0.3534493148637717 minutes 0.43417292833328247\n",
      "Epoch 69 mean class acc 0.5486258367635442 acc 0.5833333333333334 prec 0.45676633649381154 rec 0.36574074074074076 f 0.40162401636487466 minutes 0.4404886603355408\n",
      "Epoch 70 mean class acc 0.48229665071770333 acc 0.55 prec 0.4842327013780212 rec 0.35740740740740745 f 0.39860865027989717 minutes 0.4311651110649109\n",
      "Epoch 71 mean class acc 0.5854872193081153 acc 0.6124999999999999 prec 0.43392606029551284 rec 0.3380208333333333 f 0.3768658048014527 minutes 0.4312570373217265\n",
      "Epoch 72 mean class acc 0.5594039614755588 acc 0.6041666666666667 prec 0.47542964318343833 rec 0.3828703703703704 f 0.419613154334758 minutes 0.4315527598063151\n",
      "Epoch 73 mean class acc 0.5742708767009225 acc 0.6083333333333334 prec 0.4815734552340345 rec 0.3853009259259259 f 0.4231685262851572 minutes 0.4282931685447693\n",
      "Epoch 74 mean class acc 0.5166767239014757 acc 0.5750000000000001 prec 0.47756132756132763 rec 0.3604166666666667 f 0.4022422864927609 minutes 0.4315371036529541\n",
      "Epoch 75 mean class acc 0.4995214383503556 acc 0.5625 prec 0.5045745149911817 rec 0.34039351851851857 f 0.39665191672072414 minutes 0.4335565050443014\n",
      "Epoch 76 mean class acc 0.5454611111445475 acc 0.5958333333333333 prec 0.4234481345159572 rec 0.3236111111111111 f 0.36098861060817283 minutes 0.43184279203414916\n",
      "Epoch 77 mean class acc 0.5504973668812171 acc 0.5875 prec 0.42704278931246376 rec 0.3144097222222223 f 0.35792019047827206 minutes 0.429741903146108\n",
      "Epoch 78 mean class acc 0.5407366295478432 acc 0.6 prec 0.49933173500881833 rec 0.36793981481481486 f 0.4158722743621445 minutes 0.43662979602813723\n",
      "Epoch 79 mean class acc 0.5483049941182762 acc 0.5874999999999999 prec 0.4913803249585713 rec 0.375925925925926 f 0.4208050440141505 minutes 0.4346015969912211\n",
      "Epoch 80 mean class acc 0.5836353232881938 acc 0.6125 prec 0.4755181274789118 rec 0.37372685185185184 f 0.41479092375226456 minutes 0.43853427171707154\n",
      "Epoch 81 mean class acc 0.544234748260079 acc 0.5833333333333334 prec 0.45820954644484063 rec 0.3667824074074074 f 0.40264720971906187 minutes 0.4394015868504842\n",
      "Epoch 82 mean class acc 0.4881810561609388 acc 0.5458333333333334 prec 0.40842135295260296 rec 0.2963541666666667 f 0.3366922151264688 minutes 0.4320245464642843\n",
      "Epoch 83 mean class acc 0.509765625 acc 0.5791666666666667 prec 0.471262143695954 rec 0.3746527777777778 f 0.4087264487312013 minutes 0.43483745654424033\n",
      "Epoch 84 mean class acc 0.5652705041082704 acc 0.6000000000000001 prec 0.48455789487114176 rec 0.3793981481481482 f 0.4187852892750848 minutes 0.4294987479845683\n",
      "Epoch 85 mean class acc 0.5569869943560413 acc 0.6083333333333334 prec 0.47805868415121644 rec 0.38703703703703707 f 0.4206630668150533 minutes 0.4312365452448527\n",
      "Epoch 86 mean class acc 0.5358550039401103 acc 0.5750000000000001 prec 0.4799260535684716 rec 0.35706018518518523 f 0.40367069442857567 minutes 0.43493077754974363\n",
      "Epoch 87 mean class acc 0.5557739557739558 acc 0.5958333333333333 prec 0.48996016204807225 rec 0.3804398148148148 f 0.42304549809027997 minutes 0.4346697370211283\n",
      "Epoch 88 mean class acc 0.555397062950145 acc 0.6000000000000001 prec 0.4928926794598437 rec 0.3836805555555556 f 0.4238999176614414 minutes 0.43415449062983197\n",
      "Epoch 89 mean class acc 0.5725741780272654 acc 0.6041666666666666 prec 0.4782916468875168 rec 0.37430555555555556 f 0.4161331643816417 minutes 0.43223381439844766\n",
      "Epoch 90 mean class acc 0.5593975718457046 acc 0.6 prec 0.4786063345091123 rec 0.37824074074074077 f 0.41742641139261616 minutes 0.4334521651268005\n",
      "Epoch 91 mean class acc 0.5802835476425982 acc 0.6041666666666667 prec 0.5055192684874205 rec 0.38587962962962963 f 0.43277067230812927 minutes 0.43078981240590414\n",
      "Epoch 92 mean class acc 0.5428784489187174 acc 0.5875 prec 0.49241735309443646 rec 0.37905092592592593 f 0.4215748947100477 minutes 0.4437473734219869\n",
      "Epoch 93 mean class acc 0.5481771943284176 acc 0.5916666666666668 prec 0.48456101190476186 rec 0.37268518518518523 f 0.415137403446227 minutes 0.4346943775812785\n",
      "Epoch 94 mean class acc 0.5525685361796838 acc 0.5916666666666667 prec 0.42578034862255576 rec 0.3192708333333334 f 0.36029062346984464 minutes 0.43398361603418983\n",
      "Epoch 95 mean class acc 0.5263157894736842 acc 0.5791666666666667 prec 0.3962841130604289 rec 0.30885416666666676 f 0.34192303900593185 minutes 0.43372583786646524\n",
      "Epoch 96 mean class acc 0.4987251252894112 acc 0.5666666666666667 prec 0.48236798412854753 rec 0.3550925925925926 f 0.39829361547683234 minutes 0.43456488450368247\n",
      "Epoch 97 mean class acc 0.5161525734022007 acc 0.5958333333333334 prec 0.4729447777693392 rec 0.38101851851851853 f 0.4133836201111387 minutes 0.4366864085197449\n",
      "Epoch 98 mean class acc 0.5120621194741022 acc 0.5583333333333333 prec 0.46279761904761907 rec 0.3516203703703704 f 0.39279583763329895 minutes 0.43437286218007404\n",
      "Epoch 99 mean class acc 0.530149096186832 acc 0.5875 prec 0.40406102447661363 rec 0.3138888888888889 f 0.3482688449054545 minutes 0.4333044648170471\n",
      "Epoch 100 mean class acc 0.5211408759717219 acc 0.575 prec 0.4492207139265963 rec 0.3550925925925926 f 0.3895525480009866 minutes 0.43459673325220743\n",
      "Epoch 101 mean class acc 0.5012181262379567 acc 0.5750000000000001 prec 0.4759934499966828 rec 0.3719907407407408 f 0.40953362868539356 minutes 0.43716402451197306\n",
      "Epoch 102 mean class acc 0.554425408004334 acc 0.6083333333333334 prec 0.4163338032581454 rec 0.32829861111111114 f 0.36236864607516117 minutes 0.43694905042648313\n",
      "Epoch 103 mean class acc 0.4974720857525681 acc 0.5625 prec 0.45571196539506403 rec 0.3420138888888889 f 0.38106605324761444 minutes 0.4407313227653503\n",
      "Epoch 104 mean class acc 0.5629804849201656 acc 0.6125 prec 0.45590588385892 rec 0.3753472222222222 f 0.40794368183068547 minutes 0.44064764579137167\n"
     ]
    },
    {
     "name": "stdout",
     "output_type": "stream",
     "text": [
      "Epoch 105 mean class acc 0.5006297685057838 acc 0.5666666666666667 prec 0.395185531214943 rec 0.29409722222222223 f 0.33004510372974305 minutes 0.43261479139328\n",
      "Epoch 106 mean class acc 0.5475044628803345 acc 0.6125 prec 0.48039701991907874 rec 0.38078703703703703 f 0.4178216813020734 minutes 0.43251328070958456\n",
      "Epoch 107 mean class acc 0.506570088318358 acc 0.5875 prec 0.39367937612377346 rec 0.31093750000000003 f 0.34132443321684464 minutes 0.432261844476064\n",
      "Epoch 108 mean class acc 0.5517836142689142 acc 0.6041666666666667 prec 0.4779316130019455 rec 0.36284722222222215 f 0.4046963063304859 minutes 0.4347079277038574\n",
      "Epoch 109 mean class acc 0.5230115550028499 acc 0.5958333333333333 prec 0.4757206962312597 rec 0.36099537037037044 f 0.40096284496754037 minutes 0.4312580784161886\n",
      "Epoch 110 mean class acc 0.5667180236768986 acc 0.6041666666666666 prec 0.4687324635241302 rec 0.366087962962963 f 0.40699389339514647 minutes 0.4346859852472941\n",
      "Epoch 111 mean class acc 0.5372981917031083 acc 0.6041666666666666 prec 0.41152187235662585 rec 0.33072916666666663 f 0.3601946114127375 minutes 0.4378787636756897\n",
      "Epoch 112 mean class acc 0.5664773922187172 acc 0.6041666666666666 prec 0.46488773572106906 rec 0.368287037037037 f 0.4071771724210748 minutes 0.43693929513295493\n",
      "Epoch 113 mean class acc 0.5519720841704557 acc 0.6 prec 0.4802000661375661 rec 0.3677083333333333 f 0.41067271799156296 minutes 0.4347968459129333\n",
      "Epoch 114 mean class acc 0.5378442412044939 acc 0.5833333333333334 prec 0.44992318359989963 rec 0.3627314814814815 f 0.39753674523387916 minutes 0.4344860871632894\n",
      "Epoch 115 mean class acc 0.5363896848137536 acc 0.5958333333333333 prec 0.40621979293854305 rec 0.3185763888888889 f 0.35208312885944465 minutes 0.4357040564219157\n",
      "Epoch 116 mean class acc 0.4747102212855638 acc 0.5583333333333333 prec 0.46313886326888487 rec 0.3396990740740741 f 0.3787522880902408 minutes 0.43871209224065144\n",
      "Epoch 117 mean class acc 0.5406360424028268 acc 0.5916666666666667 prec 0.4627617072470014 rec 0.3753472222222223 f 0.40794639132248645 minutes 0.43110791047414143\n",
      "Epoch 118 mean class acc 0.5281800972660008 acc 0.575 prec 0.4413033129805851 rec 0.3549768518518519 f 0.3895855770342376 minutes 0.4319536566734314\n",
      "Epoch 119 mean class acc 0.5424657534246575 acc 0.5874999999999999 prec 0.47336506014397467 rec 0.3652777777777778 f 0.40476830550962567 minutes 0.4345266938209534\n",
      "Epoch 120 mean class acc 0.543469253765593 acc 0.5791666666666666 prec 0.45001251251251256 rec 0.35856481481481484 f 0.39558530036996953 minutes 0.43734968105951944\n",
      "Epoch 121 mean class acc 0.5251497753369945 acc 0.5666666666666667 prec 0.4545553587494377 rec 0.3496527777777777 f 0.38945365142594307 minutes 0.4370554208755493\n",
      "Epoch 122 mean class acc 0.5318137657873103 acc 0.5916666666666667 prec 0.4002115024250441 rec 0.32343750000000004 f 0.35150208529002147 minutes 0.434211532274882\n",
      "Epoch 123 mean class acc 0.4577382641896408 acc 0.5291666666666668 prec 0.46290929286140986 rec 0.3481481481481482 f 0.3839659657857135 minutes 0.4345187346140544\n",
      "Epoch 124 mean class acc 0.5132447928006386 acc 0.575 prec 0.45588235294117646 rec 0.3443287037037037 f 0.38242138695767725 minutes 0.4362215081850688\n",
      "Epoch 125 mean class acc 0.5330583838123469 acc 0.5791666666666667 prec 0.47008973191975445 rec 0.35532407407407407 f 0.400192196403412 minutes 0.43375487327575685\n",
      "Epoch 126 mean class acc 0.5355661967309596 acc 0.5708333333333333 prec 0.47150582309632494 rec 0.362962962962963 f 0.4037814557166065 minutes 0.43212942282358807\n",
      "Epoch 127 mean class acc 0.5410699678246169 acc 0.5958333333333333 prec 0.4575978696008386 rec 0.37476851851851856 f 0.4053959548876981 minutes 0.44502061208089194\n",
      "Epoch 128 mean class acc 0.5388963660834455 acc 0.5791666666666667 prec 0.4055738374844067 rec 0.30989583333333337 f 0.3469786989013183 minutes 0.4346461812655131\n",
      "Epoch 129 mean class acc 0.5657600511112125 acc 0.6 prec 0.46086132540447877 rec 0.36747685185185186 f 0.4058458313137458 minutes 0.43795531590779624\n",
      "Epoch 130 mean class acc 0.548688574012662 acc 0.6041666666666667 prec 0.4019812652625153 rec 0.3248263888888889 f 0.35364393735761823 minutes 0.4344384789466858\n",
      "Epoch 131 mean class acc 0.5670665212649946 acc 0.6124999999999999 prec 0.48477441902687 rec 0.3773148148148148 f 0.4195284568311828 minutes 0.4301849643389384\n",
      "Epoch 132 mean class acc 0.492 acc 0.5833333333333333 prec 0.4173997645058385 rec 0.3095486111111111 f 0.3440387517184801 minutes 0.4288429339726766\n",
      "Epoch 133 mean class acc 0.5387421464665687 acc 0.6041666666666666 prec 0.4866197399092136 rec 0.36747685185185186 f 0.4091260343043071 minutes 0.43054111003875734\n",
      "Epoch 134 mean class acc 0.5207984047393182 acc 0.5874999999999999 prec 0.4530455611098194 rec 0.3711805555555555 f 0.3988192643387318 minutes 0.43294857343037924\n",
      "Epoch 135 mean class acc 0.5237568777663193 acc 0.5875 prec 0.4684749343289214 rec 0.3712962962962963 f 0.4081998222206079 minutes 0.4326459765434265\n",
      "Epoch 136 mean class acc 0.5240587008694968 acc 0.5833333333333333 prec 0.4794381136292901 rec 0.3618055555555556 f 0.40264856183875003 minutes 0.436445148785909\n",
      "Epoch 137 mean class acc 0.5452621583124194 acc 0.6125 prec 0.48565226644270765 rec 0.3763888888888889 f 0.4127656897314156 minutes 0.43552738428115845\n",
      "Epoch 138 mean class acc 0.554217513745474 acc 0.6125 prec 0.4817633879996699 rec 0.3763888888888889 f 0.415940381706868 minutes 0.44153383175532024\n",
      "Epoch 139 mean class acc 0.5578956370042245 acc 0.6041666666666667 prec 0.488505966884101 rec 0.3746527777777777 f 0.4196326805606621 minutes 0.4458616614341736\n",
      "Epoch 140 mean class acc 0.5572755417956656 acc 0.6041666666666667 prec 0.48545095121381887 rec 0.38506944444444446 f 0.42399057474935015 minutes 0.437495764096578\n",
      "Epoch 141 mean class acc 0.5237529691211401 acc 0.5916666666666667 prec 0.41745788476874 rec 0.32187499999999997 f 0.3546606584017788 minutes 0.4363744060198466\n",
      "Epoch 142 mean class acc 0.5112717671465392 acc 0.5708333333333333 prec 0.45851162970517867 rec 0.3579861111111111 f 0.39452588405713407 minutes 0.43620209296544393\n",
      "Epoch 143 mean class acc 0.5202968024886532 acc 0.5916666666666667 prec 0.40395780445280927 rec 0.32256944444444446 f 0.3499164069107475 minutes 0.4362783432006836\n",
      "Epoch 144 mean class acc 0.5453219367975428 acc 0.6083333333333334 prec 0.4574742387242388 rec 0.37129629629629635 f 0.4027055969980106 minutes 0.43278024991353353\n",
      "Epoch 145 mean class acc 0.5223370489805246 acc 0.5916666666666667 prec 0.45985149110149104 rec 0.36793981481481486 f 0.4005838373236178 minutes 0.42962759335835776\n",
      "Epoch 146 mean class acc 0.49553553553553553 acc 0.5625 prec 0.45237801148127244 rec 0.353125 f 0.3878594779773508 minutes 0.43034358819325763\n",
      "Epoch 147 mean class acc 0.5365515160657716 acc 0.5875 prec 0.4512653830088041 rec 0.36307870370370376 f 0.396649129321655 minutes 0.4327313860257467\n",
      "Epoch 148 mean class acc 0.5113375314180698 acc 0.5791666666666667 prec 0.4669893133767814 rec 0.359837962962963 f 0.39668807046646803 minutes 0.42968501647313434\n",
      "Epoch 149 mean class acc 0.5374751271280124 acc 0.5916666666666667 prec 0.4527518884015595 rec 0.3722222222222223 f 0.4017994587551039 minutes 0.4296867529551188\n",
      "Epoch 150 mean class acc 0.5390057586085322 acc 0.5750000000000001 prec 0.4691207530956514 rec 0.3609953703703703 f 0.40421184048074504 minutes 0.44026338259379066\n",
      "Epoch 151 mean class acc 0.5039625704191731 acc 0.5666666666666667 prec 0.45299173894604006 rec 0.36307870370370365 f 0.3962833611066423 minutes 0.4341474215189616\n",
      "Epoch 152 mean class acc 0.5304495086208046 acc 0.5750000000000001 prec 0.4627335293843833 rec 0.35648148148148145 f 0.396903634989615 minutes 0.43009893894195556\n",
      "Epoch 153 mean class acc 0.5220575854520964 acc 0.5666666666666667 prec 0.45428992303992305 rec 0.35219907407407414 f 0.39021316040149884 minutes 0.43267572720845543\n",
      "Epoch 154 mean class acc 0.4961784017670732 acc 0.5583333333333333 prec 0.47361418845793857 rec 0.350462962962963 f 0.39248333907106797 minutes 0.43629138072331747\n",
      "Epoch 155 mean class acc 0.5277777777777778 acc 0.575 prec 0.4653557376161741 rec 0.3612268518518519 f 0.4012477115358272 minutes 0.4341123898824056\n",
      "Epoch 156 mean class acc 0.5378401216832854 acc 0.5875 prec 0.39200367545221826 rec 0.3114583333333334 f 0.34235497036638146 minutes 0.43495675722757976\n"
     ]
    },
    {
     "name": "stdout",
     "output_type": "stream",
     "text": [
      "Epoch 157 mean class acc 0.5194128376617737 acc 0.5791666666666667 prec 0.45666142439018254 rec 0.36377314814814815 f 0.3978669950250413 minutes 0.43572161595026654\n",
      "Epoch 158 mean class acc 0.4822712933753943 acc 0.5625 prec 0.4386374230673087 rec 0.355787037037037 f 0.38658232477261756 minutes 0.43273377418518066\n",
      "Epoch 159 mean class acc 0.5092366849382312 acc 0.5791666666666666 prec 0.40513362388362395 rec 0.3114583333333334 f 0.3406828550728895 minutes 0.42965341806411744\n",
      "Epoch 160 mean class acc 0.4752306049130984 acc 0.5666666666666667 prec 0.45245974672251765 rec 0.3490740740740741 f 0.37694916576103416 minutes 0.4369988640149434\n",
      "Epoch 161 mean class acc 0.5052207486990096 acc 0.575 prec 0.45404983813700917 rec 0.3618055555555556 f 0.39349676759097046 minutes 0.44034567674001057\n",
      "Epoch 162 mean class acc 0.5562584632478039 acc 0.6 prec 0.47734135600853045 rec 0.37430555555555556 f 0.4134676661806949 minutes 0.4455247720082601\n",
      "Epoch 163 mean class acc 0.5161355529131986 acc 0.5833333333333334 prec 0.4393107301836682 rec 0.36539351851851853 f 0.3903230708782342 minutes 0.4350968917210897\n",
      "Epoch 164 mean class acc 0.5166964533395181 acc 0.575 prec 0.4326861772263441 rec 0.3543981481481482 f 0.381803488400224 minutes 0.4366808255513509\n",
      "Epoch 165 mean class acc 0.5105888156735614 acc 0.5708333333333333 prec 0.46726064827845015 rec 0.3555555555555555 f 0.3948768310766167 minutes 0.43457272052764895\n",
      "Epoch 166 mean class acc 0.511891740645588 acc 0.5958333333333334 prec 0.37575707227404825 rec 0.3154513888888889 f 0.33400577516996505 minutes 0.43198062976201373\n",
      "Epoch 167 mean class acc 0.501501923022936 acc 0.5791666666666667 prec 0.4689240462266778 rec 0.34641203703703705 f 0.385285956580671 minutes 0.43698840141296386\n",
      "Epoch 168 mean class acc 0.5170028818443804 acc 0.5708333333333333 prec 0.46359427609427606 rec 0.3578703703703704 f 0.3962129657210725 minutes 0.43313199281692505\n",
      "Epoch 169 mean class acc 0.5532166670459459 acc 0.6041666666666666 prec 0.45430605144759056 rec 0.38379629629629636 f 0.4099528766254189 minutes 0.43815109332402546\n",
      "Epoch 170 mean class acc 0.5635491172476234 acc 0.6041666666666667 prec 0.46083307226399334 rec 0.3734953703703704 f 0.4073698231015593 minutes 0.4320333560307821\n",
      "Epoch 171 mean class acc 0.518475073313783 acc 0.5791666666666667 prec 0.40340343873511175 rec 0.3171875 f 0.34887891386458003 minutes 0.4311727364857992\n",
      "Epoch 172 mean class acc 0.5592742945922919 acc 0.6 prec 0.4487631576236972 rec 0.368287037037037 f 0.4008586743646953 minutes 0.4337929924329122\n",
      "Epoch 173 mean class acc 0.5781746372456427 acc 0.6125 prec 0.48286595007906485 rec 0.38703703703703707 f 0.42548670833037516 minutes 0.43738003571828205\n",
      "Epoch 174 mean class acc 0.5518275267832395 acc 0.5916666666666667 prec 0.40399811775373395 rec 0.32048611111111114 f 0.35363852283454883 minutes 0.43690677881240847\n",
      "Epoch 175 mean class acc 0.5524273494590155 acc 0.6083333333333333 prec 0.3953448172198173 rec 0.33072916666666663 f 0.3550369324950118 minutes 0.4355808734893799\n",
      "Epoch 176 mean class acc 0.5588266780858581 acc 0.5916666666666667 prec 0.4088403838292979 rec 0.32256944444444446 f 0.3561345976656592 minutes 0.43330226341883343\n",
      "Epoch 177 mean class acc 0.5304495086208046 acc 0.575 prec 0.4653011900069949 rec 0.3637731481481482 f 0.40142194095949574 minutes 0.43104618390401206\n",
      "Epoch 178 mean class acc 0.5353861435311646 acc 0.6000000000000001 prec 0.4170461261551688 rec 0.31909722222222225 f 0.3529356699908027 minutes 0.4355546553929647\n",
      "Epoch 179 mean class acc 0.5431319888666439 acc 0.5916666666666667 prec 0.4590277777777778 rec 0.36307870370370376 f 0.3987527023520449 minutes 0.4371065179506938\n",
      "Epoch 180 mean class acc 0.5421714139327858 acc 0.5958333333333333 prec 0.48375138188288436 rec 0.3662037037037037 f 0.406364972091431 minutes 0.43602346976598105\n",
      "Epoch 181 mean class acc 0.5281642577333513 acc 0.5708333333333333 prec 0.490497241656082 rec 0.35740740740740745 f 0.4050925275096456 minutes 0.43399471044540405\n",
      "Epoch 182 mean class acc 0.5929122218226857 acc 0.6375000000000001 prec 0.5151920995670997 rec 0.3959490740740741 f 0.43788658344579395 minutes 0.4332910656929016\n",
      "Epoch 183 mean class acc 0.4702345300590729 acc 0.5375 prec 0.4916944737150216 rec 0.34074074074074073 f 0.38628695865537976 minutes 0.43338640133539835\n",
      "Epoch 184 mean class acc 0.5026949404666079 acc 0.5875 prec 0.40388880582137165 rec 0.31024305555555554 f 0.341112083984891 minutes 0.43357553482055666\n",
      "Epoch 185 mean class acc 0.46288976723759334 acc 0.5375 prec 0.48173420183290716 rec 0.3277777777777778 f 0.37623987992777436 minutes 0.44406580924987793\n",
      "Epoch 186 mean class acc 0.544848586568202 acc 0.5958333333333333 prec 0.46514378948650287 rec 0.37523148148148144 f 0.40834423754304544 minutes 0.43449375629425047\n",
      "Epoch 187 mean class acc 0.5360675780815828 acc 0.5833333333333334 prec 0.49273212472225636 rec 0.36539351851851853 f 0.4123074504715218 minutes 0.4358314394950867\n",
      "Epoch 188 mean class acc 0.489997480473671 acc 0.5625 prec 0.4885106939882685 rec 0.34780092592592593 f 0.3911675226654485 minutes 0.4340756932894389\n",
      "Epoch 189 mean class acc 0.4467912498983492 acc 0.5208333333333334 prec 0.48930409935764985 rec 0.31643518518518515 f 0.36480458581306785 minutes 0.4359603802363078\n",
      "Epoch 190 mean class acc 0.5057969100752674 acc 0.5583333333333333 prec 0.4459759696040184 rec 0.3423611111111111 f 0.37958409370525215 minutes 0.4352957208951314\n",
      "Epoch 191 mean class acc 0.516678945877019 acc 0.5625 prec 0.4631139291465378 rec 0.3461805555555556 f 0.3902269972316412 minutes 0.4363948901494344\n",
      "Epoch 192 mean class acc 0.47493403693931396 acc 0.5458333333333334 prec 0.45663174598449374 rec 0.3376157407407408 f 0.3746443898808271 minutes 0.4339012622833252\n",
      "Epoch 193 mean class acc 0.5236927584230304 acc 0.5916666666666667 prec 0.4526382385483263 rec 0.35891203703703706 f 0.3899175467975871 minutes 0.4348079005877177\n",
      "Epoch 194 mean class acc 0.5220734701440682 acc 0.5791666666666666 prec 0.4174776766598296 rec 0.31562500000000004 f 0.3545281796178035 minutes 0.43479559818903607\n",
      "Epoch 195 mean class acc 0.4746989629010928 acc 0.5458333333333333 prec 0.47982844979412487 rec 0.33807870370370374 f 0.38469532446625687 minutes 0.43472386995951334\n",
      "Epoch 196 mean class acc 0.47689180031624123 acc 0.5333333333333333 prec 0.4595721056318883 rec 0.3217592592592593 f 0.3676928456528091 minutes 0.4354313413302104\n",
      "Epoch 197 mean class acc 0.5293005671077504 acc 0.5875 prec 0.4676721502746557 rec 0.3587962962962963 f 0.40048530222102846 minutes 0.43846420049667356\n",
      "Epoch 198 mean class acc 0.4797329979684628 acc 0.55 prec 0.4856865742282409 rec 0.3340277777777778 f 0.38189797510918205 minutes 0.43620849450429283\n",
      "Epoch 199 mean class acc 0.5484574633842318 acc 0.5833333333333334 prec 0.4849991398099951 rec 0.35532407407407407 f 0.40613541777757467 minutes 0.4356959303220113\n",
      "Epoch 200 mean class acc 0.500796222063588 acc 0.575 prec 0.4535885534769464 rec 0.33796296296296297 f 0.3807569562176491 minutes 0.43484153747558596\n",
      "Ended training\n",
      "Best mean class accuracy : 0.5991440798858774\n",
      "Best test accuracy : 0.6375\n",
      "Corresponding precision : 0.4833829365079365\n",
      "Corresponding recall : 0.39386574074074077\n",
      "Corresponding f1 score : 0.43123046319977265\n"
     ]
    },
    {
     "data": {
      "image/png": "[encoded data removed]",
      "text/plain": [
       "<Figure size 432x288 with 1 Axes>"
      ]
     },
     "metadata": {
      "needs_background": "light"
     },
     "output_type": "display_data"
    },
    {
     "data": {
      "image/png": "[encoded data removed]",
      "text/plain": [
       "<Figure size 432x288 with 1 Axes>"
      ]
     },
     "metadata": {
      "needs_background": "light"
     },
     "output_type": "display_data"
    },
    {
     "data": {
      "image/png": "[encoded data removed]",
      "text/plain": [
       "<Figure size 432x288 with 1 Axes>"
      ]
     },
     "metadata": {
      "needs_background": "light"
     },
     "output_type": "display_data"
    },
    {
     "data": {
      "image/png": "[encoded data removed]",
      "text/plain": [
       "<Figure size 432x288 with 1 Axes>"
      ]
     },
     "metadata": {
      "needs_background": "light"
     },
     "output_type": "display_data"
    },
    {
     "data": {
      "image/png": "[encoded data removed]",
      "text/plain": [
       "<Figure size 432x288 with 1 Axes>"
      ]
     },
     "metadata": {
      "needs_background": "light"
     },
     "output_type": "display_data"
    },
    {
     "data": {
      "image/png": "[encoded data removed]",
      "text/plain": [
       "<Figure size 432x288 with 1 Axes>"
      ]
     },
     "metadata": {
      "needs_background": "light"
     },
     "output_type": "display_data"
    },
    {
     "data": {
      "image/png": "[encoded data removed]",
      "text/plain": [
       "<Figure size 432x288 with 1 Axes>"
      ]
     },
     "metadata": {
      "needs_background": "light"
     },
     "output_type": "display_data"
    }
   ],
   "source": [
    "do_train(model_simple, loader_train_simple_img, loader_test_simple_img, 'wce vgg19', [(200, 1e-5)])"
   ]
  },
  {
   "cell_type": "code",
   "execution_count": 21,
   "metadata": {
    "colab": {
     "base_uri": "https://localhost:8080/",
     "height": 34
    },
    "colab_type": "code",
    "executionInfo": {
     "elapsed": 1665957,
     "status": "ok",
     "timestamp": 1579044234052,
     "user": {
      "displayName": "Vlad Danaila",
      "photoUrl": "",
      "userId": "16049478229633186858"
     },
     "user_tz": -120
    },
    "id": "ZtSy4STaRbmZ",
    "outputId": "70302a85-5fec-47fd-eb8e-7cb33fb497a4"
   },
   "outputs": [
    {
     "data": {
      "text/plain": [
       "<All keys matched successfully>"
      ]
     },
     "execution_count": 21,
     "metadata": {},
     "output_type": "execute_result"
    }
   ],
   "source": [
    "checkpoint = t.load('checkpint wce vgg19.tar')\n",
    "model_simple.load_state_dict(checkpoint['model'])"
   ]
  },
  {
   "cell_type": "code",
   "execution_count": 22,
   "metadata": {
    "colab": {},
    "colab_type": "code",
    "id": "ky70BCeqRc2a"
   },
   "outputs": [],
   "source": [
    "def calculate_class_acc_for_test_set(model):\n",
    "  model.eval()\n",
    "  with t.no_grad():\n",
    "    conf_matrix = np.zeros((4, 4))\n",
    "    for x, y in loader_test_simple_img:\n",
    "      y_pred = model.forward(x)\n",
    "      y_pred = y_pred.narrow(1, 0, 4)\n",
    "      y_pred, y = to_numpy(y_pred), to_numpy(y)\n",
    "      pred = y_pred.argmax(axis = 1)\n",
    "      cm = sk.metrics.confusion_matrix(y, pred, labels = list(range(4)))\n",
    "      conf_matrix += cm\n",
    "    print('Confusion matrix:\\n', conf_matrix)\n",
    "    class_acc = [conf_matrix[i][i] / sum(conf_matrix[i]) for i in range(len(conf_matrix))]\n",
    "    print('Class acc:\\n', class_acc)\n",
    "    return class_acc\n",
    "\n",
    "def plot_class_acc(class_acc):\n",
    "  plt.bar(list(range(4)), class_acc, align='center', alpha=0.5)\n",
    "  plt.xticks(list(range(4)), list(range(4)))\n",
    "  plt.xlabel('Classes')\n",
    "  plt.ylabel('True Positive Rate')\n",
    "  plt.savefig('AccPerClass.pdf', dpi = 300, format = 'pdf')\n",
    "  plt.show()\n",
    "\n",
    "def plot_class_acc_comparison(class_acc_1, class_acc_2, title_1, title_2):\n",
    "  width = .3\n",
    "  plt.bar(list(range(4)), class_acc_1, width, alpha=0.5, color = 'green', label = title_1)\n",
    "  plt.bar(np.array(list(range(4))) + width, class_acc_2, width, alpha=0.5, color = 'blue', label = title_2)\n",
    "  plt.xticks(np.array(list(range(4))) + width/2, list(range(4)))\n",
    "  plt.xlabel('Classes')\n",
    "  plt.ylabel('True Positive Rate')\n",
    "  plt.legend()\n",
    "  plt.savefig('ClassAccCompareDenseNet.pdf', dpi = 300, format = 'pdf')\n",
    "  plt.show()"
   ]
  },
  {
   "cell_type": "code",
   "execution_count": 23,
   "metadata": {
    "colab": {
     "base_uri": "https://localhost:8080/",
     "height": 400
    },
    "colab_type": "code",
    "executionInfo": {
     "elapsed": 1666357,
     "status": "ok",
     "timestamp": 1579044234473,
     "user": {
      "displayName": "Vlad Danaila",
      "photoUrl": "",
      "userId": "16049478229633186858"
     },
     "user_tz": -120
    },
    "id": "5J-S9dNPRin1",
    "outputId": "5cc4d01c-0751-44d8-94de-27d23ef7309c"
   },
   "outputs": [
    {
     "name": "stdout",
     "output_type": "stream",
     "text": [
      "Confusion matrix:\n",
      " [[50.  3.  7.  0.]\n",
      " [20. 28. 12.  0.]\n",
      " [14. 14. 30.  2.]\n",
      " [ 2.  1. 12. 45.]]\n",
      "Class acc:\n",
      " [0.8333333333333334, 0.4666666666666667, 0.5, 0.75]\n"
     ]
    },
    {
     "data": {
      "image/png": "[encoded data removed]",
      "text/plain": [
       "<Figure size 432x288 with 1 Axes>"
      ]
     },
     "metadata": {
      "needs_background": "light"
     },
     "output_type": "display_data"
    }
   ],
   "source": [
    "class_acc = calculate_class_acc_for_test_set(model_simple)\n",
    "plot_class_acc(class_acc)"
   ]
  },
  {
   "cell_type": "code",
   "execution_count": 25,
   "metadata": {
    "colab": {
     "base_uri": "https://localhost:8080/",
     "height": 452
    },
    "colab_type": "code",
    "executionInfo": {
     "elapsed": 1667516,
     "status": "ok",
     "timestamp": 1579044235644,
     "user": {
      "displayName": "Vlad Danaila",
      "photoUrl": "",
      "userId": "16049478229633186858"
     },
     "user_tz": -120
    },
    "id": "c5rGbcc1RmJL",
    "outputId": "c3cb1949-c304-4dc7-fc04-17d02f83e6ba"
   },
   "outputs": [
    {
     "name": "stdout",
     "output_type": "stream",
     "text": [
      "Confusion matrix:\n",
      " [[53.  3.  2.  2.]\n",
      " [24. 20. 16.  0.]\n",
      " [17.  6. 36.  1.]\n",
      " [ 5.  0.  6. 49.]]\n",
      "Class acc:\n",
      " [0.8833333333333333, 0.3333333333333333, 0.6, 0.8166666666666667]\n"
     ]
    },
    {
     "data": {
      "image/png": "[encoded data removed]",
      "text/plain": [
       "<Figure size 432x288 with 1 Axes>"
      ]
     },
     "metadata": {
      "needs_background": "light"
     },
     "output_type": "display_data"
    }
   ],
   "source": [
    "model_without_wl = t.nn.DataParallel(get_vgg_19().cuda())\n",
    "checkpoint_without_wl = t.load(CHACKPOINT_CROSS_ENTROPY_MODEL)\n",
    "model_without_wl.load_state_dict(checkpoint_without_wl['model'])\n",
    "class_acc_no_wl = calculate_class_acc_for_test_set(model_without_wl)\n",
    "plot_class_acc(class_acc_no_wl)"
   ]
  },
  {
   "cell_type": "code",
   "execution_count": 26,
   "metadata": {
    "colab": {
     "base_uri": "https://localhost:8080/",
     "height": 278
    },
    "colab_type": "code",
    "executionInfo": {
     "elapsed": 1667504,
     "status": "ok",
     "timestamp": 1579044235645,
     "user": {
      "displayName": "Vlad Danaila",
      "photoUrl": "",
      "userId": "16049478229633186858"
     },
     "user_tz": -120
    },
    "id": "tRz36NjNRvqC",
    "outputId": "d8046b27-6598-4adc-e73a-fad22d32c512"
   },
   "outputs": [
    {
     "data": {
      "image/png": "[encoded data removed]",
      "text/plain": [
       "<Figure size 432x288 with 1 Axes>"
      ]
     },
     "metadata": {
      "needs_background": "light"
     },
     "output_type": "display_data"
    }
   ],
   "source": [
    "plot_class_acc_comparison(class_acc, class_acc_no_wl, 'Weighted Cross Entropy Loss', 'Cross Entropy Loss')"
   ]
  }
 ],
 "metadata": {
  "accelerator": "GPU",
  "colab": {
   "collapsed_sections": [],
   "name": "Cancer Detection - Ensable Conv 14 Jan Weighted Loss V6.ipynb",
   "provenance": []
  },
  "kernelspec": {
   "display_name": "Python 3",
   "language": "python",
   "name": "python3"
  },
  "language_info": {
   "codemirror_mode": {
    "name": "ipython",
    "version": 3
   },
   "file_extension": ".py",
   "mimetype": "text/x-python",
   "name": "python",
   "nbconvert_exporter": "python",
   "pygments_lexer": "ipython3",
   "version": "3.6.9"
  }
 },
 "nbformat": 4,
 "nbformat_minor": 1
}
