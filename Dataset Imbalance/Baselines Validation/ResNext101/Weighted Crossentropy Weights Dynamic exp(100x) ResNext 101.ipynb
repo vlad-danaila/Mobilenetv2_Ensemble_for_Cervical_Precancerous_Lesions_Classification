{
 "cells": [
  {
   "cell_type": "markdown",
   "metadata": {
    "colab_type": "text",
    "id": "view-in-github"
   },
   "source": [
    "<a href=\"https://colab.research.google.com/github/vlad-danaila/ml-cancer-detection/blob/master/Cancer_Detection_Ensable_V1.ipynb\" target=\"_parent\"><img src=\"https://colab.research.google.com/assets/colab-badge.svg\" alt=\"Open In Colab\"/></a>"
   ]
  },
  {
   "cell_type": "code",
   "execution_count": null,
   "metadata": {
    "colab": {
     "base_uri": "https://localhost:8080/",
     "height": 381
    },
    "colab_type": "code",
    "executionInfo": {
     "elapsed": 7827,
     "status": "ok",
     "timestamp": 1579035694957,
     "user": {
      "displayName": "Vlad Danaila",
      "photoUrl": "",
      "userId": "16049478229633186858"
     },
     "user_tz": -120
    },
    "id": "-00MlLK5bd_o",
    "outputId": "d12e31ea-067d-4f0a-ebb7-9a9a234350d2"
   },
   "outputs": [],
   "source": [
    "!pip3 install sklearn matplotlib GPUtil"
   ]
  },
  {
   "cell_type": "code",
   "execution_count": null,
   "metadata": {
    "colab": {},
    "colab_type": "code",
    "id": "CMValOmT-aue"
   },
   "outputs": [],
   "source": [
    "!pip3 install \"pillow<7\""
   ]
  },
  {
   "cell_type": "code",
   "execution_count": null,
   "metadata": {
    "colab": {},
    "colab_type": "code",
    "id": "dVSEwo3iJpWR"
   },
   "outputs": [],
   "source": [
    "!pip3 install torch==1.3.1+cu92 torchvision==0.4.2+cu92 -f https://download.pytorch.org/whl/torch_stable.html"
   ]
  },
  {
   "cell_type": "markdown",
   "metadata": {
    "colab_type": "text",
    "id": "xTU7V2ervf9J"
   },
   "source": [
    "**Download Data**"
   ]
  },
  {
   "cell_type": "markdown",
   "metadata": {
    "colab_type": "text",
    "id": "W4En4wy5ZOqm"
   },
   "source": [
    "Mount my google drive, where the dataset is stored."
   ]
  },
  {
   "cell_type": "code",
   "execution_count": null,
   "metadata": {
    "colab": {
     "base_uri": "https://localhost:8080/",
     "height": 124
    },
    "colab_type": "code",
    "executionInfo": {
     "elapsed": 31673,
     "status": "ok",
     "timestamp": 1579035754952,
     "user": {
      "displayName": "Vlad Danaila",
      "photoUrl": "",
      "userId": "16049478229633186858"
     },
     "user_tz": -120
    },
    "id": "w12ajwYkRYMj",
    "outputId": "41c9e7ae-1b35-4e10-a019-455071d85d72"
   },
   "outputs": [],
   "source": [
    "try:\n",
    "    from google.colab import drive\n",
    "    drive.mount('/content/drive')\n",
    "except Exception as e:\n",
    "    print(e)"
   ]
  },
  {
   "cell_type": "markdown",
   "metadata": {
    "colab_type": "text",
    "id": "1lZ8z6MIZag1"
   },
   "source": [
    "Unzip the dataset into the folder \"dataset\"."
   ]
  },
  {
   "cell_type": "code",
   "execution_count": null,
   "metadata": {
    "colab": {
     "base_uri": "https://localhost:8080/",
     "height": 1000
    },
    "colab_type": "code",
    "executionInfo": {
     "elapsed": 12420,
     "status": "ok",
     "timestamp": 1579036086536,
     "user": {
      "displayName": "Vlad Danaila",
      "photoUrl": "",
      "userId": "16049478229633186858"
     },
     "user_tz": -120
    },
    "id": "30WlKBSGZfpq",
    "outputId": "addfaef0-6f80-4984-f718-c1adb038302e"
   },
   "outputs": [],
   "source": [
    "!rm -vrf \"dataset\"\n",
    "!mkdir \"dataset\"\n",
    "!cp -r \"/content/drive/My Drive/Studiu doctorat leziuni cervicale/cervigram-image-dataset-v2.zip\" \"dataset/cervigram-image-dataset-v2.zip\"\n",
    "# !cp -r \"cervigram-image-dataset-v2.zip\" \"dataset/cervigram-image-dataset-v2.zip\"\n",
    "!unzip \"dataset/cervigram-image-dataset-v2.zip\" -d \"dataset\""
   ]
  },
  {
   "cell_type": "markdown",
   "metadata": {
    "colab_type": "text",
    "id": "G79HqNc8ZaJ8"
   },
   "source": [
    "**Constants**"
   ]
  },
  {
   "cell_type": "code",
   "execution_count": 1,
   "metadata": {
    "colab": {},
    "colab_type": "code",
    "id": "g1YBANp9XJeA"
   },
   "outputs": [],
   "source": [
    "# TRAIN_PATH = '/content/dataset/data/train/'\n",
    "# TEST_PATH = '/content/dataset/data/test/'\n",
    "TRAIN_PATH = 'dataset/data/train/'\n",
    "TEST_PATH = 'dataset/data/test/'\n",
    "\n",
    "CROP_SIZE = 260\n",
    "IMAGE_SIZE = 224\n",
    "BATCH_SIZE = 50\n",
    "\n",
    "# prefix = '/content/drive/My Drive/Studiu doctorat leziuni cervicale/V2/Chekpoints & Notebooks/'\n",
    "prefix = 'Mobilenetv2 Tuning/'\n",
    "CHACKPOINT_CROSS_ENTROPY_MODEL = prefix + 'checkpint resnext 101.tar'"
   ]
  },
  {
   "cell_type": "markdown",
   "metadata": {
    "colab_type": "text",
    "id": "B_koVi65ZlHP"
   },
   "source": [
    "**Imports**"
   ]
  },
  {
   "cell_type": "code",
   "execution_count": 2,
   "metadata": {
    "colab": {},
    "colab_type": "code",
    "id": "qyNuLlPNsdl1"
   },
   "outputs": [],
   "source": [
    "import torch as t\n",
    "import torchvision as tv\n",
    "import numpy as np\n",
    "import PIL as pil\n",
    "import matplotlib.pyplot as plt\n",
    "from torchvision.datasets import ImageFolder\n",
    "from torch.utils.data import DataLoader\n",
    "from torch.nn import Linear, BCEWithLogitsLoss\n",
    "import sklearn as sk\n",
    "import sklearn.metrics\n",
    "from os import listdir\n",
    "import time\n",
    "import random\n",
    "import statistics\n",
    "import math"
   ]
  },
  {
   "cell_type": "markdown",
   "metadata": {
    "colab_type": "text",
    "id": "r3KfXoIH187Z"
   },
   "source": [
    "**Deterministic Measurements**"
   ]
  },
  {
   "cell_type": "markdown",
   "metadata": {
    "colab_type": "text",
    "id": "bQ3rHF5K2BpX"
   },
   "source": [
    "This statements help making the experiments reproductible by fixing the random seeds."
   ]
  },
  {
   "cell_type": "code",
   "execution_count": 3,
   "metadata": {
    "colab": {},
    "colab_type": "code",
    "id": "PQtgx_3H2MEx"
   },
   "outputs": [],
   "source": [
    "SEED = 0\n",
    "t.manual_seed(SEED)\n",
    "t.cuda.manual_seed(SEED)\n",
    "t.cuda.manual_seed_all(SEED)\n",
    "t.backends.cudnn.deterministic = True\n",
    "t.backends.cudnn.benchmark = False\n",
    "np.random.seed(SEED)\n",
    "random.seed(SEED)"
   ]
  },
  {
   "cell_type": "markdown",
   "metadata": {
    "colab_type": "text",
    "id": "fyGUb7LOJpWw"
   },
   "source": [
    "**Memory Stats**"
   ]
  },
  {
   "cell_type": "code",
   "execution_count": 4,
   "metadata": {
    "colab": {
     "base_uri": "https://localhost:8080/",
     "height": 34
    },
    "colab_type": "code",
    "executionInfo": {
     "elapsed": 1793,
     "status": "ok",
     "timestamp": 1579042569637,
     "user": {
      "displayName": "Vlad Danaila",
      "photoUrl": "",
      "userId": "16049478229633186858"
     },
     "user_tz": -120
    },
    "id": "IEidARh3JpWx",
    "outputId": "b3fb12f1-69d9-48cd-afca-db8b6a7ab293"
   },
   "outputs": [
    {
     "name": "stdout",
     "output_type": "stream",
     "text": [
      "GPU RAM Free: 11019MB | Used: 0MB | Util   0% | Total 11019MB\n",
      "GPU RAM Free: 11019MB | Used: 0MB | Util   0% | Total 11019MB\n"
     ]
    }
   ],
   "source": [
    "import GPUtil\n",
    "def memory_stats():\n",
    "  for gpu in GPUtil.getGPUs():\n",
    "    print(\"GPU RAM Free: {0:.0f}MB | Used: {1:.0f}MB | Util {2:3.0f}% | Total {3:.0f}MB\".format(gpu.memoryFree, gpu.memoryUsed, gpu.memoryUtil*100, gpu.memoryTotal))\n",
    "memory_stats()"
   ]
  },
  {
   "cell_type": "markdown",
   "metadata": {
    "colab_type": "text",
    "id": "ugovPCwFvBc4"
   },
   "source": [
    "**Loading Data**"
   ]
  },
  {
   "cell_type": "markdown",
   "metadata": {
    "colab_type": "text",
    "id": "8_PMRn9BcaPO"
   },
   "source": [
    "The dataset is structured in multiple small folders, ecah containing 7 images. The generator iterates through the folders and returns the category and 7 paths: one for each image in the folder."
   ]
  },
  {
   "cell_type": "code",
   "execution_count": 5,
   "metadata": {
    "colab": {},
    "colab_type": "code",
    "id": "qU2qOUVWZZNl"
   },
   "outputs": [],
   "source": [
    "def sortByLastDigits(elem):\n",
    "  chars = [c for c in elem if c.isdigit()]\n",
    "  return 0 if len(chars) == 0 else int(''.join(chars))\n",
    "\n",
    "def getImagesPaths(root_path):\n",
    "  for  class_folder in [root_path + f for f in listdir(root_path)]:\n",
    "      category = int(class_folder[-1])\n",
    "      for case_folder in listdir(class_folder):\n",
    "        case_folder_path = class_folder + '/' + case_folder + '/'\n",
    "        img_files = [case_folder_path + file_name for file_name in listdir(case_folder_path)]\n",
    "        yield category, sorted(img_files, key = sortByLastDigits)"
   ]
  },
  {
   "cell_type": "markdown",
   "metadata": {
    "colab_type": "text",
    "id": "MSrKoW7TdRFr"
   },
   "source": [
    "We define 3 datasets, which loads 3 kinds of images: natural images, images taken through a green lens and images where the doctor aplied iodine solution (which gives a dark red colour). Each dataset has dynamic and static transformations which could be applied to the data. The static transformations are applied on the initialization of the dataset, while the dynamic ones are applied when loading each batch of data."
   ]
  },
  {
   "cell_type": "code",
   "execution_count": 6,
   "metadata": {
    "colab": {},
    "colab_type": "code",
    "id": "EmgWK_7-doGb"
   },
   "outputs": [],
   "source": [
    "class SimpleImagesDataset(t.utils.data.Dataset):\n",
    "  def __init__(self, root_path, transforms_x_static = None, transforms_x_dynamic = None, transforms_y_static = None, transforms_y_dynamic = None):\n",
    "    self.dataset = []\n",
    "    self.transforms_x = transforms_x_dynamic\n",
    "    self.transforms_y = transforms_y_dynamic\n",
    "    for category, img_files in getImagesPaths(root_path):\n",
    "      for i in range(5):\n",
    "        img = pil.Image.open(img_files[i])\n",
    "        if transforms_x_static != None:\n",
    "          img = transforms_x_static(img)\n",
    "        if transforms_y_static != None:\n",
    "          category = transforms_y_static(category)\n",
    "        self.dataset.append((img, category))    \n",
    "  \n",
    "  def __getitem__(self, i):\n",
    "    x, y = self.dataset[i]\n",
    "    if self.transforms_x != None:\n",
    "      x = self.transforms_x(x)\n",
    "    if self.transforms_y != None:\n",
    "      y = self.transforms_y(y)\n",
    "    return x, y\n",
    "\n",
    "  def __len__(self):\n",
    "    return len(self.dataset)\n",
    "\n",
    "class GreenLensImagesDataset(SimpleImagesDataset):\n",
    "  def __init__(self, root_path, transforms_x_static = None, transforms_x_dynamic = None, transforms_y_static = None, transforms_y_dynamic = None):\n",
    "    self.dataset = []\n",
    "    self.transforms_x = transforms_x_dynamic\n",
    "    self.transforms_y = transforms_y_dynamic\n",
    "    for category, img_files in getImagesPaths(root_path):\n",
    "        # Only the green lens image\n",
    "        img = pil.Image.open(img_files[-2]) \n",
    "        if transforms_x_static != None:\n",
    "          img = transforms_x_static(img)\n",
    "        if transforms_y_static != None:\n",
    "          category = transforms_y_static(category)\n",
    "        self.dataset.append((img, category))    \n",
    "\n",
    "class RedImagesDataset(SimpleImagesDataset):\n",
    "  def __init__(self, root_path, transforms_x_static = None, transforms_x_dynamic = None, transforms_y_static = None, transforms_y_dynamic = None):\n",
    "    self.dataset = []\n",
    "    self.transforms_x = transforms_x_dynamic\n",
    "    self.transforms_y = transforms_y_dynamic\n",
    "    for category, img_files in getImagesPaths(root_path):\n",
    "        # Only the green lens image\n",
    "        img = pil.Image.open(img_files[-1]) \n",
    "        if transforms_x_static != None:\n",
    "          img = transforms_x_static(img)\n",
    "        if transforms_y_static != None:\n",
    "          category = transforms_y_static(category)\n",
    "        self.dataset.append((img, category))    "
   ]
  },
  {
   "cell_type": "markdown",
   "metadata": {
    "colab_type": "text",
    "id": "vRqFvAHwvVTl"
   },
   "source": [
    "**Preprocess Data**"
   ]
  },
  {
   "cell_type": "markdown",
   "metadata": {
    "colab_type": "text",
    "id": "UOI_JvcCe0cR"
   },
   "source": [
    "Convert pytorch tensor to numpy array."
   ]
  },
  {
   "cell_type": "code",
   "execution_count": 7,
   "metadata": {
    "colab": {},
    "colab_type": "code",
    "id": "OKxTUFnkezdb"
   },
   "outputs": [],
   "source": [
    "def to_numpy(x):\n",
    "  return x.cpu().detach().numpy()"
   ]
  },
  {
   "cell_type": "markdown",
   "metadata": {
    "colab_type": "text",
    "id": "TmnrMN5BmHRg"
   },
   "source": [
    "Data transformations for the test and training sets."
   ]
  },
  {
   "cell_type": "code",
   "execution_count": 8,
   "metadata": {
    "colab": {},
    "colab_type": "code",
    "id": "_hBCnG-fvwjB"
   },
   "outputs": [],
   "source": [
    "norm_mean = [0.485, 0.456, 0.406]\n",
    "norm_std = [0.229, 0.224, 0.225]\n",
    "\n",
    "transforms_train = tv.transforms.Compose([\n",
    "    tv.transforms.RandomAffine(degrees  = 45, translate = None, scale = (1., 2.), shear = 30),\n",
    "    # tv.transforms.CenterCrop(CROP_SIZE),\n",
    "    tv.transforms.Resize(IMAGE_SIZE),\n",
    "    tv.transforms.RandomHorizontalFlip(),\n",
    "    tv.transforms.ToTensor(),\n",
    "    tv.transforms.Lambda(lambda t: t.cuda()),\n",
    "    tv.transforms.Normalize(mean=norm_mean, std=norm_std)    \n",
    "])\n",
    "\n",
    "transforms_test = tv.transforms.Compose([\n",
    "    # tv.transforms.CenterCrop(CROP_SIZE),\n",
    "    tv.transforms.Resize(IMAGE_SIZE),\n",
    "    tv.transforms.ToTensor(),\n",
    "    tv.transforms.Normalize(mean=norm_mean, std=norm_std)    \n",
    "])\n",
    "\n",
    "y_transform = tv.transforms.Lambda(lambda y: t.tensor(y, dtype=t.long, device = 'cuda:0'))"
   ]
  },
  {
   "cell_type": "markdown",
   "metadata": {
    "colab_type": "text",
    "id": "5ky8gX31q-NW"
   },
   "source": [
    "Initialize pytorch datasets and loaders for training and test."
   ]
  },
  {
   "cell_type": "code",
   "execution_count": 9,
   "metadata": {
    "colab": {},
    "colab_type": "code",
    "id": "2hqOyTVGnjjy"
   },
   "outputs": [],
   "source": [
    "def create_loaders(dataset_class):\n",
    "  dataset_train = dataset_class(TRAIN_PATH, transforms_x_dynamic = transforms_train, transforms_y_dynamic = y_transform)\n",
    "  dataset_test = dataset_class(TEST_PATH, transforms_x_static = transforms_test, \n",
    "                                                transforms_x_dynamic = tv.transforms.Lambda(lambda t: t.cuda()), transforms_y_dynamic = y_transform)\n",
    "\n",
    "  loader_train = DataLoader(dataset_train, BATCH_SIZE, shuffle = True, num_workers = 0)\n",
    "  loader_test = DataLoader(dataset_test, BATCH_SIZE, shuffle = False, num_workers = 0)\n",
    "  return loader_train, loader_test, len(dataset_train), len(dataset_test)"
   ]
  },
  {
   "cell_type": "code",
   "execution_count": 10,
   "metadata": {
    "colab": {},
    "colab_type": "code",
    "id": "Un_LZV7KqFCn"
   },
   "outputs": [],
   "source": [
    "loader_train_simple_img, loader_test_simple_img, len_train, len_test = create_loaders(SimpleImagesDataset)"
   ]
  },
  {
   "cell_type": "markdown",
   "metadata": {
    "colab_type": "text",
    "id": "yIcoJBpn0jZ8"
   },
   "source": [
    "**Visualize Data**"
   ]
  },
  {
   "cell_type": "markdown",
   "metadata": {
    "colab_type": "text",
    "id": "ARRQsL2drbzv"
   },
   "source": [
    "Load a few images so that we can see the efects of the data augmentation on the training set."
   ]
  },
  {
   "cell_type": "code",
   "execution_count": 11,
   "metadata": {
    "colab": {},
    "colab_type": "code",
    "id": "mDi25EAxrSal"
   },
   "outputs": [],
   "source": [
    "def plot_one_prediction(x, label, pred):  \n",
    "  x, label, pred = to_numpy(x), to_numpy(label), to_numpy(pred)\n",
    "  x = np.transpose(x, [1, 2, 0])\n",
    "  if x.shape[-1] == 1:\n",
    "    x = x.squeeze()\n",
    "  x = x * np.array(norm_std) + np.array(norm_mean)\n",
    "  plt.title(label, color = 'green' if label == pred else 'red')\n",
    "  plt.imshow(x)\n",
    "\n",
    "def plot_predictions(imgs, labels, preds):  \n",
    "  fig = plt.figure(figsize = (20, 5))\n",
    "  for i in range(20):\n",
    "    fig.add_subplot(2, 10, i + 1, xticks = [], yticks = [])\n",
    "    plot_one_prediction(imgs[i], labels[i], preds[i])"
   ]
  },
  {
   "cell_type": "code",
   "execution_count": 12,
   "metadata": {
    "colab": {},
    "colab_type": "code",
    "id": "Q0jkeNIVrVf3"
   },
   "outputs": [],
   "source": [
    "# x, y = next(iter(loader_train_simple_img))\n",
    "# for i in range(7):\n",
    "#   plot_predictions(x[i], y, y)"
   ]
  },
  {
   "cell_type": "markdown",
   "metadata": {
    "colab_type": "text",
    "id": "teYfBi5v0yuj"
   },
   "source": [
    "**Model**"
   ]
  },
  {
   "cell_type": "code",
   "execution_count": 13,
   "metadata": {
    "colab": {},
    "colab_type": "code",
    "id": "3rQm0JTXsLOO"
   },
   "outputs": [],
   "source": [
    "def get_res_next_101():\n",
    "  model = t.hub.load('facebookresearch/WSL-Images', 'resnext101_32x8d_wsl')\n",
    "  model.fc.out_features = 4\n",
    "  model = model.cuda()\n",
    "  return model"
   ]
  },
  {
   "cell_type": "code",
   "execution_count": 14,
   "metadata": {
    "colab": {
     "base_uri": "https://localhost:8080/",
     "height": 69
    },
    "colab_type": "code",
    "executionInfo": {
     "elapsed": 5422,
     "status": "ok",
     "timestamp": 1579042573434,
     "user": {
      "displayName": "Vlad Danaila",
      "photoUrl": "",
      "userId": "16049478229633186858"
     },
     "user_tz": -120
    },
    "id": "DRM168aEuTid",
    "outputId": "489e975e-7a63-41ab-821e-51b4597f6117"
   },
   "outputs": [
    {
     "name": "stderr",
     "output_type": "stream",
     "text": [
      "Using cache found in /root/.cache/torch/hub/facebookresearch_WSL-Images_master\n"
     ]
    }
   ],
   "source": [
    "model_simple = t.nn.DataParallel(get_res_next_101())"
   ]
  },
  {
   "cell_type": "markdown",
   "metadata": {
    "colab_type": "text",
    "id": "eVNbPOX31_rS"
   },
   "source": [
    "**Train & Evaluate**"
   ]
  },
  {
   "cell_type": "markdown",
   "metadata": {
    "colab_type": "text",
    "id": "6G1HQmJ1vJt8"
   },
   "source": [
    "Timer utility function. This is used to measure the execution speend."
   ]
  },
  {
   "cell_type": "code",
   "execution_count": 15,
   "metadata": {
    "colab": {},
    "colab_type": "code",
    "id": "77HDFtMd1Ra_"
   },
   "outputs": [],
   "source": [
    "time_start = 0\n",
    "\n",
    "def timer_start():\n",
    "  global time_start\n",
    "  time_start = time.time()\n",
    "\n",
    "def timer_end():\n",
    "  return time.time() - time_start"
   ]
  },
  {
   "cell_type": "markdown",
   "metadata": {
    "colab_type": "text",
    "id": "2ZE3UqwMvbfM"
   },
   "source": [
    "This function trains the network and e valuates it at the same time. It outputs the metrics recorder during the training for both train and test. We are measuring accuracy and the loss. The function also saves a checkpoint of the model every time the accuracy is imporved. In the end we will have a checkpoint of the model which gave the best accuracy."
   ]
  },
  {
   "cell_type": "code",
   "execution_count": 16,
   "metadata": {
    "colab": {},
    "colab_type": "code",
    "id": "FwUA4abu2pRe"
   },
   "outputs": [],
   "source": [
    "def train_eval(optimizer, model, loader_train, loader_test, chekpoint_name, epochs):\n",
    "  metrics = {\n",
    "      'losses_train': [],\n",
    "      'losses_test': [],\n",
    "\n",
    "      'acc_train': [],\n",
    "      'acc_test': [],\n",
    "\n",
    "      'prec_train': [],\n",
    "      'prec_test': [],\n",
    "\n",
    "      'rec_train': [],\n",
    "      'rec_test': [],\n",
    "\n",
    "      'f_score_train': [],\n",
    "      'f_score_test': [],\n",
    "\n",
    "      'mean_class_acc_train': [],\n",
    "      'mean_class_acc_test': []  \n",
    "  }\n",
    "\n",
    "  best_mean_acc = 0\n",
    "  \n",
    "  loss_weights = t.tensor([1/4] * 4, device='cuda:0')\n",
    "    \n",
    "  try:  \n",
    "    for epoch in range(epochs):\n",
    "      timer_start()\n",
    "      loss_fn = t.nn.CrossEntropyLoss(weight = loss_weights)\n",
    "      # loss_fn = t.nn.CrossEntropyLoss()\n",
    "      # loss_fn = FocalLoss(gamma = 2)\n",
    "      train_epoch_loss, train_epoch_acc, train_epoch_precision, train_epoch_recall, train_epoch_f_score = 0, 0, 0, 0, 0\n",
    "      test_epoch_loss, test_epoch_acc, test_epoch_precision, test_epoch_recall, test_epoch_f_score = 0, 0, 0, 0, 0\n",
    "\n",
    "      # Train\n",
    "      model.train()\n",
    "      conf_matrix = np.zeros((4, 4))\n",
    "      for x, y in loader_train:\n",
    "        y_pred = model.forward(x)\n",
    "        y_pred = y_pred.narrow(1, 0, 4)\n",
    "        loss = loss_fn(y_pred, y)\n",
    "        loss.backward()\n",
    "        optimizer.step()\n",
    "#         memory_stats()\n",
    "        optimizer.zero_grad()\n",
    "        y_pred, y = to_numpy(y_pred), to_numpy(y)\n",
    "        pred = y_pred.argmax(axis = 1)\n",
    "        ratio = len(y) / len_train\n",
    "        train_epoch_loss += (loss.item() * ratio)\n",
    "        train_epoch_acc += (sk.metrics.accuracy_score(y, pred) * ratio)\n",
    "        precision, recall, f_score, _ = sk.metrics.precision_recall_fscore_support(y, pred, average = 'macro')\n",
    "        train_epoch_precision += (precision * ratio)\n",
    "        train_epoch_recall += (recall * ratio)\n",
    "        train_epoch_f_score += (f_score * ratio)\n",
    "        conf_matrix += sk.metrics.confusion_matrix(y, pred, labels = list(range(4)))\n",
    "      class_acc = [conf_matrix[i][i] / sum(conf_matrix[i]) for i in range(len(conf_matrix))]\n",
    "      mean_class_acc = statistics.harmonic_mean(class_acc)\n",
    "      errors = [1 - conf_matrix[i][i] / sum(conf_matrix[i]) for i in range(len(conf_matrix))]\n",
    "      errors_strong = [math.exp(100 * e) for e in errors]\n",
    "      loss_weights = t.tensor([e / sum(errors_strong) for e in errors_strong], device = 'cuda:0')\n",
    "      metrics['losses_train'].append(train_epoch_loss)\n",
    "      metrics['acc_train'].append(train_epoch_acc)\n",
    "      metrics['prec_train'].append(train_epoch_precision)\n",
    "      metrics['rec_train'].append(train_epoch_recall)\n",
    "      metrics['f_score_train'].append(train_epoch_f_score)\n",
    "      metrics['mean_class_acc_train'].append(mean_class_acc) \n",
    "\n",
    "      # Evaluate\n",
    "      model.eval()\n",
    "      with t.no_grad():\n",
    "        conf_matrix_test = np.zeros((4, 4))\n",
    "        for x, y in loader_test:\n",
    "          y_pred = model.forward(x)\n",
    "          y_pred = y_pred.narrow(1, 0, 4)\n",
    "          loss = loss_fn(y_pred, y)\n",
    "          y_pred, y = to_numpy(y_pred), to_numpy(y)\n",
    "          pred = y_pred.argmax(axis = 1)\n",
    "          ratio = len(y) / len_test\n",
    "          test_epoch_loss += (loss * ratio)\n",
    "          test_epoch_acc += (sk.metrics.accuracy_score(y, pred) * ratio )\n",
    "          precision, recall, f_score, _ = sk.metrics.precision_recall_fscore_support(y, pred, average = 'macro')\n",
    "          test_epoch_precision += (precision * ratio)\n",
    "          test_epoch_recall += (recall * ratio)\n",
    "          test_epoch_f_score += (f_score * ratio)\n",
    "          conf_matrix_test += sk.metrics.confusion_matrix(y, pred, labels = list(range(4)))\n",
    "        class_acc_test = [conf_matrix_test[i][i] / sum(conf_matrix_test[i]) for i in range(len(conf_matrix_test))]\n",
    "        mean_class_acc_test = statistics.harmonic_mean(class_acc_test)\n",
    "        metrics['losses_test'].append(test_epoch_loss)\n",
    "        metrics['acc_test'].append(test_epoch_acc)\n",
    "        metrics['prec_test'].append(test_epoch_precision)\n",
    "        metrics['rec_test'].append(test_epoch_recall)\n",
    "        metrics['f_score_test'].append(test_epoch_f_score)\n",
    "        metrics['mean_class_acc_test'].append(mean_class_acc_test) \n",
    "      \n",
    "      if metrics['mean_class_acc_test'][-1] > best_mean_acc:\n",
    "        best_mean_acc = metrics['mean_class_acc_test'][-1]\n",
    "        t.save({'model': model.state_dict()}, 'checkpint {}.tar'.format(chekpoint_name))\n",
    "      print('Epoch {} mean class acc {} acc {} prec {} rec {} f {} minutes {}'.format(\n",
    "        epoch + 1, metrics['mean_class_acc_test'][-1], metrics['acc_test'][-1], metrics['prec_test'][-1], metrics['rec_test'][-1], metrics['f_score_test'][-1], timer_end() / 60))\n",
    "  except KeyboardInterrupt as e:\n",
    "    print(e)  \n",
    "  print('Ended training')\n",
    "  return metrics"
   ]
  },
  {
   "cell_type": "markdown",
   "metadata": {
    "colab_type": "text",
    "id": "BPznZeFDxhtA"
   },
   "source": [
    "Plot a metric for both train and test."
   ]
  },
  {
   "cell_type": "code",
   "execution_count": 17,
   "metadata": {
    "colab": {},
    "colab_type": "code",
    "id": "4QjYASRPRnIr"
   },
   "outputs": [],
   "source": [
    "def plot_train_test(train, test, title, y_title):\n",
    "    plt.plot(range(len(train)), train, label = 'train')\n",
    "    plt.plot(range(len(test)), test, label = 'test')\n",
    "    plt.xlabel('Epochs')\n",
    "    plt.ylabel(y_title)\n",
    "    plt.title(title)\n",
    "    plt.legend()\n",
    "    plt.show()"
   ]
  },
  {
   "cell_type": "code",
   "execution_count": 18,
   "metadata": {
    "colab": {},
    "colab_type": "code",
    "id": "IhqQNSnDJpX4"
   },
   "outputs": [],
   "source": [
    "def plot_precision_recall(metrics):\n",
    "    plt.scatter(metrics['prec_train'], metrics['rec_train'], label = 'train')\n",
    "    plt.scatter(metrics['prec_test'], metrics['rec_test'], label = 'test')\n",
    "    plt.legend()\n",
    "    plt.title('Precision-Recall')\n",
    "    plt.xlabel('Precision')\n",
    "    plt.ylabel('Recall')"
   ]
  },
  {
   "cell_type": "markdown",
   "metadata": {
    "colab_type": "text",
    "id": "T8adJjmiCHs6"
   },
   "source": [
    "Train a model for several epochs. The steps_learning parameter is a list of tuples. Each tuple specifies the steps and the learning rate."
   ]
  },
  {
   "cell_type": "code",
   "execution_count": 19,
   "metadata": {
    "colab": {},
    "colab_type": "code",
    "id": "1jO6UBhaP926"
   },
   "outputs": [],
   "source": [
    "def do_train(model, loader_train, loader_test, checkpoint_name, steps_learning):\n",
    "  t.cuda.empty_cache()\n",
    "  for steps, learn_rate in steps_learning:\n",
    "    metrics = train_eval(t.optim.Adam(model.parameters(), lr = learn_rate, weight_decay = 0), model, loader_train, loader_test, checkpoint_name, steps)\n",
    "    \n",
    "    index_max = np.array(metrics['mean_class_acc_test']).argmax()\n",
    "    print('Best mean class accuracy :', metrics['mean_class_acc_test'][index_max])\n",
    "    print('Best test accuracy :', metrics['acc_test'][index_max])\n",
    "    print('Corresponding precision :', metrics['prec_test'][index_max])\n",
    "    print('Corresponding recall :', metrics['rec_test'][index_max])\n",
    "    print('Corresponding f1 score :', metrics['f_score_test'][index_max])\n",
    "\n",
    "    plot_train_test(metrics['mean_class_acc_train'], metrics['mean_class_acc_test'], 'Mean Class Accuracy (lr = {})'.format(learn_rate), 'Mean Class Accuracy')\n",
    "    plot_train_test(metrics['losses_train'], metrics['losses_test'], 'Loss (lr = {})'.format(learn_rate), 'Loss')\n",
    "    plot_train_test(metrics['acc_train'], metrics['acc_test'], 'Accuracy (lr = {})'.format(learn_rate), 'Accuracy')\n",
    "    plot_train_test(metrics['prec_train'], metrics['prec_test'], 'Precision (lr = {})'.format(learn_rate), 'Precision')\n",
    "    plot_train_test(metrics['rec_train'], metrics['rec_test'], 'Recall (lr = {})'.format(learn_rate), 'Recall')\n",
    "    plot_train_test(metrics['f_score_train'], metrics['f_score_test'], 'F1 Score (lr = {})'.format(learn_rate), 'F1 Score')\n",
    "    plot_precision_recall(metrics)"
   ]
  },
  {
   "cell_type": "markdown",
   "metadata": {
    "colab_type": "text",
    "id": "Q91nZ33rCryC"
   },
   "source": [
    "Perform actual training"
   ]
  },
  {
   "cell_type": "code",
   "execution_count": 20,
   "metadata": {
    "colab": {
     "base_uri": "https://localhost:8080/",
     "height": 1000
    },
    "colab_type": "code",
    "executionInfo": {
     "elapsed": 1665967,
     "status": "ok",
     "timestamp": 1579044234046,
     "user": {
      "displayName": "Vlad Danaila",
      "photoUrl": "",
      "userId": "16049478229633186858"
     },
     "user_tz": -120
    },
    "id": "BA2tEyFmCybQ",
    "outputId": "0623296d-169d-4c80-8599-906849f5e21d",
    "scrolled": false
   },
   "outputs": [
    {
     "name": "stderr",
     "output_type": "stream",
     "text": [
      "/usr/local/lib/python3.6/dist-packages/sklearn/metrics/_classification.py:1272: UndefinedMetricWarning: Recall and F-score are ill-defined and being set to 0.0 in labels with no true samples. Use `zero_division` parameter to control this behavior.\n",
      "  _warn_prf(average, modifier, msg_start, len(result))\n",
      "/usr/local/lib/python3.6/dist-packages/sklearn/metrics/_classification.py:1272: UndefinedMetricWarning: Precision and F-score are ill-defined and being set to 0.0 in labels with no predicted samples. Use `zero_division` parameter to control this behavior.\n",
      "  _warn_prf(average, modifier, msg_start, len(result))\n",
      "/usr/lib/python3.6/statistics.py:356: RuntimeWarning: divide by zero encountered in double_scalars\n",
      "  T, total, count = _sum(1/x for x in _fail_neg(data, errmsg))\n"
     ]
    },
    {
     "name": "stdout",
     "output_type": "stream",
     "text": [
      "Epoch 1 mean class acc 0.0 acc 0.3958333333333333 prec 0.26681998556998554 rec 0.21620370370370373 f 0.21445924001323502 minutes 0.7411584774653117\n",
      "Epoch 2 mean class acc 0.0 acc 0.5416666666666666 prec 0.379458648989899 rec 0.3670138888888889 f 0.34300213565234705 minutes 0.600404159228007\n",
      "Epoch 3 mean class acc 0.0 acc 0.30833333333333335 prec 0.2592592592592593 rec 0.2451388888888889 f 0.21125286579873903 minutes 0.5864294608434041\n",
      "Epoch 4 mean class acc 0.0 acc 0.25 prec 0.125 rec 0.20833333333333334 f 0.15211640211640215 minutes 0.586010750134786\n",
      "Epoch 5 mean class acc 0.0 acc 0.525 prec 0.4077932098765432 rec 0.4350694444444444 f 0.3789778391227666 minutes 0.5899236877759297\n",
      "Epoch 6 mean class acc 0.0 acc 0.25 prec 0.125 rec 0.20833333333333334 f 0.15624999999999997 minutes 0.5904175599416097\n",
      "Epoch 7 mean class acc 0.0 acc 0.26666666666666666 prec 0.13762626262626262 rec 0.21759259259259262 f 0.16280016280016282 minutes 0.5890061616897583\n",
      "Epoch 8 mean class acc 0.0 acc 0.5708333333333333 prec 0.3425751879699248 rec 0.38663194444444443 f 0.3437463858058226 minutes 0.5893251339594523\n",
      "Epoch 9 mean class acc 0.0 acc 0.2833333333333333 prec 0.2986111111111111 rec 0.22986111111111113 f 0.19446105794790003 minutes 0.5917795419692993\n",
      "Epoch 10 mean class acc 0.0 acc 0.32500000000000007 prec 0.18683862433862433 rec 0.21574074074074073 f 0.1832164489727515 minutes 0.5965721607208252\n",
      "Epoch 11 mean class acc 0.0 acc 0.475 prec 0.30246195330969267 rec 0.2876736111111111 f 0.2617691439986216 minutes 0.5987138986587525\n",
      "Epoch 12 mean class acc 0.0 acc 0.32083333333333336 prec 0.3043678522133491 rec 0.21354166666666666 f 0.19994656340217634 minutes 0.5916843851407368\n",
      "Epoch 13 mean class acc 0.0 acc 0.32500000000000007 prec 0.19600769600769602 rec 0.21574074074074073 f 0.18529093736259936 minutes 0.5866082350413004\n",
      "Epoch 14 mean class acc 0.0 acc 0.25416666666666665 prec 0.2300170068027211 rec 0.21180555555555558 f 0.15969949613007117 minutes 0.5863381544748942\n",
      "Epoch 15 mean class acc 0.5172151559780426 acc 0.5833333333333334 prec 0.3956663995726496 rec 0.2914930555555556 f 0.30590117410769585 minutes 0.5922274112701416\n",
      "Epoch 16 mean class acc 0.16377171215880892 acc 0.3708333333333334 prec 0.3818257923324368 rec 0.2013888888888889 f 0.20876225841000393 minutes 0.5933165152867635\n",
      "Epoch 17 mean class acc 0.05357900781464559 acc 0.42083333333333334 prec 0.4042887667887668 rec 0.26585648148148144 f 0.2425026956095481 minutes 0.5922306140263875\n",
      "Epoch 18 mean class acc 0.08018912529550827 acc 0.31250000000000006 prec 0.4253754516711834 rec 0.22858796296296297 f 0.2434578339532535 minutes 0.586111291249593\n",
      "Epoch 19 mean class acc 0.056622851365015166 acc 0.5166666666666666 prec 0.47700932224741754 rec 0.32123842592592594 f 0.29497977422740435 minutes 0.6005827864011128\n",
      "Epoch 20 mean class acc 0.13192526401299756 acc 0.36250000000000004 prec 0.543969419919268 rec 0.23217592592592595 f 0.2299854417254293 minutes 0.5912007570266724\n",
      "Epoch 21 mean class acc 0.17987152034261242 acc 0.3916666666666667 prec 0.3237214631129105 rec 0.2440393518518519 f 0.23168229753051184 minutes 0.5926749587059021\n",
      "Epoch 22 mean class acc 0.27989821882951654 acc 0.5875000000000001 prec 0.4022246925779535 rec 0.33524305555555556 f 0.31874481003255917 minutes 0.5904508630434672\n",
      "Epoch 23 mean class acc 0.2557710269981764 acc 0.4416666666666667 prec 0.3821997122435719 rec 0.2716435185185185 f 0.26638063201145495 minutes 0.5911170840263367\n",
      "Epoch 24 mean class acc 0.13966466146166645 acc 0.3875 prec 0.3369335637480799 rec 0.28159722222222217 f 0.27326695960098535 minutes 0.5877564072608947\n",
      "Epoch 25 mean class acc 0.11478412559965111 acc 0.5375000000000001 prec 0.3454082317306955 rec 0.3287615740740741 f 0.3031425759225676 minutes 0.5873554150263468\n",
      "Epoch 26 mean class acc 0.19493670886075948 acc 0.4666666666666667 prec 0.41993312757201645 rec 0.30185185185185187 f 0.3042740568147072 minutes 0.5913314739863078\n",
      "Epoch 27 mean class acc 0.29199812821712684 acc 0.3708333333333333 prec 0.3042473772275601 rec 0.17604166666666665 f 0.2020564634833909 minutes 0.5945446491241455\n",
      "Epoch 28 mean class acc 0.13127051101734646 acc 0.37500000000000006 prec 0.27910605002389993 rec 0.19878472222222224 f 0.19116897645583059 minutes 0.5961787303288778\n",
      "Epoch 29 mean class acc 0.3151082560076136 acc 0.575 prec 0.46617523271935035 rec 0.3355324074074074 f 0.33383919779674887 minutes 0.5949634273846944\n",
      "Epoch 30 mean class acc 0.37654931673221853 acc 0.4833333333333333 prec 0.33398136226800024 rec 0.2528356481481482 f 0.2698078187325707 minutes 0.593742569287618\n",
      "Epoch 31 mean class acc 0.2551453260015711 acc 0.4833333333333334 prec 0.3932043650793651 rec 0.3286458333333333 f 0.31804025250327794 minutes 0.5904858628908793\n",
      "Epoch 32 mean class acc 0.26772399100485267 acc 0.49583333333333335 prec 0.43918328825783187 rec 0.2871527777777778 f 0.2858806705679441 minutes 0.5896257162094116\n",
      "Epoch 33 mean class acc 0.3444671470050543 acc 0.4333333333333334 prec 0.3926499330145163 rec 0.24994212962962967 f 0.25935790878689813 minutes 0.592836840947469\n",
      "Epoch 34 mean class acc 0.3118622803747167 acc 0.4708333333333334 prec 0.40293716101905763 rec 0.2903935185185186 f 0.2848826060930701 minutes 0.5936080932617187\n",
      "Epoch 35 mean class acc 0.36185082540065067 acc 0.6000000000000001 prec 0.3536591527042916 rec 0.2777777777777778 f 0.2570111043954423 minutes 0.5887644767761231\n",
      "Epoch 36 mean class acc 0.30065643611702825 acc 0.5291666666666667 prec 0.4548877181779481 rec 0.3101851851851851 f 0.3051854211274502 minutes 0.6002159516016642\n",
      "Epoch 37 mean class acc 0.3964479938018684 acc 0.4458333333333333 prec 0.2918265132139813 rec 0.2242476851851852 f 0.23333151335920077 minutes 0.5865288893381755\n",
      "Epoch 38 mean class acc 0.4300243669880284 acc 0.55 prec 0.36202283508317995 rec 0.32690972222222225 f 0.3083072265933696 minutes 0.5856483578681946\n",
      "Epoch 39 mean class acc 0.4171726697286919 acc 0.5958333333333333 prec 0.46994611668524716 rec 0.3385416666666667 f 0.33602891842786636 minutes 0.5862178047498067\n",
      "Epoch 40 mean class acc 0.48722316865417375 acc 0.5375 prec 0.35340858528072483 rec 0.2763888888888889 f 0.284166121306823 minutes 0.5869500319163005\n",
      "Epoch 41 mean class acc 0.4159542500649857 acc 0.5208333333333334 prec 0.3357816951566952 rec 0.2739583333333333 f 0.2711622308928501 minutes 0.5896337191263835\n",
      "Epoch 42 mean class acc 0.24193548387096775 acc 0.5291666666666667 prec 0.37464080459770116 rec 0.2989583333333333 f 0.2871584560450681 minutes 0.5899900158246358\n",
      "Epoch 43 mean class acc 0.544657356284508 acc 0.5833333333333333 prec 0.3559403559403559 rec 0.28923611111111114 f 0.2973178631673334 minutes 0.6008003393809\n",
      "Epoch 44 mean class acc 0.4858063963938261 acc 0.5791666666666667 prec 0.3318001443001444 rec 0.2813657407407407 f 0.27632145272460756 minutes 0.5931306719779968\n",
      "Epoch 45 mean class acc 0.3584573890504046 acc 0.5583333333333333 prec 0.33249123968998406 rec 0.27997685185185184 f 0.260410880033628 minutes 0.6015903989473979\n",
      "Epoch 46 mean class acc 0.4436229205175601 acc 0.5291666666666667 prec 0.32039777352277354 rec 0.2662615740740741 f 0.26036460241163206 minutes 0.593950112660726\n",
      "Epoch 47 mean class acc 0.4741110417966313 acc 0.5458333333333334 prec 0.30930443164920285 rec 0.2725115740740741 f 0.2630729472857823 minutes 0.5903095523516337\n",
      "Epoch 48 mean class acc 0.4593865030674847 acc 0.5625 prec 0.34363218903026216 rec 0.2949074074074074 f 0.28042286618733037 minutes 0.5899271210034688\n",
      "Epoch 49 mean class acc 0.36099979863068865 acc 0.5666666666666667 prec 0.3642052392052393 rec 0.3006944444444445 f 0.2829525529335006 minutes 0.5941345890363058\n",
      "Epoch 50 mean class acc 0.4767356524291795 acc 0.5875000000000001 prec 0.3413724646363535 rec 0.3050925925925926 f 0.28913870966429495 minutes 0.5915470083554586\n",
      "Epoch 51 mean class acc 0.47945499864773006 acc 0.5708333333333333 prec 0.323613115279782 rec 0.2869212962962963 f 0.28738213315646866 minutes 0.5856711665789286\n",
      "Epoch 52 mean class acc 0.4423941453214846 acc 0.5541666666666666 prec 0.37329049595572583 rec 0.281712962962963 f 0.27224492666638933 minutes 0.5880575021107991\n",
      "Epoch 53 mean class acc 0.4056338028169014 acc 0.5416666666666667 prec 0.3368293304976312 rec 0.28587962962962965 f 0.27337881245589346 minutes 0.6055521527926128\n",
      "Epoch 54 mean class acc 0.4829658536585366 acc 0.5833333333333334 prec 0.3444809941520468 rec 0.30312500000000003 f 0.29118510083486465 minutes 0.5937829732894897\n",
      "Epoch 55 mean class acc 0.4830349680122797 acc 0.5875 prec 0.33276677026677026 rec 0.2914351851851852 f 0.27631982236937824 minutes 0.5891983071962993\n",
      "Epoch 59 mean class acc 0.5305263157894736 acc 0.6083333333333334 prec 0.3339292524790236 rec 0.2984953703703704 f 0.2859166952583141 minutes 0.5904576460520427\n",
      "Epoch 60 mean class acc 0.48457799541044033 acc 0.6125 prec 0.34008423138857924 rec 0.30011574074074077 f 0.28652618155544557 minutes 0.5890422979990642\n",
      "Epoch 61 mean class acc 0.4994617121027956 acc 0.5958333333333334 prec 0.3284235322278801 rec 0.2918981481481482 f 0.2793262234444357 minutes 0.5937867760658264\n",
      "Epoch 62 mean class acc 0.4907437944531216 acc 0.6041666666666667 prec 0.3660896243133086 rec 0.31377314814814816 f 0.3024396686936691 minutes 0.5990885575612386\n",
      "Epoch 63 mean class acc 0.38185550884739466 acc 0.5708333333333334 prec 0.3557823482392448 rec 0.30023148148148154 f 0.2801307542288116 minutes 0.5924927512804667\n",
      "Epoch 64 mean class acc 0.4761220825852783 acc 0.5708333333333334 prec 0.30951003086419754 rec 0.2733217592592593 f 0.2624420112763558 minutes 0.5899996201197306\n",
      "Epoch 65 mean class acc 0.5083664918706685 acc 0.5875 prec 0.33978174603174605 rec 0.28402777777777777 f 0.2824795876842272 minutes 0.5945603966712951\n",
      "Epoch 66 mean class acc 0.4982052665637088 acc 0.6041666666666666 prec 0.3614465915190552 rec 0.3126157407407407 f 0.30046700380208363 minutes 0.5876488367716471\n",
      "Epoch 67 mean class acc 0.4778566122793986 acc 0.6000000000000001 prec 0.37922318221231266 rec 0.32789351851851856 f 0.3132155496399051 minutes 0.5945783694585164\n",
      "Epoch 68 mean class acc 0.4581375613188997 acc 0.5875000000000001 prec 0.3560750340641645 rec 0.3082175925925926 f 0.2912274654849906 minutes 0.5876505255699158\n",
      "Epoch 69 mean class acc 0.4664981036662453 acc 0.5833333333333334 prec 0.356764763014763 rec 0.30520833333333336 f 0.2900843004142418 minutes 0.5904646476109823\n",
      "Epoch 70 mean class acc 0.4664491594106523 acc 0.5875 prec 0.3415186786897313 rec 0.3035879629629629 f 0.2885228684926224 minutes 0.605600635210673\n",
      "Epoch 71 mean class acc 0.48014937708531025 acc 0.6125 prec 0.34780092592592593 rec 0.3082175925925926 f 0.2894378608878863 minutes 0.5881954948107402\n",
      "Epoch 72 mean class acc 0.47096456692913385 acc 0.6000000000000001 prec 0.3492083574320416 rec 0.30949074074074073 f 0.2930826894760466 minutes 0.5884730219841003\n",
      "Epoch 73 mean class acc 0.48337460099639035 acc 0.5666666666666667 prec 0.3097068140121546 rec 0.26984953703703707 f 0.2636574407907826 minutes 0.585180381933848\n",
      "Epoch 74 mean class acc 0.4901821811829299 acc 0.6041666666666667 prec 0.3370834705753184 rec 0.2960648148148148 f 0.2839666096685227 minutes 0.592539930343628\n",
      "Epoch 75 mean class acc 0.4857505759510858 acc 0.5916666666666667 prec 0.3635652793261489 rec 0.3099537037037037 f 0.2988146177103383 minutes 0.5945489366849264\n",
      "Epoch 76 mean class acc 0.46300037411148526 acc 0.5666666666666667 prec 0.3149468458098489 rec 0.2920138888888889 f 0.2819676104794773 minutes 0.5927172025044759\n",
      "Epoch 77 mean class acc 0.4946066303809995 acc 0.6125 prec 0.3794367283950617 rec 0.3149305555555556 f 0.29665229342603544 minutes 0.5901102423667908\n",
      "Epoch 78 mean class acc 0.5165751532112367 acc 0.6083333333333334 prec 0.38029736467236464 rec 0.3193287037037037 f 0.30525978031566775 minutes 0.5900261282920838\n",
      "Epoch 79 mean class acc 0.5023120167309426 acc 0.625 prec 0.38127587991718426 rec 0.319675925925926 f 0.3063755240184378 minutes 0.592741048336029\n",
      "Epoch 80 mean class acc 0.4795881143034552 acc 0.6083333333333333 prec 0.33415889665889664 rec 0.32395833333333335 f 0.3101393854431339 minutes 0.5833521644274394\n",
      "Epoch 81 mean class acc 0.4981786394280856 acc 0.6166666666666668 prec 0.37194749694749696 rec 0.33043981481481477 f 0.317584146441332 minutes 0.5855274756749471\n",
      "Epoch 82 mean class acc 0.5129812622354806 acc 0.6166666666666668 prec 0.38495597870597875 rec 0.31817129629629626 f 0.30438560526451947 minutes 0.5844674110412598\n",
      "Epoch 83 mean class acc 0.46479488503236566 acc 0.5625 prec 0.33363791423001943 rec 0.2891782407407407 f 0.28678929596352765 minutes 0.5852785547574361\n",
      "Epoch 84 mean class acc 0.48794904458598726 acc 0.5791666666666667 prec 0.4227399442453207 rec 0.34722222222222227 f 0.3477682402509207 minutes 0.5852185726165772\n",
      "Epoch 85 mean class acc 0.476131901405119 acc 0.55 prec 0.3692345806905304 rec 0.29444444444444445 f 0.2940008385005313 minutes 0.5859443267186483\n",
      "Epoch 86 mean class acc 0.47773212818405913 acc 0.5666666666666667 prec 0.3595416236670107 rec 0.3090277777777778 f 0.30373546183929895 minutes 0.5858399669329325\n",
      "Epoch 87 mean class acc 0.48205664884541005 acc 0.5625 prec 0.31018518518518523 rec 0.2688078703703704 f 0.26344027639058876 minutes 0.5853937466939291\n",
      "Epoch 88 mean class acc 0.43114030365026385 acc 0.575 prec 0.40797628791383467 rec 0.3443287037037037 f 0.33779841949606726 minutes 0.5852494041124979\n",
      "Epoch 89 mean class acc 0.42171707083216814 acc 0.5291666666666667 prec 0.38413065843621397 rec 0.32372685185185185 f 0.3199207208894417 minutes 0.5860018769900004\n",
      "Epoch 90 mean class acc 0.4174474959612278 acc 0.5166666666666666 prec 0.3750209485503603 rec 0.316087962962963 f 0.3155073381041006 minutes 0.5857558727264405\n",
      "Epoch 91 mean class acc 0.4327402135231317 acc 0.5291666666666667 prec 0.3245425671332816 rec 0.2814814814814815 f 0.2770623887791917 minutes 0.5871894876162211\n",
      "Epoch 92 mean class acc 0.47393778342624415 acc 0.5833333333333333 prec 0.3922325102880659 rec 0.3421296296296297 f 0.3315550678793106 minutes 0.5875154534975687\n",
      "Epoch 93 mean class acc 0.4639405204460966 acc 0.5666666666666668 prec 0.3781754510921178 rec 0.3125 f 0.3050529090742438 minutes 0.5858242829640706\n",
      "Epoch 94 mean class acc 0.4720343123948097 acc 0.5958333333333333 prec 0.4014593491717675 rec 0.3233796296296296 f 0.31237883059686555 minutes 0.5856520215670268\n",
      "Epoch 95 mean class acc 0.47796744472262265 acc 0.6125 prec 0.3687232905982907 rec 0.31128472222222214 f 0.29858511691713724 minutes 0.5856707413991292\n",
      "Epoch 96 mean class acc 0.4796835670622078 acc 0.6208333333333335 prec 0.355534878972379 rec 0.31562499999999993 f 0.3011309127050427 minutes 0.5851877411206563\n",
      "Epoch 97 mean class acc 0.45701271588536724 acc 0.5958333333333333 prec 0.41286576483944903 rec 0.35625 f 0.34373256964745286 minutes 0.5851089318593343\n",
      "Epoch 98 mean class acc 0.47418738049713194 acc 0.6 prec 0.3883165445665445 rec 0.32696759259259256 f 0.3183434348322559 minutes 0.5846747676531474\n",
      "Epoch 99 mean class acc 0.5432913810232118 acc 0.6208333333333333 prec 0.36878640003640006 rec 0.3179398148148148 f 0.31338186297217635 minutes 0.5852883696556092\n",
      "Epoch 100 mean class acc 0.5515577641700234 acc 0.6125 prec 0.37154389826491285 rec 0.3057870370370371 f 0.305538251852824 minutes 0.5929705739021301\n",
      "Epoch 101 mean class acc 0.4794701043410135 acc 0.5791666666666668 prec 0.3642621389331916 rec 0.34826388888888893 f 0.33505427732307785 minutes 0.5842087427775066\n",
      "Epoch 102 mean class acc 0.47191645498165397 acc 0.5666666666666668 prec 0.37162288406567584 rec 0.31574074074074077 f 0.31355034055555864 minutes 0.5852492411931356\n",
      "Epoch 103 mean class acc 0.481548671724951 acc 0.6125 prec 0.4312097423510467 rec 0.3600694444444445 f 0.3493876863868087 minutes 0.5847082297007243\n",
      "Epoch 104 mean class acc 0.48743754977916154 acc 0.5958333333333334 prec 0.3773651368760065 rec 0.32256944444444446 f 0.3139705488416699 minutes 0.5855317354202271\n",
      "Epoch 105 mean class acc 0.3655629139072848 acc 0.575 prec 0.46462521427458325 rec 0.45046296296296295 f 0.4274949443916741 minutes 0.5851564367612203\n",
      "Epoch 106 mean class acc 0.44172485782161114 acc 0.5708333333333334 prec 0.41759791400596 rec 0.34444444444444444 f 0.3422656901841354 minutes 0.5840665976206462\n",
      "Epoch 107 mean class acc 0.4338774395179986 acc 0.5791666666666667 prec 0.369006283068783 rec 0.30185185185185187 f 0.2910660916788368 minutes 0.5832352677981059\n",
      "Epoch 108 mean class acc 0.418732782369146 acc 0.5791666666666667 prec 0.4008907897796786 rec 0.3486111111111111 f 0.3351900530440819 minutes 0.5844628890355428\n",
      "Epoch 109 mean class acc 0.4864308413027586 acc 0.5666666666666667 prec 0.39583333333333337 rec 0.3276041666666667 f 0.3290853921163081 minutes 0.5854986548423767\n",
      "Epoch 110 mean class acc 0.5094507669470559 acc 0.5875000000000001 prec 0.3747228057889822 rec 0.3075231481481482 f 0.3045564971418058 minutes 0.5863563934961955\n",
      "Epoch 111 mean class acc 0.45541732509696886 acc 0.5791666666666666 prec 0.4107249962513121 rec 0.30740740740740746 f 0.30407680697432593 minutes 0.5864633758862813\n",
      "Epoch 112 mean class acc 0.526600117439812 acc 0.6041666666666667 prec 0.39866284775558974 rec 0.35381944444444446 f 0.3450915431734011 minutes 0.5849395593007406\n",
      "Epoch 113 mean class acc 0.5121921921921923 acc 0.5416666666666667 prec 0.3458227151376465 rec 0.2748263888888889 f 0.28460860001950083 minutes 0.5842200915018717\n",
      "Epoch 114 mean class acc 0.5001779860874208 acc 0.5583333333333333 prec 0.3475268031189084 rec 0.2816550925925926 f 0.2848966424726214 minutes 0.5852814157803853\n",
      "Epoch 115 mean class acc 0.4765957446808511 acc 0.5916666666666667 prec 0.36219898792998206 rec 0.30491898148148144 f 0.2994933672017006 minutes 0.5863977432250976\n",
      "Epoch 116 mean class acc 0.46908115164261366 acc 0.5833333333333334 prec 0.38769281233998976 rec 0.3315972222222222 f 0.3264478232940299 minutes 0.5890806794166565\n",
      "Epoch 117 mean class acc 0.5093302361595045 acc 0.5875000000000001 prec 0.3306447554672485 rec 0.28587962962962965 f 0.2797913871742957 minutes 0.5894194722175599\n",
      "Epoch 118 mean class acc 0.4655203337622334 acc 0.5791666666666667 prec 0.3485776886512181 rec 0.2989583333333333 f 0.2895197009780343 minutes 0.587470269203186\n",
      "Epoch 119 mean class acc 0.42614431341195286 acc 0.5833333333333334 prec 0.5136048498117464 rec 0.4549768518518519 f 0.4408804998811135 minutes 0.5852776090304057\n",
      "Epoch 120 mean class acc 0.5307829247487297 acc 0.5916666666666668 prec 0.3683186026936027 rec 0.2982638888888889 f 0.30197143047760655 minutes 0.5845528483390808\n",
      "Epoch 121 mean class acc 0.47300929125393537 acc 0.575 prec 0.36505372350960585 rec 0.29942129629629627 f 0.29821186155438617 minutes 0.5846937457720439\n",
      "Epoch 122 mean class acc 0.3409604693622172 acc 0.5916666666666667 prec 0.3665531517094017 rec 0.30596064814814816 f 0.289430983320978 minutes 0.585949714978536\n",
      "Epoch 123 mean class acc 0.4482151761358637 acc 0.5833333333333335 prec 0.3821726807710264 rec 0.3331597222222222 f 0.327571952501948 minutes 0.5841618935267131\n",
      "Epoch 124 mean class acc 0.4662096167416733 acc 0.5916666666666667 prec 0.3589113181504485 rec 0.3189814814814814 f 0.3038891969280259 minutes 0.5857628464698792\n",
      "Epoch 125 mean class acc 0.472047282240093 acc 0.6041666666666667 prec 0.391181947925369 rec 0.32858796296296294 f 0.31045605044250557 minutes 0.585620371500651\n",
      "Epoch 126 mean class acc 0.4490566037735849 acc 0.5708333333333333 prec 0.5034248074229692 rec 0.44710648148148147 f 0.4421145248675391 minutes 0.5847138365109762\n",
      "Epoch 127 mean class acc 0.4394240428619266 acc 0.5666666666666667 prec 0.3752828555460135 rec 0.3261574074074074 f 0.31979150834191866 minutes 0.5854970932006835\n",
      "Epoch 128 mean class acc 0.4842220344878994 acc 0.6125 prec 0.419268630475527 rec 0.3325231481481481 f 0.3212080568751591 minutes 0.5849248925844829\n",
      "Epoch 129 mean class acc 0.49997992156022864 acc 0.5916666666666667 prec 0.3289609053497942 rec 0.2930555555555556 f 0.2861638155341163 minutes 0.5849722464879353\n",
      "Epoch 130 mean class acc 0.5545922452247511 acc 0.6333333333333333 prec 0.36623380061901306 rec 0.31574074074074077 f 0.30598905036607027 minutes 0.591964852809906\n",
      "Epoch 131 mean class acc 0.5715016860147409 acc 0.6708333333333333 prec 0.3809762286324786 rec 0.33767361111111116 f 0.32087465029337797 minutes 0.5925735235214233\n",
      "Epoch 132 mean class acc 0.5515623568221387 acc 0.6416666666666667 prec 0.39494431025228127 rec 0.3333333333333333 f 0.31781895259439646 minutes 0.5846641381581624\n",
      "Epoch 133 mean class acc 0.515625 acc 0.5791666666666666 prec 0.3795387617451195 rec 0.32309027777777777 f 0.3280485736725285 minutes 0.5862269481023152\n",
      "Epoch 134 mean class acc 0.4368 acc 0.5583333333333333 prec 0.34924882886839415 rec 0.281712962962963 f 0.2794288599818203 minutes 0.5848453084627787\n",
      "Epoch 135 mean class acc 0.4658822864729728 acc 0.5833333333333334 prec 0.39822197974371887 rec 0.3210648148148148 f 0.31647266745948766 minutes 0.5865122318267822\n",
      "Epoch 136 mean class acc 0.5009789316875931 acc 0.5916666666666667 prec 0.3575868067556047 rec 0.32910879629629625 f 0.320531422641954 minutes 0.5847364981969198\n",
      "Epoch 137 mean class acc 0.48843207252015564 acc 0.5916666666666668 prec 0.3199040001099498 rec 0.29427083333333337 f 0.2838785110131512 minutes 0.5850990136464437\n",
      "Epoch 138 mean class acc 0.48082901554404145 acc 0.5958333333333334 prec 0.37890812890812886 rec 0.32407407407407407 f 0.31321629759129754 minutes 0.5845118920008342\n",
      "Epoch 139 mean class acc 0.5099866250557289 acc 0.6000000000000001 prec 0.35441244816244816 rec 0.3022569444444445 f 0.29505681275831297 minutes 0.5844661513964335\n",
      "Epoch 140 mean class acc 0.5155287574395093 acc 0.5875 prec 0.33825790075790074 rec 0.2887731481481482 f 0.28406968782394 minutes 0.5823161840438843\n",
      "Epoch 141 mean class acc 0.4650708353688324 acc 0.5541666666666667 prec 0.40442464523346877 rec 0.33472222222222225 f 0.336441442975698 minutes 0.5841535647710164\n",
      "Epoch 142 mean class acc 0.5079810426540284 acc 0.6166666666666667 prec 0.3421369465730098 rec 0.3045717592592593 f 0.2900092259253338 minutes 0.5862115542093913\n",
      "Epoch 143 mean class acc 0.5424657534246575 acc 0.6208333333333335 prec 0.3383815761533153 rec 0.2931712962962963 f 0.28965889179925264 minutes 0.5895215392112731\n",
      "Epoch 144 mean class acc 0.5072114095758941 acc 0.5958333333333333 prec 0.3355429292929293 rec 0.3040509259259259 f 0.2988350211163679 minutes 0.587074613571167\n",
      "Epoch 145 mean class acc 0.523508507091864 acc 0.6125 prec 0.3654885456944954 rec 0.32592592592592595 f 0.3225020486925249 minutes 0.5843613704045614\n",
      "Epoch 146 mean class acc 0.45705805972917823 acc 0.5875 prec 0.34555041152263377 rec 0.30150462962962965 f 0.29361505055949505 minutes 0.5848722418149312\n",
      "Epoch 147 mean class acc 0.4352895140818927 acc 0.5208333333333334 prec 0.32417541389315585 rec 0.2712962962962963 f 0.2718370046410193 minutes 0.5858087380727132\n",
      "Epoch 148 mean class acc 0.512531297459262 acc 0.5875 prec 0.34828317901234573 rec 0.28877314814814814 f 0.2874770203177588 minutes 0.5852070728937785\n",
      "Epoch 149 mean class acc 0.5401929260450161 acc 0.625 prec 0.33551198257080606 rec 0.3011574074074074 f 0.2933562510148987 minutes 0.5853073795636495\n",
      "Epoch 150 mean class acc 0.5091102540231414 acc 0.6083333333333334 prec 0.3565641534391535 rec 0.3108796296296296 f 0.3052721161564041 minutes 0.5869843324025472\n",
      "Epoch 151 mean class acc 0.5050644473764335 acc 0.5958333333333333 prec 0.3392030423280423 rec 0.29212962962962963 f 0.2870369902982805 minutes 0.5851747274398804\n",
      "Epoch 152 mean class acc 0.46240550755939525 acc 0.5666666666666668 prec 0.35574379324379324 rec 0.2947916666666667 f 0.292440131073172 minutes 0.5856684446334839\n",
      "Epoch 153 mean class acc 0.4846117327907765 acc 0.6041666666666667 prec 0.3551115486879376 rec 0.2952546296296296 f 0.28689822696092127 minutes 0.584243921438853\n",
      "Epoch 154 mean class acc 0.49446076598472305 acc 0.5916666666666667 prec 0.3347091361797244 rec 0.3008101851851852 f 0.29484413454035785 minutes 0.5831836899121602\n",
      "Epoch 155 mean class acc 0.4804976687444643 acc 0.5416666666666667 prec 0.33030987702503045 rec 0.2791666666666667 f 0.2819283691533157 minutes 0.5851993759473165\n",
      "Epoch 156 mean class acc 0.5039214475390601 acc 0.6000000000000001 prec 0.35890652557319225 rec 0.2972800925925926 f 0.2911393468985011 minutes 0.585105562210083\n",
      "Epoch 157 mean class acc 0.4308500375174188 acc 0.5416666666666667 prec 0.3117890585721468 rec 0.2671875 f 0.2610596848909691 minutes 0.5852347572644552\n",
      "Epoch 158 mean class acc 0.49649446494464944 acc 0.6 prec 0.32477130388196696 rec 0.29010416666666666 f 0.28006204048158656 minutes 0.585024631023407\n",
      "Epoch 159 mean class acc 0.49774257825308343 acc 0.6041666666666667 prec 0.35372806620566477 rec 0.3068287037037037 f 0.29882078721339594 minutes 0.5834707101186116\n",
      "Epoch 160 mean class acc 0.43572690619741833 acc 0.5791666666666668 prec 0.3505545210508446 rec 0.2869212962962963 f 0.2763483161420531 minutes 0.583521290620168\n",
      "Epoch 161 mean class acc 0.4546684709066306 acc 0.55 prec 0.32909707092713625 rec 0.27349537037037036 f 0.26910536103758836 minutes 0.5855376720428467\n",
      "Epoch 162 mean class acc 0.47202127659574467 acc 0.5583333333333333 prec 0.3512886215092097 rec 0.29085648148148147 f 0.2928686701240936 minutes 0.5842187205950419\n",
      "Epoch 163 mean class acc 0.46753060163523796 acc 0.5875 prec 0.3224260010517617 rec 0.2863425925925926 f 0.2779013146523356 minutes 0.5866680383682251\n",
      "Epoch 164 mean class acc 0.45154061624649866 acc 0.6166666666666667 prec 0.3741347266737892 rec 0.30572916666666666 f 0.2914144264582974 minutes 0.5855361580848694\n",
      "Epoch 165 mean class acc 0.486793132428863 acc 0.5916666666666667 prec 0.34090777127461913 rec 0.2917824074074074 f 0.2818611310866269 minutes 0.5859319766362509\n",
      "Epoch 166 mean class acc 0.43417913684667103 acc 0.5833333333333334 prec 0.3265050572432039 rec 0.2813657407407407 f 0.272370648412183 minutes 0.5844106753667195\n",
      "Epoch 167 mean class acc 0.504263265210959 acc 0.6 prec 0.33274243472399606 rec 0.29415509259259265 f 0.28828244418334686 minutes 0.5862747232119242\n",
      "Epoch 168 mean class acc 0.3712320200125078 acc 0.5458333333333334 prec 0.3536913029100529 rec 0.29814814814814816 f 0.28880066480872935 minutes 0.5858854254086813\n",
      "Epoch 169 mean class acc 0.3639239153665313 acc 0.5791666666666667 prec 0.34427286387264455 rec 0.29826388888888894 f 0.2821551088722459 minutes 0.583454144001007\n",
      "Epoch 170 mean class acc 0.38560353544811055 acc 0.5458333333333334 prec 0.33277952011150935 rec 0.27928240740740745 f 0.27173691845262615 minutes 0.5862391153971355\n",
      "Epoch 171 mean class acc 0.4773773800834437 acc 0.5916666666666668 prec 0.3584656084656085 rec 0.3037037037037037 f 0.29739568877480094 minutes 0.5839776754379272\n",
      "Epoch 172 mean class acc 0.49314175870719706 acc 0.6083333333333334 prec 0.41564609560299215 rec 0.31296296296296294 f 0.3019637328165292 minutes 0.5854839523633321\n",
      "Epoch 173 mean class acc 0.47675637888850053 acc 0.6041666666666666 prec 0.37739481993514257 rec 0.3103009259259259 f 0.29689411567783375 minutes 0.5848787784576416\n",
      "Epoch 174 mean class acc 0.5162087063908614 acc 0.6000000000000001 prec 0.3719518176755019 rec 0.3208333333333333 f 0.31850174764513334 minutes 0.5851423343022665\n",
      "Epoch 175 mean class acc 0.5351351351351351 acc 0.6166666666666667 prec 0.36274173130790777 rec 0.315625 f 0.3098884248395782 minutes 0.5852842251459758\n",
      "Epoch 176 mean class acc 0.5050879396984924 acc 0.6000000000000001 prec 0.37351190476190477 rec 0.3128472222222222 f 0.30924671542845916 minutes 0.5852739532788594\n",
      "Epoch 177 mean class acc 0.49789747889478436 acc 0.5958333333333333 prec 0.3681423525173525 rec 0.3091435185185185 f 0.3024018478543431 minutes 0.5850417256355286\n",
      "Epoch 178 mean class acc 0.48949172628622817 acc 0.6041666666666667 prec 0.3609717034962133 rec 0.308912037037037 f 0.3044509977045082 minutes 0.5862655242284139\n",
      "Epoch 179 mean class acc 0.4430946291560102 acc 0.575 prec 0.3383688071188071 rec 0.2947916666666667 f 0.2825282706986459 minutes 0.5858163515726725\n",
      "Epoch 180 mean class acc 0.5071459319845028 acc 0.6083333333333334 prec 0.3623603762492652 rec 0.31249999999999994 f 0.3080541054203328 minutes 0.5847878098487854\n",
      "Epoch 181 mean class acc 0.4432632600989004 acc 0.5791666666666667 prec 0.38665961702888696 rec 0.34236111111111106 f 0.3321897477493544 minutes 0.5834956447283427\n",
      "Epoch 182 mean class acc 0.4673374860245967 acc 0.6 prec 0.3936546840958606 rec 0.352662037037037 f 0.34068076312192064 minutes 0.5843957901000977\n",
      "Epoch 183 mean class acc 0.45036875484259764 acc 0.5874999999999999 prec 0.40810834803644147 rec 0.3510416666666667 f 0.34163912984585704 minutes 0.5843563954035441\n",
      "Epoch 184 mean class acc 0.4846117327907765 acc 0.6041666666666667 prec 0.38012721633411295 rec 0.32442129629629624 f 0.31703464797827546 minutes 0.5851197282473246\n",
      "Epoch 185 mean class acc 0.49671828019230463 acc 0.6166666666666667 prec 0.4098891210960177 rec 0.362037037037037 f 0.35196101102963856 minutes 0.5871010939280192\n",
      "Epoch 186 mean class acc 0.5506068848236528 acc 0.6458333333333334 prec 0.40570683401565755 rec 0.35862268518518525 f 0.35134952367020295 minutes 0.5856805801391601\n",
      "Epoch 187 mean class acc 0.4948288533408391 acc 0.6208333333333333 prec 0.3720538720538721 rec 0.32210648148148147 f 0.31253521740216417 minutes 0.586091689268748\n",
      "Epoch 188 mean class acc 0.5043072221526772 acc 0.6125 prec 0.3230361560953666 rec 0.2942708333333333 f 0.2835152739572567 minutes 0.5833739678064982\n",
      "Epoch 189 mean class acc 0.5566621803499326 acc 0.6458333333333334 prec 0.3385309865573024 rec 0.3110532407407408 f 0.30065738408471365 minutes 0.585752534866333\n",
      "Epoch 190 mean class acc 0.5246732673267327 acc 0.6250000000000001 prec 0.3639219576719577 rec 0.3199074074074074 f 0.3125858859802421 minutes 0.5865863005320231\n",
      "Epoch 191 mean class acc 0.5343123411465688 acc 0.6166666666666667 prec 0.372954073993357 rec 0.3291666666666667 f 0.3256583081799107 minutes 0.5870044310887654\n",
      "Epoch 192 mean class acc 0.4722626302339296 acc 0.6083333333333334 prec 0.3773948057573788 rec 0.3298611111111111 f 0.3225485681205155 minutes 0.5857972462972005\n",
      "Epoch 193 mean class acc 0.5617021276595744 acc 0.6458333333333334 prec 0.38181494431494434 rec 0.34444444444444444 f 0.33947488383861046 minutes 0.5842212041219076\n",
      "Epoch 194 mean class acc 0.5187304181991554 acc 0.5916666666666668 prec 0.3690505198180637 rec 0.3075810185185186 f 0.30737225962219084 minutes 0.5858424623807271\n",
      "Epoch 195 mean class acc 0.5153374233128835 acc 0.5958333333333334 prec 0.3283587072649573 rec 0.27725694444444443 f 0.2746982929420406 minutes 0.5861925443013509\n",
      "Epoch 196 mean class acc 0.453950573867451 acc 0.6041666666666667 prec 0.3692956349206349 rec 0.31226851851851856 f 0.3039637751773856 minutes 0.5859127402305603\n",
      "Epoch 197 mean class acc 0.43538535585641536 acc 0.5666666666666668 prec 0.3294105414398064 rec 0.27864583333333337 f 0.2680308372315014 minutes 0.5860070864359538\n",
      "Epoch 198 mean class acc 0.43479955357933714 acc 0.55 prec 0.3721550336084255 rec 0.3185763888888889 f 0.31352220475011244 minutes 0.5849668383598328\n",
      "Epoch 199 mean class acc 0.3581261017966318 acc 0.5166666666666667 prec 0.3674047901989078 rec 0.30410879629629634 f 0.2963451475165211 minutes 0.5872805913289388\n",
      "Epoch 200 mean class acc 0.37892146811564487 acc 0.5625 prec 0.36837004116415883 rec 0.3219328703703704 f 0.3102362316628258 minutes 0.5851505955060323\n",
      "Ended training\n",
      "Best mean class accuracy : 0.5715016860147409\n",
      "Best test accuracy : 0.6708333333333333\n",
      "Corresponding precision : 0.3809762286324786\n",
      "Corresponding recall : 0.33767361111111116\n",
      "Corresponding f1 score : 0.32087465029337797\n"
     ]
    },
    {
     "data": {
      "image/png": "[encoded data removed]",
      "text/plain": [
       "<Figure size 432x288 with 1 Axes>"
      ]
     },
     "metadata": {
      "needs_background": "light"
     },
     "output_type": "display_data"
    },
    {
     "data": {
      "image/png": "[encoded data removed]",
      "text/plain": [
       "<Figure size 432x288 with 1 Axes>"
      ]
     },
     "metadata": {
      "needs_background": "light"
     },
     "output_type": "display_data"
    },
    {
     "data": {
      "image/png": "[encoded data removed]",
      "text/plain": [
       "<Figure size 432x288 with 1 Axes>"
      ]
     },
     "metadata": {
      "needs_background": "light"
     },
     "output_type": "display_data"
    },
    {
     "data": {
      "image/png": "[encoded data removed]",
      "text/plain": [
       "<Figure size 432x288 with 1 Axes>"
      ]
     },
     "metadata": {
      "needs_background": "light"
     },
     "output_type": "display_data"
    },
    {
     "data": {
      "image/png": "[encoded data removed]",
      "text/plain": [
       "<Figure size 432x288 with 1 Axes>"
      ]
     },
     "metadata": {
      "needs_background": "light"
     },
     "output_type": "display_data"
    },
    {
     "data": {
      "image/png": "[encoded data removed]",
      "text/plain": [
       "<Figure size 432x288 with 1 Axes>"
      ]
     },
     "metadata": {
      "needs_background": "light"
     },
     "output_type": "display_data"
    },
    {
     "data": {
      "image/png": "[encoded data removed]",
      "text/plain": [
       "<Figure size 432x288 with 1 Axes>"
      ]
     },
     "metadata": {
      "needs_background": "light"
     },
     "output_type": "display_data"
    }
   ],
   "source": [
    "do_train(model_simple, loader_train_simple_img, loader_test_simple_img, 'wce resnext 101', [(200, 1e-5)])"
   ]
  },
  {
   "cell_type": "code",
   "execution_count": 21,
   "metadata": {
    "colab": {
     "base_uri": "https://localhost:8080/",
     "height": 34
    },
    "colab_type": "code",
    "executionInfo": {
     "elapsed": 1665957,
     "status": "ok",
     "timestamp": 1579044234052,
     "user": {
      "displayName": "Vlad Danaila",
      "photoUrl": "",
      "userId": "16049478229633186858"
     },
     "user_tz": -120
    },
    "id": "ZtSy4STaRbmZ",
    "outputId": "70302a85-5fec-47fd-eb8e-7cb33fb497a4"
   },
   "outputs": [
    {
     "data": {
      "text/plain": [
       "<All keys matched successfully>"
      ]
     },
     "execution_count": 21,
     "metadata": {},
     "output_type": "execute_result"
    }
   ],
   "source": [
    "checkpoint = t.load('checkpint wce resnext 101.tar')\n",
    "model_simple.load_state_dict(checkpoint['model'])"
   ]
  },
  {
   "cell_type": "code",
   "execution_count": 22,
   "metadata": {
    "colab": {},
    "colab_type": "code",
    "id": "ky70BCeqRc2a"
   },
   "outputs": [],
   "source": [
    "def calculate_class_acc_for_test_set(model):\n",
    "  model.eval()\n",
    "  with t.no_grad():\n",
    "    conf_matrix = np.zeros((4, 4))\n",
    "    for x, y in loader_test_simple_img:\n",
    "      y_pred = model.forward(x)\n",
    "      y_pred = y_pred.narrow(1, 0, 4)\n",
    "      y_pred, y = to_numpy(y_pred), to_numpy(y)\n",
    "      pred = y_pred.argmax(axis = 1)\n",
    "      cm = sk.metrics.confusion_matrix(y, pred, labels = list(range(4)))\n",
    "      conf_matrix += cm\n",
    "    print('Confusion matrix:\\n', conf_matrix)\n",
    "    class_acc = [conf_matrix[i][i] / sum(conf_matrix[i]) for i in range(len(conf_matrix))]\n",
    "    print('Class acc:\\n', class_acc)\n",
    "    return class_acc\n",
    "\n",
    "def plot_class_acc(class_acc):\n",
    "  plt.bar(list(range(4)), class_acc, align='center', alpha=0.5)\n",
    "  plt.xticks(list(range(4)), list(range(4)))\n",
    "  plt.xlabel('Classes')\n",
    "  plt.ylabel('True Positive Rate')\n",
    "  plt.savefig('AccPerClass.pdf', dpi = 300, format = 'pdf')\n",
    "  plt.show()\n",
    "\n",
    "def plot_class_acc_comparison(class_acc_1, class_acc_2, title_1, title_2):\n",
    "  width = .3\n",
    "  plt.bar(list(range(4)), class_acc_1, width, alpha=0.5, color = 'green', label = title_1)\n",
    "  plt.bar(np.array(list(range(4))) + width, class_acc_2, width, alpha=0.5, color = 'blue', label = title_2)\n",
    "  plt.xticks(np.array(list(range(4))) + width/2, list(range(4)))\n",
    "  plt.xlabel('Classes')\n",
    "  plt.ylabel('True Positive Rate')\n",
    "  plt.legend()\n",
    "  plt.savefig('ClassAccCompareResNext101.pdf', dpi = 300, format = 'pdf')\n",
    "  plt.show()"
   ]
  },
  {
   "cell_type": "code",
   "execution_count": 23,
   "metadata": {
    "colab": {
     "base_uri": "https://localhost:8080/",
     "height": 400
    },
    "colab_type": "code",
    "executionInfo": {
     "elapsed": 1666357,
     "status": "ok",
     "timestamp": 1579044234473,
     "user": {
      "displayName": "Vlad Danaila",
      "photoUrl": "",
      "userId": "16049478229633186858"
     },
     "user_tz": -120
    },
    "id": "5J-S9dNPRin1",
    "outputId": "5cc4d01c-0751-44d8-94de-27d23ef7309c"
   },
   "outputs": [
    {
     "name": "stdout",
     "output_type": "stream",
     "text": [
      "Confusion matrix:\n",
      " [[57.  0.  1.  2.]\n",
      " [22. 21. 17.  0.]\n",
      " [20.  4. 31.  5.]\n",
      " [ 5.  0.  3. 52.]]\n",
      "Class acc:\n",
      " [0.95, 0.35, 0.5166666666666667, 0.8666666666666667]\n"
     ]
    },
    {
     "data": {
      "image/png": "[encoded data removed]",
      "text/plain": [
       "<Figure size 432x288 with 1 Axes>"
      ]
     },
     "metadata": {
      "needs_background": "light"
     },
     "output_type": "display_data"
    }
   ],
   "source": [
    "class_acc = calculate_class_acc_for_test_set(model_simple)\n",
    "plot_class_acc(class_acc)"
   ]
  },
  {
   "cell_type": "code",
   "execution_count": 24,
   "metadata": {
    "colab": {
     "base_uri": "https://localhost:8080/",
     "height": 452
    },
    "colab_type": "code",
    "executionInfo": {
     "elapsed": 1667516,
     "status": "ok",
     "timestamp": 1579044235644,
     "user": {
      "displayName": "Vlad Danaila",
      "photoUrl": "",
      "userId": "16049478229633186858"
     },
     "user_tz": -120
    },
    "id": "c5rGbcc1RmJL",
    "outputId": "c3cb1949-c304-4dc7-fc04-17d02f83e6ba"
   },
   "outputs": [
    {
     "name": "stderr",
     "output_type": "stream",
     "text": [
      "Using cache found in /root/.cache/torch/hub/facebookresearch_WSL-Images_master\n"
     ]
    },
    {
     "name": "stdout",
     "output_type": "stream",
     "text": [
      "Confusion matrix:\n",
      " [[58.  2.  0.  0.]\n",
      " [18. 30. 12.  0.]\n",
      " [22.  8. 30.  0.]\n",
      " [ 3.  2. 17. 38.]]\n",
      "Class acc:\n",
      " [0.9666666666666667, 0.5, 0.5, 0.6333333333333333]\n"
     ]
    },
    {
     "data": {
      "image/png": "[encoded data removed]",
      "text/plain": [
       "<Figure size 432x288 with 1 Axes>"
      ]
     },
     "metadata": {
      "needs_background": "light"
     },
     "output_type": "display_data"
    }
   ],
   "source": [
    "model_without_wl = t.nn.DataParallel(get_res_next_101().cuda())\n",
    "checkpoint_without_wl = t.load(CHACKPOINT_CROSS_ENTROPY_MODEL)\n",
    "model_without_wl.load_state_dict(checkpoint_without_wl['model'])\n",
    "class_acc_no_wl = calculate_class_acc_for_test_set(model_without_wl)\n",
    "plot_class_acc(class_acc_no_wl)"
   ]
  },
  {
   "cell_type": "code",
   "execution_count": 25,
   "metadata": {
    "colab": {
     "base_uri": "https://localhost:8080/",
     "height": 278
    },
    "colab_type": "code",
    "executionInfo": {
     "elapsed": 1667504,
     "status": "ok",
     "timestamp": 1579044235645,
     "user": {
      "displayName": "Vlad Danaila",
      "photoUrl": "",
      "userId": "16049478229633186858"
     },
     "user_tz": -120
    },
    "id": "tRz36NjNRvqC",
    "outputId": "d8046b27-6598-4adc-e73a-fad22d32c512"
   },
   "outputs": [
    {
     "data": {
      "image/png": "[encoded data removed]",
      "text/plain": [
       "<Figure size 432x288 with 1 Axes>"
      ]
     },
     "metadata": {
      "needs_background": "light"
     },
     "output_type": "display_data"
    }
   ],
   "source": [
    "plot_class_acc_comparison(class_acc, class_acc_no_wl, 'Weighted Cross Entropy Loss', 'Cross Entropy Loss')"
   ]
  }
 ],
 "metadata": {
  "accelerator": "GPU",
  "colab": {
   "collapsed_sections": [],
   "name": "Cancer Detection - Ensable Conv 14 Jan Weighted Loss V6.ipynb",
   "provenance": []
  },
  "kernelspec": {
   "display_name": "Python 3",
   "language": "python",
   "name": "python3"
  },
  "language_info": {
   "codemirror_mode": {
    "name": "ipython",
    "version": 3
   },
   "file_extension": ".py",
   "mimetype": "text/x-python",
   "name": "python",
   "nbconvert_exporter": "python",
   "pygments_lexer": "ipython3",
   "version": "3.6.9"
  }
 },
 "nbformat": 4,
 "nbformat_minor": 1
}
