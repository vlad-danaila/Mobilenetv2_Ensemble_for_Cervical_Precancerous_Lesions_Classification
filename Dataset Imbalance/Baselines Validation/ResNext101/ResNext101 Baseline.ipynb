{
 "cells": [
  {
   "cell_type": "markdown",
   "metadata": {
    "colab_type": "text",
    "id": "Vtr5GXBYQviz"
   },
   "source": [
    "Mount my google drive, where I stored the dataset."
   ]
  },
  {
   "cell_type": "code",
   "execution_count": null,
   "metadata": {
    "colab": {},
    "colab_type": "code",
    "id": "w12ajwYkRYMj"
   },
   "outputs": [],
   "source": [
    "from google.colab import drive\n",
    "drive.mount('/content/drive')"
   ]
  },
  {
   "cell_type": "markdown",
   "metadata": {
    "colab_type": "text",
    "id": "ICzn7m-J8OVy"
   },
   "source": [
    "**Download dependencies**"
   ]
  },
  {
   "cell_type": "code",
   "execution_count": null,
   "metadata": {
    "colab": {
     "base_uri": "https://localhost:8080/",
     "height": 358
    },
    "colab_type": "code",
    "executionInfo": {
     "elapsed": 7733,
     "status": "ok",
     "timestamp": 1577541425786,
     "user": {
      "displayName": "Vlad Danaila",
      "photoUrl": "",
      "userId": "16049478229633186858"
     },
     "user_tz": -120
    },
    "id": "-00MlLK5bd_o",
    "outputId": "d36dccf0-dfc8-4b18-e216-0c185b5f17dc"
   },
   "outputs": [],
   "source": [
    "!pip3 install sklearn matplotlib GPUtil"
   ]
  },
  {
   "cell_type": "code",
   "execution_count": null,
   "metadata": {
    "colab": {},
    "colab_type": "code",
    "id": "urxkHeuu90mV",
    "outputId": "5e5f049e-ea0c-428f-d3bb-41e5af83acbf"
   },
   "outputs": [],
   "source": [
    "!pip3 install torch torchvision"
   ]
  },
  {
   "cell_type": "markdown",
   "metadata": {
    "colab_type": "text",
    "id": "xTU7V2ervf9J"
   },
   "source": [
    "**Download Data**"
   ]
  },
  {
   "cell_type": "markdown",
   "metadata": {
    "colab_type": "text",
    "id": "1lZ8z6MIZag1"
   },
   "source": [
    "In order to acquire the dataset please navigate to:\n",
    "\n",
    "https://ieee-dataport.org/documents/cervigram-image-dataset\n",
    "\n",
    "Unzip the dataset into the folder \"dataset\".\n",
    "\n",
    "For your environment, please adjust the paths accordingly."
   ]
  },
  {
   "cell_type": "code",
   "execution_count": null,
   "metadata": {
    "colab": {
     "base_uri": "https://localhost:8080/",
     "height": 1000
    },
    "colab_type": "code",
    "executionInfo": {
     "elapsed": 15250,
     "status": "ok",
     "timestamp": 1577541443401,
     "user": {
      "displayName": "Vlad Danaila",
      "photoUrl": "",
      "userId": "16049478229633186858"
     },
     "user_tz": -120
    },
    "id": "30WlKBSGZfpq",
    "outputId": "16fb86f9-b408-47ef-c947-8f954539995b"
   },
   "outputs": [],
   "source": [
    "!rm -vrf \"dataset\"\n",
    "!mkdir \"dataset\"\n",
    "# !cp -r \"/content/drive/My Drive/Studiu doctorat leziuni cervicale/cervigram-image-dataset-v2.zip\" \"dataset/cervigram-image-dataset-v2.zip\"\n",
    "!cp -r \"cervigram-image-dataset-v2.zip\" \"dataset/cervigram-image-dataset-v2.zip\"\n",
    "!unzip \"dataset/cervigram-image-dataset-v2.zip\" -d \"dataset\""
   ]
  },
  {
   "cell_type": "markdown",
   "metadata": {
    "colab_type": "text",
    "id": "pzmtIBtraodf"
   },
   "source": [
    "**Constants**"
   ]
  },
  {
   "cell_type": "markdown",
   "metadata": {
    "colab_type": "text",
    "id": "IPVLzc_lHTQe"
   },
   "source": [
    "For your environment, please modify the paths accordingly.  "
   ]
  },
  {
   "cell_type": "code",
   "execution_count": 1,
   "metadata": {
    "colab": {},
    "colab_type": "code",
    "id": "g1YBANp9XJeA"
   },
   "outputs": [],
   "source": [
    "# TRAIN_PATH = '/content/dataset/data/train/'\n",
    "# TEST_PATH = '/content/dataset/data/test/'\n",
    "TRAIN_PATH = '../dataset/data/train/'\n",
    "TEST_PATH = '../dataset/data/test/'\n",
    "\n",
    "CROP_SIZE = 260\n",
    "IMAGE_SIZE = 224\n",
    "BATCH_SIZE = 50"
   ]
  },
  {
   "cell_type": "markdown",
   "metadata": {
    "colab_type": "text",
    "id": "B_koVi65ZlHP"
   },
   "source": [
    "**Imports**"
   ]
  },
  {
   "cell_type": "code",
   "execution_count": 2,
   "metadata": {
    "colab": {},
    "colab_type": "code",
    "id": "qyNuLlPNsdl1"
   },
   "outputs": [],
   "source": [
    "import torch as t\n",
    "import torchvision as tv\n",
    "import numpy as np\n",
    "import PIL as pil\n",
    "import matplotlib.pyplot as plt\n",
    "from torchvision.datasets import ImageFolder\n",
    "from torch.utils.data import DataLoader\n",
    "from torch.nn import Linear, BCEWithLogitsLoss\n",
    "import sklearn as sk\n",
    "import sklearn.metrics\n",
    "from os import listdir\n",
    "import time\n",
    "import random\n",
    "import GPUtil"
   ]
  },
  {
   "cell_type": "markdown",
   "metadata": {
    "colab_type": "text",
    "id": "6Iq1zdisXRnn"
   },
   "source": [
    "**Memory Stats**"
   ]
  },
  {
   "cell_type": "code",
   "execution_count": 3,
   "metadata": {
    "colab": {
     "base_uri": "https://localhost:8080/",
     "height": 33
    },
    "colab_type": "code",
    "executionInfo": {
     "elapsed": 6912,
     "status": "ok",
     "timestamp": 1577541807375,
     "user": {
      "displayName": "Vlad Danaila",
      "photoUrl": "",
      "userId": "16049478229633186858"
     },
     "user_tz": -120
    },
    "id": "_temaFmzXRHm",
    "outputId": "9c0793b5-4cb2-4502-a744-a42d85e12bcc"
   },
   "outputs": [
    {
     "name": "stdout",
     "output_type": "stream",
     "text": [
      "GPU RAM Free: 11019MB | Used: 0MB | Util   0% | Total 11019MB\n",
      "GPU RAM Free: 11019MB | Used: 0MB | Util   0% | Total 11019MB\n"
     ]
    }
   ],
   "source": [
    "import GPUtil\n",
    "def memory_stats():\n",
    "  for gpu in GPUtil.getGPUs():\n",
    "    print(\"GPU RAM Free: {0:.0f}MB | Used: {1:.0f}MB | Util {2:3.0f}% | Total {3:.0f}MB\".format(gpu.memoryFree, gpu.memoryUsed, gpu.memoryUtil*100, gpu.memoryTotal))\n",
    "memory_stats()"
   ]
  },
  {
   "cell_type": "markdown",
   "metadata": {
    "colab_type": "text",
    "id": "r3KfXoIH187Z"
   },
   "source": [
    "**Deterministic Measurements**"
   ]
  },
  {
   "cell_type": "markdown",
   "metadata": {
    "colab_type": "text",
    "id": "bQ3rHF5K2BpX"
   },
   "source": [
    "This statements help making the experiments reproducible by fixing the random seeds. Despite fixing the random seeds, experiments are usually not reproducible using different PyTorch releases, commits, platforms or between CPU and GPU executions. Please find more details in the PyTorch documentation:\n",
    "\n",
    "https://pytorch.org/docs/stable/notes/randomness.html"
   ]
  },
  {
   "cell_type": "code",
   "execution_count": 4,
   "metadata": {
    "colab": {},
    "colab_type": "code",
    "id": "PQtgx_3H2MEx"
   },
   "outputs": [],
   "source": [
    "SEED = 0\n",
    "t.manual_seed(SEED)\n",
    "t.cuda.manual_seed(SEED)\n",
    "t.backends.cudnn.deterministic = True\n",
    "t.backends.cudnn.benchmark = False\n",
    "np.random.seed(SEED)\n",
    "random.seed(SEED)"
   ]
  },
  {
   "cell_type": "markdown",
   "metadata": {
    "colab_type": "text",
    "id": "ugovPCwFvBc4"
   },
   "source": [
    "**Loading Data**"
   ]
  },
  {
   "cell_type": "markdown",
   "metadata": {
    "colab_type": "text",
    "id": "8_PMRn9BcaPO"
   },
   "source": [
    "The dataset is structured in multiple small folders of 7 images each. This generator iterates through the folders and returns the category and 7 paths: one for each image in the folder. The paths are ordered; the order is important since each folder contains 3 types of images, first 5 are with acetic acid solution and the last two are through a green lens and having iodine solution(a solution of a dark red color)."
   ]
  },
  {
   "cell_type": "code",
   "execution_count": 5,
   "metadata": {
    "colab": {},
    "colab_type": "code",
    "id": "qU2qOUVWZZNl"
   },
   "outputs": [],
   "source": [
    "def sortByLastDigits(elem):\n",
    "  chars = [c for c in elem if c.isdigit()]\n",
    "  return 0 if len(chars) == 0 else int(''.join(chars))\n",
    "\n",
    "def getImagesPaths(root_path):\n",
    "  for  class_folder in [root_path + f for f in listdir(root_path)]:\n",
    "      category = int(class_folder[-1])\n",
    "      for case_folder in listdir(class_folder):\n",
    "        case_folder_path = class_folder + '/' + case_folder + '/'\n",
    "        img_files = [case_folder_path + file_name for file_name in listdir(case_folder_path)]\n",
    "        yield category, sorted(img_files, key = sortByLastDigits)"
   ]
  },
  {
   "cell_type": "markdown",
   "metadata": {
    "colab_type": "text",
    "id": "MSrKoW7TdRFr"
   },
   "source": [
    "We define 3 datasets, which load 3 kinds of images: natural images, images taken through a green lens and images where the doctor applied iodine solution (which gives a dark red color). Each dataset has dynamic and static transformations which could be applied to the data. The static transformations are applied on the initialization of the dataset, while the dynamic ones are applied when loading each batch of data. "
   ]
  },
  {
   "cell_type": "code",
   "execution_count": 6,
   "metadata": {
    "colab": {},
    "colab_type": "code",
    "id": "EmgWK_7-doGb"
   },
   "outputs": [],
   "source": [
    "class SimpleImagesDataset(t.utils.data.Dataset):\n",
    "  def __init__(self, root_path, transforms_x_static = None, transforms_x_dynamic = None, transforms_y_static = None, transforms_y_dynamic = None):\n",
    "    self.dataset = []\n",
    "    self.transforms_x = transforms_x_dynamic\n",
    "    self.transforms_y = transforms_y_dynamic\n",
    "    for category, img_files in getImagesPaths(root_path):\n",
    "      for i in range(5):\n",
    "        img = pil.Image.open(img_files[i])\n",
    "        if transforms_x_static != None:\n",
    "          img = transforms_x_static(img)\n",
    "        if transforms_y_static != None:\n",
    "          category = transforms_y_static(category)\n",
    "        self.dataset.append((img, category))    \n",
    "  \n",
    "  def __getitem__(self, i):\n",
    "    x, y = self.dataset[i]\n",
    "    if self.transforms_x != None:\n",
    "      x = self.transforms_x(x)\n",
    "    if self.transforms_y != None:\n",
    "      y = self.transforms_y(y)\n",
    "    return x, y\n",
    "\n",
    "  def __len__(self):\n",
    "    return len(self.dataset)\n",
    "\n",
    "class GreenLensImagesDataset(SimpleImagesDataset):\n",
    "  def __init__(self, root_path, transforms_x_static = None, transforms_x_dynamic = None, transforms_y_static = None, transforms_y_dynamic = None):\n",
    "    self.dataset = []\n",
    "    self.transforms_x = transforms_x_dynamic\n",
    "    self.transforms_y = transforms_y_dynamic\n",
    "    for category, img_files in getImagesPaths(root_path):\n",
    "        # Only the green lens image\n",
    "        img = pil.Image.open(img_files[-2]) \n",
    "        if transforms_x_static != None:\n",
    "          img = transforms_x_static(img)\n",
    "        if transforms_y_static != None:\n",
    "          category = transforms_y_static(category)\n",
    "        self.dataset.append((img, category))    \n",
    "\n",
    "class RedImagesDataset(SimpleImagesDataset):\n",
    "  def __init__(self, root_path, transforms_x_static = None, transforms_x_dynamic = None, transforms_y_static = None, transforms_y_dynamic = None):\n",
    "    self.dataset = []\n",
    "    self.transforms_x = transforms_x_dynamic\n",
    "    self.transforms_y = transforms_y_dynamic\n",
    "    for category, img_files in getImagesPaths(root_path):\n",
    "        # Only the green lens image\n",
    "        img = pil.Image.open(img_files[-1]) \n",
    "        if transforms_x_static != None:\n",
    "          img = transforms_x_static(img)\n",
    "        if transforms_y_static != None:\n",
    "          category = transforms_y_static(category)\n",
    "        self.dataset.append((img, category))    "
   ]
  },
  {
   "cell_type": "markdown",
   "metadata": {
    "colab_type": "text",
    "id": "vRqFvAHwvVTl"
   },
   "source": [
    "**Preprocess Data**"
   ]
  },
  {
   "cell_type": "markdown",
   "metadata": {
    "colab_type": "text",
    "id": "UOI_JvcCe0cR"
   },
   "source": [
    "Convert pytorch tensor to numpy array."
   ]
  },
  {
   "cell_type": "code",
   "execution_count": 7,
   "metadata": {
    "colab": {},
    "colab_type": "code",
    "id": "OKxTUFnkezdb"
   },
   "outputs": [],
   "source": [
    "def to_numpy(x):\n",
    "  return x.cpu().detach().numpy()"
   ]
  },
  {
   "cell_type": "markdown",
   "metadata": {
    "colab_type": "text",
    "id": "TmnrMN5BmHRg"
   },
   "source": [
    "Data transformations for the test and training sets."
   ]
  },
  {
   "cell_type": "code",
   "execution_count": 8,
   "metadata": {
    "colab": {},
    "colab_type": "code",
    "id": "_hBCnG-fvwjB"
   },
   "outputs": [],
   "source": [
    "norm_mean = [0.485, 0.456, 0.406]\n",
    "norm_std = [0.229, 0.224, 0.225]\n",
    "\n",
    "transforms_train = tv.transforms.Compose([\n",
    "    tv.transforms.RandomAffine(degrees  = 45, translate = None, scale = (1., 2.), shear = 30),\n",
    "    # tv.transforms.CenterCrop(CROP_SIZE),\n",
    "    tv.transforms.Resize(IMAGE_SIZE),\n",
    "    tv.transforms.RandomHorizontalFlip(),\n",
    "    tv.transforms.ToTensor(),\n",
    "    tv.transforms.Lambda(lambda t: t.cuda()),\n",
    "    tv.transforms.Normalize(mean=norm_mean, std=norm_std)    \n",
    "])\n",
    "\n",
    "transforms_test = tv.transforms.Compose([\n",
    "    # tv.transforms.CenterCrop(CROP_SIZE),\n",
    "    tv.transforms.Resize(IMAGE_SIZE),\n",
    "    tv.transforms.ToTensor(),\n",
    "    tv.transforms.Normalize(mean=norm_mean, std=norm_std)    \n",
    "])\n",
    "\n",
    "y_transform = tv.transforms.Lambda(lambda y: t.tensor(y, dtype=t.long, device = 'cuda:0'))"
   ]
  },
  {
   "cell_type": "markdown",
   "metadata": {
    "colab_type": "text",
    "id": "5ky8gX31q-NW"
   },
   "source": [
    "Initialize pytorch datasets and loaders for training and test."
   ]
  },
  {
   "cell_type": "code",
   "execution_count": 9,
   "metadata": {
    "colab": {},
    "colab_type": "code",
    "id": "2hqOyTVGnjjy"
   },
   "outputs": [],
   "source": [
    "def create_loaders(dataset_class):\n",
    "  dataset_train = dataset_class(TRAIN_PATH, transforms_x_dynamic = transforms_train, transforms_y_dynamic = y_transform)\n",
    "  dataset_test = dataset_class(TEST_PATH, transforms_x_static = transforms_test, \n",
    "                                                transforms_x_dynamic = tv.transforms.Lambda(lambda t: t.cuda()), transforms_y_dynamic = y_transform)\n",
    "\n",
    "  loader_train = DataLoader(dataset_train, BATCH_SIZE, shuffle = True, num_workers = 0)\n",
    "  loader_test = DataLoader(dataset_test, BATCH_SIZE, shuffle = False, num_workers = 0)\n",
    "  return loader_train, loader_test, len(dataset_train), len(dataset_test)"
   ]
  },
  {
   "cell_type": "code",
   "execution_count": 10,
   "metadata": {
    "colab": {},
    "colab_type": "code",
    "id": "Un_LZV7KqFCn"
   },
   "outputs": [],
   "source": [
    "loader_train_simple_img, loader_test_simple_img, len_train, len_test = create_loaders(SimpleImagesDataset)"
   ]
  },
  {
   "cell_type": "markdown",
   "metadata": {
    "colab_type": "text",
    "id": "yIcoJBpn0jZ8"
   },
   "source": [
    "**Visualize Data**"
   ]
  },
  {
   "cell_type": "markdown",
   "metadata": {
    "colab_type": "text",
    "id": "ARRQsL2drbzv"
   },
   "source": [
    "Load a few images so that we can see the effects of the data augmentation on the training set."
   ]
  },
  {
   "cell_type": "code",
   "execution_count": 11,
   "metadata": {
    "colab": {},
    "colab_type": "code",
    "id": "mDi25EAxrSal"
   },
   "outputs": [],
   "source": [
    "def plot_one_prediction(x, label, pred):  \n",
    "  x, label, pred = to_numpy(x), to_numpy(label), to_numpy(pred)\n",
    "  x = np.transpose(x, [1, 2, 0])\n",
    "  if x.shape[-1] == 1:\n",
    "    x = x.squeeze()\n",
    "  x = x * np.array(norm_std) + np.array(norm_mean)\n",
    "  plt.title(label, color = 'green' if label == pred else 'red')\n",
    "  plt.imshow(x)\n",
    "\n",
    "def plot_predictions(imgs, labels, preds):  \n",
    "  fig = plt.figure(figsize = (20, 5))\n",
    "  for i in range(20):\n",
    "    fig.add_subplot(2, 10, i + 1, xticks = [], yticks = [])\n",
    "    plot_one_prediction(imgs[i], labels[i], preds[i])"
   ]
  },
  {
   "cell_type": "code",
   "execution_count": 12,
   "metadata": {
    "colab": {},
    "colab_type": "code",
    "id": "Q0jkeNIVrVf3"
   },
   "outputs": [],
   "source": [
    "# x, y = next(iter(loader_train_simple_img))\n",
    "# plot_predictions(x, y, y)"
   ]
  },
  {
   "cell_type": "markdown",
   "metadata": {
    "colab_type": "text",
    "id": "teYfBi5v0yuj"
   },
   "source": [
    "**Model**"
   ]
  },
  {
   "cell_type": "markdown",
   "metadata": {
    "colab_type": "text",
    "id": "TFAXychCsIFp"
   },
   "source": [
    "Define a few models to experiment with."
   ]
  },
  {
   "cell_type": "code",
   "execution_count": 13,
   "metadata": {
    "colab": {},
    "colab_type": "code",
    "id": "3rQm0JTXsLOO"
   },
   "outputs": [],
   "source": [
    "def get_mobilenet_v2():\n",
    "  model = t.hub.load('pytorch/vision', 'mobilenet_v2', pretrained=True)\n",
    "  model.classifier[1] = Linear(in_features=1280, out_features=4, bias=True)\n",
    "  model = model.cuda()\n",
    "  return model\n",
    "\n",
    "def get_vgg_19():\n",
    "  model = tv.models.vgg19(pretrained = True)\n",
    "  model = model.cuda()\n",
    "  model.classifier[6].out_features = 4\n",
    "  return model\n",
    "\n",
    "def get_res_next_101():\n",
    "  model = t.hub.load('facebookresearch/WSL-Images', 'resnext101_32x8d_wsl')\n",
    "  model.fc.out_features = 4\n",
    "  model = model.cuda()\n",
    "  return model\n",
    "\n",
    "def get_resnet_18():\n",
    "  model = tv.models.resnet18(pretrained = True)\n",
    "  model.fc.out_features = 4\n",
    "  model = model.cuda()\n",
    "  return model\n",
    "\n",
    "def get_dense_net():\n",
    "  model = tv.models.densenet121(pretrained = True)\n",
    "  model.classifier.out_features = 4\n",
    "  model = model.cuda()\n",
    "  return model\n",
    "\n",
    "class MobileNetV2_FullConv(t.nn.Module):\n",
    "  def __init__(self):\n",
    "    super().__init__()\n",
    "    self.cnn = get_mobilenet_v2().features\n",
    "    self.cnn[18] = t.nn.Sequential(\n",
    "      tv.models.mobilenet.ConvBNReLU(320, 32, kernel_size=1),\n",
    "      t.nn.Dropout2d(p = .7)\n",
    "    )\n",
    "    self.fc = t.nn.Linear(32, 4)\n",
    "\n",
    "  def forward(self, x):\n",
    "    x = self.cnn(x)\n",
    "    x = x.mean([2, 3])\n",
    "    x = self.fc(x);\n",
    "    return x"
   ]
  },
  {
   "cell_type": "code",
   "execution_count": 14,
   "metadata": {
    "colab": {
     "base_uri": "https://localhost:8080/",
     "height": 1000
    },
    "colab_type": "code",
    "executionInfo": {
     "elapsed": 1674,
     "status": "ok",
     "timestamp": 1577543132882,
     "user": {
      "displayName": "Vlad Danaila",
      "photoUrl": "",
      "userId": "16049478229633186858"
     },
     "user_tz": -120
    },
    "id": "DRM168aEuTid",
    "outputId": "e4af1f49-815b-41d0-de5e-f4285de26e93"
   },
   "outputs": [
    {
     "name": "stderr",
     "output_type": "stream",
     "text": [
      "Using cache found in /root/.cache/torch/hub/facebookresearch_WSL-Images_master\n"
     ]
    }
   ],
   "source": [
    "model_simple = t.nn.DataParallel(get_res_next_101())"
   ]
  },
  {
   "cell_type": "markdown",
   "metadata": {
    "colab_type": "text",
    "id": "eVNbPOX31_rS"
   },
   "source": [
    "**Train & Evaluate**"
   ]
  },
  {
   "cell_type": "markdown",
   "metadata": {
    "colab_type": "text",
    "id": "6G1HQmJ1vJt8"
   },
   "source": [
    "Timer utility function. This is used to measure the execution speed."
   ]
  },
  {
   "cell_type": "code",
   "execution_count": 15,
   "metadata": {
    "colab": {},
    "colab_type": "code",
    "id": "77HDFtMd1Ra_"
   },
   "outputs": [],
   "source": [
    "time_start = 0\n",
    "\n",
    "def timer_start():\n",
    "  global time_start\n",
    "  time_start = time.time()\n",
    "\n",
    "def timer_end():\n",
    "  return time.time() - time_start"
   ]
  },
  {
   "cell_type": "markdown",
   "metadata": {
    "colab_type": "text",
    "id": "2ZE3UqwMvbfM"
   },
   "source": [
    "This function trains the network and evaluates it at the same time. It outputs the metrics recorded during the training for both train and test. We are measuring accuracy and the loss. The function also saves a checkpoint of the model every time the accuracy is improved. In the end we will have a checkpoint of the model which gave the best accuracy."
   ]
  },
  {
   "cell_type": "code",
   "execution_count": 16,
   "metadata": {
    "colab": {},
    "colab_type": "code",
    "id": "FwUA4abu2pRe"
   },
   "outputs": [],
   "source": [
    "def train_eval(optimizer, model, loader_train, loader_test, chekpoint_name, epochs):\n",
    "  metrics = {\n",
    "      'losses_train': [],\n",
    "      'losses_test': [],\n",
    "\n",
    "      'acc_train': [],\n",
    "      'acc_test': [],\n",
    "\n",
    "      'prec_train': [],\n",
    "      'prec_test': [],\n",
    "\n",
    "      'rec_train': [],\n",
    "      'rec_test': [],\n",
    "\n",
    "      'f_score_train': [],\n",
    "      'f_score_test': []\n",
    "  }\n",
    "\n",
    "  best_acc = 0\n",
    "  \n",
    "  loss_fn = t.nn.CrossEntropyLoss()\n",
    "    \n",
    "  try:  \n",
    "    for epoch in range(epochs):\n",
    "      timer_start()\n",
    "      train_epoch_loss, train_epoch_acc, train_epoch_precision, train_epoch_recall, train_epoch_f_score = 0, 0, 0, 0, 0\n",
    "      test_epoch_loss, test_epoch_acc, test_epoch_precision, test_epoch_recall, test_epoch_f_score = 0, 0, 0, 0, 0\n",
    "\n",
    "      # Train\n",
    "      model.train()\n",
    "      for x, y in loader_train:\n",
    "        y_pred = model.forward(x)\n",
    "        loss = loss_fn(y_pred, y)\n",
    "        loss.backward()\n",
    "        optimizer.step()\n",
    "#         memory_stats()\n",
    "        optimizer.zero_grad()\n",
    "        y_pred, y = to_numpy(y_pred), to_numpy(y)\n",
    "        pred = y_pred.argmax(axis = 1)\n",
    "        ratio = len(y) / len_train\n",
    "        train_epoch_loss += (loss.item() * ratio)\n",
    "        train_epoch_acc += (sk.metrics.accuracy_score(y, pred) * ratio)\n",
    "        precision, recall, f_score, _ = sk.metrics.precision_recall_fscore_support(y, pred, average = 'macro')\n",
    "        train_epoch_precision += (precision * ratio)\n",
    "        train_epoch_recall += (recall * ratio)\n",
    "        train_epoch_f_score += (f_score * ratio)\n",
    "      metrics['losses_train'].append(train_epoch_loss)\n",
    "      metrics['acc_train'].append(train_epoch_acc)\n",
    "      metrics['prec_train'].append(train_epoch_precision)\n",
    "      metrics['rec_train'].append(train_epoch_recall)\n",
    "      metrics['f_score_train'].append(train_epoch_f_score)\n",
    "  \n",
    "      # Evaluate\n",
    "      model.eval()\n",
    "      with t.no_grad():\n",
    "        for x, y in loader_test:\n",
    "          y_pred = model.forward(x)\n",
    "          loss = loss_fn(y_pred, y)\n",
    "          y_pred, y = to_numpy(y_pred), to_numpy(y)\n",
    "          pred = y_pred.argmax(axis = 1)\n",
    "          ratio = len(y) / len_test\n",
    "          test_epoch_loss += (loss * ratio)\n",
    "          test_epoch_acc += (sk.metrics.accuracy_score(y, pred) * ratio )\n",
    "          precision, recall, f_score, _ = sk.metrics.precision_recall_fscore_support(y, pred, average = 'macro')\n",
    "          test_epoch_precision += (precision * ratio)\n",
    "          test_epoch_recall += (recall * ratio)\n",
    "          test_epoch_f_score += (f_score * ratio)\n",
    "        metrics['losses_test'].append(test_epoch_loss)\n",
    "        metrics['acc_test'].append(test_epoch_acc)\n",
    "        metrics['prec_test'].append(test_epoch_precision)\n",
    "        metrics['rec_test'].append(test_epoch_recall)\n",
    "        metrics['f_score_test'].append(test_epoch_f_score)\n",
    "      \n",
    "      if metrics['acc_test'][-1] > best_acc:\n",
    "        best_acc = metrics['acc_test'][-1]\n",
    "        t.save({'model': model.state_dict()}, 'checkpint {}.tar'.format(chekpoint_name))\n",
    "      print('Epoch {} acc {} prec {} rec {} f {} minutes {}'.format(\n",
    "        epoch + 1, metrics['acc_test'][-1], metrics['prec_test'][-1], metrics['rec_test'][-1], metrics['f_score_test'][-1], timer_end() / 60))\n",
    "  except KeyboardInterrupt as e:\n",
    "    print(e)  \n",
    "  print('Ended training')\n",
    "  return metrics"
   ]
  },
  {
   "cell_type": "markdown",
   "metadata": {
    "colab_type": "text",
    "id": "BPznZeFDxhtA"
   },
   "source": [
    "Plot a metric for both train and test."
   ]
  },
  {
   "cell_type": "code",
   "execution_count": 17,
   "metadata": {
    "colab": {},
    "colab_type": "code",
    "id": "4QjYASRPRnIr"
   },
   "outputs": [],
   "source": [
    "def plot_train_test(train, test, title, y_title):\n",
    "    plt.plot(range(len(train)), train, label = 'train')\n",
    "    plt.plot(range(len(test)), test, label = 'test')\n",
    "    plt.xlabel('Epochs')\n",
    "    plt.ylabel(y_title)\n",
    "    plt.title(title)\n",
    "    plt.legend()\n",
    "    plt.show()"
   ]
  },
  {
   "cell_type": "markdown",
   "metadata": {
    "colab_type": "text",
    "id": "vVNLAgGOsbPB"
   },
   "source": [
    "Plot precision - recall curve"
   ]
  },
  {
   "cell_type": "code",
   "execution_count": 18,
   "metadata": {
    "colab": {},
    "colab_type": "code",
    "id": "WhtUUcgjsanm"
   },
   "outputs": [],
   "source": [
    "def plot_precision_recall(metrics):\n",
    "    plt.scatter(metrics['prec_train'], metrics['rec_train'], label = 'train')\n",
    "    plt.scatter(metrics['prec_test'], metrics['rec_test'], label = 'test')\n",
    "    plt.legend()\n",
    "    plt.title('Precision-Recall')\n",
    "    plt.xlabel('Precision')\n",
    "    plt.ylabel('Recall')"
   ]
  },
  {
   "cell_type": "markdown",
   "metadata": {
    "colab_type": "text",
    "id": "T8adJjmiCHs6"
   },
   "source": [
    "Train a model for several epochs. The steps_learning parameter is a list of tuples. Each tuple specifies the steps and the learning rate."
   ]
  },
  {
   "cell_type": "code",
   "execution_count": 19,
   "metadata": {
    "colab": {},
    "colab_type": "code",
    "id": "1jO6UBhaP926"
   },
   "outputs": [],
   "source": [
    "def do_train(model, loader_train, loader_test, checkpoint_name, steps_learning):\n",
    "  for steps, learn_rate in steps_learning:\n",
    "    metrics = train_eval(t.optim.Adam(model.parameters(), lr = learn_rate, weight_decay = 0), model, loader_train, loader_test, checkpoint_name, steps)\n",
    "    print('Best test accuracy :', max(metrics['acc_test']))\n",
    "    plot_train_test(metrics['losses_train'], metrics['losses_test'], 'Loss (lr = {})'.format(learn_rate))\n",
    "    plot_train_test(metrics['acc_train'], metrics['acc_test'], 'Accuracy (lr = {})'.format(learn_rate))"
   ]
  },
  {
   "cell_type": "markdown",
   "metadata": {
    "colab_type": "text",
    "id": "Q91nZ33rCryC"
   },
   "source": [
    "Perform actual training."
   ]
  },
  {
   "cell_type": "code",
   "execution_count": 20,
   "metadata": {
    "colab": {},
    "colab_type": "code",
    "id": "BA2tEyFmCybQ"
   },
   "outputs": [],
   "source": [
    "def do_train(model, loader_train, loader_test, checkpoint_name, steps_learning):\n",
    "  t.cuda.empty_cache()\n",
    "  for steps, learn_rate in steps_learning:\n",
    "    metrics = train_eval(t.optim.Adam(model.parameters(), lr = learn_rate, weight_decay = 0), model, loader_train, loader_test, checkpoint_name, steps)\n",
    "    \n",
    "    index_max = np.array(metrics['acc_test']).argmax()\n",
    "    print('Best test accuracy :', metrics['acc_test'][index_max])\n",
    "    print('Corresponding precision :', metrics['prec_test'][index_max])\n",
    "    print('Corresponding recall :', metrics['rec_test'][index_max])\n",
    "    print('Corresponding f1 score :', metrics['f_score_test'][index_max])\n",
    "\n",
    "    plot_train_test(metrics['losses_train'], metrics['losses_test'], 'Loss (lr = {})'.format(learn_rate), 'Loss')\n",
    "    plot_train_test(metrics['acc_train'], metrics['acc_test'], 'Accuracy (lr = {})'.format(learn_rate), 'Accuracy')\n",
    "    plot_train_test(metrics['prec_train'], metrics['prec_test'], 'Precision (lr = {})'.format(learn_rate), 'Precision')\n",
    "    plot_train_test(metrics['rec_train'], metrics['rec_test'], 'Recall (lr = {})'.format(learn_rate), 'Recall')\n",
    "    plot_train_test(metrics['f_score_train'], metrics['f_score_test'], 'F1 Score (lr = {})'.format(learn_rate), 'F1 Score')\n",
    "    plot_precision_recall(metrics)"
   ]
  },
  {
   "cell_type": "code",
   "execution_count": 21,
   "metadata": {
    "colab": {
     "base_uri": "https://localhost:8080/",
     "height": 296
    },
    "colab_type": "code",
    "executionInfo": {
     "elapsed": 3635,
     "status": "error",
     "timestamp": 1577541623118,
     "user": {
      "displayName": "Vlad Danaila",
      "photoUrl": "",
      "userId": "16049478229633186858"
     },
     "user_tz": -120
    },
    "id": "oY7_WOnucOJD",
    "outputId": "0eb5fa19-4762-4746-d738-db189a1c7790"
   },
   "outputs": [
    {
     "name": "stderr",
     "output_type": "stream",
     "text": [
      "/usr/local/lib/python3.6/dist-packages/sklearn/metrics/_classification.py:1272: UndefinedMetricWarning: Precision and F-score are ill-defined and being set to 0.0 in labels with no predicted samples. Use `zero_division` parameter to control this behavior.\n",
      "  _warn_prf(average, modifier, msg_start, len(result))\n",
      "/usr/local/lib/python3.6/dist-packages/sklearn/metrics/_classification.py:1272: UndefinedMetricWarning: Recall and F-score are ill-defined and being set to 0.0 in labels with no true samples. Use `zero_division` parameter to control this behavior.\n",
      "  _warn_prf(average, modifier, msg_start, len(result))\n"
     ]
    },
    {
     "name": "stdout",
     "output_type": "stream",
     "text": [
      "Epoch 1 acc 0.5583333333333333 prec 0.42219217414529925 rec 0.3358217592592593 f 0.33917592799517765 minutes 0.7221736073493957\n",
      "Epoch 2 acc 0.49583333333333335 prec 0.38603270609319 rec 0.27731481481481485 f 0.26315244691750006 minutes 0.5784409523010254\n",
      "Epoch 3 acc 0.5 prec 0.3710455246913581 rec 0.2682291666666667 f 0.2807825176255377 minutes 0.5793351888656616\n",
      "Epoch 4 acc 0.6000000000000001 prec 0.4540343915343915 rec 0.3567129629629629 f 0.3521991980926761 minutes 0.5901461839675903\n",
      "Epoch 5 acc 0.5916666666666666 prec 0.4409722222222222 rec 0.328125 f 0.32716019345932945 minutes 0.5812141338984171\n",
      "Epoch 6 acc 0.5208333333333334 prec 0.3357984607984609 rec 0.26840277777777777 f 0.26258110643127525 minutes 0.5819184978802999\n",
      "Epoch 7 acc 0.5291666666666667 prec 0.3226120857699805 rec 0.24149305555555559 f 0.2557581965788797 minutes 0.582774531841278\n",
      "Epoch 8 acc 0.5666666666666667 prec 0.38046270858770864 rec 0.318287037037037 f 0.32415156250906485 minutes 0.5861706773440043\n",
      "Epoch 9 acc 0.6 prec 0.3690776815776816 rec 0.35613425925925923 f 0.3450963866167201 minutes 0.5997512817382813\n",
      "Epoch 10 acc 0.6166666666666667 prec 0.4164768363357073 rec 0.32447916666666665 f 0.32169197752310996 minutes 0.5944137732187907\n",
      "Epoch 11 acc 0.5958333333333333 prec 0.34214668773492307 rec 0.29346064814814815 f 0.29022244081949367 minutes 0.5908130327860515\n",
      "Epoch 12 acc 0.5291666666666667 prec 0.3475063131313131 rec 0.2735532407407408 f 0.28647687884979967 minutes 0.5869540015856425\n",
      "Epoch 13 acc 0.6166666666666668 prec 0.4630883043181431 rec 0.3736111111111111 f 0.37955883862943784 minutes 0.5929513494173686\n",
      "Epoch 14 acc 0.5416666666666666 prec 0.3425925925925926 rec 0.26290509259259265 f 0.26905141984408354 minutes 0.5892443180084228\n",
      "Epoch 15 acc 0.6416666666666667 prec 0.4139066951566952 rec 0.32853009259259264 f 0.33712825315214917 minutes 0.5961398164431254\n",
      "Epoch 16 acc 0.5875 prec 0.4158399470899471 rec 0.32222222222222224 f 0.3269180355629113 minutes 0.5903360962867736\n",
      "Epoch 17 acc 0.55 prec 0.3879477646838758 rec 0.319212962962963 f 0.3161863615196318 minutes 0.5967666467030843\n",
      "Epoch 18 acc 0.5750000000000001 prec 0.3507699275362319 rec 0.2896412037037037 f 0.2938064224009195 minutes 0.5989543239275614\n",
      "Epoch 19 acc 0.6208333333333333 prec 0.4630882117295161 rec 0.3440972222222222 f 0.35239984001551344 minutes 0.5915611147880554\n",
      "Epoch 20 acc 0.65 prec 0.4453125000000001 rec 0.3701388888888889 f 0.38418785619322243 minutes 0.6000648617744446\n",
      "Epoch 21 acc 0.55 prec 0.3743568556630775 rec 0.2897569444444445 f 0.2980236260080793 minutes 0.593350617090861\n",
      "Epoch 22 acc 0.6166666666666667 prec 0.352465926240332 rec 0.2885416666666667 f 0.2867954224336363 minutes 0.5929285089174906\n",
      "Epoch 23 acc 0.6333333333333334 prec 0.3607645750988142 rec 0.3060763888888889 f 0.29775718687476804 minutes 0.5893144130706787\n",
      "Epoch 24 acc 0.5083333333333334 prec 0.3253205128205128 rec 0.26631944444444444 f 0.2690224708375777 minutes 0.5837646563847859\n",
      "Epoch 25 acc 0.4875 prec 0.4495223008154043 rec 0.3908564814814815 f 0.3876494921692662 minutes 0.5903427084287007\n",
      "Epoch 26 acc 0.5708333333333333 prec 0.3731352880658437 rec 0.3199652777777777 f 0.3182903225460591 minutes 0.6032481074333191\n",
      "Epoch 27 acc 0.5916666666666667 prec 0.3693351736829998 rec 0.2982060185185185 f 0.3104367128890031 minutes 0.5902212897936503\n",
      "Epoch 28 acc 0.5750000000000001 prec 0.3927636876006441 rec 0.3280092592592593 f 0.3347655629383972 minutes 0.5865336894989014\n",
      "Epoch 29 acc 0.5958333333333333 prec 0.38916671059104646 rec 0.33738425925925924 f 0.33596063404103427 minutes 0.5838582078615825\n",
      "Epoch 30 acc 0.5916666666666667 prec 0.39607552664538426 rec 0.30439814814814814 f 0.3159952644605808 minutes 0.5911627570788066\n",
      "Epoch 31 acc 0.5750000000000002 prec 0.33526234567901236 rec 0.2795138888888889 f 0.2871874707714844 minutes 0.5902215520540873\n",
      "Epoch 32 acc 0.5791666666666667 prec 0.34255598431174095 rec 0.2842013888888889 f 0.29755225658091294 minutes 0.5912057240804036\n",
      "Epoch 33 acc 0.6208333333333333 prec 0.36956983024691364 rec 0.30543981481481486 f 0.3183456439220592 minutes 0.5869754950205485\n",
      "Epoch 34 acc 0.525 prec 0.3780025051576775 rec 0.2898148148148148 f 0.29945834628255913 minutes 0.5918304880460104\n",
      "Epoch 35 acc 0.5875 prec 0.3422181372549019 rec 0.2869212962962963 f 0.286286550690872 minutes 0.5947845458984375\n",
      "Epoch 36 acc 0.525 prec 0.3288870197837589 rec 0.2543981481481482 f 0.2598479788204649 minutes 0.592663844426473\n",
      "Epoch 37 acc 0.5416666666666667 prec 0.39256535947712423 rec 0.3152199074074074 f 0.3184826959603262 minutes 0.5918240030606587\n",
      "Epoch 38 acc 0.55 prec 0.3465470679012346 rec 0.2690972222222222 f 0.27852015389311513 minutes 0.5930519064267477\n",
      "Epoch 39 acc 0.5458333333333334 prec 0.40419937600644124 rec 0.2987268518518519 f 0.31020305252607605 minutes 0.5905993421872456\n",
      "Epoch 40 acc 0.55 prec 0.36264187574671447 rec 0.28778935185185184 f 0.29165371288239816 minutes 0.5860632578531901\n",
      "Epoch 41 acc 0.6166666666666667 prec 0.40378486183900086 rec 0.3225115740740741 f 0.3413922209446415 minutes 0.5889457782109578\n",
      "Epoch 42 acc 0.5291666666666667 prec 0.3290936214323311 rec 0.2550925925925926 f 0.26603718070420185 minutes 0.5863343954086304\n",
      "Epoch 43 acc 0.5458333333333334 prec 0.35975135975135974 rec 0.2833333333333333 f 0.292724739067141 minutes 0.5994122823079427\n",
      "Epoch 44 acc 0.5958333333333333 prec 0.37094907407407407 rec 0.3076967592592592 f 0.3121312066246795 minutes 0.5921049078305562\n",
      "Epoch 45 acc 0.5625 prec 0.3505291005291005 rec 0.2881944444444444 f 0.29035355211170405 minutes 0.5851550936698914\n",
      "Epoch 46 acc 0.5333333333333333 prec 0.39372519841269843 rec 0.28587962962962965 f 0.29800983490596933 minutes 0.5849814693133036\n",
      "Epoch 47 acc 0.5291666666666667 prec 0.3934657003233393 rec 0.2905092592592593 f 0.298774477167368 minutes 0.5859774231910706\n",
      "Epoch 48 acc 0.6083333333333333 prec 0.38562188259768904 rec 0.30491898148148144 f 0.3119814017671282 minutes 0.5860056400299072\n",
      "Epoch 49 acc 0.6166666666666667 prec 0.5818544238683128 rec 0.4745370370370371 f 0.4697099376271887 minutes 0.5886198242505392\n",
      "Epoch 50 acc 0.5208333333333334 prec 0.31881970749158256 rec 0.25399305555555557 f 0.2606900307194565 minutes 0.5870784719785055\n",
      "Ended training\n",
      "Best test accuracy : 0.65\n",
      "Corresponding precision : 0.4453125000000001\n",
      "Corresponding recall : 0.3701388888888889\n",
      "Corresponding f1 score : 0.38418785619322243\n"
     ]
    },
    {
     "data": {
      "image/png": "[encoded data removed]",
      "text/plain": [
       "<Figure size 432x288 with 1 Axes>"
      ]
     },
     "metadata": {
      "needs_background": "light"
     },
     "output_type": "display_data"
    },
    {
     "data": {
      "image/png": "[encoded data removed]",
      "text/plain": [
       "<Figure size 432x288 with 1 Axes>"
      ]
     },
     "metadata": {
      "needs_background": "light"
     },
     "output_type": "display_data"
    },
    {
     "data": {
      "image/png": "[encoded data removed]",
      "text/plain": [
       "<Figure size 432x288 with 1 Axes>"
      ]
     },
     "metadata": {
      "needs_background": "light"
     },
     "output_type": "display_data"
    },
    {
     "data": {
      "image/png": "[encoded data removed]",
      "text/plain": [
       "<Figure size 432x288 with 1 Axes>"
      ]
     },
     "metadata": {
      "needs_background": "light"
     },
     "output_type": "display_data"
    },
    {
     "data": {
      "image/png": "[encoded data removed]",
      "text/plain": [
       "<Figure size 432x288 with 1 Axes>"
      ]
     },
     "metadata": {
      "needs_background": "light"
     },
     "output_type": "display_data"
    },
    {
     "data": {
      "image/png": "[encoded data removed]",
      "text/plain": [
       "<Figure size 432x288 with 1 Axes>"
      ]
     },
     "metadata": {
      "needs_background": "light"
     },
     "output_type": "display_data"
    }
   ],
   "source": [
    "do_train(model_simple, loader_train_simple_img, loader_test_simple_img, 'resnext 101', [(50, 1e-4)])"
   ]
  },
  {
   "cell_type": "code",
   "execution_count": 22,
   "metadata": {
    "colab": {},
    "colab_type": "code",
    "id": "H-ulUIj-Ertw"
   },
   "outputs": [],
   "source": [
    "# checkpoint = t.load('/content/checkpint simple_1.tar')\n",
    "# model_simple.load_state_dict(checkpoint['model'])"
   ]
  }
 ],
 "metadata": {
  "accelerator": "GPU",
  "colab": {
   "collapsed_sections": [],
   "name": "ResNext101 Baseline.ipynb",
   "provenance": []
  },
  "kernelspec": {
   "display_name": "Python 3",
   "language": "python",
   "name": "python3"
  },
  "language_info": {
   "codemirror_mode": {
    "name": "ipython",
    "version": 3
   },
   "file_extension": ".py",
   "mimetype": "text/x-python",
   "name": "python",
   "nbconvert_exporter": "python",
   "pygments_lexer": "ipython3",
   "version": "3.6.9"
  }
 },
 "nbformat": 4,
 "nbformat_minor": 1
}
