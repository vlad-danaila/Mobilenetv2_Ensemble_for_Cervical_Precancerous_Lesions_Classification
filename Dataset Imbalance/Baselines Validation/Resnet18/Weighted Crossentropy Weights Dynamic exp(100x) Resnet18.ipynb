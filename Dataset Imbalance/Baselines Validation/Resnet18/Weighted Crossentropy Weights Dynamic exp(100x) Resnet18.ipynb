{
 "cells": [
  {
   "cell_type": "markdown",
   "metadata": {
    "colab_type": "text",
    "id": "view-in-github"
   },
   "source": [
    "<a href=\"https://colab.research.google.com/github/vlad-danaila/ml-cancer-detection/blob/master/Cancer_Detection_Ensable_V1.ipynb\" target=\"_parent\"><img src=\"https://colab.research.google.com/assets/colab-badge.svg\" alt=\"Open In Colab\"/></a>"
   ]
  },
  {
   "cell_type": "code",
   "execution_count": null,
   "metadata": {
    "colab": {
     "base_uri": "https://localhost:8080/",
     "height": 381
    },
    "colab_type": "code",
    "executionInfo": {
     "elapsed": 7827,
     "status": "ok",
     "timestamp": 1579035694957,
     "user": {
      "displayName": "Vlad Danaila",
      "photoUrl": "",
      "userId": "16049478229633186858"
     },
     "user_tz": -120
    },
    "id": "-00MlLK5bd_o",
    "outputId": "d12e31ea-067d-4f0a-ebb7-9a9a234350d2"
   },
   "outputs": [],
   "source": [
    "!pip3 install sklearn matplotlib GPUtil"
   ]
  },
  {
   "cell_type": "code",
   "execution_count": null,
   "metadata": {
    "colab": {},
    "colab_type": "code",
    "id": "CMValOmT-aue"
   },
   "outputs": [],
   "source": [
    "!pip3 install \"pillow<7\""
   ]
  },
  {
   "cell_type": "code",
   "execution_count": null,
   "metadata": {
    "colab": {},
    "colab_type": "code",
    "id": "dVSEwo3iJpWR"
   },
   "outputs": [],
   "source": [
    "!pip3 install torch==1.3.1+cu92 torchvision==0.4.2+cu92 -f https://download.pytorch.org/whl/torch_stable.html"
   ]
  },
  {
   "cell_type": "markdown",
   "metadata": {
    "colab_type": "text",
    "id": "xTU7V2ervf9J"
   },
   "source": [
    "**Download Data**"
   ]
  },
  {
   "cell_type": "markdown",
   "metadata": {
    "colab_type": "text",
    "id": "W4En4wy5ZOqm"
   },
   "source": [
    "Mount my google drive, where the dataset is stored."
   ]
  },
  {
   "cell_type": "code",
   "execution_count": null,
   "metadata": {
    "colab": {
     "base_uri": "https://localhost:8080/",
     "height": 124
    },
    "colab_type": "code",
    "executionInfo": {
     "elapsed": 31673,
     "status": "ok",
     "timestamp": 1579035754952,
     "user": {
      "displayName": "Vlad Danaila",
      "photoUrl": "",
      "userId": "16049478229633186858"
     },
     "user_tz": -120
    },
    "id": "w12ajwYkRYMj",
    "outputId": "41c9e7ae-1b35-4e10-a019-455071d85d72"
   },
   "outputs": [],
   "source": [
    "try:\n",
    "    from google.colab import drive\n",
    "    drive.mount('/content/drive')\n",
    "except Exception as e:\n",
    "    print(e)"
   ]
  },
  {
   "cell_type": "markdown",
   "metadata": {
    "colab_type": "text",
    "id": "1lZ8z6MIZag1"
   },
   "source": [
    "Unzip the dataset into the folder \"dataset\"."
   ]
  },
  {
   "cell_type": "code",
   "execution_count": null,
   "metadata": {
    "colab": {
     "base_uri": "https://localhost:8080/",
     "height": 1000
    },
    "colab_type": "code",
    "executionInfo": {
     "elapsed": 12420,
     "status": "ok",
     "timestamp": 1579036086536,
     "user": {
      "displayName": "Vlad Danaila",
      "photoUrl": "",
      "userId": "16049478229633186858"
     },
     "user_tz": -120
    },
    "id": "30WlKBSGZfpq",
    "outputId": "addfaef0-6f80-4984-f718-c1adb038302e"
   },
   "outputs": [],
   "source": [
    "!rm -vrf \"dataset\"\n",
    "!mkdir \"dataset\"\n",
    "!cp -r \"/content/drive/My Drive/Studiu doctorat leziuni cervicale/cervigram-image-dataset-v2.zip\" \"dataset/cervigram-image-dataset-v2.zip\"\n",
    "# !cp -r \"cervigram-image-dataset-v2.zip\" \"dataset/cervigram-image-dataset-v2.zip\"\n",
    "!unzip \"dataset/cervigram-image-dataset-v2.zip\" -d \"dataset\""
   ]
  },
  {
   "cell_type": "markdown",
   "metadata": {
    "colab_type": "text",
    "id": "G79HqNc8ZaJ8"
   },
   "source": [
    "**Constants**"
   ]
  },
  {
   "cell_type": "code",
   "execution_count": 29,
   "metadata": {
    "colab": {},
    "colab_type": "code",
    "id": "g1YBANp9XJeA"
   },
   "outputs": [],
   "source": [
    "# TRAIN_PATH = '/content/dataset/data/train/'\n",
    "# TEST_PATH = '/content/dataset/data/test/'\n",
    "TRAIN_PATH = 'dataset/data/train/'\n",
    "TEST_PATH = 'dataset/data/test/'\n",
    "\n",
    "CROP_SIZE = 260\n",
    "IMAGE_SIZE = 224\n",
    "BATCH_SIZE = 100\n",
    "\n",
    "# prefix = '/content/drive/My Drive/Studiu doctorat leziuni cervicale/V2/Chekpoints & Notebooks/'\n",
    "prefix = 'Mobilenetv2 Tuning/'\n",
    "CHACKPOINT_CROSS_ENTROPY_MODEL = prefix + 'checkpint resnet18.tar'"
   ]
  },
  {
   "cell_type": "markdown",
   "metadata": {
    "colab_type": "text",
    "id": "B_koVi65ZlHP"
   },
   "source": [
    "**Imports**"
   ]
  },
  {
   "cell_type": "code",
   "execution_count": 2,
   "metadata": {
    "colab": {},
    "colab_type": "code",
    "id": "qyNuLlPNsdl1"
   },
   "outputs": [],
   "source": [
    "import torch as t\n",
    "import torchvision as tv\n",
    "import numpy as np\n",
    "import PIL as pil\n",
    "import matplotlib.pyplot as plt\n",
    "from torchvision.datasets import ImageFolder\n",
    "from torch.utils.data import DataLoader\n",
    "from torch.nn import Linear, BCEWithLogitsLoss\n",
    "import sklearn as sk\n",
    "import sklearn.metrics\n",
    "from os import listdir\n",
    "import time\n",
    "import random\n",
    "import statistics\n",
    "import math"
   ]
  },
  {
   "cell_type": "markdown",
   "metadata": {
    "colab_type": "text",
    "id": "r3KfXoIH187Z"
   },
   "source": [
    "**Deterministic Measurements**"
   ]
  },
  {
   "cell_type": "markdown",
   "metadata": {
    "colab_type": "text",
    "id": "bQ3rHF5K2BpX"
   },
   "source": [
    "This statements help making the experiments reproductible by fixing the random seeds."
   ]
  },
  {
   "cell_type": "code",
   "execution_count": 3,
   "metadata": {
    "colab": {},
    "colab_type": "code",
    "id": "PQtgx_3H2MEx"
   },
   "outputs": [],
   "source": [
    "SEED = 0\n",
    "t.manual_seed(SEED)\n",
    "t.cuda.manual_seed(SEED)\n",
    "t.cuda.manual_seed_all(SEED)\n",
    "t.backends.cudnn.deterministic = True\n",
    "t.backends.cudnn.benchmark = False\n",
    "np.random.seed(SEED)\n",
    "random.seed(SEED)"
   ]
  },
  {
   "cell_type": "markdown",
   "metadata": {
    "colab_type": "text",
    "id": "fyGUb7LOJpWw"
   },
   "source": [
    "**Memory Stats**"
   ]
  },
  {
   "cell_type": "code",
   "execution_count": 4,
   "metadata": {
    "colab": {
     "base_uri": "https://localhost:8080/",
     "height": 34
    },
    "colab_type": "code",
    "executionInfo": {
     "elapsed": 1793,
     "status": "ok",
     "timestamp": 1579042569637,
     "user": {
      "displayName": "Vlad Danaila",
      "photoUrl": "",
      "userId": "16049478229633186858"
     },
     "user_tz": -120
    },
    "id": "IEidARh3JpWx",
    "outputId": "b3fb12f1-69d9-48cd-afca-db8b6a7ab293"
   },
   "outputs": [
    {
     "name": "stdout",
     "output_type": "stream",
     "text": [
      "GPU RAM Free: 11019MB | Used: 0MB | Util   0% | Total 11019MB\n",
      "GPU RAM Free: 11019MB | Used: 0MB | Util   0% | Total 11019MB\n"
     ]
    }
   ],
   "source": [
    "import GPUtil\n",
    "def memory_stats():\n",
    "  for gpu in GPUtil.getGPUs():\n",
    "    print(\"GPU RAM Free: {0:.0f}MB | Used: {1:.0f}MB | Util {2:3.0f}% | Total {3:.0f}MB\".format(gpu.memoryFree, gpu.memoryUsed, gpu.memoryUtil*100, gpu.memoryTotal))\n",
    "memory_stats()"
   ]
  },
  {
   "cell_type": "markdown",
   "metadata": {
    "colab_type": "text",
    "id": "ugovPCwFvBc4"
   },
   "source": [
    "**Loading Data**"
   ]
  },
  {
   "cell_type": "markdown",
   "metadata": {
    "colab_type": "text",
    "id": "8_PMRn9BcaPO"
   },
   "source": [
    "The dataset is structured in multiple small folders, ecah containing 7 images. The generator iterates through the folders and returns the category and 7 paths: one for each image in the folder."
   ]
  },
  {
   "cell_type": "code",
   "execution_count": 5,
   "metadata": {
    "colab": {},
    "colab_type": "code",
    "id": "qU2qOUVWZZNl"
   },
   "outputs": [],
   "source": [
    "def sortByLastDigits(elem):\n",
    "  chars = [c for c in elem if c.isdigit()]\n",
    "  return 0 if len(chars) == 0 else int(''.join(chars))\n",
    "\n",
    "def getImagesPaths(root_path):\n",
    "  for  class_folder in [root_path + f for f in listdir(root_path)]:\n",
    "      category = int(class_folder[-1])\n",
    "      for case_folder in listdir(class_folder):\n",
    "        case_folder_path = class_folder + '/' + case_folder + '/'\n",
    "        img_files = [case_folder_path + file_name for file_name in listdir(case_folder_path)]\n",
    "        yield category, sorted(img_files, key = sortByLastDigits)"
   ]
  },
  {
   "cell_type": "markdown",
   "metadata": {
    "colab_type": "text",
    "id": "MSrKoW7TdRFr"
   },
   "source": [
    "We define 3 datasets, which loads 3 kinds of images: natural images, images taken through a green lens and images where the doctor aplied iodine solution (which gives a dark red colour). Each dataset has dynamic and static transformations which could be applied to the data. The static transformations are applied on the initialization of the dataset, while the dynamic ones are applied when loading each batch of data."
   ]
  },
  {
   "cell_type": "code",
   "execution_count": 6,
   "metadata": {
    "colab": {},
    "colab_type": "code",
    "id": "EmgWK_7-doGb"
   },
   "outputs": [],
   "source": [
    "class SimpleImagesDataset(t.utils.data.Dataset):\n",
    "  def __init__(self, root_path, transforms_x_static = None, transforms_x_dynamic = None, transforms_y_static = None, transforms_y_dynamic = None):\n",
    "    self.dataset = []\n",
    "    self.transforms_x = transforms_x_dynamic\n",
    "    self.transforms_y = transforms_y_dynamic\n",
    "    for category, img_files in getImagesPaths(root_path):\n",
    "      for i in range(5):\n",
    "        img = pil.Image.open(img_files[i])\n",
    "        if transforms_x_static != None:\n",
    "          img = transforms_x_static(img)\n",
    "        if transforms_y_static != None:\n",
    "          category = transforms_y_static(category)\n",
    "        self.dataset.append((img, category))    \n",
    "  \n",
    "  def __getitem__(self, i):\n",
    "    x, y = self.dataset[i]\n",
    "    if self.transforms_x != None:\n",
    "      x = self.transforms_x(x)\n",
    "    if self.transforms_y != None:\n",
    "      y = self.transforms_y(y)\n",
    "    return x, y\n",
    "\n",
    "  def __len__(self):\n",
    "    return len(self.dataset)\n",
    "\n",
    "class GreenLensImagesDataset(SimpleImagesDataset):\n",
    "  def __init__(self, root_path, transforms_x_static = None, transforms_x_dynamic = None, transforms_y_static = None, transforms_y_dynamic = None):\n",
    "    self.dataset = []\n",
    "    self.transforms_x = transforms_x_dynamic\n",
    "    self.transforms_y = transforms_y_dynamic\n",
    "    for category, img_files in getImagesPaths(root_path):\n",
    "        # Only the green lens image\n",
    "        img = pil.Image.open(img_files[-2]) \n",
    "        if transforms_x_static != None:\n",
    "          img = transforms_x_static(img)\n",
    "        if transforms_y_static != None:\n",
    "          category = transforms_y_static(category)\n",
    "        self.dataset.append((img, category))    \n",
    "\n",
    "class RedImagesDataset(SimpleImagesDataset):\n",
    "  def __init__(self, root_path, transforms_x_static = None, transforms_x_dynamic = None, transforms_y_static = None, transforms_y_dynamic = None):\n",
    "    self.dataset = []\n",
    "    self.transforms_x = transforms_x_dynamic\n",
    "    self.transforms_y = transforms_y_dynamic\n",
    "    for category, img_files in getImagesPaths(root_path):\n",
    "        # Only the green lens image\n",
    "        img = pil.Image.open(img_files[-1]) \n",
    "        if transforms_x_static != None:\n",
    "          img = transforms_x_static(img)\n",
    "        if transforms_y_static != None:\n",
    "          category = transforms_y_static(category)\n",
    "        self.dataset.append((img, category))    "
   ]
  },
  {
   "cell_type": "markdown",
   "metadata": {
    "colab_type": "text",
    "id": "vRqFvAHwvVTl"
   },
   "source": [
    "**Preprocess Data**"
   ]
  },
  {
   "cell_type": "markdown",
   "metadata": {
    "colab_type": "text",
    "id": "UOI_JvcCe0cR"
   },
   "source": [
    "Convert pytorch tensor to numpy array."
   ]
  },
  {
   "cell_type": "code",
   "execution_count": 7,
   "metadata": {
    "colab": {},
    "colab_type": "code",
    "id": "OKxTUFnkezdb"
   },
   "outputs": [],
   "source": [
    "def to_numpy(x):\n",
    "  return x.cpu().detach().numpy()"
   ]
  },
  {
   "cell_type": "markdown",
   "metadata": {
    "colab_type": "text",
    "id": "TmnrMN5BmHRg"
   },
   "source": [
    "Data transformations for the test and training sets."
   ]
  },
  {
   "cell_type": "code",
   "execution_count": 8,
   "metadata": {
    "colab": {},
    "colab_type": "code",
    "id": "_hBCnG-fvwjB"
   },
   "outputs": [],
   "source": [
    "norm_mean = [0.485, 0.456, 0.406]\n",
    "norm_std = [0.229, 0.224, 0.225]\n",
    "\n",
    "transforms_train = tv.transforms.Compose([\n",
    "    tv.transforms.RandomAffine(degrees  = 45, translate = None, scale = (1., 2.), shear = 30),\n",
    "    # tv.transforms.CenterCrop(CROP_SIZE),\n",
    "    tv.transforms.Resize(IMAGE_SIZE),\n",
    "    tv.transforms.RandomHorizontalFlip(),\n",
    "    tv.transforms.ToTensor(),\n",
    "    tv.transforms.Lambda(lambda t: t.cuda()),\n",
    "    tv.transforms.Normalize(mean=norm_mean, std=norm_std)    \n",
    "])\n",
    "\n",
    "transforms_test = tv.transforms.Compose([\n",
    "    # tv.transforms.CenterCrop(CROP_SIZE),\n",
    "    tv.transforms.Resize(IMAGE_SIZE),\n",
    "    tv.transforms.ToTensor(),\n",
    "    tv.transforms.Normalize(mean=norm_mean, std=norm_std)    \n",
    "])\n",
    "\n",
    "y_transform = tv.transforms.Lambda(lambda y: t.tensor(y, dtype=t.long, device = 'cuda:0'))"
   ]
  },
  {
   "cell_type": "markdown",
   "metadata": {
    "colab_type": "text",
    "id": "5ky8gX31q-NW"
   },
   "source": [
    "Initialize pytorch datasets and loaders for training and test."
   ]
  },
  {
   "cell_type": "code",
   "execution_count": 9,
   "metadata": {
    "colab": {},
    "colab_type": "code",
    "id": "2hqOyTVGnjjy"
   },
   "outputs": [],
   "source": [
    "def create_loaders(dataset_class):\n",
    "  dataset_train = dataset_class(TRAIN_PATH, transforms_x_dynamic = transforms_train, transforms_y_dynamic = y_transform)\n",
    "  dataset_test = dataset_class(TEST_PATH, transforms_x_static = transforms_test, \n",
    "                                                transforms_x_dynamic = tv.transforms.Lambda(lambda t: t.cuda()), transforms_y_dynamic = y_transform)\n",
    "\n",
    "  loader_train = DataLoader(dataset_train, BATCH_SIZE, shuffle = True, num_workers = 0)\n",
    "  loader_test = DataLoader(dataset_test, BATCH_SIZE, shuffle = False, num_workers = 0)\n",
    "  return loader_train, loader_test, len(dataset_train), len(dataset_test)"
   ]
  },
  {
   "cell_type": "code",
   "execution_count": 10,
   "metadata": {
    "colab": {},
    "colab_type": "code",
    "id": "Un_LZV7KqFCn"
   },
   "outputs": [],
   "source": [
    "loader_train_simple_img, loader_test_simple_img, len_train, len_test = create_loaders(SimpleImagesDataset)"
   ]
  },
  {
   "cell_type": "markdown",
   "metadata": {
    "colab_type": "text",
    "id": "yIcoJBpn0jZ8"
   },
   "source": [
    "**Visualize Data**"
   ]
  },
  {
   "cell_type": "markdown",
   "metadata": {
    "colab_type": "text",
    "id": "ARRQsL2drbzv"
   },
   "source": [
    "Load a few images so that we can see the efects of the data augmentation on the training set."
   ]
  },
  {
   "cell_type": "code",
   "execution_count": 11,
   "metadata": {
    "colab": {},
    "colab_type": "code",
    "id": "mDi25EAxrSal"
   },
   "outputs": [],
   "source": [
    "def plot_one_prediction(x, label, pred):  \n",
    "  x, label, pred = to_numpy(x), to_numpy(label), to_numpy(pred)\n",
    "  x = np.transpose(x, [1, 2, 0])\n",
    "  if x.shape[-1] == 1:\n",
    "    x = x.squeeze()\n",
    "  x = x * np.array(norm_std) + np.array(norm_mean)\n",
    "  plt.title(label, color = 'green' if label == pred else 'red')\n",
    "  plt.imshow(x)\n",
    "\n",
    "def plot_predictions(imgs, labels, preds):  \n",
    "  fig = plt.figure(figsize = (20, 5))\n",
    "  for i in range(20):\n",
    "    fig.add_subplot(2, 10, i + 1, xticks = [], yticks = [])\n",
    "    plot_one_prediction(imgs[i], labels[i], preds[i])"
   ]
  },
  {
   "cell_type": "code",
   "execution_count": 12,
   "metadata": {
    "colab": {},
    "colab_type": "code",
    "id": "Q0jkeNIVrVf3"
   },
   "outputs": [],
   "source": [
    "# x, y = next(iter(loader_train_simple_img))\n",
    "# for i in range(7):\n",
    "#   plot_predictions(x[i], y, y)"
   ]
  },
  {
   "cell_type": "markdown",
   "metadata": {
    "colab_type": "text",
    "id": "teYfBi5v0yuj"
   },
   "source": [
    "**Model**"
   ]
  },
  {
   "cell_type": "code",
   "execution_count": 13,
   "metadata": {
    "colab": {},
    "colab_type": "code",
    "id": "3rQm0JTXsLOO"
   },
   "outputs": [],
   "source": [
    "def get_resnet_18():\n",
    "  model = tv.models.resnet18(pretrained = True)\n",
    "  model.fc.out_features = 4\n",
    "  model = model.cuda()\n",
    "  return model"
   ]
  },
  {
   "cell_type": "code",
   "execution_count": 14,
   "metadata": {
    "colab": {
     "base_uri": "https://localhost:8080/",
     "height": 69
    },
    "colab_type": "code",
    "executionInfo": {
     "elapsed": 5422,
     "status": "ok",
     "timestamp": 1579042573434,
     "user": {
      "displayName": "Vlad Danaila",
      "photoUrl": "",
      "userId": "16049478229633186858"
     },
     "user_tz": -120
    },
    "id": "DRM168aEuTid",
    "outputId": "489e975e-7a63-41ab-821e-51b4597f6117"
   },
   "outputs": [],
   "source": [
    "model_simple = t.nn.DataParallel(get_resnet_18())"
   ]
  },
  {
   "cell_type": "markdown",
   "metadata": {
    "colab_type": "text",
    "id": "eVNbPOX31_rS"
   },
   "source": [
    "**Train & Evaluate**"
   ]
  },
  {
   "cell_type": "markdown",
   "metadata": {
    "colab_type": "text",
    "id": "6G1HQmJ1vJt8"
   },
   "source": [
    "Timer utility function. This is used to measure the execution speend."
   ]
  },
  {
   "cell_type": "code",
   "execution_count": 15,
   "metadata": {
    "colab": {},
    "colab_type": "code",
    "id": "77HDFtMd1Ra_"
   },
   "outputs": [],
   "source": [
    "time_start = 0\n",
    "\n",
    "def timer_start():\n",
    "  global time_start\n",
    "  time_start = time.time()\n",
    "\n",
    "def timer_end():\n",
    "  return time.time() - time_start"
   ]
  },
  {
   "cell_type": "markdown",
   "metadata": {
    "colab_type": "text",
    "id": "2ZE3UqwMvbfM"
   },
   "source": [
    "This function trains the network and e valuates it at the same time. It outputs the metrics recorder during the training for both train and test. We are measuring accuracy and the loss. The function also saves a checkpoint of the model every time the accuracy is imporved. In the end we will have a checkpoint of the model which gave the best accuracy."
   ]
  },
  {
   "cell_type": "code",
   "execution_count": 16,
   "metadata": {
    "colab": {},
    "colab_type": "code",
    "id": "FwUA4abu2pRe"
   },
   "outputs": [],
   "source": [
    "def train_eval(optimizer, model, loader_train, loader_test, chekpoint_name, epochs):\n",
    "  metrics = {\n",
    "      'losses_train': [],\n",
    "      'losses_test': [],\n",
    "\n",
    "      'acc_train': [],\n",
    "      'acc_test': [],\n",
    "\n",
    "      'prec_train': [],\n",
    "      'prec_test': [],\n",
    "\n",
    "      'rec_train': [],\n",
    "      'rec_test': [],\n",
    "\n",
    "      'f_score_train': [],\n",
    "      'f_score_test': [],\n",
    "\n",
    "      'mean_class_acc_train': [],\n",
    "      'mean_class_acc_test': []  \n",
    "  }\n",
    "\n",
    "  best_mean_acc = 0\n",
    "  \n",
    "  loss_weights = t.tensor([1/4] * 4, device='cuda:0')\n",
    "    \n",
    "  try:  \n",
    "    for epoch in range(epochs):\n",
    "      timer_start()\n",
    "      loss_fn = t.nn.CrossEntropyLoss(weight = loss_weights)\n",
    "      # loss_fn = t.nn.CrossEntropyLoss()\n",
    "      # loss_fn = FocalLoss(gamma = 2)\n",
    "      train_epoch_loss, train_epoch_acc, train_epoch_precision, train_epoch_recall, train_epoch_f_score = 0, 0, 0, 0, 0\n",
    "      test_epoch_loss, test_epoch_acc, test_epoch_precision, test_epoch_recall, test_epoch_f_score = 0, 0, 0, 0, 0\n",
    "\n",
    "      # Train\n",
    "      model.train()\n",
    "      conf_matrix = np.zeros((4, 4))\n",
    "      for x, y in loader_train:\n",
    "        y_pred = model.forward(x)\n",
    "        y_pred = y_pred.narrow(1, 0, 4)\n",
    "        loss = loss_fn(y_pred, y)\n",
    "        loss.backward()\n",
    "        optimizer.step()\n",
    "#         memory_stats()\n",
    "        optimizer.zero_grad()\n",
    "        y_pred, y = to_numpy(y_pred), to_numpy(y)\n",
    "        pred = y_pred.argmax(axis = 1)\n",
    "        ratio = len(y) / len_train\n",
    "        train_epoch_loss += (loss.item() * ratio)\n",
    "        train_epoch_acc += (sk.metrics.accuracy_score(y, pred) * ratio)\n",
    "        precision, recall, f_score, _ = sk.metrics.precision_recall_fscore_support(y, pred, average = 'macro')\n",
    "        train_epoch_precision += (precision * ratio)\n",
    "        train_epoch_recall += (recall * ratio)\n",
    "        train_epoch_f_score += (f_score * ratio)\n",
    "        conf_matrix += sk.metrics.confusion_matrix(y, pred, labels = list(range(4)))\n",
    "      class_acc = [conf_matrix[i][i] / sum(conf_matrix[i]) for i in range(len(conf_matrix))]\n",
    "      mean_class_acc = statistics.harmonic_mean(class_acc)\n",
    "      errors = [1 - conf_matrix[i][i] / sum(conf_matrix[i]) for i in range(len(conf_matrix))]\n",
    "      errors_strong = [math.exp(100 * e) for e in errors]\n",
    "      loss_weights = t.tensor([e / sum(errors_strong) for e in errors_strong], device = 'cuda:0')\n",
    "      metrics['losses_train'].append(train_epoch_loss)\n",
    "      metrics['acc_train'].append(train_epoch_acc)\n",
    "      metrics['prec_train'].append(train_epoch_precision)\n",
    "      metrics['rec_train'].append(train_epoch_recall)\n",
    "      metrics['f_score_train'].append(train_epoch_f_score)\n",
    "      metrics['mean_class_acc_train'].append(mean_class_acc) \n",
    "\n",
    "      # Evaluate\n",
    "      model.eval()\n",
    "      with t.no_grad():\n",
    "        conf_matrix_test = np.zeros((4, 4))\n",
    "        for x, y in loader_test:\n",
    "          y_pred = model.forward(x)\n",
    "          y_pred = y_pred.narrow(1, 0, 4)\n",
    "          loss = loss_fn(y_pred, y)\n",
    "          y_pred, y = to_numpy(y_pred), to_numpy(y)\n",
    "          pred = y_pred.argmax(axis = 1)\n",
    "          ratio = len(y) / len_test\n",
    "          test_epoch_loss += (loss * ratio)\n",
    "          test_epoch_acc += (sk.metrics.accuracy_score(y, pred) * ratio )\n",
    "          precision, recall, f_score, _ = sk.metrics.precision_recall_fscore_support(y, pred, average = 'macro')\n",
    "          test_epoch_precision += (precision * ratio)\n",
    "          test_epoch_recall += (recall * ratio)\n",
    "          test_epoch_f_score += (f_score * ratio)\n",
    "          conf_matrix_test += sk.metrics.confusion_matrix(y, pred, labels = list(range(4)))\n",
    "        class_acc_test = [conf_matrix_test[i][i] / sum(conf_matrix_test[i]) for i in range(len(conf_matrix_test))]\n",
    "        mean_class_acc_test = statistics.harmonic_mean(class_acc_test)\n",
    "        metrics['losses_test'].append(test_epoch_loss)\n",
    "        metrics['acc_test'].append(test_epoch_acc)\n",
    "        metrics['prec_test'].append(test_epoch_precision)\n",
    "        metrics['rec_test'].append(test_epoch_recall)\n",
    "        metrics['f_score_test'].append(test_epoch_f_score)\n",
    "        metrics['mean_class_acc_test'].append(mean_class_acc_test) \n",
    "      \n",
    "      if metrics['mean_class_acc_test'][-1] > best_mean_acc:\n",
    "        best_mean_acc = metrics['mean_class_acc_test'][-1]\n",
    "        t.save({'model': model.state_dict()}, 'checkpint {}.tar'.format(chekpoint_name))\n",
    "      print('Epoch {} mean class acc {} acc {} prec {} rec {} f {} minutes {}'.format(\n",
    "        epoch + 1, metrics['mean_class_acc_test'][-1], metrics['acc_test'][-1], metrics['prec_test'][-1], metrics['rec_test'][-1], metrics['f_score_test'][-1], timer_end() / 60))\n",
    "  except KeyboardInterrupt as e:\n",
    "    print(e)  \n",
    "  print('Ended training')\n",
    "  return metrics"
   ]
  },
  {
   "cell_type": "markdown",
   "metadata": {
    "colab_type": "text",
    "id": "BPznZeFDxhtA"
   },
   "source": [
    "Plot a metric for both train and test."
   ]
  },
  {
   "cell_type": "code",
   "execution_count": 17,
   "metadata": {
    "colab": {},
    "colab_type": "code",
    "id": "4QjYASRPRnIr"
   },
   "outputs": [],
   "source": [
    "def plot_train_test(train, test, title, y_title):\n",
    "    plt.plot(range(len(train)), train, label = 'train')\n",
    "    plt.plot(range(len(test)), test, label = 'test')\n",
    "    plt.xlabel('Epochs')\n",
    "    plt.ylabel(y_title)\n",
    "    plt.title(title)\n",
    "    plt.legend()\n",
    "    plt.show()"
   ]
  },
  {
   "cell_type": "code",
   "execution_count": 18,
   "metadata": {
    "colab": {},
    "colab_type": "code",
    "id": "IhqQNSnDJpX4"
   },
   "outputs": [],
   "source": [
    "def plot_precision_recall(metrics):\n",
    "    plt.scatter(metrics['prec_train'], metrics['rec_train'], label = 'train')\n",
    "    plt.scatter(metrics['prec_test'], metrics['rec_test'], label = 'test')\n",
    "    plt.legend()\n",
    "    plt.title('Precision-Recall')\n",
    "    plt.xlabel('Precision')\n",
    "    plt.ylabel('Recall')"
   ]
  },
  {
   "cell_type": "markdown",
   "metadata": {
    "colab_type": "text",
    "id": "T8adJjmiCHs6"
   },
   "source": [
    "Train a model for several epochs. The steps_learning parameter is a list of tuples. Each tuple specifies the steps and the learning rate."
   ]
  },
  {
   "cell_type": "code",
   "execution_count": 19,
   "metadata": {
    "colab": {},
    "colab_type": "code",
    "id": "1jO6UBhaP926"
   },
   "outputs": [],
   "source": [
    "def do_train(model, loader_train, loader_test, checkpoint_name, steps_learning):\n",
    "  t.cuda.empty_cache()\n",
    "  for steps, learn_rate in steps_learning:\n",
    "    metrics = train_eval(t.optim.Adam(model.parameters(), lr = learn_rate, weight_decay = 0), model, loader_train, loader_test, checkpoint_name, steps)\n",
    "    \n",
    "    index_max = np.array(metrics['mean_class_acc_test']).argmax()\n",
    "    print('Best mean class accuracy :', metrics['mean_class_acc_test'][index_max])\n",
    "    print('Best test accuracy :', metrics['acc_test'][index_max])\n",
    "    print('Corresponding precision :', metrics['prec_test'][index_max])\n",
    "    print('Corresponding recall :', metrics['rec_test'][index_max])\n",
    "    print('Corresponding f1 score :', metrics['f_score_test'][index_max])\n",
    "\n",
    "    plot_train_test(metrics['mean_class_acc_train'], metrics['mean_class_acc_test'], 'Mean Class Accuracy (lr = {})'.format(learn_rate), 'Mean Class Accuracy')\n",
    "    plot_train_test(metrics['losses_train'], metrics['losses_test'], 'Loss (lr = {})'.format(learn_rate), 'Loss')\n",
    "    plot_train_test(metrics['acc_train'], metrics['acc_test'], 'Accuracy (lr = {})'.format(learn_rate), 'Accuracy')\n",
    "    plot_train_test(metrics['prec_train'], metrics['prec_test'], 'Precision (lr = {})'.format(learn_rate), 'Precision')\n",
    "    plot_train_test(metrics['rec_train'], metrics['rec_test'], 'Recall (lr = {})'.format(learn_rate), 'Recall')\n",
    "    plot_train_test(metrics['f_score_train'], metrics['f_score_test'], 'F1 Score (lr = {})'.format(learn_rate), 'F1 Score')\n",
    "    plot_precision_recall(metrics)"
   ]
  },
  {
   "cell_type": "markdown",
   "metadata": {
    "colab_type": "text",
    "id": "Q91nZ33rCryC"
   },
   "source": [
    "Perform actual training"
   ]
  },
  {
   "cell_type": "code",
   "execution_count": 20,
   "metadata": {
    "colab": {
     "base_uri": "https://localhost:8080/",
     "height": 1000
    },
    "colab_type": "code",
    "executionInfo": {
     "elapsed": 1665967,
     "status": "ok",
     "timestamp": 1579044234046,
     "user": {
      "displayName": "Vlad Danaila",
      "photoUrl": "",
      "userId": "16049478229633186858"
     },
     "user_tz": -120
    },
    "id": "BA2tEyFmCybQ",
    "outputId": "0623296d-169d-4c80-8599-906849f5e21d",
    "scrolled": false
   },
   "outputs": [
    {
     "name": "stderr",
     "output_type": "stream",
     "text": [
      "/usr/local/lib/python3.6/dist-packages/sklearn/metrics/_classification.py:1272: UndefinedMetricWarning: Recall and F-score are ill-defined and being set to 0.0 in labels with no true samples. Use `zero_division` parameter to control this behavior.\n",
      "  _warn_prf(average, modifier, msg_start, len(result))\n",
      "/usr/lib/python3.6/statistics.py:356: RuntimeWarning: divide by zero encountered in double_scalars\n",
      "  T, total, count = _sum(1/x for x in _fail_neg(data, errmsg))\n",
      "/usr/local/lib/python3.6/dist-packages/sklearn/metrics/_classification.py:1272: UndefinedMetricWarning: Precision and F-score are ill-defined and being set to 0.0 in labels with no predicted samples. Use `zero_division` parameter to control this behavior.\n",
      "  _warn_prf(average, modifier, msg_start, len(result))\n"
     ]
    },
    {
     "name": "stdout",
     "output_type": "stream",
     "text": [
      "Epoch 1 mean class acc 0.059561295831776696 acc 0.3291666666666667 prec 0.30352710233029384 rec 0.1579861111111111 f 0.18268976381263352 minutes 0.3932771682739258\n",
      "Epoch 2 mean class acc 0.36578171091445427 acc 0.3916666666666667 prec 0.3042099981755155 rec 0.20902777777777778 f 0.2419997441340248 minutes 0.1974022626876831\n",
      "Epoch 3 mean class acc 0.3265625 acc 0.47500000000000003 prec 0.3160819814137892 rec 0.2923611111111111 f 0.2829538602702461 minutes 0.18656533161799113\n",
      "Epoch 4 mean class acc 0.31310519262349235 acc 0.4541666666666667 prec 0.3027810694034098 rec 0.275 f 0.2664595064119662 minutes 0.18716487487157185\n",
      "Epoch 5 mean class acc 0.3611415102281337 acc 0.4375 prec 0.3113629880831643 rec 0.2560763888888889 f 0.2716181315857542 minutes 0.19147032499313354\n",
      "Epoch 6 mean class acc 0.40306244041944705 acc 0.4416666666666667 prec 0.34551221804511273 rec 0.26371527777777776 f 0.2908371810673265 minutes 0.18994338909784952\n",
      "Epoch 7 mean class acc 0.3886104131133881 acc 0.4708333333333333 prec 0.36766317948383165 rec 0.2949652777777778 f 0.30957746783492257 minutes 0.18964651823043824\n",
      "Epoch 8 mean class acc 0.3874256584536958 acc 0.4583333333333333 prec 0.33259680134680136 rec 0.26840277777777777 f 0.2784511493445961 minutes 0.18766733407974243\n",
      "Epoch 9 mean class acc 0.4692737430167598 acc 0.49583333333333335 prec 0.37149523004786167 rec 0.2871527777777778 f 0.31445778137913943 minutes 0.19059718052546185\n",
      "Epoch 10 mean class acc 0.45161723130001435 acc 0.4625000000000001 prec 0.3580817230273752 rec 0.23940972222222226 f 0.28471021285757786 minutes 0.18983155886332195\n",
      "Epoch 11 mean class acc 0.3230994152046784 acc 0.4 prec 0.38718610577863094 rec 0.20156250000000003 f 0.24803677179343586 minutes 0.18766985336939493\n",
      "Epoch 12 mean class acc 0.35404255319148936 acc 0.39583333333333337 prec 0.3598288852578069 rec 0.20555555555555557 f 0.246092900628175 minutes 0.1886355678240458\n",
      "Epoch 13 mean class acc 0.4247087271927896 acc 0.44583333333333336 prec 0.34646336933476574 rec 0.24809027777777776 f 0.27610367091396903 minutes 0.18667476971944172\n",
      "Epoch 14 mean class acc 0.3558398599017366 acc 0.5083333333333333 prec 0.3370331394131994 rec 0.2984375 f 0.2869454373658367 minutes 0.18037761052449544\n",
      "Epoch 15 mean class acc 0.4161849710982659 acc 0.5291666666666667 prec 0.3430228625541126 rec 0.30399305555555556 f 0.29825483361667576 minutes 0.22170821825663248\n",
      "Epoch 16 mean class acc 0.4777081468218442 acc 0.5208333333333334 prec 0.34098424878613764 rec 0.28055555555555556 f 0.30061495247692216 minutes 0.2269835909207662\n",
      "Epoch 17 mean class acc 0.43804114428205304 acc 0.47500000000000003 prec 0.3815276159026159 rec 0.2715277777777778 f 0.3130744579077067 minutes 0.19157746235529582\n",
      "Epoch 18 mean class acc 0.47650162223162645 acc 0.47916666666666674 prec 0.37130287247474747 rec 0.2609375 f 0.3036638289011024 minutes 0.19196265935897827\n",
      "Epoch 19 mean class acc 0.4768484156437339 acc 0.47916666666666663 prec 0.36781596618532475 rec 0.26614583333333336 f 0.30428594348704163 minutes 0.19228880405426024\n",
      "Epoch 20 mean class acc 0.48813559322033895 acc 0.4916666666666667 prec 0.36243460189681126 rec 0.2581597222222222 f 0.2988722172080529 minutes 0.19239558378855387\n",
      "Epoch 21 mean class acc 0.40377717080354436 acc 0.4375 prec 0.35414536730326207 rec 0.20937500000000003 f 0.2575019867584523 minutes 0.19120160738627115\n",
      "Epoch 22 mean class acc 0.4241988003427592 acc 0.4375 prec 0.34349809712391866 rec 0.215625 f 0.26217318033614884 minutes 0.1888625184694926\n",
      "Epoch 23 mean class acc 0.44191714053614944 acc 0.5125 prec 0.35388118535502544 rec 0.26996527777777773 f 0.2948986095094698 minutes 0.1898176630338033\n",
      "Epoch 24 mean class acc 0.46154051893659637 acc 0.5291666666666667 prec 0.36948853615520283 rec 0.30000000000000004 f 0.3175184573174458 minutes 0.1873733361562093\n",
      "Epoch 25 mean class acc 0.46848564371719664 acc 0.5083333333333333 prec 0.36597526803118907 rec 0.2765625 f 0.30932336250966785 minutes 0.19148164590199787\n",
      "Epoch 26 mean class acc 0.45559322033898303 acc 0.5 prec 0.36184287708677954 rec 0.2642361111111111 f 0.30190657874007626 minutes 0.18748027880986531\n",
      "Epoch 27 mean class acc 0.43782583801267694 acc 0.5041666666666668 prec 0.36968266177629444 rec 0.2451388888888889 f 0.2905431978568051 minutes 0.1884475827217102\n",
      "Epoch 28 mean class acc 0.4815907352780509 acc 0.525 prec 0.3574420936853003 rec 0.27239583333333334 f 0.30609153298088904 minutes 0.18258063395818075\n",
      "Epoch 29 mean class acc 0.48373887240356084 acc 0.5333333333333334 prec 0.3659040370534179 rec 0.29375 f 0.31741834616724107 minutes 0.22536341349283853\n",
      "Epoch 30 mean class acc 0.4860456416011972 acc 0.4875 prec 0.3552574195956549 rec 0.25 f 0.2908358845858846 minutes 0.21961438258488972\n",
      "Epoch 31 mean class acc 0.432863778268484 acc 0.45833333333333337 prec 0.46447920129093184 rec 0.27905092592592595 f 0.3428241594981891 minutes 0.19171613454818726\n",
      "Epoch 32 mean class acc 0.41801137236821884 acc 0.45 prec 0.4237445600435197 rec 0.2599537037037037 f 0.31733257774457496 minutes 0.1910478115081787\n",
      "Epoch 33 mean class acc 0.4415085608514577 acc 0.525 prec 0.40899831371583145 rec 0.3027777777777778 f 0.3396585345284707 minutes 0.1881178657213847\n",
      "Epoch 34 mean class acc 0.494949494949495 acc 0.5499999999999999 prec 0.3614923692443072 rec 0.2965277777777778 f 0.31779382088050484 minutes 0.19198068380355834\n",
      "Epoch 35 mean class acc 0.5053501385910779 acc 0.5541666666666667 prec 0.36201022319973936 rec 0.2965277777777778 f 0.3187453654919408 minutes 0.19143142302831015\n",
      "Epoch 36 mean class acc 0.5180572851805729 acc 0.5291666666666667 prec 0.4142596256083098 rec 0.30190972222222223 f 0.34852286671316524 minutes 0.1930480162302653\n",
      "Epoch 37 mean class acc 0.5047070466137177 acc 0.5208333333333334 prec 0.3817429467695426 rec 0.2645833333333334 f 0.3112196743459398 minutes 0.19073424339294434\n",
      "Epoch 38 mean class acc 0.4306536707502459 acc 0.48750000000000004 prec 0.36626937319097413 rec 0.2373263888888889 f 0.2818594964976544 minutes 0.19104509751001994\n",
      "Epoch 39 mean class acc 0.48809435671485024 acc 0.5125000000000001 prec 0.37242288838033527 rec 0.2598958333333333 f 0.3003981111590498 minutes 0.19035866260528564\n",
      "Epoch 40 mean class acc 0.489641591177629 acc 0.5416666666666667 prec 0.3675422408975041 rec 0.28142361111111114 f 0.31414181696439764 minutes 0.19117242495218914\n",
      "Epoch 41 mean class acc 0.4799566923805657 acc 0.5125 prec 0.4184027777777778 rec 0.2659722222222222 f 0.31618277882402174 minutes 0.1880325436592102\n",
      "Epoch 42 mean class acc 0.4778895380352948 acc 0.4916666666666667 prec 0.5059655333092834 rec 0.3074074074074074 f 0.3742461278258492 minutes 0.18416810433069866\n",
      "Epoch 43 mean class acc 0.501039860843446 acc 0.5125 prec 0.3938571494853188 rec 0.2635416666666667 f 0.3135964984004612 minutes 0.2346561868985494\n",
      "Epoch 44 mean class acc 0.46680080482897385 acc 0.5125 prec 0.3901500831092096 rec 0.26006944444444446 f 0.30950459520473783 minutes 0.21675629615783693\n",
      "Epoch 45 mean class acc 0.5119586296056884 acc 0.5541666666666667 prec 0.38356238328664805 rec 0.28437500000000004 f 0.3238371120530563 minutes 0.1898516813913981\n",
      "Epoch 46 mean class acc 0.5255369066955423 acc 0.5416666666666666 prec 0.4007708417228766 rec 0.2789930555555556 f 0.32700211348347274 minutes 0.19487346410751344\n",
      "Epoch 47 mean class acc 0.4810514227382927 acc 0.4958333333333334 prec 0.48016578159041395 rec 0.30694444444444446 f 0.36976153225787944 minutes 0.1908933440844218\n",
      "Epoch 48 mean class acc 0.4578412108911105 acc 0.48333333333333334 prec 0.44974387903309476 rec 0.27893518518518523 f 0.3397940894761132 minutes 0.19293976624806722\n",
      "Epoch 49 mean class acc 0.5166880616174583 acc 0.5666666666666668 prec 0.4002028567245959 rec 0.3006944444444445 f 0.33937500756722727 minutes 0.18950066566467286\n",
      "Epoch 50 mean class acc 0.5421896988460456 acc 0.6 prec 0.39686659946236563 rec 0.3147569444444444 f 0.3470190995162456 minutes 0.19177461862564088\n",
      "Epoch 51 mean class acc 0.5193746929811888 acc 0.5541666666666667 prec 0.40028661884335615 rec 0.2947916666666667 f 0.33813705991779386 minutes 0.18990229368209838\n",
      "Epoch 52 mean class acc 0.46629062583937686 acc 0.49583333333333335 prec 0.4158717105263158 rec 0.2607638888888889 f 0.31559125336910837 minutes 0.1889191468556722\n"
     ]
    },
    {
     "name": "stdout",
     "output_type": "stream",
     "text": [
      "Epoch 53 mean class acc 0.44467374810318666 acc 0.4791666666666667 prec 0.44550758078998265 rec 0.2714120370370371 f 0.3324400923339058 minutes 0.1915475010871887\n",
      "Epoch 54 mean class acc 0.40292566763054943 acc 0.4833333333333334 prec 0.38397814981398193 rec 0.23315972222222225 f 0.2794918260270478 minutes 0.19046912988026937\n",
      "Epoch 55 mean class acc 0.5334257014201593 acc 0.5916666666666667 prec 0.39541969330104926 rec 0.2994791666666667 f 0.33694057920064113 minutes 0.19010429779688517\n",
      "Epoch 56 mean class acc 0.5216853051623819 acc 0.6041666666666666 prec 0.39233174081035926 rec 0.32517361111111115 f 0.34672269030215347 minutes 0.18381082614262897\n",
      "Epoch 57 mean class acc 0.5105699221692193 acc 0.5291666666666667 prec 0.378671223100571 rec 0.27239583333333334 f 0.3139544361326014 minutes 0.23138746817906697\n",
      "Epoch 58 mean class acc 0.4768211920529801 acc 0.4875 prec 0.4006637377173091 rec 0.2578125 f 0.3109836703875176 minutes 0.21459693908691407\n",
      "Epoch 59 mean class acc 0.4561028270696984 acc 0.47500000000000003 prec 0.44462065107050575 rec 0.2766203703703704 f 0.3362051614873463 minutes 0.19171653588612875\n",
      "Epoch 60 mean class acc 0.5276405926397961 acc 0.5750000000000001 prec 0.39716900715184467 rec 0.30017361111111107 f 0.33918342224066406 minutes 0.18838324944178264\n",
      "Epoch 61 mean class acc 0.5551559918359413 acc 0.6166666666666667 prec 0.403624238847838 rec 0.3276041666666667 f 0.35631038910618934 minutes 0.18986982901891072\n",
      "Epoch 62 mean class acc 0.5235911121683603 acc 0.5458333333333334 prec 0.39981303418803427 rec 0.28593750000000007 f 0.3320797258297258 minutes 0.1905273238817851\n",
      "Epoch 63 mean class acc 0.47692020183143335 acc 0.5083333333333333 prec 0.40055723143958444 rec 0.25104166666666666 f 0.3039375730096902 minutes 0.18798904021581014\n",
      "Epoch 64 mean class acc 0.4558243157224698 acc 0.5041666666666667 prec 0.39588141977847857 rec 0.2453125 f 0.2963507922188104 minutes 0.18933604955673217\n",
      "Epoch 65 mean class acc 0.46738530501471326 acc 0.5666666666666667 prec 0.3991702741702742 rec 0.2975694444444445 f 0.32839849583928576 minutes 0.19002814292907716\n",
      "Epoch 66 mean class acc 0.5328134439013674 acc 0.5958333333333333 prec 0.4139574654904844 rec 0.3236111111111111 f 0.3572236805102799 minutes 0.18726328611373902\n",
      "Epoch 67 mean class acc 0.5300721536015653 acc 0.5666666666666667 prec 0.4060937679165234 rec 0.3006944444444445 f 0.3439488481373084 minutes 0.18916698296864828\n",
      "Epoch 68 mean class acc 0.4213166144200627 acc 0.5041666666666667 prec 0.40373563218390807 rec 0.24618055555555557 f 0.2959412594033322 minutes 0.19140888849894205\n",
      "Epoch 69 mean class acc 0.4412225995677678 acc 0.5 prec 0.40947308410543704 rec 0.24791666666666667 f 0.30013610625250775 minutes 0.19055651426315307\n",
      "Epoch 70 mean class acc 0.444291331001621 acc 0.49583333333333335 prec 0.39101254818166586 rec 0.24097222222222225 f 0.29113893778898353 minutes 0.18162670930226643\n",
      "Epoch 71 mean class acc 0.4789528484307601 acc 0.525 prec 0.4209000410509032 rec 0.25833333333333336 f 0.31073570397682 minutes 0.22470591068267823\n",
      "Epoch 72 mean class acc 0.49471374426491127 acc 0.5333333333333333 prec 0.3979527417027417 rec 0.2625 f 0.31223271502525685 minutes 0.21146382490793864\n",
      "Epoch 73 mean class acc 0.48174545454545453 acc 0.5208333333333334 prec 0.42332512151591106 rec 0.25954861111111116 f 0.31259109454210493 minutes 0.19099510908126832\n",
      "Epoch 74 mean class acc 0.4642459416627404 acc 0.48333333333333334 prec 0.39964522946859904 rec 0.2472222222222222 f 0.2999414547987255 minutes 0.19360392491022746\n",
      "Epoch 75 mean class acc 0.47626977518734387 acc 0.5083333333333333 prec 0.4067884729649436 rec 0.2538194444444445 f 0.3059387982843423 minutes 0.1905790408452352\n",
      "Epoch 76 mean class acc 0.5266380894060012 acc 0.5916666666666667 prec 0.41563198744410046 rec 0.3201388888888889 f 0.3524149122818822 minutes 0.1900766889254252\n",
      "Epoch 77 mean class acc 0.5221950066606506 acc 0.5833333333333333 prec 0.4082870502796847 rec 0.3123263888888889 f 0.3468808772064199 minutes 0.192479407787323\n",
      "Epoch 78 mean class acc 0.5432098765432098 acc 0.575 prec 0.4407604748567823 rec 0.3272569444444445 f 0.37400458331390685 minutes 0.19319960673650105\n",
      "Epoch 79 mean class acc 0.5076269300247933 acc 0.5416666666666666 prec 0.4041048587583914 rec 0.2815972222222222 f 0.3296433292529863 minutes 0.18852275212605793\n",
      "Epoch 80 mean class acc 0.5347853190000637 acc 0.5833333333333334 prec 0.4045260096883872 rec 0.2977430555555556 f 0.33977981347058545 minutes 0.19098600546518962\n",
      "Epoch 81 mean class acc 0.48874907152532004 acc 0.5375 prec 0.3975050397872679 rec 0.2717013888888889 f 0.3178634634103256 minutes 0.19121193885803223\n",
      "Epoch 82 mean class acc 0.44856411714529426 acc 0.5125000000000001 prec 0.401484428635313 rec 0.25138888888888894 f 0.30067433130400506 minutes 0.19251274665196735\n",
      "Epoch 83 mean class acc 0.4476439790575916 acc 0.49166666666666664 prec 0.3997615519075848 rec 0.2465277777777778 f 0.29853604220928415 minutes 0.1907305916150411\n",
      "Epoch 84 mean class acc 0.47721256349717395 acc 0.5125000000000001 prec 0.39396484321535136 rec 0.2503472222222222 f 0.29937046351372953 minutes 0.18459964593251546\n",
      "Epoch 85 mean class acc 0.5098614198552712 acc 0.5791666666666667 prec 0.41675714258035235 rec 0.31493055555555555 f 0.35145989031618 minutes 0.20910003980000813\n",
      "Epoch 86 mean class acc 0.535575679172057 acc 0.5875 prec 0.4241948843216532 rec 0.31770833333333337 f 0.35817785476236536 minutes 0.2248676300048828\n",
      "Epoch 87 mean class acc 0.49892745709828396 acc 0.5333333333333333 prec 0.4055351307189543 rec 0.27083333333333337 f 0.32191545082170087 minutes 0.19053382476170858\n",
      "Epoch 88 mean class acc 0.4797438520033797 acc 0.5208333333333334 prec 0.39399151473454885 rec 0.2581597222222222 f 0.306974442902186 minutes 0.19298853079477946\n",
      "Epoch 89 mean class acc 0.5223120766315538 acc 0.5458333333333333 prec 0.40534184202136136 rec 0.2803819444444444 f 0.3297697617635574 minutes 0.19123809734980265\n",
      "Epoch 90 mean class acc 0.5072528029391271 acc 0.5375000000000001 prec 0.4101439496176339 rec 0.2748263888888889 f 0.32612365103399943 minutes 0.1905078887939453\n",
      "Epoch 91 mean class acc 0.48422910599241015 acc 0.5125000000000001 prec 0.4420513978538275 rec 0.2755208333333333 f 0.3343334768741672 minutes 0.19234739144643148\n",
      "Epoch 92 mean class acc 0.47374166161309883 acc 0.5041666666666667 prec 0.4293603552532124 rec 0.2673611111111111 f 0.32449689372608514 minutes 0.19247957468032836\n",
      "Epoch 93 mean class acc 0.4851381628080657 acc 0.5291666666666667 prec 0.4133191650702427 rec 0.26319444444444445 f 0.3136564129934824 minutes 0.18983229398727416\n",
      "Epoch 94 mean class acc 0.5133333333333333 acc 0.5625 prec 0.4134344510965974 rec 0.2916666666666667 f 0.33895223303409144 minutes 0.18959544897079467\n",
      "Epoch 95 mean class acc 0.4896445131375579 acc 0.5708333333333333 prec 0.4225570436507937 rec 0.30572916666666666 f 0.34582264499578963 minutes 0.19358491897583008\n",
      "Epoch 96 mean class acc 0.47892910262766486 acc 0.5375 prec 0.4279582847151085 rec 0.2876736111111111 f 0.3381912244159485 minutes 0.190740700562795\n",
      "Epoch 97 mean class acc 0.5212590799031477 acc 0.5625 prec 0.4090627254689755 rec 0.29062499999999997 f 0.3373023402909551 minutes 0.19082223574320475\n",
      "Epoch 98 mean class acc 0.5116751269035533 acc 0.5375000000000001 prec 0.3913170163170164 rec 0.2677083333333333 f 0.31584771857942956 minutes 0.18793203830718994\n",
      "Epoch 99 mean class acc 0.5104806216423637 acc 0.5333333333333333 prec 0.4143292396009788 rec 0.2746527777777778 f 0.3279356815697073 minutes 0.21899612744649252\n",
      "Epoch 100 mean class acc 0.4825333333333333 acc 0.5208333333333334 prec 0.4097044049899654 rec 0.2609375 f 0.31112230249143275 minutes 0.22060373226801555\n",
      "Epoch 101 mean class acc 0.5253608247422681 acc 0.6041666666666666 prec 0.4171637045622847 rec 0.321875 f 0.3560216792777616 minutes 0.1929139773050944\n",
      "Epoch 102 mean class acc 0.5228820308818808 acc 0.5916666666666667 prec 0.42851660039160044 rec 0.31649305555555557 f 0.35674941359439394 minutes 0.19048881928126019\n",
      "Epoch 103 mean class acc 0.46558038320683615 acc 0.5249999999999999 prec 0.40933641975308643 rec 0.2670138888888889 f 0.31697773474089264 minutes 0.19198423624038696\n",
      "Epoch 104 mean class acc 0.49661984268450227 acc 0.5333333333333333 prec 0.4104994520678483 rec 0.2708333333333333 f 0.32278994923067866 minutes 0.19040537277857464\n"
     ]
    },
    {
     "name": "stdout",
     "output_type": "stream",
     "text": [
      "Epoch 105 mean class acc 0.5257982789185465 acc 0.5541666666666667 prec 0.392343716332687 rec 0.2737847222222222 f 0.3212175976610925 minutes 0.19209155639012654\n",
      "Epoch 106 mean class acc 0.5194707844533564 acc 0.5458333333333334 prec 0.39291701212257485 rec 0.27013888888888893 f 0.318057544390265 minutes 0.19127002954483033\n",
      "Epoch 107 mean class acc 0.46201358863495984 acc 0.5208333333333333 prec 0.4055395004217468 rec 0.2595486111111111 f 0.30977349739009846 minutes 0.19034045139948527\n",
      "Epoch 108 mean class acc 0.42156673735621103 acc 0.47500000000000003 prec 0.4293040293040293 rec 0.24756944444444443 f 0.30501664811692697 minutes 0.19255896806716918\n",
      "Epoch 109 mean class acc 0.47056951956729237 acc 0.525 prec 0.40458650316187084 rec 0.2647569444444444 f 0.3143165004525947 minutes 0.19131852785746256\n",
      "Epoch 110 mean class acc 0.48708504717301293 acc 0.5375 prec 0.406084950815343 rec 0.26979166666666665 f 0.3191843644509086 minutes 0.18960497776667276\n",
      "Epoch 111 mean class acc 0.5253731343283582 acc 0.5875 prec 0.41054311579249925 rec 0.29861111111111116 f 0.3401306499242074 minutes 0.1880092223485311\n",
      "Epoch 112 mean class acc 0.5256057276529382 acc 0.5583333333333333 prec 0.4228238486050987 rec 0.2838541666666667 f 0.33511127205509855 minutes 0.18578057289123534\n",
      "Epoch 113 mean class acc 0.49044585987261147 acc 0.5166666666666666 prec 0.4465445087609512 rec 0.2770833333333333 f 0.3358180861101422 minutes 0.19361488819122313\n",
      "Epoch 114 mean class acc 0.4547957992998833 acc 0.5125000000000001 prec 0.4156070247891591 rec 0.25399305555555557 f 0.30502588253055635 minutes 0.2397959550221761\n",
      "Epoch 115 mean class acc 0.4980986142442797 acc 0.5833333333333333 prec 0.42698111057486066 rec 0.31093750000000003 f 0.35080327038469666 minutes 0.19162660042444865\n",
      "Epoch 116 mean class acc 0.5210729917419803 acc 0.5916666666666667 prec 0.4319543868175802 rec 0.3472222222222222 f 0.37776798702673586 minutes 0.19214863777160646\n",
      "Epoch 117 mean class acc 0.5202930168045555 acc 0.5625 prec 0.4401428775520345 rec 0.3133680555555556 f 0.36403978511815793 minutes 0.1900516947110494\n",
      "Epoch 118 mean class acc 0.47156832944937915 acc 0.5333333333333333 prec 0.44271685761047463 rec 0.2855902777777778 f 0.33995638881863993 minutes 0.19088205099105834\n",
      "Epoch 119 mean class acc 0.46336768202921524 acc 0.5125 prec 0.3952735268833517 rec 0.2503472222222222 f 0.30031953003738154 minutes 0.19637640317281088\n",
      "Epoch 120 mean class acc 0.4583901773533424 acc 0.5166666666666666 prec 0.4049179415796955 rec 0.2524305555555556 f 0.30206686235587715 minutes 0.19060329993565878\n",
      "Epoch 121 mean class acc 0.47420369888925745 acc 0.5208333333333333 prec 0.4109405458089669 rec 0.2569444444444444 f 0.30807123910572193 minutes 0.19051138559977213\n",
      "Epoch 122 mean class acc 0.49322412509307517 acc 0.5791666666666667 prec 0.415925830986683 rec 0.30659722222222224 f 0.34424705975404757 minutes 0.18799357811609904\n",
      "Epoch 123 mean class acc 0.5035714285714286 acc 0.5833333333333333 prec 0.41970475774655347 rec 0.30868055555555557 f 0.3483487005540379 minutes 0.19168023268381754\n",
      "Epoch 124 mean class acc 0.4877360918120529 acc 0.5375 prec 0.3903018278018278 rec 0.2677083333333333 f 0.31344303442994004 minutes 0.18874533573786417\n",
      "Epoch 125 mean class acc 0.49118766830717797 acc 0.55 prec 0.40260270774976664 rec 0.27013888888888893 f 0.31683448399295927 minutes 0.19094812472661335\n",
      "Epoch 126 mean class acc 0.5109894203546416 acc 0.5666666666666667 prec 0.39588046757164413 rec 0.28715277777777776 f 0.328994826277435 minutes 0.18931511640548707\n",
      "Epoch 127 mean class acc 0.5106072023931858 acc 0.5458333333333334 prec 0.3839890780873753 rec 0.2763888888888889 f 0.3200592063864985 minutes 0.1851626952489217\n",
      "Epoch 128 mean class acc 0.49572649572649574 acc 0.5416666666666666 prec 0.3998511582087163 rec 0.27517361111111116 f 0.3226010541139474 minutes 0.24874876340230306\n",
      "Epoch 129 mean class acc 0.4808308546825958 acc 0.5416666666666666 prec 0.41285939269810246 rec 0.2703125 f 0.31895704426920135 minutes 0.19170589447021485\n",
      "Epoch 130 mean class acc 0.46800791556728233 acc 0.5166666666666666 prec 0.391531324955238 rec 0.2578125 f 0.30617800275506046 minutes 0.18872656027475992\n",
      "Epoch 131 mean class acc 0.49374994582881904 acc 0.5208333333333334 prec 0.3781452969129721 rec 0.25173611111111116 f 0.29786567013355997 minutes 0.1881943941116333\n",
      "Epoch 132 mean class acc 0.4997482235774632 acc 0.5375 prec 0.3834438131313132 rec 0.2647569444444445 f 0.3103767024590131 minutes 0.18845908641815184\n",
      "Epoch 133 mean class acc 0.4844278673238311 acc 0.5333333333333333 prec 0.4248743603152518 rec 0.2907986111111111 f 0.34222487994486706 minutes 0.18994776010513306\n",
      "Epoch 134 mean class acc 0.4750516210831371 acc 0.5166666666666666 prec 0.3984633507547325 rec 0.2659722222222222 f 0.3160002387095834 minutes 0.18943870464960735\n",
      "Epoch 135 mean class acc 0.4852745121803418 acc 0.525 prec 0.3861607142857143 rec 0.2621527777777778 f 0.30895503856926976 minutes 0.18900978565216064\n",
      "Epoch 136 mean class acc 0.4800850649062957 acc 0.5208333333333333 prec 0.4119405864197532 rec 0.265625 f 0.3189579012581855 minutes 0.1871634523073832\n",
      "Epoch 137 mean class acc 0.46124031007751937 acc 0.5166666666666666 prec 0.42343304843304846 rec 0.2786458333333333 f 0.3319904992290428 minutes 0.18641680876413982\n",
      "Epoch 138 mean class acc 0.4583901773533424 acc 0.5166666666666666 prec 0.4129428341384863 rec 0.2524305555555556 f 0.30231752572351145 minutes 0.1877247214317322\n",
      "Epoch 139 mean class acc 0.4624277456647399 acc 0.5125000000000001 prec 0.39422354307576696 rec 0.24444444444444446 f 0.2920732872986295 minutes 0.18957244555155436\n",
      "Epoch 140 mean class acc 0.48324943586182956 acc 0.525 prec 0.4028386939571151 rec 0.25659722222222225 f 0.30715110240972315 minutes 0.18585230509440104\n",
      "Epoch 141 mean class acc 0.4691542521481565 acc 0.5125 prec 0.39908629514607774 rec 0.25503472222222223 f 0.3053381618557445 minutes 0.17859776814778647\n",
      "Epoch 142 mean class acc 0.4863033041513697 acc 0.5458333333333334 prec 0.399190886661586 rec 0.2798611111111111 f 0.32575869265804647 minutes 0.23337130546569823\n",
      "Epoch 143 mean class acc 0.498167115511647 acc 0.5625 prec 0.3878967663313639 rec 0.2845486111111111 f 0.32418642720752694 minutes 0.21576574643452961\n",
      "Epoch 144 mean class acc 0.49478692175321387 acc 0.5541666666666667 prec 0.401950227113307 rec 0.27569444444444446 f 0.32220141523481505 minutes 0.1869133432706197\n",
      "Epoch 145 mean class acc 0.4825744910169477 acc 0.5291666666666667 prec 0.3998276579110933 rec 0.2717013888888889 f 0.32003034400702157 minutes 0.18732860088348388\n",
      "Epoch 146 mean class acc 0.474680993955675 acc 0.5208333333333334 prec 0.39860970535312645 rec 0.2546875 f 0.30340261590261586 minutes 0.18760639031728107\n",
      "Epoch 147 mean class acc 0.45336736513179504 acc 0.5208333333333334 prec 0.37931354183915666 rec 0.2510416666666667 f 0.2944660904388885 minutes 0.18997319539388022\n",
      "Epoch 148 mean class acc 0.4547838412473423 acc 0.5083333333333334 prec 0.3989626312330973 rec 0.25 f 0.29870926192940656 minutes 0.1889500101407369\n",
      "Epoch 149 mean class acc 0.46727915194346287 acc 0.5125000000000001 prec 0.3835761278195489 rec 0.24427083333333335 f 0.2909344810435892 minutes 0.18668339649836221\n",
      "Epoch 150 mean class acc 0.45659868531939996 acc 0.4916666666666667 prec 0.3751665965207632 rec 0.2345486111111111 f 0.28272162481384144 minutes 0.1895460844039917\n",
      "Epoch 151 mean class acc 0.518860741971207 acc 0.5833333333333334 prec 0.42527061551184353 rec 0.31041666666666673 f 0.35304258634255814 minutes 0.1909554719924927\n",
      "Epoch 152 mean class acc 0.4998265668719601 acc 0.5458333333333334 prec 0.40040784832451504 rec 0.28229166666666666 f 0.32851483148977556 minutes 0.1888632893562317\n",
      "Epoch 153 mean class acc 0.46201358863495984 acc 0.5208333333333333 prec 0.3892055257544388 rec 0.2595486111111111 f 0.3066342159516146 minutes 0.18831971089045207\n",
      "Epoch 154 mean class acc 0.4505345580484867 acc 0.5166666666666666 prec 0.38578900763203827 rec 0.2543402777777778 f 0.30108305123968654 minutes 0.1908401091893514\n",
      "Epoch 155 mean class acc 0.4789736279401283 acc 0.5208333333333334 prec 0.37991193171903903 rec 0.24913194444444445 f 0.29441843052166927 minutes 0.1803299903869629\n",
      "Epoch 156 mean class acc 0.4616598295992427 acc 0.5041666666666667 prec 0.3703667759374281 rec 0.24010416666666665 f 0.2856976114742868 minutes 0.2229065219561259\n"
     ]
    },
    {
     "name": "stdout",
     "output_type": "stream",
     "text": [
      "Epoch 157 mean class acc 0.4602369852369852 acc 0.5 prec 0.3819475626324031 rec 0.23906249999999998 f 0.28729863072448003 minutes 0.21430671612421673\n",
      "Epoch 158 mean class acc 0.4725722406442444 acc 0.5249999999999999 prec 0.3956806718562125 rec 0.2690972222222222 f 0.3168938412677646 minutes 0.19013821681340534\n",
      "Epoch 159 mean class acc 0.4825744910169477 acc 0.5291666666666667 prec 0.39650304027726513 rec 0.2717013888888889 f 0.3194244439042994 minutes 0.18759398063023885\n",
      "Epoch 160 mean class acc 0.47276816377638786 acc 0.5166666666666666 prec 0.37094155844155846 rec 0.2508680555555556 f 0.2959160061042254 minutes 0.18750911553700764\n",
      "Epoch 161 mean class acc 0.45620187542883284 acc 0.5125 prec 0.38784277065527073 rec 0.24913194444444442 f 0.29710848732587863 minutes 0.18749339977900187\n",
      "Epoch 162 mean class acc 0.46809662937361934 acc 0.525 prec 0.37912845560871883 rec 0.2508680555555556 f 0.2970723937718368 minutes 0.18804763555526732\n",
      "Epoch 163 mean class acc 0.4901557949680931 acc 0.5416666666666667 prec 0.38732311683912296 rec 0.27447916666666666 f 0.3178254079936979 minutes 0.1871394912401835\n",
      "Epoch 164 mean class acc 0.4699284887529048 acc 0.5208333333333333 prec 0.39236700393498636 rec 0.2638888888888889 f 0.3120591844039102 minutes 0.18965497016906738\n",
      "Epoch 165 mean class acc 0.4505345580484867 acc 0.5166666666666666 prec 0.3863301331731639 rec 0.2543402777777778 f 0.30154619332455807 minutes 0.18875239292780557\n",
      "Epoch 166 mean class acc 0.4493617021276596 acc 0.5166666666666666 prec 0.384593650201153 rec 0.2482638888888889 f 0.295242902325578 minutes 0.18743176857630411\n",
      "Epoch 167 mean class acc 0.4836058003140297 acc 0.525 prec 0.38598033910533913 rec 0.2638888888888889 f 0.3101718366273834 minutes 0.18611393372217813\n",
      "Epoch 168 mean class acc 0.4739919975377039 acc 0.5125 prec 0.3810225268558602 rec 0.24739583333333334 f 0.29500068229503396 minutes 0.19324225584665936\n",
      "Epoch 169 mean class acc 0.48433697184937585 acc 0.525 prec 0.37296768454856694 rec 0.24913194444444445 f 0.293630356756052 minutes 0.18330467542012532\n",
      "Epoch 170 mean class acc 0.5081165850160508 acc 0.5791666666666666 prec 0.4170727745289149 rec 0.3074652777777778 f 0.3470316323158288 minutes 0.20719316005706787\n",
      "Epoch 171 mean class acc 0.49584132889976124 acc 0.5583333333333333 prec 0.44150234676910466 rec 0.3114583333333334 f 0.3599766310085003 minutes 0.23575255076090496\n",
      "Epoch 172 mean class acc 0.47922905756972445 acc 0.5333333333333333 prec 0.40953722499438616 rec 0.2717013888888889 f 0.32149002547595634 minutes 0.19045166571935018\n",
      "Epoch 173 mean class acc 0.4921052631578947 acc 0.5333333333333333 prec 0.41029197112973714 rec 0.2699652777777778 f 0.3206746613292353 minutes 0.18958682616551717\n",
      "Epoch 174 mean class acc 0.5016474464579901 acc 0.5416666666666666 prec 0.40905005995466526 rec 0.2777777777777778 f 0.3267199450766208 minutes 0.18801634709040324\n",
      "Epoch 175 mean class acc 0.4851487619808307 acc 0.5333333333333333 prec 0.42177584919746175 rec 0.28350694444444446 f 0.3344968772465852 minutes 0.19233789841334026\n",
      "Epoch 176 mean class acc 0.4865847808382699 acc 0.5333333333333334 prec 0.38522890323737785 rec 0.26006944444444446 f 0.30564601714709033 minutes 0.1867045521736145\n",
      "Epoch 177 mean class acc 0.5271393643031784 acc 0.5916666666666667 prec 0.3991274928774929 rec 0.3067708333333333 f 0.34072300126158755 minutes 0.18761415481567384\n",
      "Epoch 178 mean class acc 0.528835444471712 acc 0.5875 prec 0.39958412706574475 rec 0.29878472222222224 f 0.3387893255117481 minutes 0.18814347585042318\n",
      "Epoch 179 mean class acc 0.4854468085106383 acc 0.5458333333333334 prec 0.4138115237253168 rec 0.2777777777777778 f 0.3267411934127306 minutes 0.18927640120188396\n",
      "Epoch 180 mean class acc 0.4786261244517136 acc 0.5375 prec 0.40819790967250136 rec 0.2777777777777778 f 0.3262972349462878 minutes 0.18916888236999513\n",
      "Epoch 181 mean class acc 0.4534246846597097 acc 0.5083333333333334 prec 0.4142107277080681 rec 0.24965277777777778 f 0.3004226354703606 minutes 0.1898089567820231\n",
      "Epoch 182 mean class acc 0.5034776513721896 acc 0.5458333333333333 prec 0.4060910868624381 rec 0.275 f 0.3236185834688492 minutes 0.19185810883839924\n",
      "Epoch 183 mean class acc 0.5119415301190616 acc 0.5541666666666667 prec 0.4108863884536866 rec 0.27864583333333337 f 0.32723107115740957 minutes 0.1866336504618327\n",
      "Epoch 184 mean class acc 0.5184994167127157 acc 0.5708333333333333 prec 0.40567672503648117 rec 0.28836805555555556 f 0.33315393376367536 minutes 0.19718652963638306\n",
      "Epoch 185 mean class acc 0.4696946833660279 acc 0.5125000000000001 prec 0.41217412127269704 rec 0.2569444444444445 f 0.3085027029691451 minutes 0.23676344553629558\n",
      "Epoch 186 mean class acc 0.46240745818480944 acc 0.5291666666666667 prec 0.41013476485767353 rec 0.26024305555555555 f 0.30919309937314393 minutes 0.18988727728525798\n",
      "Epoch 187 mean class acc 0.4948246659557117 acc 0.5458333333333334 prec 0.4054608585858586 rec 0.2680555555555556 f 0.31652548840048844 minutes 0.18949242035547892\n",
      "Epoch 188 mean class acc 0.5024583663758921 acc 0.5291666666666668 prec 0.40444499559082897 rec 0.2685763888888889 f 0.3185551274662384 minutes 0.1895906925201416\n",
      "Epoch 189 mean class acc 0.4860952380952381 acc 0.5166666666666667 prec 0.39446548821548827 rec 0.2569444444444445 f 0.3066366682250273 minutes 0.18975985050201416\n",
      "Epoch 190 mean class acc 0.4865847808382699 acc 0.5333333333333334 prec 0.38969318895166355 rec 0.26006944444444446 f 0.30647618792507897 minutes 0.19023513793945312\n",
      "Epoch 191 mean class acc 0.4806746085313175 acc 0.5333333333333333 prec 0.40259971509971515 rec 0.2668402777777778 f 0.31495761183261184 minutes 0.19085319836934408\n",
      "Epoch 192 mean class acc 0.4806746085313175 acc 0.5333333333333333 prec 0.40393518518518523 rec 0.2668402777777778 f 0.31535218253968256 minutes 0.19118094046910603\n",
      "Epoch 193 mean class acc 0.459608949087912 acc 0.5041666666666668 prec 0.3853158223238808 rec 0.24565972222222224 f 0.2933490904379191 minutes 0.19025594393412273\n",
      "Epoch 194 mean class acc 0.5021398002853067 acc 0.5333333333333333 prec 0.3942980357305625 rec 0.2618055555555556 f 0.3110488165693542 minutes 0.1872953414916992\n",
      "Epoch 195 mean class acc 0.4992792124881585 acc 0.5458333333333334 prec 0.4107905982905983 rec 0.2826388888888889 f 0.33188530664048577 minutes 0.18852195739746094\n",
      "Epoch 196 mean class acc 0.503741087409407 acc 0.5583333333333333 prec 0.4122786935286935 rec 0.2881944444444444 f 0.3351596504320709 minutes 0.18995598157246907\n",
      "Epoch 197 mean class acc 0.5100235540434441 acc 0.5583333333333333 prec 0.39699355206721193 rec 0.27690972222222227 f 0.32245542474108585 minutes 0.18510081768035888\n",
      "Epoch 198 mean class acc 0.497431906614786 acc 0.5458333333333334 prec 0.40941924454855494 rec 0.2763888888888889 f 0.32547667571677374 minutes 0.17892281214396158\n",
      "Epoch 199 mean class acc 0.4966338466717159 acc 0.5416666666666666 prec 0.40964590964590963 rec 0.28125 f 0.3304779449390064 minutes 0.23208765586217245\n",
      "Epoch 200 mean class acc 0.47123030572430485 acc 0.5166666666666667 prec 0.39268541612867336 rec 0.2517361111111111 f 0.29965507328303465 minutes 0.2129504720369975\n",
      "Epoch 201 mean class acc 0.4819612903225806 acc 0.5208333333333334 prec 0.4159577732694909 rec 0.26093750000000004 f 0.3128328345425469 minutes 0.19115938345591227\n",
      "Epoch 202 mean class acc 0.4989050326384502 acc 0.5583333333333333 prec 0.40877716946795895 rec 0.30052083333333335 f 0.3414484558656943 minutes 0.18898018995920818\n",
      "Epoch 203 mean class acc 0.48985775455403147 acc 0.55 prec 0.4125997397166752 rec 0.2730902777777778 f 0.3209234418510597 minutes 0.18819642464319866\n",
      "Epoch 204 mean class acc 0.4761767761528011 acc 0.5333333333333333 prec 0.4003492587161942 rec 0.2671875 f 0.31376152055796863 minutes 0.1893652359644572\n",
      "Epoch 205 mean class acc 0.4948246659557117 acc 0.5458333333333334 prec 0.40259320782576596 rec 0.27222222222222225 f 0.3197184746090395 minutes 0.19025790294011433\n",
      "Epoch 206 mean class acc 0.48022868032396376 acc 0.525 prec 0.39530414438502676 rec 0.2546875 f 0.3016189210745662 minutes 0.1900148034095764\n",
      "Epoch 207 mean class acc 0.4837451235370611 acc 0.525 prec 0.3882968183780054 rec 0.25312500000000004 f 0.30053563733490085 minutes 0.19004654089609782\n"
     ]
    },
    {
     "name": "stdout",
     "output_type": "stream",
     "text": [
      "Epoch 208 mean class acc 0.4961890243902439 acc 0.5333333333333333 prec 0.3912266841954342 rec 0.25746527777777783 f 0.30498324167215524 minutes 0.18906118869781494\n",
      "Epoch 209 mean class acc 0.4854468085106383 acc 0.5291666666666667 prec 0.3946677623940555 rec 0.2548611111111111 f 0.3029204646420574 minutes 0.19054003556569418\n",
      "Epoch 210 mean class acc 0.46884410470233956 acc 0.5083333333333334 prec 0.3985508697451507 rec 0.24861111111111112 f 0.29828195431249205 minutes 0.18724152247111003\n",
      "Epoch 211 mean class acc 0.47050147492625366 acc 0.5083333333333334 prec 0.3965234644582471 rec 0.24756944444444448 f 0.29761234970646 minutes 0.18885955810546876\n",
      "Epoch 212 mean class acc 0.47973531844499584 acc 0.5333333333333334 prec 0.40399494263285024 rec 0.25798611111111114 f 0.30473539913730474 minutes 0.1793972055117289\n",
      "Epoch 213 mean class acc 0.4794520547945206 acc 0.5333333333333334 prec 0.4183201058201058 rec 0.26493055555555556 f 0.31471506859365833 minutes 0.2338727633158366\n",
      "Epoch 214 mean class acc 0.47352941176470587 acc 0.5166666666666667 prec 0.4018940430578362 rec 0.2503472222222223 f 0.3006188487788044 minutes 0.21848502953847249\n",
      "Epoch 215 mean class acc 0.48318898981200137 acc 0.5416666666666667 prec 0.40603251271977203 rec 0.2765625 f 0.32397488854726564 minutes 0.19027376572291058\n",
      "Epoch 216 mean class acc 0.4744065073820027 acc 0.5375000000000001 prec 0.4175145943238049 rec 0.2651041666666667 f 0.31374612345463904 minutes 0.19024619261423747\n",
      "Epoch 217 mean class acc 0.47277269283535023 acc 0.5291666666666667 prec 0.41959064327485385 rec 0.26197916666666665 f 0.3125554563993313 minutes 0.18862072229385377\n",
      "Epoch 218 mean class acc 0.48266937047019026 acc 0.5291666666666667 prec 0.39100960432482174 rec 0.25659722222222225 f 0.3011062398144253 minutes 0.18674174944559732\n",
      "Epoch 219 mean class acc 0.48022868032396376 acc 0.525 prec 0.3989878660729071 rec 0.2546875 f 0.3022896530142276 minutes 0.18821471134821574\n",
      "Epoch 220 mean class acc 0.48816412414518673 acc 0.5375 prec 0.40014831183309446 rec 0.2576388888888889 f 0.30520567066538307 minutes 0.18847412665685018\n",
      "Epoch 221 mean class acc 0.4878048780487805 acc 0.5416666666666667 prec 0.40763227028348 rec 0.25659722222222225 f 0.30362937034891907 minutes 0.18875780900319417\n",
      "Epoch 222 mean class acc 0.4918807204015353 acc 0.5458333333333333 prec 0.399962742175857 rec 0.2638888888888889 f 0.3113963057144875 minutes 0.1893512765566508\n",
      "Epoch 223 mean class acc 0.489504347571508 acc 0.5666666666666667 prec 0.39483937530071306 rec 0.2855902777777778 f 0.3244532808971581 minutes 0.1886189301808675\n",
      "Epoch 224 mean class acc 0.49121533258173616 acc 0.5583333333333333 prec 0.38999885196431255 rec 0.28142361111111114 f 0.3209216079946496 minutes 0.1878987471262614\n",
      "Epoch 225 mean class acc 0.4840549955404473 acc 0.5333333333333333 prec 0.3779545104251944 rec 0.2586805555555556 f 0.3026658583282477 minutes 0.19024104674657186\n",
      "Epoch 226 mean class acc 0.4835357181927579 acc 0.5416666666666667 prec 0.38515908374779345 rec 0.26215277777777785 f 0.3061485044698875 minutes 0.18136856953303018\n",
      "Epoch 227 mean class acc 0.48511345708481324 acc 0.5375 prec 0.38380601241607043 rec 0.26302083333333337 f 0.3072768655883224 minutes 0.2275484522183736\n",
      "Epoch 228 mean class acc 0.4903591013621086 acc 0.5291666666666667 prec 0.386904761904762 rec 0.26128472222222227 f 0.30880812475628994 minutes 0.21125692526499432\n",
      "Epoch 229 mean class acc 0.5009088300009567 acc 0.5375 prec 0.39134748102139416 rec 0.26128472222222227 f 0.30953913269507105 minutes 0.18740767637888592\n",
      "Epoch 230 mean class acc 0.4802877299764836 acc 0.5291666666666667 prec 0.40375712250712253 rec 0.2548611111111111 f 0.30396224146224143 minutes 0.19006879329681398\n",
      "Epoch 231 mean class acc 0.4790236136906341 acc 0.525 prec 0.3994180278700628 rec 0.2539930555555555 f 0.3023342045007651 minutes 0.18960383733113606\n",
      "Epoch 232 mean class acc 0.5101296207393182 acc 0.55 prec 0.40705990829346095 rec 0.2743055555555556 f 0.3238527627759127 minutes 0.1893342614173889\n",
      "Epoch 233 mean class acc 0.4920581277458601 acc 0.5416666666666666 prec 0.40298444114417725 rec 0.2664930555555556 f 0.3149163299745017 minutes 0.1877940058708191\n",
      "Epoch 234 mean class acc 0.4495646098871161 acc 0.5041666666666667 prec 0.400838222715987 rec 0.2467013888888889 f 0.2970177362773635 minutes 0.18956814209620157\n",
      "Epoch 235 mean class acc 0.5009230769230769 acc 0.5458333333333334 prec 0.40799187892211153 rec 0.2829861111111111 f 0.33025510320873563 minutes 0.18955825567245482\n",
      "Epoch 236 mean class acc 0.4981620089463661 acc 0.5583333333333333 prec 0.4174042707888752 rec 0.2873263888888889 f 0.3338204802335112 minutes 0.18999209006627402\n",
      "Epoch 237 mean class acc 0.4345724367960555 acc 0.5208333333333334 prec 0.3791429011218014 rec 0.24982638888888892 f 0.29262969308615233 minutes 0.19222712914148968\n",
      "Epoch 238 mean class acc 0.4569391113549095 acc 0.525 prec 0.4078139373127564 rec 0.25885416666666666 f 0.3072492876251189 minutes 0.18711978197097778\n",
      "Epoch 239 mean class acc 0.46912181303116146 acc 0.5125 prec 0.4009996827884759 rec 0.24861111111111114 f 0.29914983168478737 minutes 0.18841677506764729\n",
      "Epoch 240 mean class acc 0.46446601941747573 acc 0.5083333333333333 prec 0.38963433893766697 rec 0.24687500000000004 f 0.29597110549648786 minutes 0.18277891874313354\n",
      "Epoch 241 mean class acc 0.47191011235955055 acc 0.5125000000000001 prec 0.4120852344536555 rec 0.25625 f 0.30873576596738944 minutes 0.223685618241628\n",
      "Epoch 242 mean class acc 0.47095907399751963 acc 0.5333333333333333 prec 0.40749518607488755 rec 0.2602430555555556 f 0.3081464839849882 minutes 0.2248311440149943\n",
      "Epoch 243 mean class acc 0.47424322889006904 acc 0.525 prec 0.4112469752259189 rec 0.26059027777777777 f 0.3106279323118769 minutes 0.18758012453715006\n",
      "Epoch 244 mean class acc 0.47107661763378755 acc 0.5250000000000001 prec 0.40546773459007507 rec 0.2517361111111111 f 0.29888350501014144 minutes 0.18892274697621664\n",
      "Epoch 245 mean class acc 0.48997132329512494 acc 0.5375 prec 0.39559916904242626 rec 0.2569444444444445 f 0.30474317514533 minutes 0.1863523523012797\n",
      "Epoch 246 mean class acc 0.5010489941996791 acc 0.5583333333333333 prec 0.39914336335707307 rec 0.2725694444444445 f 0.3180953442306562 minutes 0.188405446211497\n",
      "Epoch 247 mean class acc 0.4878048780487805 acc 0.5416666666666667 prec 0.4168637856652613 rec 0.2684027777777778 f 0.31724030460517266 minutes 0.18914198875427246\n",
      "Epoch 248 mean class acc 0.4892086330935252 acc 0.5458333333333334 prec 0.4232263746891407 rec 0.27013888888888893 f 0.3196845218107636 minutes 0.1868319869041443\n",
      "Epoch 249 mean class acc 0.48197879858657244 acc 0.5166666666666667 prec 0.40308779761904767 rec 0.2595486111111111 f 0.3101945630857917 minutes 0.19090510606765748\n",
      "Epoch 250 mean class acc 0.4842942345924453 acc 0.5208333333333334 prec 0.4011025828460039 rec 0.25711805555555556 f 0.3078494678136071 minutes 0.1885633865992228\n",
      "Epoch 251 mean class acc 0.47496251874062967 acc 0.5166666666666667 prec 0.3975557202459377 rec 0.2541666666666667 f 0.3018221675530998 minutes 0.18853762944539387\n",
      "Epoch 252 mean class acc 0.5338797848191797 acc 0.5875 prec 0.4162388689526848 rec 0.3133680555555556 f 0.35330399205749835 minutes 0.18880382776260377\n",
      "Epoch 253 mean class acc 0.5040650406504065 acc 0.5458333333333334 prec 0.39976993492618496 rec 0.2857638888888889 f 0.33088448162021833 minutes 0.18960165580113728\n",
      "Epoch 254 mean class acc 0.5201581268055344 acc 0.5416666666666666 prec 0.38292315582076764 rec 0.275 f 0.31858152429539893 minutes 0.1825263778368632\n",
      "Epoch 255 mean class acc 0.4993137866500312 acc 0.5291666666666667 prec 0.3869552215519035 rec 0.2581597222222223 f 0.3051358131622891 minutes 0.19995399316151938\n",
      "Epoch 256 mean class acc 0.49224952741020794 acc 0.5291666666666667 prec 0.4034794016290727 rec 0.26406250000000003 f 0.3136892659687036 minutes 0.22745344638824463\n",
      "Epoch 257 mean class acc 0.4926029588164734 acc 0.5333333333333334 prec 0.3948863636363637 rec 0.25625 f 0.3026207229175236 minutes 0.18916813929875692\n",
      "Epoch 258 mean class acc 0.4901065449010654 acc 0.5291666666666668 prec 0.3891836693102284 rec 0.2564236111111111 f 0.3035309515188841 minutes 0.18904716571172078\n",
      "Epoch 259 mean class acc 0.4832904884318766 acc 0.5291666666666668 prec 0.3899847320724981 rec 0.25555555555555554 f 0.30200170129612114 minutes 0.18518885771433513\n"
     ]
    },
    {
     "name": "stdout",
     "output_type": "stream",
     "text": [
      "Epoch 260 mean class acc 0.4546292880855773 acc 0.525 prec 0.3994101112667289 rec 0.25538194444444445 f 0.3014649743686321 minutes 0.18642096916834514\n",
      "Epoch 261 mean class acc 0.46219201359388273 acc 0.5291666666666667 prec 0.40719283447225907 rec 0.2637152777777778 f 0.3118096017023549 minutes 0.18607638279596964\n",
      "Epoch 262 mean class acc 0.5046701260192735 acc 0.5541666666666667 prec 0.41423239914619225 rec 0.2826388888888889 f 0.3313941474191329 minutes 0.1879997412363688\n",
      "Epoch 263 mean class acc 0.4679432381603693 acc 0.5333333333333333 prec 0.41814456991344806 rec 0.2682291666666667 f 0.31818388886695664 minutes 0.1888433853785197\n",
      "Epoch 264 mean class acc 0.49793040012264295 acc 0.55 prec 0.39661017674027593 rec 0.2732638888888889 f 0.3183849193613095 minutes 0.18859873215357462\n",
      "Epoch 265 mean class acc 0.4938582677165354 acc 0.5416666666666667 prec 0.3994750999730985 rec 0.2685763888888889 f 0.3156864326559269 minutes 0.19005866448084513\n",
      "Epoch 266 mean class acc 0.46619411123227916 acc 0.525 prec 0.41083217797116955 rec 0.2578125 f 0.3062383982523816 minutes 0.18859137296676637\n",
      "Epoch 267 mean class acc 0.43373493975903615 acc 0.5041666666666668 prec 0.40690934274438373 rec 0.2465277777777778 f 0.29489617763520587 minutes 0.18619131644566853\n",
      "Epoch 268 mean class acc 0.48722001955168726 acc 0.5291666666666667 prec 0.3885666087415574 rec 0.25885416666666666 f 0.30377285545891863 minutes 0.1877389113108317\n",
      "Epoch 269 mean class acc 0.48929428708593375 acc 0.5291666666666667 prec 0.38985421644233126 rec 0.2604166666666667 f 0.30556825195761794 minutes 0.18018914063771566\n",
      "Epoch 270 mean class acc 0.44562665319344963 acc 0.5125000000000001 prec 0.41208425574530894 rec 0.2508680555555556 f 0.30037111791318005 minutes 0.22762031157811483\n",
      "Epoch 271 mean class acc 0.44562665319344963 acc 0.5125000000000001 prec 0.40919073722679034 rec 0.2508680555555556 f 0.2998579816241817 minutes 0.2094769795735677\n",
      "Epoch 272 mean class acc 0.47271139572114684 acc 0.5208333333333334 prec 0.39242916963649327 rec 0.2534722222222222 f 0.30035576915937123 minutes 0.18884403308232625\n",
      "Epoch 273 mean class acc 0.4837659944184087 acc 0.525 prec 0.39229347041847046 rec 0.25625000000000003 f 0.30385885175844196 minutes 0.19010865290959675\n",
      "Epoch 274 mean class acc 0.47243953400977073 acc 0.5208333333333334 prec 0.39647996222082305 rec 0.2519097222222222 f 0.3001698812902529 minutes 0.1868308663368225\n",
      "Epoch 275 mean class acc 0.4643399423050506 acc 0.5208333333333334 prec 0.4064921307506053 rec 0.25451388888888893 f 0.3036122771299657 minutes 0.18866422176361083\n",
      "Epoch 276 mean class acc 0.45289079229122053 acc 0.5083333333333334 prec 0.40196406952611563 rec 0.25 f 0.29929897281419515 minutes 0.18816286325454712\n",
      "Epoch 277 mean class acc 0.4659675881792183 acc 0.5125 prec 0.40649082540390524 rec 0.2538194444444445 f 0.3041493222394484 minutes 0.18538822333017985\n",
      "Epoch 278 mean class acc 0.47875886025442427 acc 0.525 prec 0.3955225062744953 rec 0.26145833333333335 f 0.30902439993512465 minutes 0.1873432238896688\n",
      "Epoch 279 mean class acc 0.49577464788732395 acc 0.5416666666666667 prec 0.39145431838674316 rec 0.26788194444444446 f 0.3131379499938078 minutes 0.19009917974472046\n",
      "Epoch 280 mean class acc 0.49639116207149864 acc 0.55 prec 0.4005940553071701 rec 0.2697916666666667 f 0.3161944589501408 minutes 0.18841904401779175\n",
      "Epoch 281 mean class acc 0.4739931865549592 acc 0.525 prec 0.408419319754862 rec 0.25711805555555556 f 0.3067079046635928 minutes 0.18769418001174926\n",
      "Epoch 282 mean class acc 0.48082901554404145 acc 0.5291666666666667 prec 0.40768417874396146 rec 0.26319444444444445 f 0.3126932199132442 minutes 0.189210311571757\n",
      "Epoch 283 mean class acc 0.47352941176470587 acc 0.5166666666666667 prec 0.3976077869086344 rec 0.25798611111111114 f 0.30701070750881 minutes 0.18228654464085897\n",
      "Epoch 284 mean class acc 0.5039664257991228 acc 0.5416666666666666 prec 0.39617221546569376 rec 0.26684027777777786 f 0.3135636764669023 minutes 0.22441596190134686\n",
      "Epoch 285 mean class acc 0.4932505678510221 acc 0.5375 prec 0.40645195231888775 rec 0.2680555555555556 f 0.3160221745236421 minutes 0.22490863800048827\n",
      "Epoch 286 mean class acc 0.4765957446808511 acc 0.525 prec 0.39081692821446923 rec 0.2538194444444445 f 0.3003676031219261 minutes 0.1895064393679301\n",
      "Epoch 287 mean class acc 0.47271139572114684 acc 0.5208333333333334 prec 0.38794756181451767 rec 0.24861111111111112 f 0.29433582119534485 minutes 0.1896185040473938\n",
      "Epoch 288 mean class acc 0.4777081468218442 acc 0.5166666666666667 prec 0.40164474177794973 rec 0.25538194444444445 f 0.30475865286152365 minutes 0.18959202766418456\n",
      "Epoch 289 mean class acc 0.4832904884318766 acc 0.525 prec 0.40052193347606024 rec 0.26232638888888893 f 0.31068249601922177 minutes 0.1912421186765035\n",
      "Epoch 290 mean class acc 0.4851381628080657 acc 0.5291666666666667 prec 0.390687003968254 rec 0.2529513888888889 f 0.2988394608803233 minutes 0.1901553471883138\n",
      "Epoch 291 mean class acc 0.5032868787799106 acc 0.5375000000000001 prec 0.3883276671999499 rec 0.2628472222222223 f 0.3097748262394974 minutes 0.19003079732259115\n",
      "Epoch 292 mean class acc 0.4870513757000243 acc 0.5416666666666666 prec 0.38837609931359934 rec 0.27690972222222227 f 0.3190406328636217 minutes 0.18867462078730265\n",
      "Epoch 293 mean class acc 0.505194095133953 acc 0.5416666666666667 prec 0.3864062794089968 rec 0.26736111111111116 f 0.3132225572958332 minutes 0.1879699985186259\n",
      "Epoch 294 mean class acc 0.49070146818923327 acc 0.5333333333333333 prec 0.38299316594729277 rec 0.25677083333333334 f 0.3020314589775491 minutes 0.19213991165161132\n",
      "Epoch 295 mean class acc 0.4830308174644683 acc 0.5291666666666667 prec 0.39262364600446104 rec 0.2548611111111111 f 0.3021624657445246 minutes 0.18912537892659506\n",
      "Epoch 296 mean class acc 0.49697849384328807 acc 0.5375000000000001 prec 0.38836459746317326 rec 0.2619791666666667 f 0.308276986176758 minutes 0.19020307461420696\n",
      "Epoch 297 mean class acc 0.47929670329670326 acc 0.525 prec 0.406146519021065 rec 0.25798611111111114 f 0.30707307955242863 minutes 0.1826508601506551\n",
      "Epoch 298 mean class acc 0.48141745391470364 acc 0.525 prec 0.4115232692166676 rec 0.25798611111111114 f 0.3084368493574344 minutes 0.22736297448476156\n",
      "Epoch 299 mean class acc 0.4686192468619247 acc 0.5166666666666667 prec 0.3942478925594127 rec 0.24756944444444445 f 0.2952024805804485 minutes 0.21775614023208617\n",
      "Epoch 300 mean class acc 0.5022029488291414 acc 0.5416666666666667 prec 0.4022944249237353 rec 0.26875000000000004 f 0.3176298246322178 minutes 0.1881927490234375\n",
      "Epoch 301 mean class acc 0.4750902527075812 acc 0.5208333333333334 prec 0.3922576301321762 rec 0.24930555555555559 f 0.2963350808451015 minutes 0.18894296487172443\n",
      "Epoch 302 mean class acc 0.47187282556334637 acc 0.525 prec 0.392590311038134 rec 0.24947916666666667 f 0.295554440923369 minutes 0.19066405693689983\n",
      "Epoch 303 mean class acc 0.47929670329670326 acc 0.525 prec 0.3949167513298312 rec 0.2545138888888889 f 0.30232450180720827 minutes 0.1901203950246175\n",
      "Epoch 304 mean class acc 0.4802877299764836 acc 0.5291666666666667 prec 0.3863653612629023 rec 0.25902777777777775 f 0.3041948073106431 minutes 0.1884032169977824\n",
      "Epoch 305 mean class acc 0.4878048780487805 acc 0.5416666666666667 prec 0.3947247775372776 rec 0.2607638888888889 f 0.3055407343098273 minutes 0.19024450381596883\n",
      "Epoch 306 mean class acc 0.4777081468218442 acc 0.5208333333333334 prec 0.39725850828837284 rec 0.25625000000000003 f 0.30379430723449535 minutes 0.1851489822069804\n",
      "Epoch 307 mean class acc 0.48484848484848486 acc 0.5291666666666667 prec 0.390125373821026 rec 0.2564236111111111 f 0.30255154905844617 minutes 0.18183204332987468\n",
      "Epoch 308 mean class acc 0.48484848484848486 acc 0.5291666666666667 prec 0.3959823640530163 rec 0.2564236111111111 f 0.30400442156363305 minutes 0.17742973168690998\n",
      "Epoch 309 mean class acc 0.4680873848789891 acc 0.525 prec 0.41046835400827 rec 0.25972222222222224 f 0.30919055014595775 minutes 0.17781329552332562\n",
      "Epoch 310 mean class acc 0.4680873848789891 acc 0.525 prec 0.406643024441415 rec 0.25972222222222224 f 0.30888417759693815 minutes 0.17759532531102498\n",
      "Epoch 311 mean class acc 0.4572719570742728 acc 0.5291666666666667 prec 0.4139352775008309 rec 0.2637152777777778 f 0.3114123286611032 minutes 0.17813259760538738\n"
     ]
    },
    {
     "name": "stdout",
     "output_type": "stream",
     "text": [
      "Epoch 312 mean class acc 0.49775574740942563 acc 0.5333333333333334 prec 0.38868663754247285 rec 0.26250000000000007 f 0.3091845851042062 minutes 0.17761443456013998\n",
      "Epoch 313 mean class acc 0.4852986691426803 acc 0.5375000000000001 prec 0.4099767839687195 rec 0.27361111111111114 f 0.3219162646838149 minutes 0.17689849932988486\n",
      "Epoch 314 mean class acc 0.46741573033707867 acc 0.5166666666666666 prec 0.4181543394804519 rec 0.2555555555555556 f 0.30571882779064463 minutes 0.17776566743850708\n",
      "Epoch 315 mean class acc 0.45289079229122053 acc 0.5083333333333334 prec 0.418520880574452 rec 0.25 f 0.30134620773626103 minutes 0.17735259532928466\n",
      "Epoch 316 mean class acc 0.44894170070553285 acc 0.5 prec 0.402208928161908 rec 0.24427083333333335 f 0.29442339233762377 minutes 0.17681494156519573\n",
      "Epoch 317 mean class acc 0.4899808001253869 acc 0.5333333333333334 prec 0.40934037264723744 rec 0.2647569444444445 f 0.3134818065339718 minutes 0.17802830934524536\n",
      "Epoch 318 mean class acc 0.48963041182682154 acc 0.5208333333333334 prec 0.3893006285660961 rec 0.25347222222222227 f 0.30015656227044696 minutes 0.1783233841260274\n",
      "Epoch 319 mean class acc 0.5140697594841418 acc 0.5458333333333334 prec 0.413812270001363 rec 0.2770833333333334 f 0.32695904818049065 minutes 0.18038721879323324\n",
      "Epoch 320 mean class acc 0.4456021816109732 acc 0.5041666666666667 prec 0.4188577729942552 rec 0.2470486111111111 f 0.2995313008984497 minutes 0.17638311783472696\n",
      "Epoch 321 mean class acc 0.47915443335290664 acc 0.5416666666666667 prec 0.40937130614657213 rec 0.2703125 f 0.31809036073439045 minutes 0.17598172028859457\n",
      "Epoch 322 mean class acc 0.48874907152532004 acc 0.5375 prec 0.38266607254954715 rec 0.2619791666666667 f 0.3062923085901027 minutes 0.17762971719106038\n",
      "Epoch 323 mean class acc 0.5078801331853496 acc 0.5458333333333334 prec 0.38996138042748213 rec 0.27656250000000004 f 0.3191431574258899 minutes 0.17610735098520916\n",
      "Epoch 324 mean class acc 0.47628513238289205 acc 0.5208333333333334 prec 0.39304112184491286 rec 0.2534722222222222 f 0.2994537570710416 minutes 0.17578543424606324\n",
      "Epoch 325 mean class acc 0.47050147492625366 acc 0.5083333333333334 prec 0.4005663029100529 rec 0.25486111111111115 f 0.3056390842981666 minutes 0.19653708934783937\n",
      "Epoch 326 mean class acc 0.45641838351822506 acc 0.5083333333333333 prec 0.3780622315105074 rec 0.24531250000000002 f 0.2917113810031553 minutes 0.17606154282887776\n",
      "Epoch 327 mean class acc 0.5081937028171607 acc 0.5458333333333334 prec 0.38871132436295763 rec 0.27013888888888893 f 0.3157343349948548 minutes 0.179947566986084\n",
      "Epoch 328 mean class acc 0.4868732204883762 acc 0.525 prec 0.38511388138322555 rec 0.25625 f 0.30151647670645465 minutes 0.19588378667831421\n",
      "Epoch 329 mean class acc 0.4375 acc 0.5083333333333334 prec 0.39067906591142837 rec 0.24218750000000003 f 0.2884771674050995 minutes 0.1788120190302531\n",
      "Epoch 330 mean class acc 0.47022900763358777 acc 0.5083333333333333 prec 0.39647203641768863 rec 0.2536458333333333 f 0.3035351920055873 minutes 0.17613687117894491\n",
      "Epoch 331 mean class acc 0.49679593050142035 acc 0.5333333333333334 prec 0.3882479520817936 rec 0.27031250000000007 f 0.31392344753628587 minutes 0.1770525336265564\n",
      "Epoch 332 mean class acc 0.487087338069369 acc 0.5291666666666667 prec 0.39023649961149964 rec 0.2640625 f 0.31005014012516663 minutes 0.18060429493586222\n",
      "Epoch 333 mean class acc 0.45696371157563676 acc 0.5041666666666668 prec 0.4009662009813342 rec 0.24913194444444448 f 0.29871577528336374 minutes 0.18103870153427123\n",
      "Epoch 334 mean class acc 0.47929670329670326 acc 0.5208333333333334 prec 0.40016282620905824 rec 0.25625 f 0.3048906135551678 minutes 0.1898913582166036\n",
      "Epoch 335 mean class acc 0.4666917414432325 acc 0.525 prec 0.37767585246624197 rec 0.25312500000000004 f 0.2969826666253926 minutes 0.18331871032714844\n",
      "Epoch 336 mean class acc 0.4822157579373959 acc 0.5375000000000001 prec 0.4062193498668909 rec 0.2685763888888889 f 0.3157009665723495 minutes 0.17870319684346517\n",
      "Epoch 337 mean class acc 0.4851400350587915 acc 0.5458333333333334 prec 0.39559283309283316 rec 0.26788194444444446 f 0.3122595551189568 minutes 0.18267697493235271\n",
      "Epoch 338 mean class acc 0.47833038794917104 acc 0.5291666666666667 prec 0.39246545689301743 rec 0.25625 f 0.30252285670790835 minutes 0.18802344799041748\n",
      "Epoch 339 mean class acc 0.4832904884318766 acc 0.525 prec 0.3941252648123108 rec 0.2592013888888889 f 0.30589406005900244 minutes 0.1834752360979716\n",
      "Epoch 340 mean class acc 0.5011449837675191 acc 0.5416666666666667 prec 0.41593013468013473 rec 0.27743055555555557 f 0.32711385331939935 minutes 0.18444120089213054\n",
      "Epoch 341 mean class acc 0.5055975017206488 acc 0.5458333333333334 prec 0.39430778731626187 rec 0.2697916666666667 f 0.3160536676839715 minutes 0.18511230150858562\n",
      "Epoch 342 mean class acc 0.5032817753161403 acc 0.5416666666666667 prec 0.40867868212193936 rec 0.2732638888888889 f 0.32217470611041676 minutes 0.18318780660629272\n",
      "Epoch 343 mean class acc 0.4623048820989704 acc 0.5208333333333334 prec 0.3929000893286608 rec 0.24687500000000004 f 0.29349470140843836 minutes 0.18388307491938274\n",
      "Epoch 344 mean class acc 0.468866772725591 acc 0.5166666666666667 prec 0.39343324911771893 rec 0.25486111111111115 f 0.3026408126240205 minutes 0.18479590018590292\n",
      "Epoch 345 mean class acc 0.5055099648300118 acc 0.55 prec 0.39748258344569826 rec 0.27222222222222225 f 0.31768292826949246 minutes 0.18378026088078817\n",
      "Epoch 346 mean class acc 0.4951943462897527 acc 0.5416666666666666 prec 0.3835830842520814 rec 0.26875000000000004 f 0.31146397577444884 minutes 0.18500497341156005\n",
      "Epoch 347 mean class acc 0.5073028945137459 acc 0.55 prec 0.3933254245754246 rec 0.2715277777777778 f 0.31670951714496803 minutes 0.18455114364624023\n",
      "Epoch 348 mean class acc 0.47549172270406165 acc 0.5291666666666668 prec 0.40416107199339557 rec 0.26579861111111114 f 0.31363592943445645 minutes 0.1838525652885437\n",
      "Epoch 349 mean class acc 0.4865847808382699 acc 0.5333333333333334 prec 0.41557702733550195 rec 0.27187500000000003 f 0.32244931829795326 minutes 0.18616791566212973\n",
      "Epoch 350 mean class acc 0.49491417007174093 acc 0.5333333333333333 prec 0.3832748387833134 rec 0.26249999999999996 f 0.3070012951417126 minutes 0.18563466072082518\n",
      "Ended training\n",
      "Best mean class accuracy : 0.5551559918359413\n",
      "Best test accuracy : 0.6166666666666667\n",
      "Corresponding precision : 0.403624238847838\n",
      "Corresponding recall : 0.3276041666666667\n",
      "Corresponding f1 score : 0.35631038910618934\n"
     ]
    },
    {
     "data": {
      "image/png": "[encoded data removed]",
      "text/plain": [
       "<Figure size 432x288 with 1 Axes>"
      ]
     },
     "metadata": {
      "needs_background": "light"
     },
     "output_type": "display_data"
    },
    {
     "data": {
      "image/png": "[encoded data removed]",
      "text/plain": [
       "<Figure size 432x288 with 1 Axes>"
      ]
     },
     "metadata": {
      "needs_background": "light"
     },
     "output_type": "display_data"
    },
    {
     "data": {
      "image/png": "[encoded data removed]",
      "text/plain": [
       "<Figure size 432x288 with 1 Axes>"
      ]
     },
     "metadata": {
      "needs_background": "light"
     },
     "output_type": "display_data"
    },
    {
     "data": {
      "image/png": "[encoded data removed]",
      "text/plain": [
       "<Figure size 432x288 with 1 Axes>"
      ]
     },
     "metadata": {
      "needs_background": "light"
     },
     "output_type": "display_data"
    },
    {
     "data": {
      "image/png": "[encoded data removed]",
      "text/plain": [
       "<Figure size 432x288 with 1 Axes>"
      ]
     },
     "metadata": {
      "needs_background": "light"
     },
     "output_type": "display_data"
    },
    {
     "data": {
      "image/png": "[encoded data removed]",
      "text/plain": [
       "<Figure size 432x288 with 1 Axes>"
      ]
     },
     "metadata": {
      "needs_background": "light"
     },
     "output_type": "display_data"
    },
    {
     "data": {
      "image/png": "[encoded data removed]",
      "text/plain": [
       "<Figure size 432x288 with 1 Axes>"
      ]
     },
     "metadata": {
      "needs_background": "light"
     },
     "output_type": "display_data"
    }
   ],
   "source": [
    "do_train(model_simple, loader_train_simple_img, loader_test_simple_img, 'wce_dense_net', [(350, 1e-5)])"
   ]
  },
  {
   "cell_type": "code",
   "execution_count": 25,
   "metadata": {
    "colab": {
     "base_uri": "https://localhost:8080/",
     "height": 34
    },
    "colab_type": "code",
    "executionInfo": {
     "elapsed": 1665957,
     "status": "ok",
     "timestamp": 1579044234052,
     "user": {
      "displayName": "Vlad Danaila",
      "photoUrl": "",
      "userId": "16049478229633186858"
     },
     "user_tz": -120
    },
    "id": "ZtSy4STaRbmZ",
    "outputId": "70302a85-5fec-47fd-eb8e-7cb33fb497a4"
   },
   "outputs": [
    {
     "data": {
      "text/plain": [
       "<All keys matched successfully>"
      ]
     },
     "execution_count": 25,
     "metadata": {},
     "output_type": "execute_result"
    }
   ],
   "source": [
    "checkpoint = t.load('checkpint wce_dense_net.tar')\n",
    "model_simple.load_state_dict(checkpoint['model'])"
   ]
  },
  {
   "cell_type": "code",
   "execution_count": 26,
   "metadata": {
    "colab": {},
    "colab_type": "code",
    "id": "ky70BCeqRc2a"
   },
   "outputs": [],
   "source": [
    "def calculate_class_acc_for_test_set(model):\n",
    "  model.eval()\n",
    "  with t.no_grad():\n",
    "    conf_matrix = np.zeros((4, 4))\n",
    "    for x, y in loader_test_simple_img:\n",
    "      y_pred = model.forward(x)\n",
    "      y_pred = y_pred.narrow(1, 0, 4)\n",
    "      y_pred, y = to_numpy(y_pred), to_numpy(y)\n",
    "      pred = y_pred.argmax(axis = 1)\n",
    "      cm = sk.metrics.confusion_matrix(y, pred, labels = list(range(4)))\n",
    "      conf_matrix += cm\n",
    "    print('Confusion matrix:\\n', conf_matrix)\n",
    "    class_acc = [conf_matrix[i][i] / sum(conf_matrix[i]) for i in range(len(conf_matrix))]\n",
    "    print('Class acc:\\n', class_acc)\n",
    "    return class_acc\n",
    "\n",
    "def plot_class_acc(class_acc):\n",
    "  plt.bar(list(range(4)), class_acc, align='center', alpha=0.5)\n",
    "  plt.xticks(list(range(4)), list(range(4)))\n",
    "  plt.xlabel('Classes')\n",
    "  plt.ylabel('True Positive Rate')\n",
    "  plt.savefig('AccPerClass.pdf', dpi = 300, format = 'pdf')\n",
    "  plt.show()\n",
    "\n",
    "def plot_class_acc_comparison(class_acc_1, class_acc_2, title_1, title_2):\n",
    "  width = .3\n",
    "  plt.bar(list(range(4)), class_acc_1, width, alpha=0.5, color = 'green', label = title_1)\n",
    "  plt.bar(np.array(list(range(4))) + width, class_acc_2, width, alpha=0.5, color = 'blue', label = title_2)\n",
    "  plt.xticks(np.array(list(range(4))) + width/2, list(range(4)))\n",
    "  plt.xlabel('Classes')\n",
    "  plt.ylabel('True Positive Rate')\n",
    "  plt.legend()\n",
    "  plt.savefig('ClassAccCompareDenseNet.pdf', dpi = 300, format = 'pdf')\n",
    "  plt.show()"
   ]
  },
  {
   "cell_type": "code",
   "execution_count": 27,
   "metadata": {
    "colab": {
     "base_uri": "https://localhost:8080/",
     "height": 400
    },
    "colab_type": "code",
    "executionInfo": {
     "elapsed": 1666357,
     "status": "ok",
     "timestamp": 1579044234473,
     "user": {
      "displayName": "Vlad Danaila",
      "photoUrl": "",
      "userId": "16049478229633186858"
     },
     "user_tz": -120
    },
    "id": "5J-S9dNPRin1",
    "outputId": "5cc4d01c-0751-44d8-94de-27d23ef7309c"
   },
   "outputs": [
    {
     "name": "stdout",
     "output_type": "stream",
     "text": [
      "Confusion matrix:\n",
      " [[45.  1. 11.  3.]\n",
      " [16. 34. 10.  0.]\n",
      " [14. 20. 21.  5.]\n",
      " [ 1.  3.  8. 48.]]\n",
      "Class acc:\n",
      " [0.75, 0.5666666666666667, 0.35, 0.8]\n"
     ]
    },
    {
     "data": {
      "image/png": "[encoded data removed]",
      "text/plain": [
       "<Figure size 432x288 with 1 Axes>"
      ]
     },
     "metadata": {
      "needs_background": "light"
     },
     "output_type": "display_data"
    }
   ],
   "source": [
    "class_acc = calculate_class_acc_for_test_set(model_simple)\n",
    "plot_class_acc(class_acc)"
   ]
  },
  {
   "cell_type": "code",
   "execution_count": 30,
   "metadata": {
    "colab": {
     "base_uri": "https://localhost:8080/",
     "height": 452
    },
    "colab_type": "code",
    "executionInfo": {
     "elapsed": 1667516,
     "status": "ok",
     "timestamp": 1579044235644,
     "user": {
      "displayName": "Vlad Danaila",
      "photoUrl": "",
      "userId": "16049478229633186858"
     },
     "user_tz": -120
    },
    "id": "c5rGbcc1RmJL",
    "outputId": "c3cb1949-c304-4dc7-fc04-17d02f83e6ba"
   },
   "outputs": [
    {
     "name": "stdout",
     "output_type": "stream",
     "text": [
      "Confusion matrix:\n",
      " [[58.  0.  1.  1.]\n",
      " [21. 23. 16.  0.]\n",
      " [22.  6. 31.  1.]\n",
      " [ 2.  2. 12. 44.]]\n",
      "Class acc:\n",
      " [0.9666666666666667, 0.38333333333333336, 0.5166666666666667, 0.7333333333333333]\n"
     ]
    },
    {
     "data": {
      "image/png": "[encoded data removed]",
      "text/plain": [
       "<Figure size 432x288 with 1 Axes>"
      ]
     },
     "metadata": {
      "needs_background": "light"
     },
     "output_type": "display_data"
    }
   ],
   "source": [
    "model_without_wl = t.nn.DataParallel(get_resnet_18().cuda())\n",
    "checkpoint_without_wl = t.load(CHACKPOINT_CROSS_ENTROPY_MODEL)\n",
    "model_without_wl.load_state_dict(checkpoint_without_wl['model'])\n",
    "class_acc_no_wl = calculate_class_acc_for_test_set(model_without_wl)\n",
    "plot_class_acc(class_acc_no_wl)"
   ]
  },
  {
   "cell_type": "code",
   "execution_count": 31,
   "metadata": {
    "colab": {
     "base_uri": "https://localhost:8080/",
     "height": 278
    },
    "colab_type": "code",
    "executionInfo": {
     "elapsed": 1667504,
     "status": "ok",
     "timestamp": 1579044235645,
     "user": {
      "displayName": "Vlad Danaila",
      "photoUrl": "",
      "userId": "16049478229633186858"
     },
     "user_tz": -120
    },
    "id": "tRz36NjNRvqC",
    "outputId": "d8046b27-6598-4adc-e73a-fad22d32c512"
   },
   "outputs": [
    {
     "data": {
      "image/png": "[encoded data removed]",
      "text/plain": [
       "<Figure size 432x288 with 1 Axes>"
      ]
     },
     "metadata": {
      "needs_background": "light"
     },
     "output_type": "display_data"
    }
   ],
   "source": [
    "plot_class_acc_comparison(class_acc, class_acc_no_wl, 'Weighted Cross Entropy Loss', 'Cross Entropy Loss')"
   ]
  }
 ],
 "metadata": {
  "accelerator": "GPU",
  "colab": {
   "collapsed_sections": [],
   "name": "Cancer Detection - Ensable Conv 14 Jan Weighted Loss V6.ipynb",
   "provenance": []
  },
  "kernelspec": {
   "display_name": "Python 3",
   "language": "python",
   "name": "python3"
  },
  "language_info": {
   "codemirror_mode": {
    "name": "ipython",
    "version": 3
   },
   "file_extension": ".py",
   "mimetype": "text/x-python",
   "name": "python",
   "nbconvert_exporter": "python",
   "pygments_lexer": "ipython3",
   "version": "3.6.9"
  }
 },
 "nbformat": 4,
 "nbformat_minor": 1
}
