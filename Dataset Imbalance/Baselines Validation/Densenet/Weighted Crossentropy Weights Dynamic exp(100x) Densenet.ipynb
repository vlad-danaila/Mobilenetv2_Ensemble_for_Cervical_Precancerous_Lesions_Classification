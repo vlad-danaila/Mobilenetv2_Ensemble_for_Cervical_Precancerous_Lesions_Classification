{
 "cells": [
  {
   "cell_type": "markdown",
   "metadata": {
    "colab_type": "text",
    "id": "view-in-github"
   },
   "source": [
    "<a href=\"https://colab.research.google.com/github/vlad-danaila/ml-cancer-detection/blob/master/Cancer_Detection_Ensable_V1.ipynb\" target=\"_parent\"><img src=\"https://colab.research.google.com/assets/colab-badge.svg\" alt=\"Open In Colab\"/></a>"
   ]
  },
  {
   "cell_type": "code",
   "execution_count": null,
   "metadata": {
    "colab": {
     "base_uri": "https://localhost:8080/",
     "height": 381
    },
    "colab_type": "code",
    "executionInfo": {
     "elapsed": 7827,
     "status": "ok",
     "timestamp": 1579035694957,
     "user": {
      "displayName": "Vlad Danaila",
      "photoUrl": "",
      "userId": "16049478229633186858"
     },
     "user_tz": -120
    },
    "id": "-00MlLK5bd_o",
    "outputId": "d12e31ea-067d-4f0a-ebb7-9a9a234350d2"
   },
   "outputs": [],
   "source": [
    "!pip3 install sklearn matplotlib GPUtil"
   ]
  },
  {
   "cell_type": "code",
   "execution_count": null,
   "metadata": {
    "colab": {},
    "colab_type": "code",
    "id": "CMValOmT-aue"
   },
   "outputs": [],
   "source": [
    "!pip3 install \"pillow<7\""
   ]
  },
  {
   "cell_type": "code",
   "execution_count": null,
   "metadata": {
    "colab": {},
    "colab_type": "code",
    "id": "dVSEwo3iJpWR"
   },
   "outputs": [],
   "source": [
    "!pip3 install torch==1.3.1+cu92 torchvision==0.4.2+cu92 -f https://download.pytorch.org/whl/torch_stable.html"
   ]
  },
  {
   "cell_type": "markdown",
   "metadata": {
    "colab_type": "text",
    "id": "xTU7V2ervf9J"
   },
   "source": [
    "**Download Data**"
   ]
  },
  {
   "cell_type": "markdown",
   "metadata": {
    "colab_type": "text",
    "id": "W4En4wy5ZOqm"
   },
   "source": [
    "Mount my google drive, where the dataset is stored."
   ]
  },
  {
   "cell_type": "code",
   "execution_count": null,
   "metadata": {
    "colab": {
     "base_uri": "https://localhost:8080/",
     "height": 124
    },
    "colab_type": "code",
    "executionInfo": {
     "elapsed": 31673,
     "status": "ok",
     "timestamp": 1579035754952,
     "user": {
      "displayName": "Vlad Danaila",
      "photoUrl": "",
      "userId": "16049478229633186858"
     },
     "user_tz": -120
    },
    "id": "w12ajwYkRYMj",
    "outputId": "41c9e7ae-1b35-4e10-a019-455071d85d72"
   },
   "outputs": [],
   "source": [
    "try:\n",
    "    from google.colab import drive\n",
    "    drive.mount('/content/drive')\n",
    "except Exception as e:\n",
    "    print(e)"
   ]
  },
  {
   "cell_type": "markdown",
   "metadata": {
    "colab_type": "text",
    "id": "1lZ8z6MIZag1"
   },
   "source": [
    "Unzip the dataset into the folder \"dataset\"."
   ]
  },
  {
   "cell_type": "code",
   "execution_count": null,
   "metadata": {
    "colab": {
     "base_uri": "https://localhost:8080/",
     "height": 1000
    },
    "colab_type": "code",
    "executionInfo": {
     "elapsed": 12420,
     "status": "ok",
     "timestamp": 1579036086536,
     "user": {
      "displayName": "Vlad Danaila",
      "photoUrl": "",
      "userId": "16049478229633186858"
     },
     "user_tz": -120
    },
    "id": "30WlKBSGZfpq",
    "outputId": "addfaef0-6f80-4984-f718-c1adb038302e"
   },
   "outputs": [],
   "source": [
    "!rm -vrf \"dataset\"\n",
    "!mkdir \"dataset\"\n",
    "!cp -r \"/content/drive/My Drive/Studiu doctorat leziuni cervicale/cervigram-image-dataset-v2.zip\" \"dataset/cervigram-image-dataset-v2.zip\"\n",
    "# !cp -r \"cervigram-image-dataset-v2.zip\" \"dataset/cervigram-image-dataset-v2.zip\"\n",
    "!unzip \"dataset/cervigram-image-dataset-v2.zip\" -d \"dataset\""
   ]
  },
  {
   "cell_type": "markdown",
   "metadata": {
    "colab_type": "text",
    "id": "G79HqNc8ZaJ8"
   },
   "source": [
    "**Constants**"
   ]
  },
  {
   "cell_type": "code",
   "execution_count": 36,
   "metadata": {
    "colab": {},
    "colab_type": "code",
    "id": "g1YBANp9XJeA"
   },
   "outputs": [],
   "source": [
    "# TRAIN_PATH = '/content/dataset/data/train/'\n",
    "# TEST_PATH = '/content/dataset/data/test/'\n",
    "TRAIN_PATH = 'dataset/data/train/'\n",
    "TEST_PATH = 'dataset/data/test/'\n",
    "\n",
    "CROP_SIZE = 260\n",
    "IMAGE_SIZE = 224\n",
    "BATCH_SIZE = 100\n",
    "\n",
    "# prefix = '/content/drive/My Drive/Studiu doctorat leziuni cervicale/V2/Chekpoints & Notebooks/'\n",
    "prefix = 'Mobilenetv2 Tuning/'\n",
    "CHACKPOINT_CROSS_ENTROPY_MODEL = prefix + 'checkpint densenet_baseline.tar'"
   ]
  },
  {
   "cell_type": "markdown",
   "metadata": {
    "colab_type": "text",
    "id": "B_koVi65ZlHP"
   },
   "source": [
    "**Imports**"
   ]
  },
  {
   "cell_type": "code",
   "execution_count": 2,
   "metadata": {
    "colab": {},
    "colab_type": "code",
    "id": "qyNuLlPNsdl1"
   },
   "outputs": [],
   "source": [
    "import torch as t\n",
    "import torchvision as tv\n",
    "import numpy as np\n",
    "import PIL as pil\n",
    "import matplotlib.pyplot as plt\n",
    "from torchvision.datasets import ImageFolder\n",
    "from torch.utils.data import DataLoader\n",
    "from torch.nn import Linear, BCEWithLogitsLoss\n",
    "import sklearn as sk\n",
    "import sklearn.metrics\n",
    "from os import listdir\n",
    "import time\n",
    "import random\n",
    "import statistics\n",
    "import math"
   ]
  },
  {
   "cell_type": "markdown",
   "metadata": {
    "colab_type": "text",
    "id": "r3KfXoIH187Z"
   },
   "source": [
    "**Deterministic Measurements**"
   ]
  },
  {
   "cell_type": "markdown",
   "metadata": {
    "colab_type": "text",
    "id": "bQ3rHF5K2BpX"
   },
   "source": [
    "This statements help making the experiments reproductible by fixing the random seeds."
   ]
  },
  {
   "cell_type": "code",
   "execution_count": 3,
   "metadata": {
    "colab": {},
    "colab_type": "code",
    "id": "PQtgx_3H2MEx"
   },
   "outputs": [],
   "source": [
    "SEED = 0\n",
    "t.manual_seed(SEED)\n",
    "t.cuda.manual_seed(SEED)\n",
    "t.cuda.manual_seed_all(SEED)\n",
    "t.backends.cudnn.deterministic = True\n",
    "t.backends.cudnn.benchmark = False\n",
    "np.random.seed(SEED)\n",
    "random.seed(SEED)"
   ]
  },
  {
   "cell_type": "markdown",
   "metadata": {
    "colab_type": "text",
    "id": "fyGUb7LOJpWw"
   },
   "source": [
    "**Memory Stats**"
   ]
  },
  {
   "cell_type": "code",
   "execution_count": 4,
   "metadata": {
    "colab": {
     "base_uri": "https://localhost:8080/",
     "height": 34
    },
    "colab_type": "code",
    "executionInfo": {
     "elapsed": 1793,
     "status": "ok",
     "timestamp": 1579042569637,
     "user": {
      "displayName": "Vlad Danaila",
      "photoUrl": "",
      "userId": "16049478229633186858"
     },
     "user_tz": -120
    },
    "id": "IEidARh3JpWx",
    "outputId": "b3fb12f1-69d9-48cd-afca-db8b6a7ab293"
   },
   "outputs": [
    {
     "name": "stdout",
     "output_type": "stream",
     "text": [
      "GPU RAM Free: 11019MB | Used: 0MB | Util   0% | Total 11019MB\n",
      "GPU RAM Free: 11019MB | Used: 0MB | Util   0% | Total 11019MB\n"
     ]
    }
   ],
   "source": [
    "import GPUtil\n",
    "def memory_stats():\n",
    "  for gpu in GPUtil.getGPUs():\n",
    "    print(\"GPU RAM Free: {0:.0f}MB | Used: {1:.0f}MB | Util {2:3.0f}% | Total {3:.0f}MB\".format(gpu.memoryFree, gpu.memoryUsed, gpu.memoryUtil*100, gpu.memoryTotal))\n",
    "memory_stats()"
   ]
  },
  {
   "cell_type": "markdown",
   "metadata": {
    "colab_type": "text",
    "id": "ugovPCwFvBc4"
   },
   "source": [
    "**Loading Data**"
   ]
  },
  {
   "cell_type": "markdown",
   "metadata": {
    "colab_type": "text",
    "id": "8_PMRn9BcaPO"
   },
   "source": [
    "The dataset is structured in multiple small folders, ecah containing 7 images. The generator iterates through the folders and returns the category and 7 paths: one for each image in the folder."
   ]
  },
  {
   "cell_type": "code",
   "execution_count": 5,
   "metadata": {
    "colab": {},
    "colab_type": "code",
    "id": "qU2qOUVWZZNl"
   },
   "outputs": [],
   "source": [
    "def sortByLastDigits(elem):\n",
    "  chars = [c for c in elem if c.isdigit()]\n",
    "  return 0 if len(chars) == 0 else int(''.join(chars))\n",
    "\n",
    "def getImagesPaths(root_path):\n",
    "  for  class_folder in [root_path + f for f in listdir(root_path)]:\n",
    "      category = int(class_folder[-1])\n",
    "      for case_folder in listdir(class_folder):\n",
    "        case_folder_path = class_folder + '/' + case_folder + '/'\n",
    "        img_files = [case_folder_path + file_name for file_name in listdir(case_folder_path)]\n",
    "        yield category, sorted(img_files, key = sortByLastDigits)"
   ]
  },
  {
   "cell_type": "markdown",
   "metadata": {
    "colab_type": "text",
    "id": "MSrKoW7TdRFr"
   },
   "source": [
    "We define 3 datasets, which loads 3 kinds of images: natural images, images taken through a green lens and images where the doctor aplied iodine solution (which gives a dark red colour). Each dataset has dynamic and static transformations which could be applied to the data. The static transformations are applied on the initialization of the dataset, while the dynamic ones are applied when loading each batch of data."
   ]
  },
  {
   "cell_type": "code",
   "execution_count": 6,
   "metadata": {
    "colab": {},
    "colab_type": "code",
    "id": "EmgWK_7-doGb"
   },
   "outputs": [],
   "source": [
    "class SimpleImagesDataset(t.utils.data.Dataset):\n",
    "  def __init__(self, root_path, transforms_x_static = None, transforms_x_dynamic = None, transforms_y_static = None, transforms_y_dynamic = None):\n",
    "    self.dataset = []\n",
    "    self.transforms_x = transforms_x_dynamic\n",
    "    self.transforms_y = transforms_y_dynamic\n",
    "    for category, img_files in getImagesPaths(root_path):\n",
    "      for i in range(5):\n",
    "        img = pil.Image.open(img_files[i])\n",
    "        if transforms_x_static != None:\n",
    "          img = transforms_x_static(img)\n",
    "        if transforms_y_static != None:\n",
    "          category = transforms_y_static(category)\n",
    "        self.dataset.append((img, category))    \n",
    "  \n",
    "  def __getitem__(self, i):\n",
    "    x, y = self.dataset[i]\n",
    "    if self.transforms_x != None:\n",
    "      x = self.transforms_x(x)\n",
    "    if self.transforms_y != None:\n",
    "      y = self.transforms_y(y)\n",
    "    return x, y\n",
    "\n",
    "  def __len__(self):\n",
    "    return len(self.dataset)\n",
    "\n",
    "class GreenLensImagesDataset(SimpleImagesDataset):\n",
    "  def __init__(self, root_path, transforms_x_static = None, transforms_x_dynamic = None, transforms_y_static = None, transforms_y_dynamic = None):\n",
    "    self.dataset = []\n",
    "    self.transforms_x = transforms_x_dynamic\n",
    "    self.transforms_y = transforms_y_dynamic\n",
    "    for category, img_files in getImagesPaths(root_path):\n",
    "        # Only the green lens image\n",
    "        img = pil.Image.open(img_files[-2]) \n",
    "        if transforms_x_static != None:\n",
    "          img = transforms_x_static(img)\n",
    "        if transforms_y_static != None:\n",
    "          category = transforms_y_static(category)\n",
    "        self.dataset.append((img, category))    \n",
    "\n",
    "class RedImagesDataset(SimpleImagesDataset):\n",
    "  def __init__(self, root_path, transforms_x_static = None, transforms_x_dynamic = None, transforms_y_static = None, transforms_y_dynamic = None):\n",
    "    self.dataset = []\n",
    "    self.transforms_x = transforms_x_dynamic\n",
    "    self.transforms_y = transforms_y_dynamic\n",
    "    for category, img_files in getImagesPaths(root_path):\n",
    "        # Only the green lens image\n",
    "        img = pil.Image.open(img_files[-1]) \n",
    "        if transforms_x_static != None:\n",
    "          img = transforms_x_static(img)\n",
    "        if transforms_y_static != None:\n",
    "          category = transforms_y_static(category)\n",
    "        self.dataset.append((img, category))    "
   ]
  },
  {
   "cell_type": "markdown",
   "metadata": {
    "colab_type": "text",
    "id": "vRqFvAHwvVTl"
   },
   "source": [
    "**Preprocess Data**"
   ]
  },
  {
   "cell_type": "markdown",
   "metadata": {
    "colab_type": "text",
    "id": "UOI_JvcCe0cR"
   },
   "source": [
    "Convert pytorch tensor to numpy array."
   ]
  },
  {
   "cell_type": "code",
   "execution_count": 7,
   "metadata": {
    "colab": {},
    "colab_type": "code",
    "id": "OKxTUFnkezdb"
   },
   "outputs": [],
   "source": [
    "def to_numpy(x):\n",
    "  return x.cpu().detach().numpy()"
   ]
  },
  {
   "cell_type": "markdown",
   "metadata": {
    "colab_type": "text",
    "id": "TmnrMN5BmHRg"
   },
   "source": [
    "Data transformations for the test and training sets."
   ]
  },
  {
   "cell_type": "code",
   "execution_count": 8,
   "metadata": {
    "colab": {},
    "colab_type": "code",
    "id": "_hBCnG-fvwjB"
   },
   "outputs": [],
   "source": [
    "norm_mean = [0.485, 0.456, 0.406]\n",
    "norm_std = [0.229, 0.224, 0.225]\n",
    "\n",
    "transforms_train = tv.transforms.Compose([\n",
    "    tv.transforms.RandomAffine(degrees  = 45, translate = None, scale = (1., 2.), shear = 30),\n",
    "    # tv.transforms.CenterCrop(CROP_SIZE),\n",
    "    tv.transforms.Resize(IMAGE_SIZE),\n",
    "    tv.transforms.RandomHorizontalFlip(),\n",
    "    tv.transforms.ToTensor(),\n",
    "    tv.transforms.Lambda(lambda t: t.cuda()),\n",
    "    tv.transforms.Normalize(mean=norm_mean, std=norm_std)    \n",
    "])\n",
    "\n",
    "transforms_test = tv.transforms.Compose([\n",
    "    # tv.transforms.CenterCrop(CROP_SIZE),\n",
    "    tv.transforms.Resize(IMAGE_SIZE),\n",
    "    tv.transforms.ToTensor(),\n",
    "    tv.transforms.Normalize(mean=norm_mean, std=norm_std)    \n",
    "])\n",
    "\n",
    "y_transform = tv.transforms.Lambda(lambda y: t.tensor(y, dtype=t.long, device = 'cuda:0'))"
   ]
  },
  {
   "cell_type": "markdown",
   "metadata": {
    "colab_type": "text",
    "id": "5ky8gX31q-NW"
   },
   "source": [
    "Initialize pytorch datasets and loaders for training and test."
   ]
  },
  {
   "cell_type": "code",
   "execution_count": 9,
   "metadata": {
    "colab": {},
    "colab_type": "code",
    "id": "2hqOyTVGnjjy"
   },
   "outputs": [],
   "source": [
    "def create_loaders(dataset_class):\n",
    "  dataset_train = dataset_class(TRAIN_PATH, transforms_x_dynamic = transforms_train, transforms_y_dynamic = y_transform)\n",
    "  dataset_test = dataset_class(TEST_PATH, transforms_x_static = transforms_test, \n",
    "                                                transforms_x_dynamic = tv.transforms.Lambda(lambda t: t.cuda()), transforms_y_dynamic = y_transform)\n",
    "\n",
    "  loader_train = DataLoader(dataset_train, BATCH_SIZE, shuffle = True, num_workers = 0)\n",
    "  loader_test = DataLoader(dataset_test, BATCH_SIZE, shuffle = False, num_workers = 0)\n",
    "  return loader_train, loader_test, len(dataset_train), len(dataset_test)"
   ]
  },
  {
   "cell_type": "code",
   "execution_count": 10,
   "metadata": {
    "colab": {},
    "colab_type": "code",
    "id": "Un_LZV7KqFCn"
   },
   "outputs": [],
   "source": [
    "loader_train_simple_img, loader_test_simple_img, len_train, len_test = create_loaders(SimpleImagesDataset)"
   ]
  },
  {
   "cell_type": "markdown",
   "metadata": {
    "colab_type": "text",
    "id": "yIcoJBpn0jZ8"
   },
   "source": [
    "**Visualize Data**"
   ]
  },
  {
   "cell_type": "markdown",
   "metadata": {
    "colab_type": "text",
    "id": "ARRQsL2drbzv"
   },
   "source": [
    "Load a few images so that we can see the efects of the data augmentation on the training set."
   ]
  },
  {
   "cell_type": "code",
   "execution_count": 11,
   "metadata": {
    "colab": {},
    "colab_type": "code",
    "id": "mDi25EAxrSal"
   },
   "outputs": [],
   "source": [
    "def plot_one_prediction(x, label, pred):  \n",
    "  x, label, pred = to_numpy(x), to_numpy(label), to_numpy(pred)\n",
    "  x = np.transpose(x, [1, 2, 0])\n",
    "  if x.shape[-1] == 1:\n",
    "    x = x.squeeze()\n",
    "  x = x * np.array(norm_std) + np.array(norm_mean)\n",
    "  plt.title(label, color = 'green' if label == pred else 'red')\n",
    "  plt.imshow(x)\n",
    "\n",
    "def plot_predictions(imgs, labels, preds):  \n",
    "  fig = plt.figure(figsize = (20, 5))\n",
    "  for i in range(20):\n",
    "    fig.add_subplot(2, 10, i + 1, xticks = [], yticks = [])\n",
    "    plot_one_prediction(imgs[i], labels[i], preds[i])"
   ]
  },
  {
   "cell_type": "code",
   "execution_count": 12,
   "metadata": {
    "colab": {},
    "colab_type": "code",
    "id": "Q0jkeNIVrVf3"
   },
   "outputs": [],
   "source": [
    "# x, y = next(iter(loader_train_simple_img))\n",
    "# for i in range(7):\n",
    "#   plot_predictions(x[i], y, y)"
   ]
  },
  {
   "cell_type": "markdown",
   "metadata": {
    "colab_type": "text",
    "id": "teYfBi5v0yuj"
   },
   "source": [
    "**Model**"
   ]
  },
  {
   "cell_type": "code",
   "execution_count": 13,
   "metadata": {
    "colab": {},
    "colab_type": "code",
    "id": "3rQm0JTXsLOO"
   },
   "outputs": [],
   "source": [
    "def get_dense_net():\n",
    "  model = tv.models.densenet121(pretrained = True)\n",
    "  model.classifier.out_features = 4\n",
    "  model = model.cuda()\n",
    "  return model"
   ]
  },
  {
   "cell_type": "code",
   "execution_count": 14,
   "metadata": {
    "colab": {
     "base_uri": "https://localhost:8080/",
     "height": 69
    },
    "colab_type": "code",
    "executionInfo": {
     "elapsed": 5422,
     "status": "ok",
     "timestamp": 1579042573434,
     "user": {
      "displayName": "Vlad Danaila",
      "photoUrl": "",
      "userId": "16049478229633186858"
     },
     "user_tz": -120
    },
    "id": "DRM168aEuTid",
    "outputId": "489e975e-7a63-41ab-821e-51b4597f6117"
   },
   "outputs": [],
   "source": [
    "model_simple = t.nn.DataParallel(get_dense_net())"
   ]
  },
  {
   "cell_type": "markdown",
   "metadata": {
    "colab_type": "text",
    "id": "eVNbPOX31_rS"
   },
   "source": [
    "**Train & Evaluate**"
   ]
  },
  {
   "cell_type": "markdown",
   "metadata": {
    "colab_type": "text",
    "id": "6G1HQmJ1vJt8"
   },
   "source": [
    "Timer utility function. This is used to measure the execution speend."
   ]
  },
  {
   "cell_type": "code",
   "execution_count": 15,
   "metadata": {
    "colab": {},
    "colab_type": "code",
    "id": "77HDFtMd1Ra_"
   },
   "outputs": [],
   "source": [
    "time_start = 0\n",
    "\n",
    "def timer_start():\n",
    "  global time_start\n",
    "  time_start = time.time()\n",
    "\n",
    "def timer_end():\n",
    "  return time.time() - time_start"
   ]
  },
  {
   "cell_type": "markdown",
   "metadata": {
    "colab_type": "text",
    "id": "2ZE3UqwMvbfM"
   },
   "source": [
    "This function trains the network and e valuates it at the same time. It outputs the metrics recorder during the training for both train and test. We are measuring accuracy and the loss. The function also saves a checkpoint of the model every time the accuracy is imporved. In the end we will have a checkpoint of the model which gave the best accuracy."
   ]
  },
  {
   "cell_type": "code",
   "execution_count": 16,
   "metadata": {
    "colab": {},
    "colab_type": "code",
    "id": "FwUA4abu2pRe"
   },
   "outputs": [],
   "source": [
    "def train_eval(optimizer, model, loader_train, loader_test, chekpoint_name, epochs):\n",
    "  metrics = {\n",
    "      'losses_train': [],\n",
    "      'losses_test': [],\n",
    "\n",
    "      'acc_train': [],\n",
    "      'acc_test': [],\n",
    "\n",
    "      'prec_train': [],\n",
    "      'prec_test': [],\n",
    "\n",
    "      'rec_train': [],\n",
    "      'rec_test': [],\n",
    "\n",
    "      'f_score_train': [],\n",
    "      'f_score_test': [],\n",
    "\n",
    "      'mean_class_acc_train': [],\n",
    "      'mean_class_acc_test': []  \n",
    "  }\n",
    "\n",
    "  best_mean_acc = 0\n",
    "  \n",
    "  loss_weights = t.tensor([1/4] * 4, device='cuda:0')\n",
    "    \n",
    "  try:  \n",
    "    for epoch in range(epochs):\n",
    "      timer_start()\n",
    "      loss_fn = t.nn.CrossEntropyLoss(weight = loss_weights)\n",
    "      # loss_fn = t.nn.CrossEntropyLoss()\n",
    "      # loss_fn = FocalLoss(gamma = 2)\n",
    "      train_epoch_loss, train_epoch_acc, train_epoch_precision, train_epoch_recall, train_epoch_f_score = 0, 0, 0, 0, 0\n",
    "      test_epoch_loss, test_epoch_acc, test_epoch_precision, test_epoch_recall, test_epoch_f_score = 0, 0, 0, 0, 0\n",
    "\n",
    "      # Train\n",
    "      model.train()\n",
    "      conf_matrix = np.zeros((4, 4))\n",
    "      for x, y in loader_train:\n",
    "        y_pred = model.forward(x)\n",
    "        y_pred = y_pred.narrow(1, 0, 4)\n",
    "        loss = loss_fn(y_pred, y)\n",
    "        loss.backward()\n",
    "        optimizer.step()\n",
    "#         memory_stats()\n",
    "        optimizer.zero_grad()\n",
    "        y_pred, y = to_numpy(y_pred), to_numpy(y)\n",
    "        pred = y_pred.argmax(axis = 1)\n",
    "        ratio = len(y) / len_train\n",
    "        train_epoch_loss += (loss.item() * ratio)\n",
    "        train_epoch_acc += (sk.metrics.accuracy_score(y, pred) * ratio)\n",
    "        precision, recall, f_score, _ = sk.metrics.precision_recall_fscore_support(y, pred, average = 'macro')\n",
    "        train_epoch_precision += (precision * ratio)\n",
    "        train_epoch_recall += (recall * ratio)\n",
    "        train_epoch_f_score += (f_score * ratio)\n",
    "        conf_matrix += sk.metrics.confusion_matrix(y, pred, labels = list(range(4)))\n",
    "      class_acc = [conf_matrix[i][i] / sum(conf_matrix[i]) for i in range(len(conf_matrix))]\n",
    "      mean_class_acc = statistics.harmonic_mean(class_acc)\n",
    "      errors = [1 - conf_matrix[i][i] / sum(conf_matrix[i]) for i in range(len(conf_matrix))]\n",
    "      errors_strong = [math.exp(100 * e) for e in errors]\n",
    "      loss_weights = t.tensor([e / sum(errors_strong) for e in errors_strong], device = 'cuda:0')\n",
    "      metrics['losses_train'].append(train_epoch_loss)\n",
    "      metrics['acc_train'].append(train_epoch_acc)\n",
    "      metrics['prec_train'].append(train_epoch_precision)\n",
    "      metrics['rec_train'].append(train_epoch_recall)\n",
    "      metrics['f_score_train'].append(train_epoch_f_score)\n",
    "      metrics['mean_class_acc_train'].append(mean_class_acc) \n",
    "\n",
    "      # Evaluate\n",
    "      model.eval()\n",
    "      with t.no_grad():\n",
    "        conf_matrix_test = np.zeros((4, 4))\n",
    "        for x, y in loader_test:\n",
    "          y_pred = model.forward(x)\n",
    "          y_pred = y_pred.narrow(1, 0, 4)\n",
    "          loss = loss_fn(y_pred, y)\n",
    "          y_pred, y = to_numpy(y_pred), to_numpy(y)\n",
    "          pred = y_pred.argmax(axis = 1)\n",
    "          ratio = len(y) / len_test\n",
    "          test_epoch_loss += (loss * ratio)\n",
    "          test_epoch_acc += (sk.metrics.accuracy_score(y, pred) * ratio )\n",
    "          precision, recall, f_score, _ = sk.metrics.precision_recall_fscore_support(y, pred, average = 'macro')\n",
    "          test_epoch_precision += (precision * ratio)\n",
    "          test_epoch_recall += (recall * ratio)\n",
    "          test_epoch_f_score += (f_score * ratio)\n",
    "          conf_matrix_test += sk.metrics.confusion_matrix(y, pred, labels = list(range(4)))\n",
    "        class_acc_test = [conf_matrix_test[i][i] / sum(conf_matrix_test[i]) for i in range(len(conf_matrix_test))]\n",
    "        mean_class_acc_test = statistics.harmonic_mean(class_acc_test)\n",
    "        metrics['losses_test'].append(test_epoch_loss)\n",
    "        metrics['acc_test'].append(test_epoch_acc)\n",
    "        metrics['prec_test'].append(test_epoch_precision)\n",
    "        metrics['rec_test'].append(test_epoch_recall)\n",
    "        metrics['f_score_test'].append(test_epoch_f_score)\n",
    "        metrics['mean_class_acc_test'].append(mean_class_acc_test) \n",
    "      \n",
    "      if metrics['mean_class_acc_test'][-1] > best_mean_acc:\n",
    "        best_mean_acc = metrics['mean_class_acc_test'][-1]\n",
    "        t.save({'model': model.state_dict()}, 'checkpint {}.tar'.format(chekpoint_name))\n",
    "      print('Epoch {} mean class acc {} acc {} prec {} rec {} f {} minutes {}'.format(\n",
    "        epoch + 1, metrics['mean_class_acc_test'][-1], metrics['acc_test'][-1], metrics['prec_test'][-1], metrics['rec_test'][-1], metrics['f_score_test'][-1], timer_end() / 60))\n",
    "  except KeyboardInterrupt as e:\n",
    "    print(e)  \n",
    "  print('Ended training')\n",
    "  return metrics"
   ]
  },
  {
   "cell_type": "markdown",
   "metadata": {
    "colab_type": "text",
    "id": "BPznZeFDxhtA"
   },
   "source": [
    "Plot a metric for both train and test."
   ]
  },
  {
   "cell_type": "code",
   "execution_count": 17,
   "metadata": {
    "colab": {},
    "colab_type": "code",
    "id": "4QjYASRPRnIr"
   },
   "outputs": [],
   "source": [
    "def plot_train_test(train, test, title, y_title):\n",
    "    plt.plot(range(len(train)), train, label = 'train')\n",
    "    plt.plot(range(len(test)), test, label = 'test')\n",
    "    plt.xlabel('Epochs')\n",
    "    plt.ylabel(y_title)\n",
    "    plt.title(title)\n",
    "    plt.legend()\n",
    "    plt.show()"
   ]
  },
  {
   "cell_type": "code",
   "execution_count": 18,
   "metadata": {
    "colab": {},
    "colab_type": "code",
    "id": "IhqQNSnDJpX4"
   },
   "outputs": [],
   "source": [
    "def plot_precision_recall(metrics):\n",
    "    plt.scatter(metrics['prec_train'], metrics['rec_train'], label = 'train')\n",
    "    plt.scatter(metrics['prec_test'], metrics['rec_test'], label = 'test')\n",
    "    plt.legend()\n",
    "    plt.title('Precision-Recall')\n",
    "    plt.xlabel('Precision')\n",
    "    plt.ylabel('Recall')"
   ]
  },
  {
   "cell_type": "markdown",
   "metadata": {
    "colab_type": "text",
    "id": "T8adJjmiCHs6"
   },
   "source": [
    "Train a model for several epochs. The steps_learning parameter is a list of tuples. Each tuple specifies the steps and the learning rate."
   ]
  },
  {
   "cell_type": "code",
   "execution_count": 19,
   "metadata": {
    "colab": {},
    "colab_type": "code",
    "id": "1jO6UBhaP926"
   },
   "outputs": [],
   "source": [
    "def do_train(model, loader_train, loader_test, checkpoint_name, steps_learning):\n",
    "  t.cuda.empty_cache()\n",
    "  for steps, learn_rate in steps_learning:\n",
    "    metrics = train_eval(t.optim.Adam(model.parameters(), lr = learn_rate, weight_decay = 0), model, loader_train, loader_test, checkpoint_name, steps)\n",
    "    \n",
    "    index_max = np.array(metrics['mean_class_acc_test']).argmax()\n",
    "    print('Best mean class accuracy :', metrics['mean_class_acc_test'][index_max])\n",
    "    print('Best test accuracy :', metrics['acc_test'][index_max])\n",
    "    print('Corresponding precision :', metrics['prec_test'][index_max])\n",
    "    print('Corresponding recall :', metrics['rec_test'][index_max])\n",
    "    print('Corresponding f1 score :', metrics['f_score_test'][index_max])\n",
    "\n",
    "    plot_train_test(metrics['mean_class_acc_train'], metrics['mean_class_acc_test'], 'Mean Class Accuracy (lr = {})'.format(learn_rate), 'Mean Class Accuracy')\n",
    "    plot_train_test(metrics['losses_train'], metrics['losses_test'], 'Loss (lr = {})'.format(learn_rate), 'Loss')\n",
    "    plot_train_test(metrics['acc_train'], metrics['acc_test'], 'Accuracy (lr = {})'.format(learn_rate), 'Accuracy')\n",
    "    plot_train_test(metrics['prec_train'], metrics['prec_test'], 'Precision (lr = {})'.format(learn_rate), 'Precision')\n",
    "    plot_train_test(metrics['rec_train'], metrics['rec_test'], 'Recall (lr = {})'.format(learn_rate), 'Recall')\n",
    "    plot_train_test(metrics['f_score_train'], metrics['f_score_test'], 'F1 Score (lr = {})'.format(learn_rate), 'F1 Score')\n",
    "    plot_precision_recall(metrics)"
   ]
  },
  {
   "cell_type": "markdown",
   "metadata": {
    "colab_type": "text",
    "id": "Q91nZ33rCryC"
   },
   "source": [
    "Perform actual training"
   ]
  },
  {
   "cell_type": "code",
   "execution_count": 20,
   "metadata": {
    "colab": {
     "base_uri": "https://localhost:8080/",
     "height": 1000
    },
    "colab_type": "code",
    "executionInfo": {
     "elapsed": 1665967,
     "status": "ok",
     "timestamp": 1579044234046,
     "user": {
      "displayName": "Vlad Danaila",
      "photoUrl": "",
      "userId": "16049478229633186858"
     },
     "user_tz": -120
    },
    "id": "BA2tEyFmCybQ",
    "outputId": "0623296d-169d-4c80-8599-906849f5e21d",
    "scrolled": false
   },
   "outputs": [
    {
     "name": "stderr",
     "output_type": "stream",
     "text": [
      "/usr/local/lib/python3.6/dist-packages/sklearn/metrics/_classification.py:1272: UndefinedMetricWarning: Recall and F-score are ill-defined and being set to 0.0 in labels with no true samples. Use `zero_division` parameter to control this behavior.\n",
      "  _warn_prf(average, modifier, msg_start, len(result))\n"
     ]
    },
    {
     "name": "stdout",
     "output_type": "stream",
     "text": [
      "Epoch 1 mean class acc 0.19147233043385453 acc 0.3208333333333333 prec 0.22377873563218392 rec 0.14149305555555558 f 0.16360423589374906 minutes 0.4056531031926473\n",
      "Epoch 2 mean class acc 0.2937062937062937 acc 0.37916666666666665 prec 0.28878586691086694 rec 0.18541666666666667 f 0.21768930460263008 minutes 0.27224220434824625\n",
      "Epoch 3 mean class acc 0.31660552887342586 acc 0.44166666666666665 prec 0.2810896260997068 rec 0.23680555555555557 f 0.24126068316591892 minutes 0.2717676599820455\n",
      "Epoch 4 mean class acc 0.3705103969754253 acc 0.48750000000000004 prec 0.3048576038159372 rec 0.26145833333333335 f 0.268346051276993 minutes 0.27103434403737386\n",
      "Epoch 5 mean class acc 0.3884856630824373 acc 0.475 prec 0.29162449641272725 rec 0.2543402777777778 f 0.26260211685405993 minutes 0.27483656803766887\n",
      "Epoch 6 mean class acc 0.42331983303074033 acc 0.4833333333333334 prec 0.31011855635888985 rec 0.2598958333333334 f 0.2758606225949006 minutes 0.2749935547510783\n",
      "Epoch 7 mean class acc 0.44171779141104295 acc 0.4833333333333334 prec 0.32600859788359793 rec 0.26684027777777775 f 0.2846983854563946 minutes 0.2736228942871094\n",
      "Epoch 8 mean class acc 0.4097943092656828 acc 0.4708333333333333 prec 0.3117435377933153 rec 0.2581597222222223 f 0.27433027981996855 minutes 0.2717081824938456\n",
      "Epoch 9 mean class acc 0.39168878977735305 acc 0.4625 prec 0.31220986460348166 rec 0.24305555555555558 f 0.2701358640748416 minutes 0.27141120433807375\n",
      "Epoch 10 mean class acc 0.3391974698557027 acc 0.4375 prec 0.31183143547273984 rec 0.21631944444444448 f 0.25094571533293586 minutes 0.2712840636571248\n",
      "Epoch 11 mean class acc 0.40198785201546106 acc 0.4083333333333333 prec 0.31321147987814657 rec 0.21354166666666669 f 0.2500886094581178 minutes 0.2721495310465495\n",
      "Epoch 12 mean class acc 0.3437951411687459 acc 0.37916666666666665 prec 0.3120438295936485 rec 0.22274305555555557 f 0.23870116369427774 minutes 0.2722514549891154\n",
      "Epoch 13 mean class acc 0.3970095385408611 acc 0.41250000000000003 prec 0.34848676515343185 rec 0.23298611111111112 f 0.2589678095149312 minutes 0.27196340560913085\n"
     ]
    },
    {
     "name": "stderr",
     "output_type": "stream",
     "text": [
      "/usr/local/lib/python3.6/dist-packages/sklearn/metrics/_classification.py:1272: UndefinedMetricWarning: Precision and F-score are ill-defined and being set to 0.0 in labels with no predicted samples. Use `zero_division` parameter to control this behavior.\n",
      "  _warn_prf(average, modifier, msg_start, len(result))\n"
     ]
    },
    {
     "name": "stdout",
     "output_type": "stream",
     "text": [
      "Epoch 14 mean class acc 0.4143407122232916 acc 0.4583333333333333 prec 0.31921758419036095 rec 0.24583333333333335 f 0.27267236675661805 minutes 0.2709189216295878\n",
      "Epoch 15 mean class acc 0.39923242384484253 acc 0.47500000000000003 prec 0.31203108284196646 rec 0.2595486111111111 f 0.27041353177803806 minutes 0.2718867262204488\n",
      "Epoch 16 mean class acc 0.3824067558057706 acc 0.5166666666666666 prec 0.3286922833649589 rec 0.2725694444444444 f 0.2851283067900823 minutes 0.27376095453898114\n",
      "Epoch 17 mean class acc 0.375 acc 0.5416666666666667 prec 0.359827196382429 rec 0.2798611111111111 f 0.2996416610744914 minutes 0.2718637704849243\n",
      "Epoch 18 mean class acc 0.36304700162074555 acc 0.4958333333333333 prec 0.3680932971014493 rec 0.2767361111111111 f 0.3087233685986167 minutes 0.2715666810671488\n",
      "Epoch 19 mean class acc 0.4485381089233546 acc 0.4666666666666667 prec 0.3390378541307334 rec 0.2557291666666667 f 0.2867193661642719 minutes 0.27407594124476115\n",
      "Epoch 20 mean class acc 0.4045991798665273 acc 0.45833333333333337 prec 0.34245336747210814 rec 0.26875000000000004 f 0.2822446459415332 minutes 0.272314981619517\n",
      "Epoch 21 mean class acc 0.48665699324963724 acc 0.5125 prec 0.35620058471620974 rec 0.2852430555555556 f 0.309938040743702 minutes 0.2735116720199585\n",
      "Epoch 22 mean class acc 0.47237414174812653 acc 0.5041666666666667 prec 0.3602686983574665 rec 0.2595486111111111 f 0.29800347560350593 minutes 0.27121249039967854\n",
      "Epoch 23 mean class acc 0.41981258366800533 acc 0.5625 prec 0.3861026074900755 rec 0.31180555555555556 f 0.3382146619672296 minutes 0.2728507955869039\n",
      "Epoch 24 mean class acc 0.41704444242479327 acc 0.5416666666666667 prec 0.34332806034188657 rec 0.2873263888888889 f 0.3007236760448587 minutes 0.2720901370048523\n",
      "Epoch 25 mean class acc 0.465031825134455 acc 0.55 prec 0.3645241477272727 rec 0.31649305555555557 f 0.3218646759516918 minutes 0.27358307838439944\n",
      "Epoch 26 mean class acc 0.5003960811966454 acc 0.5583333333333333 prec 0.36697820401464487 rec 0.3229166666666667 f 0.3285993436813195 minutes 0.2735091845194499\n",
      "Epoch 27 mean class acc 0.5384933999404506 acc 0.5708333333333333 prec 0.41618839564811433 rec 0.3397569444444445 f 0.3699777452010237 minutes 0.274308701356252\n",
      "Epoch 28 mean class acc 0.42452236630092843 acc 0.525 prec 0.4003853142123484 rec 0.2847222222222222 f 0.3268951887235815 minutes 0.2730236331621806\n",
      "Epoch 29 mean class acc 0.40885834858273895 acc 0.5291666666666667 prec 0.4156573041974764 rec 0.2802083333333334 f 0.32761839596523323 minutes 0.27147366603215534\n",
      "Epoch 30 mean class acc 0.40330874133691036 acc 0.55 prec 0.4293161393345217 rec 0.2963541666666667 f 0.34009603438951264 minutes 0.2728374203046163\n",
      "Epoch 31 mean class acc 0.5180824222035324 acc 0.5625 prec 0.4048032407407408 rec 0.30000000000000004 f 0.33944012011803776 minutes 0.27269548575083413\n",
      "Epoch 32 mean class acc 0.5403996908468588 acc 0.5666666666666667 prec 0.41598469658656495 rec 0.3220486111111111 f 0.36175904534710157 minutes 0.2733585357666016\n",
      "Epoch 33 mean class acc 0.5004349396502423 acc 0.55 prec 0.4261519580754494 rec 0.2998263888888889 f 0.3480292753021868 minutes 0.271687130133311\n",
      "Epoch 34 mean class acc 0.3583895741214801 acc 0.5041666666666667 prec 0.4142727743271221 rec 0.26284722222222223 f 0.3096624361902466 minutes 0.27352539300918577\n",
      "Epoch 35 mean class acc 0.3901724847874823 acc 0.5750000000000001 prec 0.4012286324786325 rec 0.31805555555555554 f 0.3403472831289733 minutes 0.2719751079877218\n",
      "Epoch 36 mean class acc 0.4902845918831756 acc 0.5958333333333333 prec 0.40958739488151247 rec 0.3435763888888889 f 0.3589120615401019 minutes 0.27075907786687214\n",
      "Epoch 37 mean class acc 0.5199747296443569 acc 0.6 prec 0.41464575263917375 rec 0.3515625 f 0.3670254717564055 minutes 0.2727099816004435\n",
      "Epoch 38 mean class acc 0.5394341787292211 acc 0.5916666666666667 prec 0.41179220085470086 rec 0.34357638888888886 f 0.3679369801142899 minutes 0.27427575588226316\n",
      "Epoch 39 mean class acc 0.5105374077976818 acc 0.5666666666666668 prec 0.4076107715813598 rec 0.3234375 f 0.35769203360791046 minutes 0.2719078222910563\n",
      "Epoch 40 mean class acc 0.49943905497261265 acc 0.5958333333333333 prec 0.4298895662253505 rec 0.33003472222222224 f 0.36618301128266295 minutes 0.2749608278274536\n",
      "Epoch 41 mean class acc 0.5146990918885639 acc 0.5875 prec 0.4283234126984127 rec 0.3291666666666667 f 0.36466279969763427 minutes 0.27206040223439537\n",
      "Epoch 42 mean class acc 0.5534888721642834 acc 0.5916666666666667 prec 0.41288784551176794 rec 0.32881944444444444 f 0.35851954802068353 minutes 0.2727806766827901\n",
      "Epoch 43 mean class acc 0.5473393227366966 acc 0.5750000000000001 prec 0.4138708513708514 rec 0.3387152777777778 f 0.36789674657939125 minutes 0.27196071545283\n",
      "Epoch 44 mean class acc 0.5410690900432557 acc 0.5666666666666667 prec 0.4090368495068278 rec 0.3182291666666667 f 0.35658443523256744 minutes 0.27175875107447306\n",
      "Epoch 45 mean class acc 0.5068643236278091 acc 0.5625 prec 0.4380341880341881 rec 0.30208333333333337 f 0.3510439213564214 minutes 0.2734889268875122\n",
      "Epoch 46 mean class acc 0.53051952416157 acc 0.6124999999999999 prec 0.42879655067155065 rec 0.34253472222222225 f 0.37534511338196386 minutes 0.27125213146209715\n",
      "Epoch 47 mean class acc 0.5525475726545334 acc 0.6291666666666667 prec 0.4339770472582973 rec 0.3519097222222222 f 0.38300823309575094 minutes 0.2720595796902974\n",
      "Epoch 48 mean class acc 0.5859509890043316 acc 0.625 prec 0.4422218406593407 rec 0.36059027777777775 f 0.3938171548514124 minutes 0.27419180870056153\n",
      "Epoch 49 mean class acc 0.5770862800565771 acc 0.6166666666666667 prec 0.4383228035366193 rec 0.3512152777777778 f 0.3875527383551332 minutes 0.27379122177759807\n",
      "Epoch 50 mean class acc 0.5843218938388327 acc 0.6125 prec 0.43633843339967565 rec 0.3496527777777778 f 0.38668587939888166 minutes 0.2731194059054057\n",
      "Epoch 51 mean class acc 0.548409342944275 acc 0.6000000000000001 prec 0.44817005749668287 rec 0.32500000000000007 f 0.37288079344492076 minutes 0.2712490240732829\n",
      "Epoch 52 mean class acc 0.5540960114640554 acc 0.5916666666666668 prec 0.4200562069635345 rec 0.31562500000000004 f 0.3570577967426484 minutes 0.27264532645543416\n",
      "Epoch 53 mean class acc 0.5471861419457928 acc 0.5916666666666667 prec 0.4318175990382028 rec 0.32343750000000004 f 0.3640522917217291 minutes 0.27232626676559446\n",
      "Epoch 54 mean class acc 0.5657398084320864 acc 0.6083333333333334 prec 0.5073998178506376 rec 0.39884259259259264 f 0.4406715003540238 minutes 0.27182058095932005\n",
      "Epoch 55 mean class acc 0.5715618565708599 acc 0.5958333333333334 prec 0.5216800896603853 rec 0.3793981481481482 f 0.43439958161783226 minutes 0.27379460334777833\n",
      "Epoch 56 mean class acc 0.5108013603487092 acc 0.5583333333333333 prec 0.4386031946491879 rec 0.3008680555555555 f 0.3512578125560253 minutes 0.27355020443598427\n",
      "Epoch 57 mean class acc 0.5078716972242943 acc 0.5833333333333334 prec 0.45982142857142855 rec 0.3102430555555556 f 0.3610554936751857 minutes 0.2729135950406392\n",
      "Epoch 58 mean class acc 0.5554759379747198 acc 0.6499999999999999 prec 0.4468495337220404 rec 0.36041666666666666 f 0.3906313779619087 minutes 0.2728816032409668\n",
      "Epoch 59 mean class acc 0.5870256419510259 acc 0.6583333333333332 prec 0.43745160665892374 rec 0.37378472222222225 f 0.3927287385365282 minutes 0.27373416821161906\n",
      "Epoch 60 mean class acc 0.5954134815844336 acc 0.6541666666666666 prec 0.41648004488680723 rec 0.3536458333333333 f 0.3741631758007557 minutes 0.27308480739593505\n",
      "Epoch 61 mean class acc 0.591789959198155 acc 0.6458333333333333 prec 0.4583967849848997 rec 0.36597222222222225 f 0.3999900565303739 minutes 0.27307645479838055\n",
      "Epoch 62 mean class acc 0.5787804806306439 acc 0.6333333333333334 prec 0.45848914895525067 rec 0.353125 f 0.3941075714214013 minutes 0.2718204418818156\n",
      "Epoch 63 mean class acc 0.5387389294661444 acc 0.6125 prec 0.4507761437908497 rec 0.3354166666666667 f 0.37767237996225067 minutes 0.2727861722310384\n",
      "Epoch 64 mean class acc 0.5742375100425506 acc 0.6333333333333334 prec 0.4559803711495507 rec 0.3505208333333334 f 0.3909600864077265 minutes 0.27232807874679565\n",
      "Epoch 65 mean class acc 0.563242727078154 acc 0.6125 prec 0.4200935526540366 rec 0.3223958333333334 f 0.35928527910626956 minutes 0.27254380385080973\n"
     ]
    },
    {
     "name": "stdout",
     "output_type": "stream",
     "text": [
      "Epoch 66 mean class acc 0.5718502183961665 acc 0.6166666666666667 prec 0.506430002828308 rec 0.3936342592592593 f 0.4392257690453245 minutes 0.2728397329648336\n",
      "Epoch 67 mean class acc 0.544394212454663 acc 0.5874999999999999 prec 0.5163221839161412 rec 0.36307870370370365 f 0.41950086785473106 minutes 0.27193989356358844\n",
      "Epoch 68 mean class acc 0.506896551724138 acc 0.6416666666666666 prec 0.43125087953841823 rec 0.35052083333333334 f 0.3790902464028894 minutes 0.27032503684361775\n",
      "Epoch 69 mean class acc 0.515894610677713 acc 0.6333333333333333 prec 0.43047437093982605 rec 0.3486111111111111 f 0.3767673304708994 minutes 0.2717597683270772\n",
      "Epoch 70 mean class acc 0.528246591286997 acc 0.6333333333333333 prec 0.4498595018815607 rec 0.35173611111111114 f 0.3867445423267807 minutes 0.2725493868192037\n",
      "Epoch 71 mean class acc 0.5427058870357839 acc 0.6416666666666667 prec 0.458219115497076 rec 0.35468750000000004 f 0.3906072828927828 minutes 0.2719690759976705\n",
      "Epoch 72 mean class acc 0.5383751651254953 acc 0.6333333333333334 prec 0.44780244883040937 rec 0.3479166666666667 f 0.38329937786388846 minutes 0.27224843502044677\n",
      "Epoch 73 mean class acc 0.57664991147561 acc 0.6250000000000001 prec 0.44852842005745813 rec 0.351388888888889 f 0.39057612142921283 minutes 0.27108593384424845\n",
      "Epoch 74 mean class acc 0.5945000794786203 acc 0.6375000000000001 prec 0.46404125992085077 rec 0.3609375 f 0.4020870378641065 minutes 0.2714390794436137\n",
      "Epoch 75 mean class acc 0.5772714741443818 acc 0.6333333333333333 prec 0.4697586932110363 rec 0.3524305555555556 f 0.39754223216417406 minutes 0.27227116425832115\n",
      "Epoch 76 mean class acc 0.5560423547697688 acc 0.6166666666666667 prec 0.4598651960784314 rec 0.33489583333333334 f 0.3818866755722256 minutes 0.2720440189043681\n",
      "Epoch 77 mean class acc 0.5342193672241297 acc 0.5916666666666667 prec 0.4667878763527269 rec 0.32222222222222224 f 0.3730285792221068 minutes 0.2727416833241781\n",
      "Epoch 78 mean class acc 0.5173643975245723 acc 0.5875 prec 0.4249091941884281 rec 0.30538194444444444 f 0.34895244965222877 minutes 0.27374517917633057\n",
      "Epoch 79 mean class acc 0.5524632514693771 acc 0.6083333333333334 prec 0.5102514355563136 rec 0.36886574074074074 f 0.4198584230637313 minutes 0.2709924578666687\n",
      "Epoch 80 mean class acc 0.5483028720626631 acc 0.6166666666666667 prec 0.5356687483736664 rec 0.381712962962963 f 0.4366714360504724 minutes 0.2719547669092814\n",
      "Epoch 81 mean class acc 0.5464098073555166 acc 0.6166666666666667 prec 0.5279103576914637 rec 0.3811342592592593 f 0.4341050410572143 minutes 0.27178341945012413\n",
      "Epoch 82 mean class acc 0.5210727969348659 acc 0.6041666666666666 prec 0.453768153064861 rec 0.32812500000000006 f 0.37412792640841674 minutes 0.27379480997721356\n",
      "Epoch 83 mean class acc 0.5642753599845376 acc 0.6166666666666667 prec 0.41769503343973247 rec 0.31961805555555556 f 0.35856036568116345 minutes 0.27247632344563805\n",
      "Epoch 84 mean class acc 0.5655305311333253 acc 0.6333333333333334 prec 0.449955281986532 rec 0.3470486111111112 f 0.3860857648387356 minutes 0.2721991896629333\n",
      "Epoch 85 mean class acc 0.5614780508876661 acc 0.6208333333333333 prec 0.46363097343442794 rec 0.3411458333333333 f 0.38664495520946174 minutes 0.2726772665977478\n",
      "Epoch 86 mean class acc 0.562682784168454 acc 0.6416666666666667 prec 0.4469757292536898 rec 0.3534722222222223 f 0.38833319878573347 minutes 0.2716909726460775\n",
      "Epoch 87 mean class acc 0.506895266492732 acc 0.6291666666666667 prec 0.4116302072244695 rec 0.3236111111111111 f 0.35205312556157714 minutes 0.2725457747777303\n",
      "Epoch 88 mean class acc 0.5420110965650521 acc 0.6333333333333333 prec 0.42349689327485385 rec 0.32864583333333336 f 0.3625312547244701 minutes 0.2715794483820597\n",
      "Epoch 89 mean class acc 0.5625 acc 0.6458333333333334 prec 0.42616491477449847 rec 0.33576388888888886 f 0.3681201331733986 minutes 0.27240235010782876\n",
      "Epoch 90 mean class acc 0.5537128604559577 acc 0.6458333333333335 prec 0.4561949148346207 rec 0.3543402777777778 f 0.3909288155901728 minutes 0.27174729108810425\n",
      "Epoch 91 mean class acc 0.5373733565807455 acc 0.6291666666666667 prec 0.4586021505376344 rec 0.3458333333333333 f 0.3869862590891421 minutes 0.2731205979983012\n",
      "Epoch 92 mean class acc 0.5203249142389933 acc 0.6041666666666666 prec 0.42494668321874207 rec 0.31423611111111116 f 0.35397459854724367 minutes 0.270943542321523\n",
      "Epoch 93 mean class acc 0.5484869484869485 acc 0.6166666666666667 prec 0.42532527174996015 rec 0.3217013888888889 f 0.3606347449213409 minutes 0.27315513292948407\n",
      "Epoch 94 mean class acc 0.5733322716142775 acc 0.6333333333333334 prec 0.4394841269841271 rec 0.33055555555555555 f 0.3722481707663979 minutes 0.27166211207707724\n",
      "Epoch 95 mean class acc 0.5556223692122669 acc 0.6166666666666668 prec 0.5384905254091301 rec 0.38807870370370373 f 0.44152017165700325 minutes 0.2725184043248495\n",
      "Epoch 96 mean class acc 0.5447263017356475 acc 0.6125 prec 0.4603365384615385 rec 0.3288194444444445 f 0.37731497168759975 minutes 0.2716557542483012\n",
      "Epoch 97 mean class acc 0.5160262045158517 acc 0.5875 prec 0.42695105820105816 rec 0.29947916666666674 f 0.34434977792253524 minutes 0.2718109130859375\n",
      "Epoch 98 mean class acc 0.5689682331320557 acc 0.6416666666666666 prec 0.43184961571589486 rec 0.3355902777777777 f 0.3715096436130011 minutes 0.2724090059598287\n",
      "Epoch 99 mean class acc 0.5754267711920287 acc 0.6375000000000001 prec 0.4319975713418337 rec 0.33402777777777776 f 0.3721749650156358 minutes 0.27120668490727745\n",
      "Epoch 100 mean class acc 0.5740144953155383 acc 0.6375000000000001 prec 0.4934359621859622 rec 0.3857638888888889 f 0.4255501139117438 minutes 0.2728012681007385\n",
      "Epoch 101 mean class acc 0.5660858478538037 acc 0.6500000000000001 prec 0.45362108539428464 rec 0.3569444444444445 f 0.3925764527623194 minutes 0.272235377629598\n",
      "Epoch 102 mean class acc 0.5851311872747883 acc 0.6500000000000001 prec 0.4186589253187614 rec 0.3295138888888889 f 0.36438458991242645 minutes 0.2709083199501038\n",
      "Epoch 103 mean class acc 0.595255212077642 acc 0.6583333333333334 prec 0.41872594997595 rec 0.3338541666666667 f 0.367152480183893 minutes 0.2738584756851196\n",
      "Epoch 104 mean class acc 0.5925342573633643 acc 0.6625000000000001 prec 0.4149712826574529 rec 0.33472222222222225 f 0.3654277499997667 minutes 0.27284764846165976\n",
      "Epoch 105 mean class acc 0.5910666938609015 acc 0.6541666666666668 prec 0.4451371516920297 rec 0.34444444444444444 f 0.38225674707361296 minutes 0.2721311092376709\n",
      "Epoch 106 mean class acc 0.5758275596612779 acc 0.6458333333333335 prec 0.4790013227513228 rec 0.37939814814814815 f 0.4160468012119137 minutes 0.27292104562123615\n",
      "Epoch 107 mean class acc 0.5803305850329401 acc 0.6333333333333333 prec 0.4120038327261688 rec 0.3262152777777778 f 0.36028179792197434 minutes 0.2731716195742289\n",
      "Epoch 108 mean class acc 0.5648565730133086 acc 0.6208333333333333 prec 0.41343273420479304 rec 0.31597222222222227 f 0.35405221443527896 minutes 0.27163299719492595\n",
      "Epoch 109 mean class acc 0.562664807686479 acc 0.6333333333333334 prec 0.4159039511862093 rec 0.3217013888888889 f 0.35747905000366553 minutes 0.27337212562561036\n",
      "Epoch 110 mean class acc 0.57602249202708 acc 0.6500000000000001 prec 0.42636841878447596 rec 0.33836805555555555 f 0.3717608972154017 minutes 0.2735576311747233\n",
      "Epoch 111 mean class acc 0.5570032573289903 acc 0.6500000000000001 prec 0.4553267605129307 rec 0.35607638888888893 f 0.39219285407310733 minutes 0.2723950266838074\n",
      "Epoch 112 mean class acc 0.5575350003882368 acc 0.6333333333333334 prec 0.5097012362637363 rec 0.3966435185185185 f 0.43785668253816085 minutes 0.27192548116048176\n",
      "Epoch 113 mean class acc 0.5631747274982051 acc 0.6208333333333333 prec 0.4815615431961835 rec 0.3719907407407408 f 0.41364536055103035 minutes 0.2732620596885681\n",
      "Epoch 114 mean class acc 0.5468362934038712 acc 0.6083333333333334 prec 0.4733176256613757 rec 0.360300925925926 f 0.4015534379821224 minutes 0.2721338152885437\n",
      "Epoch 115 mean class acc 0.5662989400821977 acc 0.6333333333333334 prec 0.42949192529416413 rec 0.3340277777777778 f 0.36899882097127973 minutes 0.27303922176361084\n",
      "Epoch 116 mean class acc 0.528844133382902 acc 0.6291666666666667 prec 0.42158564814814814 rec 0.3284722222222222 f 0.3589301591229903 minutes 0.2721595486005147\n"
     ]
    },
    {
     "name": "stdout",
     "output_type": "stream",
     "text": [
      "Epoch 117 mean class acc 0.5506072874493927 acc 0.6333333333333334 prec 0.4262505066626133 rec 0.3315972222222222 f 0.36529730143600225 minutes 0.27195233503977456\n",
      "Epoch 118 mean class acc 0.5676736265363542 acc 0.6333333333333334 prec 0.41471832968926 rec 0.32534722222222223 f 0.3588133787726441 minutes 0.27291166385014853\n",
      "Epoch 119 mean class acc 0.5529302756543896 acc 0.6208333333333333 prec 0.4120068062465451 rec 0.3208333333333333 f 0.3539966163857418 minutes 0.27214190165201824\n",
      "Epoch 120 mean class acc 0.5409336003697427 acc 0.6125 prec 0.4849599939613527 rec 0.36944444444444446 f 0.4095301242949451 minutes 0.27253423929214476\n",
      "Epoch 121 mean class acc 0.5557050769303157 acc 0.6291666666666668 prec 0.4649032167214712 rec 0.3458333333333334 f 0.3864529307326245 minutes 0.27250881989796955\n",
      "Epoch 122 mean class acc 0.5284085175093349 acc 0.6 prec 0.48654513888888895 rec 0.3616898148148148 f 0.40514770723104054 minutes 0.27170577049255373\n",
      "Epoch 123 mean class acc 0.5409735744089013 acc 0.6166666666666667 prec 0.4853596375811645 rec 0.3710648148148148 f 0.41166865574965256 minutes 0.271660570303599\n",
      "Epoch 124 mean class acc 0.5456378093851495 acc 0.6291666666666668 prec 0.4116414208325973 rec 0.31996527777777783 f 0.35266784805260176 minutes 0.27330589294433594\n",
      "Epoch 125 mean class acc 0.5304083769633507 acc 0.625 prec 0.42245777908189885 rec 0.32690972222222225 f 0.35929538193240007 minutes 0.2728662252426147\n",
      "Epoch 126 mean class acc 0.5482428115015975 acc 0.625 prec 0.4247931272876878 rec 0.32534722222222223 f 0.36107672252623474 minutes 0.2732559561729431\n",
      "Epoch 127 mean class acc 0.5034992948189149 acc 0.5833333333333334 prec 0.40664269179894186 rec 0.29340277777777773 f 0.3330513633201466 minutes 0.2717204451560974\n",
      "Epoch 128 mean class acc 0.535804549283909 acc 0.6333333333333334 prec 0.4272558661145618 rec 0.32881944444444444 f 0.36413292546429515 minutes 0.2717116038004557\n",
      "Epoch 129 mean class acc 0.5729292045081519 acc 0.6708333333333333 prec 0.4291538395434302 rec 0.36909722222222224 f 0.38896170152715176 minutes 0.27295125325520836\n",
      "Epoch 130 mean class acc 0.5701357466063348 acc 0.6458333333333334 prec 0.44878887559808617 rec 0.35607638888888893 f 0.39055862204066155 minutes 0.272408672173818\n",
      "Epoch 131 mean class acc 0.5705329153605015 acc 0.6416666666666667 prec 0.4538483796296296 rec 0.35434027777777777 f 0.39234467966818776 minutes 0.2731977661450704\n",
      "Epoch 132 mean class acc 0.5308701993193972 acc 0.625 prec 0.4515335648148148 rec 0.3447916666666667 f 0.3832944136224441 minutes 0.2728095293045044\n",
      "Epoch 133 mean class acc 0.530657190049552 acc 0.6208333333333333 prec 0.42743945868945876 rec 0.32447916666666665 f 0.3612794740888093 minutes 0.27323941389719647\n",
      "Epoch 134 mean class acc 0.5375270939147876 acc 0.625 prec 0.42430673315030143 rec 0.3262152777777778 f 0.36183705559338414 minutes 0.27183815638224285\n",
      "Epoch 135 mean class acc 0.5568288559083224 acc 0.6458333333333334 prec 0.45449522102747913 rec 0.3543402777777778 f 0.3915810514178697 minutes 0.27146819829940794\n",
      "Epoch 136 mean class acc 0.5389577263149404 acc 0.6416666666666668 prec 0.4554501752391778 rec 0.3510416666666667 f 0.38737945157582054 minutes 0.271875790754954\n",
      "Epoch 137 mean class acc 0.5220388238755427 acc 0.6041666666666666 prec 0.4100431839402428 rec 0.30781250000000004 f 0.34390239655693294 minutes 0.2723533908526103\n",
      "Epoch 138 mean class acc 0.5059942124844977 acc 0.6041666666666666 prec 0.4095922459893048 rec 0.3053819444444445 f 0.3408692816587554 minutes 0.2724590301513672\n",
      "Epoch 139 mean class acc 0.5201874108779793 acc 0.6208333333333332 prec 0.423900462962963 rec 0.3246527777777778 f 0.35722075741358866 minutes 0.2720947583516439\n",
      "Epoch 140 mean class acc 0.5610464858069166 acc 0.6333333333333333 prec 0.47409884298471255 rec 0.35625000000000007 f 0.3983187732278898 minutes 0.27179961601893105\n",
      "Epoch 141 mean class acc 0.532332707942464 acc 0.625 prec 0.4274859098228664 rec 0.3272569444444444 f 0.3617481228337918 minutes 0.27239652077356974\n",
      "Epoch 142 mean class acc 0.5194537490337542 acc 0.5875 prec 0.4057856206293707 rec 0.3003472222222222 f 0.3381303418803419 minutes 0.27194635073343915\n",
      "Epoch 143 mean class acc 0.5490904399432331 acc 0.6250000000000001 prec 0.47700447700447696 rec 0.35086805555555556 f 0.39371382078786177 minutes 0.2726913054784139\n",
      "Epoch 144 mean class acc 0.5344732487589631 acc 0.6416666666666667 prec 0.4668526203517401 rec 0.3543402777777778 f 0.3914974838870864 minutes 0.27228277921676636\n",
      "Epoch 145 mean class acc 0.5429585356742622 acc 0.6333333333333334 prec 0.4515993265993266 rec 0.3491319444444445 f 0.3863142894912717 minutes 0.2721319079399109\n",
      "Epoch 146 mean class acc 0.5378037993344846 acc 0.6333333333333333 prec 0.4093623560535325 rec 0.31996527777777783 f 0.3511111858139033 minutes 0.27260899941126504\n",
      "Epoch 147 mean class acc 0.5348062953995157 acc 0.6333333333333333 prec 0.42105553549215524 rec 0.32256944444444446 f 0.35499964193192085 minutes 0.2725756128629049\n",
      "Epoch 148 mean class acc 0.539166420336979 acc 0.6375000000000001 prec 0.4632523148148148 rec 0.35347222222222224 f 0.39029707370491507 minutes 0.2716564575831095\n",
      "Epoch 149 mean class acc 0.525663909447105 acc 0.6166666666666666 prec 0.46387960956622926 rec 0.3434027777777778 f 0.3834253800432573 minutes 0.2729226032892863\n",
      "Epoch 150 mean class acc 0.5625295931914206 acc 0.6375 prec 0.4376868705912824 rec 0.3373263888888889 f 0.3734236674756357 minutes 0.27313481966654457\n",
      "Epoch 151 mean class acc 0.5341797982088199 acc 0.6166666666666667 prec 0.40779455413601756 rec 0.3173611111111111 f 0.3483595274892825 minutes 0.2716311971346537\n",
      "Epoch 152 mean class acc 0.5433275563258232 acc 0.6416666666666667 prec 0.4488260582010582 rec 0.3526041666666667 f 0.38637152392350615 minutes 0.2719262480735779\n",
      "Epoch 153 mean class acc 0.5334655963426402 acc 0.6291666666666667 prec 0.46125506600858707 rec 0.35000000000000003 f 0.38772303663331287 minutes 0.2730053504308065\n",
      "Epoch 154 mean class acc 0.5195561215208295 acc 0.6333333333333334 prec 0.45040359512804645 rec 0.34739583333333335 f 0.38179245900057845 minutes 0.27263492743174234\n",
      "Epoch 155 mean class acc 0.529089610227313 acc 0.6208333333333333 prec 0.4473056130664826 rec 0.3432291666666667 f 0.379704985472597 minutes 0.27266441186269125\n",
      "Epoch 156 mean class acc 0.5089235744045768 acc 0.6 prec 0.4192392234671647 rec 0.3166666666666667 f 0.35125652332818424 minutes 0.27292153040568035\n",
      "Epoch 157 mean class acc 0.5016474464579901 acc 0.5958333333333333 prec 0.41578230959833073 rec 0.3149305555555556 f 0.3478964915371599 minutes 0.27090324958165485\n",
      "Epoch 158 mean class acc 0.5028328073310772 acc 0.6 prec 0.41802439458689455 rec 0.31666666666666665 f 0.3494103579365225 minutes 0.2733211914698283\n",
      "Epoch 159 mean class acc 0.5138176208798029 acc 0.6124999999999999 prec 0.44907407407407407 rec 0.33819444444444446 f 0.3749023813452126 minutes 0.2729953130086263\n",
      "Epoch 160 mean class acc 0.5246598075008297 acc 0.6125 prec 0.449449734112272 rec 0.33836805555555555 f 0.3762111174721701 minutes 0.2721518596013387\n",
      "Epoch 161 mean class acc 0.5026714668143636 acc 0.6041666666666667 prec 0.42076791465378427 rec 0.3178819444444445 f 0.3513078263239899 minutes 0.27282799084981285\n",
      "Epoch 162 mean class acc 0.525198577804675 acc 0.5916666666666667 prec 0.4498753561253561 rec 0.3310763888888889 f 0.37332705106863867 minutes 0.27294948101043703\n",
      "Epoch 163 mean class acc 0.5056479619813563 acc 0.5916666666666667 prec 0.44804179179179177 rec 0.3296875 f 0.36931298160069076 minutes 0.27346261342366535\n",
      "Epoch 164 mean class acc 0.5225491645719356 acc 0.6291666666666667 prec 0.4210374971244537 rec 0.32708333333333334 f 0.35897981781662996 minutes 0.2725500504175822\n",
      "Epoch 165 mean class acc 0.5169230769230769 acc 0.6208333333333333 prec 0.42076791465378427 rec 0.3236111111111111 f 0.35654783727247424 minutes 0.27324022849400836\n",
      "Epoch 166 mean class acc 0.5271966527196653 acc 0.6208333333333332 prec 0.4521254208754209 rec 0.3420138888888889 f 0.38068964963248086 minutes 0.27194099823633827\n",
      "Epoch 167 mean class acc 0.5076188310211508 acc 0.5958333333333333 prec 0.44671977414514724 rec 0.3309027777777778 f 0.37060315827572554 minutes 0.27259905338287355\n",
      "Epoch 168 mean class acc 0.5133187088686932 acc 0.5875 prec 0.4181154493654494 rec 0.3135416666666667 f 0.3502809953361736 minutes 0.2721239646275838\n"
     ]
    },
    {
     "name": "stdout",
     "output_type": "stream",
     "text": [
      "Epoch 169 mean class acc 0.5140802875973637 acc 0.6041666666666667 prec 0.44825708061002173 rec 0.3340277777777778 f 0.3726207101434305 minutes 0.27185699542363484\n",
      "Epoch 170 mean class acc 0.5260165616116673 acc 0.6124999999999999 prec 0.44918332320008103 rec 0.3387152777777778 f 0.3770094631399362 minutes 0.27116043170293175\n",
      "Epoch 171 mean class acc 0.5081184336198663 acc 0.5958333333333333 prec 0.4206405515422543 rec 0.3157986111111111 f 0.35152616662104097 minutes 0.2712273319562276\n",
      "Epoch 172 mean class acc 0.5123300299608204 acc 0.5916666666666667 prec 0.42145412457912457 rec 0.3144097222222223 f 0.3515043874493962 minutes 0.2716429829597473\n",
      "Epoch 173 mean class acc 0.5135135135135135 acc 0.6000000000000001 prec 0.42305148555148553 rec 0.3182291666666667 f 0.35302098296387646 minutes 0.2714738408724467\n",
      "Epoch 174 mean class acc 0.48508903668740616 acc 0.6166666666666666 prec 0.44883733164983164 rec 0.3376736111111111 f 0.3721935958778064 minutes 0.27299033403396605\n",
      "Epoch 175 mean class acc 0.5370583401807724 acc 0.625 prec 0.4597560528110936 rec 0.34843750000000007 f 0.38668621200180153 minutes 0.27276182174682617\n",
      "Epoch 176 mean class acc 0.5201238390092879 acc 0.5916666666666667 prec 0.40545374920374927 rec 0.30781250000000004 f 0.34262175129201894 minutes 0.2816493352254232\n",
      "Epoch 177 mean class acc 0.5287609959743551 acc 0.6041666666666666 prec 0.42237196470223415 rec 0.32048611111111114 f 0.35623971363020024 minutes 0.27437053124109906\n",
      "Epoch 178 mean class acc 0.5462256858115873 acc 0.6333333333333333 prec 0.449449734112272 rec 0.34930555555555554 f 0.3850819471467176 minutes 0.27507347663243614\n",
      "Epoch 179 mean class acc 0.5378037993344846 acc 0.6333333333333333 prec 0.4510290227201991 rec 0.3491319444444445 f 0.3854249113040994 minutes 0.28897621631622317\n",
      "Epoch 180 mean class acc 0.5434984725727189 acc 0.6291666666666667 prec 0.4482745005133065 rec 0.34826388888888893 f 0.38481374038771476 minutes 0.2719230651855469\n",
      "Epoch 181 mean class acc 0.5327904403629121 acc 0.6208333333333333 prec 0.41908670033670037 rec 0.32482638888888893 f 0.3584565476574544 minutes 0.2717463771502177\n",
      "Epoch 182 mean class acc 0.5321310057889151 acc 0.6208333333333333 prec 0.42839336589336585 rec 0.3286458333333333 f 0.3627494148234559 minutes 0.27767190138498943\n",
      "Epoch 183 mean class acc 0.5273526952855222 acc 0.6 prec 0.4462038015817085 rec 0.3340277777777778 f 0.37377396343452846 minutes 0.2711220900217692\n",
      "Epoch 184 mean class acc 0.5138176208798029 acc 0.6124999999999999 prec 0.4563920753362785 rec 0.34079861111111115 f 0.3780103104295392 minutes 0.27163305282592776\n",
      "Epoch 185 mean class acc 0.5081824247784864 acc 0.6166666666666667 prec 0.4555700514604624 rec 0.3423611111111111 f 0.37840534938058157 minutes 0.27216381231943765\n",
      "Epoch 186 mean class acc 0.5223312883435582 acc 0.6166666666666667 prec 0.4462237423991155 rec 0.34062500000000007 f 0.37757236009786854 minutes 0.27166308561960856\n",
      "Epoch 187 mean class acc 0.5357553257314593 acc 0.6000000000000001 prec 0.42908188757069354 rec 0.32343750000000004 f 0.3607375964345216 minutes 0.2741517424583435\n",
      "Epoch 188 mean class acc 0.49031950983495776 acc 0.5875 prec 0.4549651346970091 rec 0.32812500000000006 f 0.36688875654482744 minutes 0.27196245193481444\n",
      "Epoch 189 mean class acc 0.5123300299608204 acc 0.5916666666666667 prec 0.4542894270297427 rec 0.3322916666666667 f 0.37348895497233336 minutes 0.2732148965199788\n",
      "Epoch 190 mean class acc 0.5010046885465506 acc 0.6083333333333334 prec 0.41435185185185186 rec 0.31788194444444445 f 0.3495279121578738 minutes 0.27178697983423866\n",
      "Epoch 191 mean class acc 0.4997401826145052 acc 0.6041666666666667 prec 0.4152272019919079 rec 0.31614583333333335 f 0.34927751151684816 minutes 0.27302032311757407\n",
      "Epoch 192 mean class acc 0.5254556882463859 acc 0.6166666666666667 prec 0.41983131429573006 rec 0.32309027777777777 f 0.3571725545008488 minutes 0.27178387641906737\n",
      "Epoch 193 mean class acc 0.5268037988927398 acc 0.6208333333333333 prec 0.44482545433632387 rec 0.343576388888889 f 0.37917011526037814 minutes 0.2719235777854919\n",
      "Epoch 194 mean class acc 0.5365853658536586 acc 0.6166666666666667 prec 0.45432694276541025 rec 0.3461805555555556 f 0.3849798676057553 minutes 0.27293467124303183\n",
      "Epoch 195 mean class acc 0.517909125427161 acc 0.6166666666666667 prec 0.44522897983482795 rec 0.3409722222222223 f 0.37724160044307053 minutes 0.2733669439951579\n",
      "Epoch 196 mean class acc 0.5209172760284535 acc 0.6333333333333334 prec 0.4479916144173776 rec 0.3470486111111112 f 0.38108613034569006 minutes 0.27201127211252846\n",
      "Epoch 197 mean class acc 0.49772990142765894 acc 0.5916666666666667 prec 0.43949915824915825 rec 0.32829861111111114 f 0.36684637285816957 minutes 0.27327498197555544\n",
      "Epoch 198 mean class acc 0.5254267724015687 acc 0.6124999999999999 prec 0.4192392234671647 rec 0.32204861111111116 f 0.35586241523195267 minutes 0.2719863692919413\n",
      "Epoch 199 mean class acc 0.5254267724015687 acc 0.6124999999999999 prec 0.40234126315395274 rec 0.31336805555555564 f 0.343869986695326 minutes 0.27244325876235964\n",
      "Epoch 200 mean class acc 0.517909125427161 acc 0.6166666666666667 prec 0.44522897983482795 rec 0.3409722222222223 f 0.37724160044307053 minutes 0.2723063627878825\n",
      "Epoch 201 mean class acc 0.5192187429192913 acc 0.6208333333333333 prec 0.44609788359788355 rec 0.3427083333333334 f 0.3780816891118777 minutes 0.2707696517308553\n",
      "Epoch 202 mean class acc 0.5342279734803099 acc 0.6250000000000001 prec 0.4302903493438719 rec 0.32916666666666666 f 0.3638206389077054 minutes 0.27287203470865884\n",
      "Epoch 203 mean class acc 0.5326482375912034 acc 0.6291666666666667 prec 0.4328359718984719 rec 0.33090277777777777 f 0.3645512877580815 minutes 0.27142150004704796\n",
      "Epoch 204 mean class acc 0.5102381387417017 acc 0.6208333333333333 prec 0.44617826818913775 rec 0.3418402777777778 f 0.3770422770027714 minutes 0.2725899736086527\n",
      "Epoch 205 mean class acc 0.514878892733564 acc 0.6124999999999999 prec 0.41653208440999134 rec 0.3211805555555556 f 0.35303782465055883 minutes 0.29749828577041626\n",
      "Epoch 206 mean class acc 0.535706340378198 acc 0.6208333333333333 prec 0.4580217236467236 rec 0.3467013888888889 f 0.3853340350643262 minutes 0.2708154320716858\n",
      "Epoch 207 mean class acc 0.4778659192712895 acc 0.6083333333333334 prec 0.442673226063637 rec 0.3348958333333334 f 0.36822040701829073 minutes 0.27251457373301186\n",
      "Epoch 208 mean class acc 0.5022301088676802 acc 0.6125 prec 0.40981084792686867 rec 0.3128472222222223 f 0.3426285699339661 minutes 0.27121448516845703\n",
      "Epoch 209 mean class acc 0.5035901010805158 acc 0.6041666666666667 prec 0.416005291005291 rec 0.3109375000000001 f 0.3440793382743847 minutes 0.27444794178009035\n",
      "Epoch 210 mean class acc 0.48686030428769017 acc 0.5958333333333333 prec 0.44466860635338895 rec 0.32916666666666666 f 0.3664989782645841 minutes 0.28993456761042274\n",
      "Epoch 211 mean class acc 0.521865704702234 acc 0.6083333333333333 prec 0.5190145502645502 rec 0.38761574074074073 f 0.4301747693508663 minutes 0.2730531891187032\n",
      "Epoch 212 mean class acc 0.5076188310211508 acc 0.5958333333333333 prec 0.46766844804635505 rec 0.35381944444444446 f 0.3915818157807568 minutes 0.2772430459658305\n",
      "Epoch 213 mean class acc 0.5294171286839802 acc 0.6000000000000001 prec 0.41170971593765715 rec 0.3119791666666667 f 0.3475570898628515 minutes 0.2747681697209676\n",
      "Epoch 214 mean class acc 0.5016474464579901 acc 0.5958333333333333 prec 0.4833530084410366 rec 0.35671296296296295 f 0.396147378288097 minutes 0.2726642847061157\n",
      "Epoch 215 mean class acc 0.5043072221526772 acc 0.6125 prec 0.4560749774164408 rec 0.34062500000000007 f 0.37765430678406187 minutes 0.27017969290415444\n",
      "Epoch 216 mean class acc 0.48680885474577984 acc 0.6041666666666667 prec 0.39963624338624343 rec 0.3065972222222223 f 0.3352121949258172 minutes 0.27232101758321126\n",
      "Epoch 217 mean class acc 0.49791856242263266 acc 0.6083333333333334 prec 0.4038298523333735 rec 0.3085069444444445 f 0.33900380706214434 minutes 0.28614978392918905\n",
      "Epoch 218 mean class acc 0.5261538461538462 acc 0.6166666666666667 prec 0.41827658792757083 rec 0.3227430555555556 f 0.3565076491372852 minutes 0.26947908401489257\n",
      "Epoch 219 mean class acc 0.494422556605117 acc 0.6166666666666667 prec 0.4459628916464603 rec 0.3427083333333334 f 0.37516956755541064 minutes 0.27159958680470786\n"
     ]
    },
    {
     "name": "stdout",
     "output_type": "stream",
     "text": [
      "Epoch 220 mean class acc 0.5103756963954097 acc 0.6125 prec 0.4177187412222624 rec 0.32048611111111114 f 0.35271850640270713 minutes 0.2716917395591736\n",
      "Epoch 221 mean class acc 0.5134449518011162 acc 0.6000000000000001 prec 0.397794937805483 rec 0.309375 f 0.3412815612934268 minutes 0.27130881945292157\n",
      "Epoch 222 mean class acc 0.51055167266065 acc 0.6041666666666667 prec 0.402478571838092 rec 0.3085069444444445 f 0.34079042776876983 minutes 0.28064477841059365\n",
      "Epoch 223 mean class acc 0.5109435036288601 acc 0.6208333333333333 prec 0.41895721355968285 rec 0.3265625 f 0.35661367698034374 minutes 0.3361471136411031\n",
      "Epoch 224 mean class acc 0.4932348952840139 acc 0.6125 prec 0.41954380436385086 rec 0.3222222222222222 f 0.3532889977113598 minutes 0.3098675529162089\n",
      "Epoch 225 mean class acc 0.47421093148575827 acc 0.6041666666666667 prec 0.40335648148148145 rec 0.3050347222222223 f 0.3344858641402239 minutes 0.3087807099024455\n",
      "Epoch 226 mean class acc 0.49791856242263266 acc 0.6083333333333334 prec 0.4042748590982287 rec 0.3085069444444445 f 0.33977429001463505 minutes 0.30858563582102455\n",
      "Epoch 227 mean class acc 0.5136186770428015 acc 0.6125 prec 0.4016491258339085 rec 0.31111111111111117 f 0.3415378155616032 minutes 0.285666290918986\n",
      "Epoch 228 mean class acc 0.49571858366118954 acc 0.5958333333333333 prec 0.39678591171128486 rec 0.30468750000000006 f 0.33617344179732744 minutes 0.27325428326924645\n",
      "Epoch 229 mean class acc 0.5094982869161098 acc 0.625 prec 0.4201127819548872 rec 0.32829861111111114 f 0.35772761579101403 minutes 0.2714468916257223\n",
      "Epoch 230 mean class acc 0.5169230769230769 acc 0.6208333333333333 prec 0.4185955083787901 rec 0.32743055555555556 f 0.3580054811078792 minutes 0.27296616236368815\n",
      "Epoch 231 mean class acc 0.5183348095659875 acc 0.6166666666666667 prec 0.4038207163207163 rec 0.3137152777777778 f 0.34414295218714247 minutes 0.2785005728403727\n",
      "Epoch 232 mean class acc 0.5164491424873261 acc 0.6083333333333334 prec 0.3974531499202552 rec 0.3137152777777778 f 0.3433272055473548 minutes 0.27221505641937255\n",
      "Epoch 233 mean class acc 0.49596072901979216 acc 0.6041666666666667 prec 0.4042748590982287 rec 0.3074652777777778 f 0.3390204832906791 minutes 0.2727988918622335\n",
      "Epoch 234 mean class acc 0.4586525759577279 acc 0.5958333333333333 prec 0.5055114638447972 rec 0.3726851851851852 f 0.410482890703049 minutes 0.2722422202428182\n",
      "Epoch 235 mean class acc 0.4552845528455285 acc 0.5916666666666667 prec 0.4789737654320988 rec 0.35358796296296297 f 0.3882983758714753 minutes 0.27185214360555016\n",
      "Epoch 236 mean class acc 0.5023580432666169 acc 0.6000000000000001 prec 0.4787054441659705 rec 0.3630787037037037 f 0.40022487175390986 minutes 0.27261295715967815\n",
      "Epoch 237 mean class acc 0.47622919299016647 acc 0.5875 prec 0.445354603829836 rec 0.3267361111111111 f 0.3657965640901496 minutes 0.2712316751480103\n",
      "Epoch 238 mean class acc 0.46534466477809255 acc 0.6083333333333334 prec 0.44330768527367764 rec 0.3340277777777778 f 0.36682249650892007 minutes 0.27557496627171835\n",
      "Epoch 239 mean class acc 0.48080133555926546 acc 0.6083333333333334 prec 0.43695310874765964 rec 0.3383680555555556 f 0.37043346311504066 minutes 0.27957584857940676\n",
      "Epoch 240 mean class acc 0.48633712004912494 acc 0.6000000000000001 prec 0.4430049797696856 rec 0.33229166666666676 f 0.3690548778181736 minutes 0.27305492560068767\n",
      "Epoch 241 mean class acc 0.4681805210159403 acc 0.5916666666666667 prec 0.39824896760872375 rec 0.2998263888888889 f 0.32995896914303185 minutes 0.27243457635243734\n",
      "Epoch 242 mean class acc 0.4576523031203566 acc 0.5958333333333333 prec 0.41389312330623307 rec 0.31006944444444445 f 0.3406769631423298 minutes 0.27667052745819093\n",
      "Epoch 243 mean class acc 0.4748201438848921 acc 0.6041666666666667 prec 0.4164711830388981 rec 0.3178819444444444 f 0.3477703611348506 minutes 0.3085548996925354\n",
      "Epoch 244 mean class acc 0.4593764195931264 acc 0.5958333333333333 prec 0.44197359801403274 rec 0.3315972222222222 f 0.36443921469181484 minutes 0.3169647932052612\n",
      "Epoch 245 mean class acc 0.49708618750638994 acc 0.5958333333333333 prec 0.438135268727374 rec 0.3345486111111111 f 0.37081480667180466 minutes 0.2724383989969889\n",
      "Epoch 246 mean class acc 0.5010046885465506 acc 0.6083333333333334 prec 0.4176573459098436 rec 0.3217013888888889 f 0.3527648703733632 minutes 0.27647150357564293\n",
      "Epoch 247 mean class acc 0.4749611298263799 acc 0.6 prec 0.44312634784636007 rec 0.3342013888888889 f 0.36791788308778606 minutes 0.3298045078913371\n",
      "Epoch 248 mean class acc 0.5109435036288601 acc 0.6208333333333333 prec 0.44795604135166917 rec 0.3453125 f 0.3796956764428182 minutes 0.4024966597557068\n",
      "Epoch 249 mean class acc 0.4967140665430148 acc 0.6041666666666667 prec 0.41787513616557737 rec 0.31614583333333335 f 0.35004727254625995 minutes 0.35815011262893676\n",
      "Epoch 250 mean class acc 0.49596072901979216 acc 0.6041666666666667 prec 0.48106632447665054 rec 0.3636574074074074 f 0.40082117070336165 minutes 0.27135457197825114\n",
      "Epoch 251 mean class acc 0.5057311936876899 acc 0.6125 prec 0.445236333631719 rec 0.3418402777777778 f 0.376737470719823 minutes 0.27262908617655435\n",
      "Epoch 252 mean class acc 0.5206244864420706 acc 0.6166666666666667 prec 0.4455924292678024 rec 0.3409722222222223 f 0.3777063471721541 minutes 0.3983665227890015\n",
      "Epoch 253 mean class acc 0.5149066592365561 acc 0.6166666666666667 prec 0.41704767655854613 rec 0.32222222222222224 f 0.3543468324924528 minutes 0.41061830123265586\n",
      "Epoch 254 mean class acc 0.5029134917077543 acc 0.6125 prec 0.39583333333333337 rec 0.3137152777777778 f 0.3388821279211626 minutes 0.3531733274459839\n",
      "Epoch 255 mean class acc 0.5057311936876899 acc 0.6125 prec 0.4192465772640557 rec 0.32309027777777777 f 0.3549641391102145 minutes 0.38229729334513346\n",
      "Epoch 256 mean class acc 0.505608755129959 acc 0.6083333333333334 prec 0.41622150997151 rec 0.31875 f 0.35129919486889183 minutes 0.4503339926401774\n",
      "Epoch 257 mean class acc 0.5041482789055605 acc 0.6166666666666667 prec 0.4408028455284553 rec 0.343576388888889 f 0.3746734598908559 minutes 0.3438619295756022\n",
      "Epoch 258 mean class acc 0.5057311936876899 acc 0.6125 prec 0.43944929659468196 rec 0.3418402777777778 f 0.37566618618665093 minutes 0.3811936855316162\n",
      "Epoch 259 mean class acc 0.5089733775623033 acc 0.6166666666666667 prec 0.4464304104407744 rec 0.3401041666666667 f 0.376049644913955 minutes 0.42331136465072633\n",
      "Epoch 260 mean class acc 0.5089733775623033 acc 0.6166666666666667 prec 0.44466860635338895 rec 0.3401041666666667 f 0.37542728992266794 minutes 0.36096895933151246\n",
      "Epoch 261 mean class acc 0.5005869074492099 acc 0.6041666666666667 prec 0.4174486986986987 rec 0.31701388888888893 f 0.35036632666798234 minutes 0.34072739283243814\n",
      "Epoch 262 mean class acc 0.5185970064908447 acc 0.6083333333333334 prec 0.4456529139433551 rec 0.3380208333333333 f 0.37588361135608994 minutes 0.40263346036275227\n",
      "Epoch 263 mean class acc 0.4967140665430148 acc 0.6041666666666667 prec 0.4166540861513688 rec 0.31614583333333335 f 0.349353332785278 minutes 0.40212684869766235\n",
      "Epoch 264 mean class acc 0.5204728621139364 acc 0.6041666666666667 prec 0.41223417785917793 rec 0.3182291666666667 f 0.35255286351648585 minutes 0.3263400197029114\n",
      "Epoch 265 mean class acc 0.49476567539124827 acc 0.6000000000000001 prec 0.4166540861513688 rec 0.31475694444444446 f 0.3483482571533367 minutes 0.42337676684061687\n",
      "Epoch 266 mean class acc 0.5030716572014418 acc 0.6083333333333334 prec 0.4440079298206194 rec 0.3362847222222223 f 0.37251937774436017 minutes 0.42078654368718466\n",
      "Epoch 267 mean class acc 0.5041482789055605 acc 0.6166666666666667 prec 0.41614452798663326 rec 0.32482638888888893 f 0.35408256802831917 minutes 0.3324457009633382\n",
      "Epoch 268 mean class acc 0.4997401826145052 acc 0.6041666666666667 prec 0.4094401649548709 rec 0.31614583333333335 f 0.3482062269836762 minutes 0.3972699999809265\n",
      "Epoch 269 mean class acc 0.49476567539124827 acc 0.6000000000000001 prec 0.41481211460665335 rec 0.31475694444444446 f 0.3477500723348549 minutes 0.3952182690302531\n",
      "Epoch 270 mean class acc 0.5010046885465506 acc 0.6083333333333334 prec 0.4155380147227974 rec 0.31788194444444445 f 0.3502111759225329 minutes 0.3362475911776225\n",
      "Epoch 271 mean class acc 0.5070262390670555 acc 0.6166666666666667 prec 0.4165347329395278 rec 0.3248263888888889 f 0.3545910232586609 minutes 0.3760295430819193\n"
     ]
    },
    {
     "name": "stdout",
     "output_type": "stream",
     "text": [
      "Epoch 272 mean class acc 0.5041482789055605 acc 0.6166666666666667 prec 0.41614452798663326 rec 0.32482638888888893 f 0.35408256802831917 minutes 0.4313036362330119\n",
      "Epoch 273 mean class acc 0.52073802006143 acc 0.6125 prec 0.40960378127332 rec 0.32135416666666666 f 0.3525928672650418 minutes 0.36923785209655763\n",
      "Epoch 274 mean class acc 0.5075528700906344 acc 0.6125 prec 0.40076754385964913 rec 0.3145833333333334 f 0.34246803119680114 minutes 0.3728647510210673\n",
      "Epoch 275 mean class acc 0.5110814419225634 acc 0.6125 prec 0.4151166955033395 rec 0.32395833333333335 f 0.354227909224494 minutes 0.4061090548833211\n",
      "Epoch 276 mean class acc 0.5142857142857142 acc 0.6125 prec 0.4403337890179995 rec 0.3427083333333334 f 0.37743757138185796 minutes 0.38494552771250407\n",
      "Epoch 277 mean class acc 0.49733789161015524 acc 0.6041666666666667 prec 0.40091699388356117 rec 0.3102430555555556 f 0.33957954547824637 minutes 0.31674145460128783\n",
      "Epoch 278 mean class acc 0.49843469077284785 acc 0.6000000000000001 prec 0.41067314751525286 rec 0.3182291666666667 f 0.34989489325189127 minutes 0.2724652926127116\n",
      "Epoch 279 mean class acc 0.5053455019556715 acc 0.6208333333333333 prec 0.41643795521668026 rec 0.3265625 f 0.35498783324656147 minutes 0.2721048712730408\n",
      "Epoch 280 mean class acc 0.49859025436714677 acc 0.6083333333333334 prec 0.44289447328111725 rec 0.3401041666666667 f 0.3740952994361699 minutes 0.27253380219141643\n",
      "Epoch 281 mean class acc 0.5164491424873261 acc 0.6083333333333334 prec 0.41006998996246835 rec 0.32309027777777777 f 0.3538181982777412 minutes 0.27158938646316527\n",
      "Epoch 282 mean class acc 0.5241349632808828 acc 0.6208333333333333 prec 0.41169214681277255 rec 0.32829861111111114 f 0.355874273217184 minutes 0.2722021698951721\n",
      "Epoch 283 mean class acc 0.5254556882463859 acc 0.6166666666666667 prec 0.41706364563369214 rec 0.32690972222222225 f 0.3578080243757042 minutes 0.27273690700531006\n",
      "Epoch 284 mean class acc 0.5289146644573323 acc 0.625 prec 0.39852915804002764 rec 0.3206597222222222 f 0.34613627132217445 minutes 0.27197898626327516\n",
      "Epoch 285 mean class acc 0.5179502631967334 acc 0.6 prec 0.47160638245197073 rec 0.3662037037037037 f 0.4020482385096668 minutes 0.3679591178894043\n",
      "Epoch 286 mean class acc 0.5192600890072961 acc 0.6041666666666666 prec 0.41603306616893576 rec 0.31961805555555556 f 0.35225730862382904 minutes 0.4097110708554586\n",
      "Epoch 287 mean class acc 0.5002382901763347 acc 0.6083333333333333 prec 0.4010819301775566 rec 0.31336805555555564 f 0.3406726651060543 minutes 0.34774739742279054\n",
      "Epoch 288 mean class acc 0.4952891454489228 acc 0.6000000000000001 prec 0.4075292397660819 rec 0.31527777777777777 f 0.3452589562158712 minutes 0.36409903367360436\n",
      "Epoch 289 mean class acc 0.488135593220339 acc 0.6041666666666667 prec 0.40327127227702675 rec 0.31875 f 0.3454894636962308 minutes 0.41134307384490965\n",
      "Epoch 290 mean class acc 0.5185873605947955 acc 0.6166666666666667 prec 0.3919183646530828 rec 0.3163194444444445 f 0.34282882607825327 minutes 0.37875155210494993\n",
      "Epoch 291 mean class acc 0.48969208755100957 acc 0.5958333333333333 prec 0.3987105503390715 rec 0.3041666666666667 f 0.334751012747247 minutes 0.33762368361155193\n",
      "Epoch 292 mean class acc 0.5149066592365561 acc 0.6166666666666667 prec 0.4019510582010582 rec 0.3128472222222223 f 0.3424571158995081 minutes 0.4265323241551717\n",
      "Epoch 293 mean class acc 0.5210526315789473 acc 0.6083333333333334 prec 0.3943994310842137 rec 0.31111111111111117 f 0.34073232609103205 minutes 0.41887679100036623\n",
      "Epoch 294 mean class acc 0.5232127096204766 acc 0.6083333333333334 prec 0.3970473057644111 rec 0.3137152777777778 f 0.3436493343988954 minutes 0.32015510002772013\n",
      "Epoch 295 mean class acc 0.49257754562455663 acc 0.6125 prec 0.41566295638648976 rec 0.32256944444444446 f 0.35120948899389576 minutes 0.42470415830612185\n",
      "Epoch 296 mean class acc 0.4835164835164835 acc 0.6125 prec 0.4027516708437761 rec 0.31267361111111114 f 0.33941752691752697 minutes 0.4116713563601176\n",
      "Epoch 297 mean class acc 0.49685020437605193 acc 0.5875 prec 0.40493893228069444 rec 0.3072916666666667 f 0.34134953276217034 minutes 0.34248746633529664\n",
      "Epoch 298 mean class acc 0.47640660749988945 acc 0.5875 prec 0.39706005115567755 rec 0.30468750000000006 f 0.33309231337773415 minutes 0.3980080008506775\n",
      "Epoch 299 mean class acc 0.47960217331245975 acc 0.6125 prec 0.41566295638648976 rec 0.32135416666666666 f 0.34950893692020935 minutes 0.41692361036936443\n",
      "Epoch 300 mean class acc 0.48080133555926546 acc 0.6083333333333334 prec 0.4046296947806236 rec 0.31961805555555556 f 0.3477477160629041 minutes 0.35453287363052366\n",
      "Epoch 301 mean class acc 0.4893419833178869 acc 0.6083333333333334 prec 0.4035947712418301 rec 0.32048611111111114 f 0.346421187011675 minutes 0.3828457077344259\n",
      "Epoch 302 mean class acc 0.47639097744360903 acc 0.5958333333333333 prec 0.4013053939524528 rec 0.31527777777777777 f 0.34196485902593526 minutes 0.4190583109855652\n",
      "Epoch 303 mean class acc 0.47749881572714353 acc 0.6 prec 0.4126814417770682 rec 0.31701388888888893 f 0.3463304810718506 minutes 0.3406321883201599\n",
      "Epoch 304 mean class acc 0.4748201438848921 acc 0.6041666666666667 prec 0.4097222222222222 rec 0.3178819444444444 f 0.34475983666611415 minutes 0.3892937938372294\n",
      "Epoch 305 mean class acc 0.47532037525292786 acc 0.5958333333333333 prec 0.3984113930659984 rec 0.3067708333333334 f 0.3344641387895512 minutes 0.3969828287760417\n",
      "Epoch 306 mean class acc 0.4752700397953383 acc 0.6083333333333334 prec 0.4170912227214377 rec 0.3199652777777778 f 0.34858638107400486 minutes 0.3127409338951111\n",
      "Epoch 307 mean class acc 0.5038009825340688 acc 0.6083333333333334 prec 0.40704702933805104 rec 0.3217013888888889 f 0.3511607569765129 minutes 0.2827007492383321\n",
      "Epoch 308 mean class acc 0.4773773800834437 acc 0.5916666666666667 prec 0.39315199764116177 rec 0.30555555555555564 f 0.3331590193432299 minutes 0.2711961547533671\n",
      "Epoch 309 mean class acc 0.4791909762738234 acc 0.5958333333333334 prec 0.38770537454747983 rec 0.3065972222222223 f 0.33292775232430405 minutes 0.27271069288253785\n",
      "Epoch 310 mean class acc 0.48050785382925043 acc 0.5875 prec 0.39348051882251617 rec 0.30104166666666676 f 0.33150152320019305 minutes 0.27611192464828493\n",
      "Epoch 311 mean class acc 0.4893448228696485 acc 0.5958333333333334 prec 0.39423029312735197 rec 0.30312500000000003 f 0.33398046884888993 minutes 0.3051202972730001\n",
      "Epoch 312 mean class acc 0.48895522388059703 acc 0.5833333333333334 prec 0.39550211976682564 rec 0.304513888888889 f 0.33616675992494127 minutes 0.27674163977305094\n",
      "Epoch 313 mean class acc 0.5009784011012414 acc 0.6041666666666666 prec 0.3974606655527709 rec 0.3123263888888889 f 0.33992508364972873 minutes 0.30014949242273964\n",
      "Epoch 314 mean class acc 0.48753462603878117 acc 0.6041666666666667 prec 0.3976410060405625 rec 0.3100694444444445 f 0.3381671386703683 minutes 0.28199541568756104\n",
      "Epoch 315 mean class acc 0.488694962316541 acc 0.6083333333333334 prec 0.40289668046791666 rec 0.3118055555555556 f 0.3394456507977784 minutes 0.28599341710408527\n",
      "Epoch 316 mean class acc 0.485561117000577 acc 0.5916666666666667 prec 0.41745134722823507 rec 0.3151041666666667 f 0.34783737194019976 minutes 0.2847471912701925\n",
      "Epoch 317 mean class acc 0.48949172628622817 acc 0.6041666666666666 prec 0.4044338654607534 rec 0.3107638888888889 f 0.3398702205986748 minutes 0.2841007391611735\n",
      "Epoch 318 mean class acc 0.4791909762738234 acc 0.5958333333333334 prec 0.39621489621489625 rec 0.3065972222222223 f 0.33316567691567694 minutes 0.28451262712478637\n",
      "Epoch 319 mean class acc 0.4675506169473038 acc 0.5916666666666667 prec 0.40968554381846634 rec 0.3133680555555556 f 0.34118808460411515 minutes 0.2835133592287699\n",
      "Epoch 320 mean class acc 0.4938425565081839 acc 0.6083333333333334 prec 0.43852931488801056 rec 0.3388888888888889 f 0.3702422416085207 minutes 0.2839825352032979\n",
      "Epoch 321 mean class acc 0.5226860254083484 acc 0.6208333333333333 prec 0.4354803434978219 rec 0.3461805555555556 f 0.3771587424062943 minutes 0.28375747601191204\n",
      "Epoch 322 mean class acc 0.47710167113152185 acc 0.5874999999999999 prec 0.4088415861513688 rec 0.3130208333333333 f 0.34273330832292737 minutes 0.2904288331667582\n",
      "Epoch 323 mean class acc 0.47354260089686095 acc 0.5875 prec 0.3959253455232053 rec 0.3031250000000001 f 0.3326606541931026 minutes 0.32283434867858884\n"
     ]
    },
    {
     "name": "stdout",
     "output_type": "stream",
     "text": [
      "Epoch 324 mean class acc 0.4836107633258759 acc 0.5875 prec 0.3942843219159009 rec 0.30121527777777785 f 0.33185523965275066 minutes 0.28283456961313885\n",
      "Epoch 325 mean class acc 0.4840616668598586 acc 0.6000000000000001 prec 0.40438734370559826 rec 0.31701388888888893 f 0.3446316205589759 minutes 0.28645460605621337\n",
      "Epoch 326 mean class acc 0.518763723041904 acc 0.5958333333333333 prec 0.41262583440999134 rec 0.3154513888888889 f 0.3509085000448715 minutes 0.2882947206497192\n",
      "Epoch 327 mean class acc 0.4975054585152838 acc 0.5833333333333334 prec 0.4056677129916294 rec 0.31024305555555554 f 0.3427650908119658 minutes 0.284160586198171\n",
      "Epoch 328 mean class acc 0.489073555375609 acc 0.5916666666666667 prec 0.4108955208068481 rec 0.3151041666666667 f 0.3466852191290844 minutes 0.2846229553222656\n",
      "Epoch 329 mean class acc 0.5030852994555354 acc 0.6000000000000001 prec 0.4074647402820778 rec 0.31909722222222225 f 0.34849480032875163 minutes 0.2883136749267578\n",
      "Epoch 330 mean class acc 0.5125968009198201 acc 0.5958333333333333 prec 0.4160581592950996 rec 0.3217013888888889 f 0.3537661983838942 minutes 0.2811249057451884\n",
      "Epoch 331 mean class acc 0.4769585253456221 acc 0.5833333333333334 prec 0.4075949714536672 rec 0.31180555555555556 f 0.341913891633399 minutes 0.2778797268867493\n",
      "Epoch 332 mean class acc 0.4981132075471698 acc 0.5958333333333333 prec 0.3877380009388019 rec 0.3083333333333334 f 0.3341650890059443 minutes 0.314560329914093\n",
      "Epoch 333 mean class acc 0.5165579633915421 acc 0.6125 prec 0.39620197168857435 rec 0.3152777777777778 f 0.3411450229398256 minutes 0.30398617188135785\n",
      "Epoch 334 mean class acc 0.4997401826145052 acc 0.6041666666666667 prec 0.39550983436853004 rec 0.31093750000000003 f 0.3371965978817624 minutes 0.28136004209518434\n",
      "Epoch 335 mean class acc 0.5112107623318386 acc 0.6041666666666667 prec 0.4057991415328372 rec 0.3145833333333334 f 0.34369667167992946 minutes 0.2791040857632955\n",
      "Epoch 336 mean class acc 0.4921977815378831 acc 0.6 prec 0.40084452584452585 rec 0.3050347222222222 f 0.3359819314257649 minutes 0.2805793881416321\n",
      "Epoch 337 mean class acc 0.4794114349775785 acc 0.5833333333333333 prec 0.39578830833121453 rec 0.29878472222222224 f 0.3294076650009177 minutes 0.2798887888590495\n",
      "Epoch 338 mean class acc 0.4840616668598586 acc 0.6000000000000001 prec 0.3966259057971015 rec 0.30763888888888896 f 0.33448186806829644 minutes 0.284753946463267\n",
      "Epoch 339 mean class acc 0.49139872106637844 acc 0.6083333333333334 prec 0.40145968117969344 rec 0.31180555555555556 f 0.33934922951913243 minutes 0.28554065227508546\n",
      "Epoch 340 mean class acc 0.488135593220339 acc 0.6041666666666667 prec 0.4093987232574189 rec 0.31875 f 0.34653374105629764 minutes 0.28527316252390544\n",
      "Epoch 341 mean class acc 0.46746250197953354 acc 0.5708333333333333 prec 0.3916523846380658 rec 0.29618055555555556 f 0.3266450112153237 minutes 0.2850243051846822\n",
      "Epoch 342 mean class acc 0.49843469077284785 acc 0.6000000000000001 prec 0.408212883106459 rec 0.3182291666666667 f 0.34852563895294947 minutes 0.32653448979059857\n",
      "Epoch 343 mean class acc 0.49936948297604034 acc 0.6000000000000001 prec 0.3954417293233083 rec 0.3100694444444445 f 0.33677244006677504 minutes 0.2839921792348226\n",
      "Epoch 344 mean class acc 0.49094901195413515 acc 0.5875 prec 0.40571764556318335 rec 0.31423611111111116 f 0.344929622091906 minutes 0.2854101061820984\n",
      "Epoch 345 mean class acc 0.5152247094847753 acc 0.5958333333333333 prec 0.4014297490055499 rec 0.31423611111111116 f 0.34428704499502494 minutes 0.28379953702290855\n",
      "Epoch 346 mean class acc 0.522922497828395 acc 0.6041666666666666 prec 0.41992282999863095 rec 0.32552083333333337 f 0.35793741680369595 minutes 0.28169807195663454\n",
      "Epoch 347 mean class acc 0.49931134469010513 acc 0.5958333333333333 prec 0.4014634930591195 rec 0.3104166666666667 f 0.3406478960790814 minutes 0.28222004175186155\n",
      "Epoch 348 mean class acc 0.49685020437605193 acc 0.5875 prec 0.39347349351639976 rec 0.30694444444444446 f 0.3356790842699396 minutes 0.28390729824701944\n",
      "Epoch 349 mean class acc 0.4939749092109607 acc 0.5833333333333334 prec 0.38747847111817707 rec 0.3053819444444445 f 0.3325570052978236 minutes 0.2826052665710449\n",
      "Epoch 350 mean class acc 0.45636042402826854 acc 0.5583333333333333 prec 0.38861162095304685 rec 0.290625 f 0.32277472657153156 minutes 0.28185776074727376\n",
      "Ended training\n",
      "Best mean class accuracy : 0.5954134815844336\n",
      "Best test accuracy : 0.6541666666666666\n",
      "Corresponding precision : 0.41648004488680723\n",
      "Corresponding recall : 0.3536458333333333\n",
      "Corresponding f1 score : 0.3741631758007557\n"
     ]
    },
    {
     "data": {
      "image/png": "[encoded data removed]",
      "text/plain": [
       "<Figure size 432x288 with 1 Axes>"
      ]
     },
     "metadata": {
      "needs_background": "light"
     },
     "output_type": "display_data"
    },
    {
     "data": {
      "image/png": "[encoded data removed]",
      "text/plain": [
       "<Figure size 432x288 with 1 Axes>"
      ]
     },
     "metadata": {
      "needs_background": "light"
     },
     "output_type": "display_data"
    },
    {
     "data": {
      "image/png": "[encoded data removed]",
      "text/plain": [
       "<Figure size 432x288 with 1 Axes>"
      ]
     },
     "metadata": {
      "needs_background": "light"
     },
     "output_type": "display_data"
    },
    {
     "data": {
      "image/png": "[encoded data removed]",
      "text/plain": [
       "<Figure size 432x288 with 1 Axes>"
      ]
     },
     "metadata": {
      "needs_background": "light"
     },
     "output_type": "display_data"
    },
    {
     "data": {
      "image/png": "[encoded data removed]",
      "text/plain": [
       "<Figure size 432x288 with 1 Axes>"
      ]
     },
     "metadata": {
      "needs_background": "light"
     },
     "output_type": "display_data"
    },
    {
     "data": {
      "image/png": "[encoded data removed]",
      "text/plain": [
       "<Figure size 432x288 with 1 Axes>"
      ]
     },
     "metadata": {
      "needs_background": "light"
     },
     "output_type": "display_data"
    },
    {
     "data": {
      "image/png": "[encoded data removed]",
      "text/plain": [
       "<Figure size 432x288 with 1 Axes>"
      ]
     },
     "metadata": {
      "needs_background": "light"
     },
     "output_type": "display_data"
    }
   ],
   "source": [
    "do_train(model_simple, loader_train_simple_img, loader_test_simple_img, 'wce_dense_net', [(350, 1e-5)])"
   ]
  },
  {
   "cell_type": "code",
   "execution_count": 25,
   "metadata": {
    "colab": {
     "base_uri": "https://localhost:8080/",
     "height": 34
    },
    "colab_type": "code",
    "executionInfo": {
     "elapsed": 1665957,
     "status": "ok",
     "timestamp": 1579044234052,
     "user": {
      "displayName": "Vlad Danaila",
      "photoUrl": "",
      "userId": "16049478229633186858"
     },
     "user_tz": -120
    },
    "id": "ZtSy4STaRbmZ",
    "outputId": "70302a85-5fec-47fd-eb8e-7cb33fb497a4"
   },
   "outputs": [
    {
     "data": {
      "text/plain": [
       "<All keys matched successfully>"
      ]
     },
     "execution_count": 25,
     "metadata": {},
     "output_type": "execute_result"
    }
   ],
   "source": [
    "checkpoint = t.load('checkpint wce_dense_net.tar')\n",
    "model_simple.load_state_dict(checkpoint['model'])"
   ]
  },
  {
   "cell_type": "code",
   "execution_count": 31,
   "metadata": {
    "colab": {},
    "colab_type": "code",
    "id": "ky70BCeqRc2a"
   },
   "outputs": [],
   "source": [
    "def calculate_class_acc_for_test_set(model):\n",
    "  model.eval()\n",
    "  with t.no_grad():\n",
    "    conf_matrix = np.zeros((4, 4))\n",
    "    for x, y in loader_test_simple_img:\n",
    "      y_pred = model.forward(x)\n",
    "      y_pred = y_pred.narrow(1, 0, 4)\n",
    "      y_pred, y = to_numpy(y_pred), to_numpy(y)\n",
    "      pred = y_pred.argmax(axis = 1)\n",
    "      cm = sk.metrics.confusion_matrix(y, pred, labels = list(range(4)))\n",
    "      conf_matrix += cm\n",
    "    print('Confusion matrix:\\n', conf_matrix)\n",
    "    class_acc = [conf_matrix[i][i] / sum(conf_matrix[i]) for i in range(len(conf_matrix))]\n",
    "    print('Class acc:\\n', class_acc)\n",
    "    return class_acc\n",
    "\n",
    "def plot_class_acc(class_acc):\n",
    "  plt.bar(list(range(4)), class_acc, align='center', alpha=0.5)\n",
    "  plt.xticks(list(range(4)), list(range(4)))\n",
    "  plt.xlabel('Classes')\n",
    "  plt.ylabel('True Positive Rate')\n",
    "  plt.savefig('AccPerClass.pdf', dpi = 300, format = 'pdf')\n",
    "  plt.show()\n",
    "\n",
    "def plot_class_acc_comparison(class_acc_1, class_acc_2, title_1, title_2):\n",
    "  width = .3\n",
    "  plt.bar(list(range(4)), class_acc_1, width, alpha=0.5, color = 'green', label = title_1)\n",
    "  plt.bar(np.array(list(range(4))) + width, class_acc_2, width, alpha=0.5, color = 'blue', label = title_2)\n",
    "  plt.xticks(np.array(list(range(4))) + width/2, list(range(4)))\n",
    "  plt.xlabel('Classes')\n",
    "  plt.ylabel('True Positive Rate')\n",
    "  plt.legend()\n",
    "  plt.savefig('ClassAccCompareDenseNet.pdf', dpi = 300, format = 'pdf')\n",
    "  plt.show()"
   ]
  },
  {
   "cell_type": "code",
   "execution_count": 32,
   "metadata": {
    "colab": {
     "base_uri": "https://localhost:8080/",
     "height": 400
    },
    "colab_type": "code",
    "executionInfo": {
     "elapsed": 1666357,
     "status": "ok",
     "timestamp": 1579044234473,
     "user": {
      "displayName": "Vlad Danaila",
      "photoUrl": "",
      "userId": "16049478229633186858"
     },
     "user_tz": -120
    },
    "id": "5J-S9dNPRin1",
    "outputId": "5cc4d01c-0751-44d8-94de-27d23ef7309c"
   },
   "outputs": [
    {
     "name": "stdout",
     "output_type": "stream",
     "text": [
      "Confusion matrix:\n",
      " [[51.  1.  5.  3.]\n",
      " [20. 27. 13.  0.]\n",
      " [ 9. 15. 28.  8.]\n",
      " [ 0.  3.  6. 51.]]\n",
      "Class acc:\n",
      " [0.85, 0.45, 0.4666666666666667, 0.85]\n"
     ]
    },
    {
     "data": {
      "image/png": "[encoded data removed]",
      "text/plain": [
       "<Figure size 432x288 with 1 Axes>"
      ]
     },
     "metadata": {
      "needs_background": "light"
     },
     "output_type": "display_data"
    }
   ],
   "source": [
    "class_acc = calculate_class_acc_for_test_set(model_simple)\n",
    "plot_class_acc(class_acc)"
   ]
  },
  {
   "cell_type": "code",
   "execution_count": 37,
   "metadata": {
    "colab": {
     "base_uri": "https://localhost:8080/",
     "height": 452
    },
    "colab_type": "code",
    "executionInfo": {
     "elapsed": 1667516,
     "status": "ok",
     "timestamp": 1579044235644,
     "user": {
      "displayName": "Vlad Danaila",
      "photoUrl": "",
      "userId": "16049478229633186858"
     },
     "user_tz": -120
    },
    "id": "c5rGbcc1RmJL",
    "outputId": "c3cb1949-c304-4dc7-fc04-17d02f83e6ba"
   },
   "outputs": [
    {
     "name": "stdout",
     "output_type": "stream",
     "text": [
      "Confusion matrix:\n",
      " [[52.  3.  4.  1.]\n",
      " [29. 24.  7.  0.]\n",
      " [19. 15. 20.  6.]\n",
      " [ 1.  7. 12. 40.]]\n",
      "Class acc:\n",
      " [0.8666666666666667, 0.4, 0.3333333333333333, 0.6666666666666666]\n"
     ]
    },
    {
     "data": {
      "image/png": "[encoded data removed]",
      "text/plain": [
       "<Figure size 432x288 with 1 Axes>"
      ]
     },
     "metadata": {
      "needs_background": "light"
     },
     "output_type": "display_data"
    }
   ],
   "source": [
    "model_without_wl = t.nn.DataParallel(get_dense_net().cuda())\n",
    "checkpoint_without_wl = t.load(CHACKPOINT_CROSS_ENTROPY_MODEL)\n",
    "model_without_wl.load_state_dict(checkpoint_without_wl['model'])\n",
    "class_acc_no_wl = calculate_class_acc_for_test_set(model_without_wl)\n",
    "plot_class_acc(class_acc_no_wl)"
   ]
  },
  {
   "cell_type": "code",
   "execution_count": 38,
   "metadata": {
    "colab": {
     "base_uri": "https://localhost:8080/",
     "height": 278
    },
    "colab_type": "code",
    "executionInfo": {
     "elapsed": 1667504,
     "status": "ok",
     "timestamp": 1579044235645,
     "user": {
      "displayName": "Vlad Danaila",
      "photoUrl": "",
      "userId": "16049478229633186858"
     },
     "user_tz": -120
    },
    "id": "tRz36NjNRvqC",
    "outputId": "d8046b27-6598-4adc-e73a-fad22d32c512"
   },
   "outputs": [
    {
     "data": {
      "image/png": "[encoded data removed]",
      "text/plain": [
       "<Figure size 432x288 with 1 Axes>"
      ]
     },
     "metadata": {
      "needs_background": "light"
     },
     "output_type": "display_data"
    }
   ],
   "source": [
    "plot_class_acc_comparison(class_acc, class_acc_no_wl, 'Weighted Cross Entropy Loss', 'Cross Entropy Loss')"
   ]
  }
 ],
 "metadata": {
  "accelerator": "GPU",
  "colab": {
   "collapsed_sections": [],
   "name": "Cancer Detection - Ensable Conv 14 Jan Weighted Loss V6.ipynb",
   "provenance": []
  },
  "kernelspec": {
   "display_name": "Python 3",
   "language": "python",
   "name": "python3"
  },
  "language_info": {
   "codemirror_mode": {
    "name": "ipython",
    "version": 3
   },
   "file_extension": ".py",
   "mimetype": "text/x-python",
   "name": "python",
   "nbconvert_exporter": "python",
   "pygments_lexer": "ipython3",
   "version": "3.6.9"
  }
 },
 "nbformat": 4,
 "nbformat_minor": 1
}
